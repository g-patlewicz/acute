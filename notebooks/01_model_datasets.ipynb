{
 "cells": [
  {
   "cell_type": "code",
   "execution_count": 1,
   "metadata": {},
   "outputs": [],
   "source": [
    "import numpy as np\n",
    "import pandas as pd\n",
    "import matplotlib.pyplot as plt\n",
    "import seaborn as sns\n",
    "%matplotlib inline\n",
    "import os\n",
    "import glob"
   ]
  },
  {
   "cell_type": "code",
   "execution_count": 28,
   "metadata": {},
   "outputs": [],
   "source": [
    "raw_dat_dir = '/home/grace/Documents/python/acute_oral/data/raw/'\n",
    "processed_dat_dir = '/home/grace/Documents/python/acute_oral/data/processed/'\n",
    "interim_dat_dir = '/home/grace/Documents/python/acute_oral/data/interim/'\n",
    "figures_dir = '/home/grace/Documents/python/acute_oral/reports/figures/'\n",
    "test_dir = '/home/grace/Documents/python/acute_oral/data/external/TEST/'\n",
    "times_dir = '/home/grace/Documents/python/acute_oral/data/external/TIMES/'\n",
    "interim_dir = '/home/grace/Documents/python/acute_oral/data/interim/'"
   ]
  },
  {
   "cell_type": "markdown",
   "metadata": {},
   "source": [
    "### Import TEST predictions from multiple files into one dataframe"
   ]
  },
  {
   "cell_type": "code",
   "execution_count": 3,
   "metadata": {},
   "outputs": [],
   "source": [
    "TEST_all = pd.DataFrame()\n",
    "for f in glob.glob(test_dir+'*.txt'):\n",
    "    df = pd.read_csv(f, sep = '|', header = 1)\n",
    "    TEST_all = TEST_all.append(df, ignore_index = True)"
   ]
  },
  {
   "cell_type": "code",
   "execution_count": 4,
   "metadata": {},
   "outputs": [
    {
     "data": {
      "text/plain": [
       "(10760, 7)"
      ]
     },
     "execution_count": 4,
     "metadata": {},
     "output_type": "execute_result"
    }
   ],
   "source": [
    "TEST_all.shape"
   ]
  },
  {
   "cell_type": "code",
   "execution_count": 5,
   "metadata": {},
   "outputs": [
    {
     "data": {
      "text/html": [
       "<div>\n",
       "<style scoped>\n",
       "    .dataframe tbody tr th:only-of-type {\n",
       "        vertical-align: middle;\n",
       "    }\n",
       "\n",
       "    .dataframe tbody tr th {\n",
       "        vertical-align: top;\n",
       "    }\n",
       "\n",
       "    .dataframe thead th {\n",
       "        text-align: right;\n",
       "    }\n",
       "</style>\n",
       "<table border=\"1\" class=\"dataframe\">\n",
       "  <thead>\n",
       "    <tr style=\"text-align: right;\">\n",
       "      <th></th>\n",
       "      <th>#</th>\n",
       "      <th>ID</th>\n",
       "      <th>Exp</th>\n",
       "      <th>Pred_Hierarchical clustering</th>\n",
       "      <th>Pred_FDA</th>\n",
       "      <th>Pred_Nearest neighbor</th>\n",
       "      <th>Pred_Consensus</th>\n",
       "    </tr>\n",
       "  </thead>\n",
       "  <tbody>\n",
       "    <tr>\n",
       "      <th>0</th>\n",
       "      <td>220</td>\n",
       "      <td>944129-07-1</td>\n",
       "      <td>NaN</td>\n",
       "      <td>NaN</td>\n",
       "      <td>NaN</td>\n",
       "      <td>NaN</td>\n",
       "      <td>NaN</td>\n",
       "    </tr>\n",
       "    <tr>\n",
       "      <th>1</th>\n",
       "      <td>1</td>\n",
       "      <td>90729-41-2</td>\n",
       "      <td>NaN</td>\n",
       "      <td>3.08</td>\n",
       "      <td>2.20</td>\n",
       "      <td>2.46</td>\n",
       "      <td>2.58</td>\n",
       "    </tr>\n",
       "    <tr>\n",
       "      <th>2</th>\n",
       "      <td>2</td>\n",
       "      <td>90729-43-4</td>\n",
       "      <td>NaN</td>\n",
       "      <td>2.40</td>\n",
       "      <td>2.00</td>\n",
       "      <td>2.67</td>\n",
       "      <td>2.36</td>\n",
       "    </tr>\n",
       "    <tr>\n",
       "      <th>3</th>\n",
       "      <td>3</td>\n",
       "      <td>90842-58-3</td>\n",
       "      <td>2.73</td>\n",
       "      <td>2.58</td>\n",
       "      <td>3.15</td>\n",
       "      <td>4.03</td>\n",
       "      <td>3.26</td>\n",
       "    </tr>\n",
       "    <tr>\n",
       "      <th>4</th>\n",
       "      <td>4</td>\n",
       "      <td>909-39-7</td>\n",
       "      <td>2.52</td>\n",
       "      <td>2.53</td>\n",
       "      <td>2.65</td>\n",
       "      <td>2.76</td>\n",
       "      <td>2.65</td>\n",
       "    </tr>\n",
       "  </tbody>\n",
       "</table>\n",
       "</div>"
      ],
      "text/plain": [
       "     #           ID   Exp  Pred_Hierarchical clustering  Pred_FDA  \\\n",
       "0  220  944129-07-1   NaN                           NaN       NaN   \n",
       "1    1   90729-41-2   NaN                          3.08      2.20   \n",
       "2    2   90729-43-4   NaN                          2.40      2.00   \n",
       "3    3   90842-58-3  2.73                          2.58      3.15   \n",
       "4    4     909-39-7  2.52                          2.53      2.65   \n",
       "\n",
       "   Pred_Nearest neighbor  Pred_Consensus  \n",
       "0                    NaN             NaN  \n",
       "1                   2.46            2.58  \n",
       "2                   2.67            2.36  \n",
       "3                   4.03            3.26  \n",
       "4                   2.76            2.65  "
      ]
     },
     "execution_count": 5,
     "metadata": {},
     "output_type": "execute_result"
    }
   ],
   "source": [
    "TEST_all.head()"
   ]
  },
  {
   "cell_type": "code",
   "execution_count": 6,
   "metadata": {},
   "outputs": [
    {
     "data": {
      "text/plain": [
       "Index(['#', 'ID', 'Exp', 'Pred_Hierarchical clustering', 'Pred_FDA',\n",
       "       'Pred_Nearest neighbor', 'Pred_Consensus'],\n",
       "      dtype='object')"
      ]
     },
     "execution_count": 6,
     "metadata": {},
     "output_type": "execute_result"
    }
   ],
   "source": [
    "TEST_all.columns"
   ]
  },
  {
   "cell_type": "code",
   "execution_count": 7,
   "metadata": {},
   "outputs": [],
   "source": [
    "TEST_all.columns = ['#', 'CAS','known_LD50', 'pred_LD50_HC', 'Pred_FDA','pred_LD50_NN','pred_LD50_Con' \n",
    "        ]"
   ]
  },
  {
   "cell_type": "code",
   "execution_count": 8,
   "metadata": {},
   "outputs": [
    {
     "data": {
      "text/html": [
       "<div>\n",
       "<style scoped>\n",
       "    .dataframe tbody tr th:only-of-type {\n",
       "        vertical-align: middle;\n",
       "    }\n",
       "\n",
       "    .dataframe tbody tr th {\n",
       "        vertical-align: top;\n",
       "    }\n",
       "\n",
       "    .dataframe thead th {\n",
       "        text-align: right;\n",
       "    }\n",
       "</style>\n",
       "<table border=\"1\" class=\"dataframe\">\n",
       "  <thead>\n",
       "    <tr style=\"text-align: right;\">\n",
       "      <th></th>\n",
       "      <th>#</th>\n",
       "      <th>CAS</th>\n",
       "      <th>known_LD50</th>\n",
       "      <th>pred_LD50_HC</th>\n",
       "      <th>Pred_FDA</th>\n",
       "      <th>pred_LD50_NN</th>\n",
       "      <th>pred_LD50_Con</th>\n",
       "    </tr>\n",
       "  </thead>\n",
       "  <tbody>\n",
       "    <tr>\n",
       "      <th>0</th>\n",
       "      <td>220</td>\n",
       "      <td>944129-07-1</td>\n",
       "      <td>NaN</td>\n",
       "      <td>NaN</td>\n",
       "      <td>NaN</td>\n",
       "      <td>NaN</td>\n",
       "      <td>NaN</td>\n",
       "    </tr>\n",
       "    <tr>\n",
       "      <th>1</th>\n",
       "      <td>1</td>\n",
       "      <td>90729-41-2</td>\n",
       "      <td>NaN</td>\n",
       "      <td>3.08</td>\n",
       "      <td>2.20</td>\n",
       "      <td>2.46</td>\n",
       "      <td>2.58</td>\n",
       "    </tr>\n",
       "    <tr>\n",
       "      <th>2</th>\n",
       "      <td>2</td>\n",
       "      <td>90729-43-4</td>\n",
       "      <td>NaN</td>\n",
       "      <td>2.40</td>\n",
       "      <td>2.00</td>\n",
       "      <td>2.67</td>\n",
       "      <td>2.36</td>\n",
       "    </tr>\n",
       "    <tr>\n",
       "      <th>3</th>\n",
       "      <td>3</td>\n",
       "      <td>90842-58-3</td>\n",
       "      <td>2.73</td>\n",
       "      <td>2.58</td>\n",
       "      <td>3.15</td>\n",
       "      <td>4.03</td>\n",
       "      <td>3.26</td>\n",
       "    </tr>\n",
       "    <tr>\n",
       "      <th>4</th>\n",
       "      <td>4</td>\n",
       "      <td>909-39-7</td>\n",
       "      <td>2.52</td>\n",
       "      <td>2.53</td>\n",
       "      <td>2.65</td>\n",
       "      <td>2.76</td>\n",
       "      <td>2.65</td>\n",
       "    </tr>\n",
       "  </tbody>\n",
       "</table>\n",
       "</div>"
      ],
      "text/plain": [
       "     #          CAS  known_LD50  pred_LD50_HC  Pred_FDA  pred_LD50_NN  \\\n",
       "0  220  944129-07-1         NaN           NaN       NaN           NaN   \n",
       "1    1   90729-41-2         NaN          3.08      2.20          2.46   \n",
       "2    2   90729-43-4         NaN          2.40      2.00          2.67   \n",
       "3    3   90842-58-3        2.73          2.58      3.15          4.03   \n",
       "4    4     909-39-7        2.52          2.53      2.65          2.76   \n",
       "\n",
       "   pred_LD50_Con  \n",
       "0            NaN  \n",
       "1           2.58  \n",
       "2           2.36  \n",
       "3           3.26  \n",
       "4           2.65  "
      ]
     },
     "execution_count": 8,
     "metadata": {},
     "output_type": "execute_result"
    }
   ],
   "source": [
    "TEST_all.head()"
   ]
  },
  {
   "cell_type": "code",
   "execution_count": 9,
   "metadata": {},
   "outputs": [],
   "source": [
    "TEST_all.drop(['#', 'Pred_FDA'], axis = 1, inplace = True)"
   ]
  },
  {
   "cell_type": "code",
   "execution_count": 10,
   "metadata": {},
   "outputs": [
    {
     "data": {
      "text/html": [
       "<div>\n",
       "<style scoped>\n",
       "    .dataframe tbody tr th:only-of-type {\n",
       "        vertical-align: middle;\n",
       "    }\n",
       "\n",
       "    .dataframe tbody tr th {\n",
       "        vertical-align: top;\n",
       "    }\n",
       "\n",
       "    .dataframe thead th {\n",
       "        text-align: right;\n",
       "    }\n",
       "</style>\n",
       "<table border=\"1\" class=\"dataframe\">\n",
       "  <thead>\n",
       "    <tr style=\"text-align: right;\">\n",
       "      <th></th>\n",
       "      <th>CAS</th>\n",
       "      <th>known_LD50</th>\n",
       "      <th>pred_LD50_HC</th>\n",
       "      <th>pred_LD50_NN</th>\n",
       "      <th>pred_LD50_Con</th>\n",
       "    </tr>\n",
       "  </thead>\n",
       "  <tbody>\n",
       "    <tr>\n",
       "      <th>10715</th>\n",
       "      <td>62751-72-8</td>\n",
       "      <td>3.83</td>\n",
       "      <td>3.62</td>\n",
       "      <td>3.44</td>\n",
       "      <td>3.44</td>\n",
       "    </tr>\n",
       "  </tbody>\n",
       "</table>\n",
       "</div>"
      ],
      "text/plain": [
       "              CAS  known_LD50  pred_LD50_HC  pred_LD50_NN  pred_LD50_Con\n",
       "10715  62751-72-8        3.83          3.62          3.44           3.44"
      ]
     },
     "execution_count": 10,
     "metadata": {},
     "output_type": "execute_result"
    }
   ],
   "source": [
    "TEST_all[TEST_all['CAS'] == '62751-72-8']"
   ]
  },
  {
   "cell_type": "code",
   "execution_count": 29,
   "metadata": {},
   "outputs": [],
   "source": [
    "TEST_all.to_csv(interim_dir+'TEST_all.csv')"
   ]
  },
  {
   "cell_type": "markdown",
   "metadata": {},
   "source": [
    "### Importing all TIMES acute toxicity predictions"
   ]
  },
  {
   "cell_type": "code",
   "execution_count": 11,
   "metadata": {},
   "outputs": [],
   "source": [
    "TIMES_all = pd.DataFrame()\n",
    "for f in glob.glob(times_dir+'*.tsv'):\n",
    "    df = pd.read_csv(f, sep = '\\t')\n",
    "    TIMES_all = TIMES_all.append(df, ignore_index = True)"
   ]
  },
  {
   "cell_type": "code",
   "execution_count": 12,
   "metadata": {},
   "outputs": [
    {
     "data": {
      "text/plain": [
       "(10417, 31)"
      ]
     },
     "execution_count": 12,
     "metadata": {},
     "output_type": "execute_result"
    }
   ],
   "source": [
    "TIMES_all.shape"
   ]
  },
  {
   "cell_type": "code",
   "execution_count": 13,
   "metadata": {},
   "outputs": [
    {
     "data": {
      "text/html": [
       "<div>\n",
       "<style scoped>\n",
       "    .dataframe tbody tr th:only-of-type {\n",
       "        vertical-align: middle;\n",
       "    }\n",
       "\n",
       "    .dataframe tbody tr th {\n",
       "        vertical-align: top;\n",
       "    }\n",
       "\n",
       "    .dataframe thead th {\n",
       "        text-align: right;\n",
       "    }\n",
       "</style>\n",
       "<table border=\"1\" class=\"dataframe\">\n",
       "  <thead>\n",
       "    <tr style=\"text-align: right;\">\n",
       "      <th></th>\n",
       "      <th># in list</th>\n",
       "      <th>CAS</th>\n",
       "      <th>Chem. Name</th>\n",
       "      <th>Smiles</th>\n",
       "      <th>Converter_Version_Struc</th>\n",
       "      <th>Exp_log(Kow)</th>\n",
       "      <th>Exp_WaterSolubility</th>\n",
       "      <th>log_Kp_exp</th>\n",
       "      <th>OASIS_PARENT_TYPE</th>\n",
       "      <th>Predicted toxicological category</th>\n",
       "      <th>...</th>\n",
       "      <th>Effect (biological outcome) 3</th>\n",
       "      <th>Example Target Organ System 3</th>\n",
       "      <th>Alert reliability</th>\n",
       "      <th>Parameter ranges</th>\n",
       "      <th>Correct fragments Structural domain</th>\n",
       "      <th>Incorrect fragments Structural domain</th>\n",
       "      <th>Unknown fragments Structural domain</th>\n",
       "      <th>Total Structural domain</th>\n",
       "      <th>Total Domain</th>\n",
       "      <th>Remark</th>\n",
       "    </tr>\n",
       "  </thead>\n",
       "  <tbody>\n",
       "    <tr>\n",
       "      <th>0</th>\n",
       "      <td>NaN</td>\n",
       "      <td>NaN</td>\n",
       "      <td>NaN</td>\n",
       "      <td>NaN</td>\n",
       "      <td>NaN</td>\n",
       "      <td>NaN</td>\n",
       "      <td>NaN</td>\n",
       "      <td>NaN</td>\n",
       "      <td>NaN</td>\n",
       "      <td>NaN</td>\n",
       "      <td>...</td>\n",
       "      <td>NaN</td>\n",
       "      <td>NaN</td>\n",
       "      <td>NaN</td>\n",
       "      <td>NaN</td>\n",
       "      <td>NaN</td>\n",
       "      <td>NaN</td>\n",
       "      <td>NaN</td>\n",
       "      <td>NaN</td>\n",
       "      <td>NaN</td>\n",
       "      <td>NaN</td>\n",
       "    </tr>\n",
       "    <tr>\n",
       "      <th>1</th>\n",
       "      <td>1.0</td>\n",
       "      <td>64896-26-0</td>\n",
       "      <td>DTXSID2020133</td>\n",
       "      <td>Oc1ccc(/N=N/c2ccc(C(O)=O)cc2)cc1C(O)=O</td>\n",
       "      <td></td>\n",
       "      <td></td>\n",
       "      <td></td>\n",
       "      <td></td>\n",
       "      <td></td>\n",
       "      <td>Substituted aromatic azo compounds</td>\n",
       "      <td>...</td>\n",
       "      <td>NaN</td>\n",
       "      <td>NaN</td>\n",
       "      <td>High, &gt;= 60% (Num of train.set chem&gt;=4)</td>\n",
       "      <td>In domain</td>\n",
       "      <td>100.00%</td>\n",
       "      <td>0.00%</td>\n",
       "      <td>0.00%</td>\n",
       "      <td>In domain</td>\n",
       "      <td>In domain</td>\n",
       "      <td></td>\n",
       "    </tr>\n",
       "    <tr>\n",
       "      <th>2</th>\n",
       "      <td>2.0</td>\n",
       "      <td>64896-70-4</td>\n",
       "      <td>DTXSID60215219</td>\n",
       "      <td>CCCCCCCC(=O)OC1COC2C1OCC2OC(=O)CCCCCCC</td>\n",
       "      <td></td>\n",
       "      <td></td>\n",
       "      <td></td>\n",
       "      <td></td>\n",
       "      <td></td>\n",
       "      <td>Not classified</td>\n",
       "      <td>...</td>\n",
       "      <td>NaN</td>\n",
       "      <td>NaN</td>\n",
       "      <td></td>\n",
       "      <td>NaN</td>\n",
       "      <td>NaN</td>\n",
       "      <td>NaN</td>\n",
       "      <td>NaN</td>\n",
       "      <td>NaN</td>\n",
       "      <td>NaN</td>\n",
       "      <td></td>\n",
       "    </tr>\n",
       "    <tr>\n",
       "      <th>3</th>\n",
       "      <td>3.0</td>\n",
       "      <td>64910-63-0</td>\n",
       "      <td>DTXSID10215224</td>\n",
       "      <td>CCCCS(=O)(=O)NC1CCCCC1</td>\n",
       "      <td></td>\n",
       "      <td></td>\n",
       "      <td></td>\n",
       "      <td></td>\n",
       "      <td></td>\n",
       "      <td>Not classified</td>\n",
       "      <td>...</td>\n",
       "      <td>NaN</td>\n",
       "      <td>NaN</td>\n",
       "      <td></td>\n",
       "      <td>NaN</td>\n",
       "      <td>NaN</td>\n",
       "      <td>NaN</td>\n",
       "      <td>NaN</td>\n",
       "      <td>NaN</td>\n",
       "      <td>NaN</td>\n",
       "      <td></td>\n",
       "    </tr>\n",
       "    <tr>\n",
       "      <th>4</th>\n",
       "      <td>4.0</td>\n",
       "      <td>6493-05-6</td>\n",
       "      <td>DTXSID7023437</td>\n",
       "      <td>CC(=O)CCCCN1C(=O)C2=C(N=CN2C)N(C)C1=O</td>\n",
       "      <td></td>\n",
       "      <td>0.29</td>\n",
       "      <td></td>\n",
       "      <td></td>\n",
       "      <td></td>\n",
       "      <td>Xanthine derivatives carbon not substituted</td>\n",
       "      <td>...</td>\n",
       "      <td>NaN</td>\n",
       "      <td>NaN</td>\n",
       "      <td>High, &gt;= 60% (Num of train.set chem&gt;=4)</td>\n",
       "      <td>In domain</td>\n",
       "      <td>100.00%</td>\n",
       "      <td>0.00%</td>\n",
       "      <td>0.00%</td>\n",
       "      <td>In domain</td>\n",
       "      <td>In domain</td>\n",
       "      <td>belonging in tr set</td>\n",
       "    </tr>\n",
       "  </tbody>\n",
       "</table>\n",
       "<p>5 rows × 31 columns</p>\n",
       "</div>"
      ],
      "text/plain": [
       "   # in list         CAS      Chem. Name  \\\n",
       "0        NaN         NaN             NaN   \n",
       "1        1.0  64896-26-0   DTXSID2020133   \n",
       "2        2.0  64896-70-4  DTXSID60215219   \n",
       "3        3.0  64910-63-0  DTXSID10215224   \n",
       "4        4.0   6493-05-6   DTXSID7023437   \n",
       "\n",
       "                                   Smiles Converter_Version_Struc  \\\n",
       "0                                     NaN                     NaN   \n",
       "1  Oc1ccc(/N=N/c2ccc(C(O)=O)cc2)cc1C(O)=O                           \n",
       "2  CCCCCCCC(=O)OC1COC2C1OCC2OC(=O)CCCCCCC                           \n",
       "3                  CCCCS(=O)(=O)NC1CCCCC1                           \n",
       "4   CC(=O)CCCCN1C(=O)C2=C(N=CN2C)N(C)C1=O                           \n",
       "\n",
       "  Exp_log(Kow) Exp_WaterSolubility log_Kp_exp OASIS_PARENT_TYPE  \\\n",
       "0          NaN                 NaN        NaN               NaN   \n",
       "1                                                                 \n",
       "2                                                                 \n",
       "3                                                                 \n",
       "4         0.29                                                    \n",
       "\n",
       "              Predicted toxicological category  ...  \\\n",
       "0                                          NaN  ...   \n",
       "1           Substituted aromatic azo compounds  ...   \n",
       "2                               Not classified  ...   \n",
       "3                               Not classified  ...   \n",
       "4  Xanthine derivatives carbon not substituted  ...   \n",
       "\n",
       "  Effect (biological outcome) 3 Example Target Organ System 3  \\\n",
       "0                           NaN                           NaN   \n",
       "1                           NaN                           NaN   \n",
       "2                           NaN                           NaN   \n",
       "3                           NaN                           NaN   \n",
       "4                           NaN                           NaN   \n",
       "\n",
       "                         Alert reliability Parameter ranges  \\\n",
       "0                                      NaN              NaN   \n",
       "1  High, >= 60% (Num of train.set chem>=4)        In domain   \n",
       "2                                                       NaN   \n",
       "3                                                       NaN   \n",
       "4  High, >= 60% (Num of train.set chem>=4)        In domain   \n",
       "\n",
       "  Correct fragments Structural domain Incorrect fragments Structural domain  \\\n",
       "0                                 NaN                                   NaN   \n",
       "1                             100.00%                                 0.00%   \n",
       "2                                 NaN                                   NaN   \n",
       "3                                 NaN                                   NaN   \n",
       "4                             100.00%                                 0.00%   \n",
       "\n",
       "  Unknown fragments Structural domain Total Structural domain Total Domain  \\\n",
       "0                                 NaN                     NaN          NaN   \n",
       "1                               0.00%               In domain    In domain   \n",
       "2                                 NaN                     NaN          NaN   \n",
       "3                                 NaN                     NaN          NaN   \n",
       "4                               0.00%               In domain    In domain   \n",
       "\n",
       "                Remark  \n",
       "0                  NaN  \n",
       "1                       \n",
       "2                       \n",
       "3                       \n",
       "4  belonging in tr set  \n",
       "\n",
       "[5 rows x 31 columns]"
      ]
     },
     "execution_count": 13,
     "metadata": {},
     "output_type": "execute_result"
    }
   ],
   "source": [
    "TIMES_all.head()"
   ]
  },
  {
   "cell_type": "code",
   "execution_count": 14,
   "metadata": {},
   "outputs": [
    {
     "data": {
      "text/plain": [
       "Index(['# in list', 'CAS', 'Chem. Name', 'Smiles', 'Converter_Version_Struc',\n",
       "       'Exp_log(Kow)', 'Exp_WaterSolubility', 'log_Kp_exp',\n",
       "       'OASIS_PARENT_TYPE', 'Predicted toxicological category',\n",
       "       'Acute Oral Toxicity_Observed',\n",
       "       'Acute Oral Toxicity Predicted_LD50 mg/kg',\n",
       "       'Acute Oral Toxicity_Confidence', 'All predictions',\n",
       "       'Molecular Initiating Event 1', 'Effect (biological outcome) 1',\n",
       "       'Example Target Organ System 1', 'Molecular Initiating Event 2',\n",
       "       'Effect (biological outcome) 2', 'Example Target Organ System 2',\n",
       "       'Molecular Initiating Event 3', 'Effect (biological outcome) 3',\n",
       "       'Example Target Organ System 3', 'Alert reliability',\n",
       "       'Parameter ranges', 'Correct fragments Structural domain',\n",
       "       'Incorrect fragments Structural domain',\n",
       "       'Unknown fragments Structural domain', 'Total Structural domain',\n",
       "       'Total Domain', 'Remark'],\n",
       "      dtype='object')"
      ]
     },
     "execution_count": 14,
     "metadata": {},
     "output_type": "execute_result"
    }
   ],
   "source": [
    "TIMES_all.columns"
   ]
  },
  {
   "cell_type": "code",
   "execution_count": 15,
   "metadata": {},
   "outputs": [],
   "source": [
    "TIMES_all = TIMES_all.iloc[1:,:]"
   ]
  },
  {
   "cell_type": "code",
   "execution_count": 16,
   "metadata": {},
   "outputs": [
    {
     "data": {
      "text/plain": [
       "(10416, 31)"
      ]
     },
     "execution_count": 16,
     "metadata": {},
     "output_type": "execute_result"
    }
   ],
   "source": [
    "TIMES_all.shape"
   ]
  },
  {
   "cell_type": "code",
   "execution_count": 17,
   "metadata": {},
   "outputs": [
    {
     "data": {
      "text/html": [
       "<div>\n",
       "<style scoped>\n",
       "    .dataframe tbody tr th:only-of-type {\n",
       "        vertical-align: middle;\n",
       "    }\n",
       "\n",
       "    .dataframe tbody tr th {\n",
       "        vertical-align: top;\n",
       "    }\n",
       "\n",
       "    .dataframe thead th {\n",
       "        text-align: right;\n",
       "    }\n",
       "</style>\n",
       "<table border=\"1\" class=\"dataframe\">\n",
       "  <thead>\n",
       "    <tr style=\"text-align: right;\">\n",
       "      <th></th>\n",
       "      <th># in list</th>\n",
       "      <th>CAS</th>\n",
       "      <th>Chem. Name</th>\n",
       "      <th>Smiles</th>\n",
       "      <th>Converter_Version_Struc</th>\n",
       "      <th>Exp_log(Kow)</th>\n",
       "      <th>Exp_WaterSolubility</th>\n",
       "      <th>log_Kp_exp</th>\n",
       "      <th>OASIS_PARENT_TYPE</th>\n",
       "      <th>Predicted toxicological category</th>\n",
       "      <th>...</th>\n",
       "      <th>Effect (biological outcome) 3</th>\n",
       "      <th>Example Target Organ System 3</th>\n",
       "      <th>Alert reliability</th>\n",
       "      <th>Parameter ranges</th>\n",
       "      <th>Correct fragments Structural domain</th>\n",
       "      <th>Incorrect fragments Structural domain</th>\n",
       "      <th>Unknown fragments Structural domain</th>\n",
       "      <th>Total Structural domain</th>\n",
       "      <th>Total Domain</th>\n",
       "      <th>Remark</th>\n",
       "    </tr>\n",
       "  </thead>\n",
       "  <tbody>\n",
       "    <tr>\n",
       "      <th>1</th>\n",
       "      <td>1.0</td>\n",
       "      <td>64896-26-0</td>\n",
       "      <td>DTXSID2020133</td>\n",
       "      <td>Oc1ccc(/N=N/c2ccc(C(O)=O)cc2)cc1C(O)=O</td>\n",
       "      <td></td>\n",
       "      <td></td>\n",
       "      <td></td>\n",
       "      <td></td>\n",
       "      <td></td>\n",
       "      <td>Substituted aromatic azo compounds</td>\n",
       "      <td>...</td>\n",
       "      <td>NaN</td>\n",
       "      <td>NaN</td>\n",
       "      <td>High, &gt;= 60% (Num of train.set chem&gt;=4)</td>\n",
       "      <td>In domain</td>\n",
       "      <td>100.00%</td>\n",
       "      <td>0.00%</td>\n",
       "      <td>0.00%</td>\n",
       "      <td>In domain</td>\n",
       "      <td>In domain</td>\n",
       "      <td></td>\n",
       "    </tr>\n",
       "    <tr>\n",
       "      <th>2</th>\n",
       "      <td>2.0</td>\n",
       "      <td>64896-70-4</td>\n",
       "      <td>DTXSID60215219</td>\n",
       "      <td>CCCCCCCC(=O)OC1COC2C1OCC2OC(=O)CCCCCCC</td>\n",
       "      <td></td>\n",
       "      <td></td>\n",
       "      <td></td>\n",
       "      <td></td>\n",
       "      <td></td>\n",
       "      <td>Not classified</td>\n",
       "      <td>...</td>\n",
       "      <td>NaN</td>\n",
       "      <td>NaN</td>\n",
       "      <td></td>\n",
       "      <td>NaN</td>\n",
       "      <td>NaN</td>\n",
       "      <td>NaN</td>\n",
       "      <td>NaN</td>\n",
       "      <td>NaN</td>\n",
       "      <td>NaN</td>\n",
       "      <td></td>\n",
       "    </tr>\n",
       "    <tr>\n",
       "      <th>3</th>\n",
       "      <td>3.0</td>\n",
       "      <td>64910-63-0</td>\n",
       "      <td>DTXSID10215224</td>\n",
       "      <td>CCCCS(=O)(=O)NC1CCCCC1</td>\n",
       "      <td></td>\n",
       "      <td></td>\n",
       "      <td></td>\n",
       "      <td></td>\n",
       "      <td></td>\n",
       "      <td>Not classified</td>\n",
       "      <td>...</td>\n",
       "      <td>NaN</td>\n",
       "      <td>NaN</td>\n",
       "      <td></td>\n",
       "      <td>NaN</td>\n",
       "      <td>NaN</td>\n",
       "      <td>NaN</td>\n",
       "      <td>NaN</td>\n",
       "      <td>NaN</td>\n",
       "      <td>NaN</td>\n",
       "      <td></td>\n",
       "    </tr>\n",
       "    <tr>\n",
       "      <th>4</th>\n",
       "      <td>4.0</td>\n",
       "      <td>6493-05-6</td>\n",
       "      <td>DTXSID7023437</td>\n",
       "      <td>CC(=O)CCCCN1C(=O)C2=C(N=CN2C)N(C)C1=O</td>\n",
       "      <td></td>\n",
       "      <td>0.29</td>\n",
       "      <td></td>\n",
       "      <td></td>\n",
       "      <td></td>\n",
       "      <td>Xanthine derivatives carbon not substituted</td>\n",
       "      <td>...</td>\n",
       "      <td>NaN</td>\n",
       "      <td>NaN</td>\n",
       "      <td>High, &gt;= 60% (Num of train.set chem&gt;=4)</td>\n",
       "      <td>In domain</td>\n",
       "      <td>100.00%</td>\n",
       "      <td>0.00%</td>\n",
       "      <td>0.00%</td>\n",
       "      <td>In domain</td>\n",
       "      <td>In domain</td>\n",
       "      <td>belonging in tr set</td>\n",
       "    </tr>\n",
       "    <tr>\n",
       "      <th>5</th>\n",
       "      <td>5.0</td>\n",
       "      <td>64951-25-3</td>\n",
       "      <td>DTXSID20215255</td>\n",
       "      <td>CN(C1CCN(c2nc3cc(OC)c(OC)cc3c(N)n2)CC1)C(=O)c1...</td>\n",
       "      <td></td>\n",
       "      <td></td>\n",
       "      <td></td>\n",
       "      <td></td>\n",
       "      <td></td>\n",
       "      <td>Not classified</td>\n",
       "      <td>...</td>\n",
       "      <td>NaN</td>\n",
       "      <td>NaN</td>\n",
       "      <td></td>\n",
       "      <td>NaN</td>\n",
       "      <td>NaN</td>\n",
       "      <td>NaN</td>\n",
       "      <td>NaN</td>\n",
       "      <td>NaN</td>\n",
       "      <td>NaN</td>\n",
       "      <td></td>\n",
       "    </tr>\n",
       "  </tbody>\n",
       "</table>\n",
       "<p>5 rows × 31 columns</p>\n",
       "</div>"
      ],
      "text/plain": [
       "   # in list         CAS      Chem. Name  \\\n",
       "1        1.0  64896-26-0   DTXSID2020133   \n",
       "2        2.0  64896-70-4  DTXSID60215219   \n",
       "3        3.0  64910-63-0  DTXSID10215224   \n",
       "4        4.0   6493-05-6   DTXSID7023437   \n",
       "5        5.0  64951-25-3  DTXSID20215255   \n",
       "\n",
       "                                              Smiles Converter_Version_Struc  \\\n",
       "1             Oc1ccc(/N=N/c2ccc(C(O)=O)cc2)cc1C(O)=O                           \n",
       "2             CCCCCCCC(=O)OC1COC2C1OCC2OC(=O)CCCCCCC                           \n",
       "3                             CCCCS(=O)(=O)NC1CCCCC1                           \n",
       "4              CC(=O)CCCCN1C(=O)C2=C(N=CN2C)N(C)C1=O                           \n",
       "5  CN(C1CCN(c2nc3cc(OC)c(OC)cc3c(N)n2)CC1)C(=O)c1...                           \n",
       "\n",
       "  Exp_log(Kow) Exp_WaterSolubility log_Kp_exp OASIS_PARENT_TYPE  \\\n",
       "1                                                                 \n",
       "2                                                                 \n",
       "3                                                                 \n",
       "4         0.29                                                    \n",
       "5                                                                 \n",
       "\n",
       "              Predicted toxicological category  ...  \\\n",
       "1           Substituted aromatic azo compounds  ...   \n",
       "2                               Not classified  ...   \n",
       "3                               Not classified  ...   \n",
       "4  Xanthine derivatives carbon not substituted  ...   \n",
       "5                               Not classified  ...   \n",
       "\n",
       "  Effect (biological outcome) 3 Example Target Organ System 3  \\\n",
       "1                           NaN                           NaN   \n",
       "2                           NaN                           NaN   \n",
       "3                           NaN                           NaN   \n",
       "4                           NaN                           NaN   \n",
       "5                           NaN                           NaN   \n",
       "\n",
       "                         Alert reliability Parameter ranges  \\\n",
       "1  High, >= 60% (Num of train.set chem>=4)        In domain   \n",
       "2                                                       NaN   \n",
       "3                                                       NaN   \n",
       "4  High, >= 60% (Num of train.set chem>=4)        In domain   \n",
       "5                                                       NaN   \n",
       "\n",
       "  Correct fragments Structural domain Incorrect fragments Structural domain  \\\n",
       "1                             100.00%                                 0.00%   \n",
       "2                                 NaN                                   NaN   \n",
       "3                                 NaN                                   NaN   \n",
       "4                             100.00%                                 0.00%   \n",
       "5                                 NaN                                   NaN   \n",
       "\n",
       "  Unknown fragments Structural domain Total Structural domain Total Domain  \\\n",
       "1                               0.00%               In domain    In domain   \n",
       "2                                 NaN                     NaN          NaN   \n",
       "3                                 NaN                     NaN          NaN   \n",
       "4                               0.00%               In domain    In domain   \n",
       "5                                 NaN                     NaN          NaN   \n",
       "\n",
       "                Remark  \n",
       "1                       \n",
       "2                       \n",
       "3                       \n",
       "4  belonging in tr set  \n",
       "5                       \n",
       "\n",
       "[5 rows x 31 columns]"
      ]
     },
     "execution_count": 17,
     "metadata": {},
     "output_type": "execute_result"
    }
   ],
   "source": [
    "TIMES_all.head()"
   ]
  },
  {
   "cell_type": "code",
   "execution_count": 18,
   "metadata": {},
   "outputs": [
    {
     "data": {
      "text/plain": [
       "10371"
      ]
     },
     "execution_count": 18,
     "metadata": {},
     "output_type": "execute_result"
    }
   ],
   "source": [
    "TIMES_all['# in list'].count()"
   ]
  },
  {
   "cell_type": "code",
   "execution_count": 19,
   "metadata": {},
   "outputs": [],
   "source": [
    "TIMES_all = TIMES_all[~TIMES_all['Chem. Name'].isnull()]"
   ]
  },
  {
   "cell_type": "code",
   "execution_count": 20,
   "metadata": {},
   "outputs": [
    {
     "data": {
      "text/plain": [
       "(10371, 31)"
      ]
     },
     "execution_count": 20,
     "metadata": {},
     "output_type": "execute_result"
    }
   ],
   "source": [
    "TIMES_all.shape"
   ]
  },
  {
   "cell_type": "code",
   "execution_count": 21,
   "metadata": {},
   "outputs": [
    {
     "data": {
      "text/plain": [
       "['# in list',\n",
       " 'CAS',\n",
       " 'Chem. Name',\n",
       " 'Smiles',\n",
       " 'Converter_Version_Struc',\n",
       " 'Exp_log(Kow)',\n",
       " 'Exp_WaterSolubility',\n",
       " 'log_Kp_exp',\n",
       " 'OASIS_PARENT_TYPE',\n",
       " 'Predicted toxicological category',\n",
       " 'Acute Oral Toxicity_Observed',\n",
       " 'Acute Oral Toxicity Predicted_LD50 mg/kg',\n",
       " 'Acute Oral Toxicity_Confidence',\n",
       " 'All predictions',\n",
       " 'Molecular Initiating Event 1',\n",
       " 'Effect (biological outcome) 1',\n",
       " 'Example Target Organ System 1',\n",
       " 'Molecular Initiating Event 2',\n",
       " 'Effect (biological outcome) 2',\n",
       " 'Example Target Organ System 2',\n",
       " 'Molecular Initiating Event 3',\n",
       " 'Effect (biological outcome) 3',\n",
       " 'Example Target Organ System 3',\n",
       " 'Alert reliability',\n",
       " 'Parameter ranges',\n",
       " 'Correct fragments Structural domain',\n",
       " 'Incorrect fragments Structural domain',\n",
       " 'Unknown fragments Structural domain',\n",
       " 'Total Structural domain',\n",
       " 'Total Domain',\n",
       " 'Remark']"
      ]
     },
     "execution_count": 21,
     "metadata": {},
     "output_type": "execute_result"
    }
   ],
   "source": [
    "TIMES_all.columns.tolist()"
   ]
  },
  {
   "cell_type": "code",
   "execution_count": 22,
   "metadata": {},
   "outputs": [],
   "source": [
    "TIMES_all = TIMES_all[['CAS',\n",
    " 'Chem. Name',\n",
    " 'Predicted toxicological category',\n",
    " 'Acute Oral Toxicity_Observed',\n",
    " 'Acute Oral Toxicity Predicted_LD50 mg/kg',\n",
    " 'Acute Oral Toxicity_Confidence',\n",
    " 'Total Structural domain',\n",
    " 'Total Domain',\n",
    " 'Alert reliability',\n",
    " 'Parameter ranges',\n",
    " 'Correct fragments Structural domain',\n",
    " 'Incorrect fragments Structural domain',\n",
    " 'Unknown fragments Structural domain',\n",
    " 'Exp_log(Kow)',\n",
    " 'Exp_WaterSolubility',\n",
    " 'log_Kp_exp',\n",
    " 'Remark']]"
   ]
  },
  {
   "cell_type": "code",
   "execution_count": 23,
   "metadata": {},
   "outputs": [],
   "source": [
    "TIMES_all.rename(columns = {'Acute Oral Toxicity_Observed': 'known_LD50', 'Acute Oral Toxicity Predicted_LD50 mg/kg': 'pred_LD50'},inplace = True)"
   ]
  },
  {
   "cell_type": "code",
   "execution_count": 30,
   "metadata": {},
   "outputs": [],
   "source": [
    "TIMES_all.to_csv(interim_dir+'TIMES_all.csv')"
   ]
  },
  {
   "cell_type": "markdown",
   "metadata": {},
   "source": [
    "### Import processed acute toxicity data from NICEATM"
   ]
  },
  {
   "cell_type": "code",
   "execution_count": 200,
   "metadata": {},
   "outputs": [],
   "source": [
    "acute_proc = pd.read_csv(raw_dat_dir+'AcuteTox FullDataset Processed 171130.csv')"
   ]
  },
  {
   "cell_type": "code",
   "execution_count": 201,
   "metadata": {},
   "outputs": [],
   "source": [
    "acute_proc.columns = ['CAS', 'very_toxic', 'nontoxic', 'known_LD50_mgkg', 'EPA_category',\n",
    "       'GHS_category']"
   ]
  },
  {
   "cell_type": "code",
   "execution_count": 202,
   "metadata": {},
   "outputs": [
    {
     "data": {
      "text/html": [
       "<div>\n",
       "<style scoped>\n",
       "    .dataframe tbody tr th:only-of-type {\n",
       "        vertical-align: middle;\n",
       "    }\n",
       "\n",
       "    .dataframe tbody tr th {\n",
       "        vertical-align: top;\n",
       "    }\n",
       "\n",
       "    .dataframe thead th {\n",
       "        text-align: right;\n",
       "    }\n",
       "</style>\n",
       "<table border=\"1\" class=\"dataframe\">\n",
       "  <thead>\n",
       "    <tr style=\"text-align: right;\">\n",
       "      <th></th>\n",
       "      <th>CAS</th>\n",
       "      <th>very_toxic</th>\n",
       "      <th>nontoxic</th>\n",
       "      <th>known_LD50_mgkg</th>\n",
       "      <th>EPA_category</th>\n",
       "      <th>GHS_category</th>\n",
       "    </tr>\n",
       "  </thead>\n",
       "  <tbody>\n",
       "    <tr>\n",
       "      <th>0</th>\n",
       "      <td>100-00-5</td>\n",
       "      <td>False</td>\n",
       "      <td>False</td>\n",
       "      <td>460.0</td>\n",
       "      <td>2.0</td>\n",
       "      <td>4.0</td>\n",
       "    </tr>\n",
       "    <tr>\n",
       "      <th>1</th>\n",
       "      <td>100-01-6</td>\n",
       "      <td>False</td>\n",
       "      <td>False</td>\n",
       "      <td>750.0</td>\n",
       "      <td>3.0</td>\n",
       "      <td>4.0</td>\n",
       "    </tr>\n",
       "    <tr>\n",
       "      <th>2</th>\n",
       "      <td>100-02-7</td>\n",
       "      <td>False</td>\n",
       "      <td>False</td>\n",
       "      <td>170.0</td>\n",
       "      <td>2.0</td>\n",
       "      <td>3.0</td>\n",
       "    </tr>\n",
       "    <tr>\n",
       "      <th>3</th>\n",
       "      <td>100-03-8</td>\n",
       "      <td>False</td>\n",
       "      <td>False</td>\n",
       "      <td>NaN</td>\n",
       "      <td>3.0</td>\n",
       "      <td>4.0</td>\n",
       "    </tr>\n",
       "    <tr>\n",
       "      <th>4</th>\n",
       "      <td>100-06-1</td>\n",
       "      <td>False</td>\n",
       "      <td>False</td>\n",
       "      <td>1720.0</td>\n",
       "      <td>3.0</td>\n",
       "      <td>4.0</td>\n",
       "    </tr>\n",
       "  </tbody>\n",
       "</table>\n",
       "</div>"
      ],
      "text/plain": [
       "        CAS very_toxic nontoxic  known_LD50_mgkg  EPA_category  GHS_category\n",
       "0  100-00-5      False    False            460.0           2.0           4.0\n",
       "1  100-01-6      False    False            750.0           3.0           4.0\n",
       "2  100-02-7      False    False            170.0           2.0           3.0\n",
       "3  100-03-8      False    False              NaN           3.0           4.0\n",
       "4  100-06-1      False    False           1720.0           3.0           4.0"
      ]
     },
     "execution_count": 202,
     "metadata": {},
     "output_type": "execute_result"
    }
   ],
   "source": [
    "acute_proc.head()"
   ]
  },
  {
   "cell_type": "code",
   "execution_count": 203,
   "metadata": {},
   "outputs": [
    {
     "data": {
      "text/plain": [
       "8979"
      ]
     },
     "execution_count": 203,
     "metadata": {},
     "output_type": "execute_result"
    }
   ],
   "source": [
    "acute_proc['known_LD50_mgkg'].count()"
   ]
  },
  {
   "cell_type": "code",
   "execution_count": 204,
   "metadata": {},
   "outputs": [
    {
     "data": {
      "text/plain": [
       "(11992, 6)"
      ]
     },
     "execution_count": 204,
     "metadata": {},
     "output_type": "execute_result"
    }
   ],
   "source": [
    "acute_proc.shape"
   ]
  },
  {
   "cell_type": "markdown",
   "metadata": {},
   "source": [
    "### Read in MWs for chemicals"
   ]
  },
  {
   "cell_type": "code",
   "execution_count": 205,
   "metadata": {},
   "outputs": [],
   "source": [
    "MW_all = pd.DataFrame()\n",
    "for f in glob.glob(raw_dat_dir+'ChemistryDashboard-Batch-Search_2019*.tsv'):\n",
    "    df = pd.read_csv(f, sep = '\\t')\n",
    "    MW_all = MW_all.append(df, ignore_index = True)"
   ]
  },
  {
   "cell_type": "code",
   "execution_count": 206,
   "metadata": {},
   "outputs": [
    {
     "data": {
      "text/plain": [
       "(11992, 7)"
      ]
     },
     "execution_count": 206,
     "metadata": {},
     "output_type": "execute_result"
    }
   ],
   "source": [
    "MW_all.shape"
   ]
  },
  {
   "cell_type": "code",
   "execution_count": 207,
   "metadata": {},
   "outputs": [
    {
     "data": {
      "text/html": [
       "<div>\n",
       "<style scoped>\n",
       "    .dataframe tbody tr th:only-of-type {\n",
       "        vertical-align: middle;\n",
       "    }\n",
       "\n",
       "    .dataframe tbody tr th {\n",
       "        vertical-align: top;\n",
       "    }\n",
       "\n",
       "    .dataframe thead th {\n",
       "        text-align: right;\n",
       "    }\n",
       "</style>\n",
       "<table border=\"1\" class=\"dataframe\">\n",
       "  <thead>\n",
       "    <tr style=\"text-align: right;\">\n",
       "      <th></th>\n",
       "      <th>INPUT</th>\n",
       "      <th>FOUND_BY</th>\n",
       "      <th>DTXSID</th>\n",
       "      <th>PREFERRED_NAME</th>\n",
       "      <th>SMILES</th>\n",
       "      <th>AVERAGE_MASS</th>\n",
       "      <th>QSAR_READY_SMILES</th>\n",
       "    </tr>\n",
       "  </thead>\n",
       "  <tbody>\n",
       "    <tr>\n",
       "      <th>0</th>\n",
       "      <td>30238-40-5</td>\n",
       "      <td>CAS-RN</td>\n",
       "      <td>DTXSID40952610</td>\n",
       "      <td>Ethyl 1,6-dimethyl-4-oxo-1,6,7,8,9,9a-hexahydr...</td>\n",
       "      <td>CCOC(=O)C1=CN(C)C2CCCC(C)N2C1=O</td>\n",
       "      <td>252.314</td>\n",
       "      <td>CCOC(=O)C1=CN(C)C2CCCC(C)N2C1=O</td>\n",
       "    </tr>\n",
       "    <tr>\n",
       "      <th>1</th>\n",
       "      <td>30238-41-6</td>\n",
       "      <td>CAS-RN</td>\n",
       "      <td>DTXSID00952611</td>\n",
       "      <td>Ethyl 1-ethyl-6-methyl-4-oxo-1,6,7,8,9,9a-hexa...</td>\n",
       "      <td>CCOC(=O)C1=CN(CC)C2CCCC(C)N2C1=O</td>\n",
       "      <td>266.341</td>\n",
       "      <td>CCOC(=O)C1=CN(CC)C2CCCC(C)N2C1=O</td>\n",
       "    </tr>\n",
       "    <tr>\n",
       "      <th>2</th>\n",
       "      <td>3025-30-7</td>\n",
       "      <td>CAS-RN</td>\n",
       "      <td>DTXSID0041357</td>\n",
       "      <td>Ethyl (2E,4Z)-deca-2,4-dienoate</td>\n",
       "      <td>CCCCC\\C=C/C=C/C(=O)OCC</td>\n",
       "      <td>196.29</td>\n",
       "      <td>CCCCCC=CC=CC(=O)OCC</td>\n",
       "    </tr>\n",
       "    <tr>\n",
       "      <th>3</th>\n",
       "      <td>3027-21-2</td>\n",
       "      <td>CAS-RN</td>\n",
       "      <td>DTXSID4044909</td>\n",
       "      <td>Dimethoxy(methyl)phenylsilane</td>\n",
       "      <td>CO[Si](C)(OC)C1=CC=CC=C1</td>\n",
       "      <td>182.294</td>\n",
       "      <td>CO[Si](C)(OC)C1=CC=CC=C1</td>\n",
       "    </tr>\n",
       "    <tr>\n",
       "      <th>4</th>\n",
       "      <td>30286-75-0</td>\n",
       "      <td>CAS-RN</td>\n",
       "      <td>DTXSID0023402</td>\n",
       "      <td>Oxitropium bromide</td>\n",
       "      <td>[Br-].CC[N+]1(C)[C@H]2C[C@@H](C[C@@H]1[C@H]1O[...</td>\n",
       "      <td>412.324</td>\n",
       "      <td>[H]C12CC(CC([H])(C3OC13)[N+]2(C)CC)OC(=O)C(CO)...</td>\n",
       "    </tr>\n",
       "  </tbody>\n",
       "</table>\n",
       "</div>"
      ],
      "text/plain": [
       "        INPUT FOUND_BY          DTXSID  \\\n",
       "0  30238-40-5   CAS-RN  DTXSID40952610   \n",
       "1  30238-41-6   CAS-RN  DTXSID00952611   \n",
       "2   3025-30-7   CAS-RN   DTXSID0041357   \n",
       "3   3027-21-2   CAS-RN   DTXSID4044909   \n",
       "4  30286-75-0   CAS-RN   DTXSID0023402   \n",
       "\n",
       "                                      PREFERRED_NAME  \\\n",
       "0  Ethyl 1,6-dimethyl-4-oxo-1,6,7,8,9,9a-hexahydr...   \n",
       "1  Ethyl 1-ethyl-6-methyl-4-oxo-1,6,7,8,9,9a-hexa...   \n",
       "2                    Ethyl (2E,4Z)-deca-2,4-dienoate   \n",
       "3                      Dimethoxy(methyl)phenylsilane   \n",
       "4                                 Oxitropium bromide   \n",
       "\n",
       "                                              SMILES AVERAGE_MASS  \\\n",
       "0                    CCOC(=O)C1=CN(C)C2CCCC(C)N2C1=O      252.314   \n",
       "1                   CCOC(=O)C1=CN(CC)C2CCCC(C)N2C1=O      266.341   \n",
       "2                             CCCCC\\C=C/C=C/C(=O)OCC       196.29   \n",
       "3                           CO[Si](C)(OC)C1=CC=CC=C1      182.294   \n",
       "4  [Br-].CC[N+]1(C)[C@H]2C[C@@H](C[C@@H]1[C@H]1O[...      412.324   \n",
       "\n",
       "                                   QSAR_READY_SMILES  \n",
       "0                    CCOC(=O)C1=CN(C)C2CCCC(C)N2C1=O  \n",
       "1                   CCOC(=O)C1=CN(CC)C2CCCC(C)N2C1=O  \n",
       "2                                CCCCCC=CC=CC(=O)OCC  \n",
       "3                           CO[Si](C)(OC)C1=CC=CC=C1  \n",
       "4  [H]C12CC(CC([H])(C3OC13)[N+]2(C)CC)OC(=O)C(CO)...  "
      ]
     },
     "execution_count": 207,
     "metadata": {},
     "output_type": "execute_result"
    }
   ],
   "source": [
    "MW_all.head()"
   ]
  },
  {
   "cell_type": "code",
   "execution_count": 208,
   "metadata": {},
   "outputs": [],
   "source": [
    "MW_all.columns =  ['CAS', 'found_by', 'DTXSID', 'name', 'smiles',\n",
    "       'average_mass', 'qsar_ready_smiles']"
   ]
  },
  {
   "cell_type": "code",
   "execution_count": 209,
   "metadata": {},
   "outputs": [],
   "source": [
    "MW_all = MW_all[['CAS', 'found_by', 'DTXSID', 'name', 'average_mass',\n",
    "       'qsar_ready_smiles','smiles']]"
   ]
  },
  {
   "cell_type": "code",
   "execution_count": 210,
   "metadata": {},
   "outputs": [],
   "source": [
    "MW_all = MW_all[MW_all['qsar_ready_smiles'] != '-']"
   ]
  },
  {
   "cell_type": "code",
   "execution_count": 211,
   "metadata": {},
   "outputs": [
    {
     "data": {
      "text/plain": [
       "(10886, 7)"
      ]
     },
     "execution_count": 211,
     "metadata": {},
     "output_type": "execute_result"
    }
   ],
   "source": [
    "MW_all.shape"
   ]
  },
  {
   "cell_type": "code",
   "execution_count": 212,
   "metadata": {},
   "outputs": [
    {
     "data": {
      "text/html": [
       "<div>\n",
       "<style scoped>\n",
       "    .dataframe tbody tr th:only-of-type {\n",
       "        vertical-align: middle;\n",
       "    }\n",
       "\n",
       "    .dataframe tbody tr th {\n",
       "        vertical-align: top;\n",
       "    }\n",
       "\n",
       "    .dataframe thead th {\n",
       "        text-align: right;\n",
       "    }\n",
       "</style>\n",
       "<table border=\"1\" class=\"dataframe\">\n",
       "  <thead>\n",
       "    <tr style=\"text-align: right;\">\n",
       "      <th></th>\n",
       "      <th>CAS</th>\n",
       "      <th>found_by</th>\n",
       "      <th>DTXSID</th>\n",
       "      <th>name</th>\n",
       "      <th>average_mass</th>\n",
       "      <th>qsar_ready_smiles</th>\n",
       "      <th>smiles</th>\n",
       "    </tr>\n",
       "  </thead>\n",
       "  <tbody>\n",
       "    <tr>\n",
       "      <th>0</th>\n",
       "      <td>30238-40-5</td>\n",
       "      <td>CAS-RN</td>\n",
       "      <td>DTXSID40952610</td>\n",
       "      <td>Ethyl 1,6-dimethyl-4-oxo-1,6,7,8,9,9a-hexahydr...</td>\n",
       "      <td>252.314</td>\n",
       "      <td>CCOC(=O)C1=CN(C)C2CCCC(C)N2C1=O</td>\n",
       "      <td>CCOC(=O)C1=CN(C)C2CCCC(C)N2C1=O</td>\n",
       "    </tr>\n",
       "    <tr>\n",
       "      <th>1</th>\n",
       "      <td>30238-41-6</td>\n",
       "      <td>CAS-RN</td>\n",
       "      <td>DTXSID00952611</td>\n",
       "      <td>Ethyl 1-ethyl-6-methyl-4-oxo-1,6,7,8,9,9a-hexa...</td>\n",
       "      <td>266.341</td>\n",
       "      <td>CCOC(=O)C1=CN(CC)C2CCCC(C)N2C1=O</td>\n",
       "      <td>CCOC(=O)C1=CN(CC)C2CCCC(C)N2C1=O</td>\n",
       "    </tr>\n",
       "    <tr>\n",
       "      <th>2</th>\n",
       "      <td>3025-30-7</td>\n",
       "      <td>CAS-RN</td>\n",
       "      <td>DTXSID0041357</td>\n",
       "      <td>Ethyl (2E,4Z)-deca-2,4-dienoate</td>\n",
       "      <td>196.29</td>\n",
       "      <td>CCCCCC=CC=CC(=O)OCC</td>\n",
       "      <td>CCCCC\\C=C/C=C/C(=O)OCC</td>\n",
       "    </tr>\n",
       "    <tr>\n",
       "      <th>3</th>\n",
       "      <td>3027-21-2</td>\n",
       "      <td>CAS-RN</td>\n",
       "      <td>DTXSID4044909</td>\n",
       "      <td>Dimethoxy(methyl)phenylsilane</td>\n",
       "      <td>182.294</td>\n",
       "      <td>CO[Si](C)(OC)C1=CC=CC=C1</td>\n",
       "      <td>CO[Si](C)(OC)C1=CC=CC=C1</td>\n",
       "    </tr>\n",
       "    <tr>\n",
       "      <th>4</th>\n",
       "      <td>30286-75-0</td>\n",
       "      <td>CAS-RN</td>\n",
       "      <td>DTXSID0023402</td>\n",
       "      <td>Oxitropium bromide</td>\n",
       "      <td>412.324</td>\n",
       "      <td>[H]C12CC(CC([H])(C3OC13)[N+]2(C)CC)OC(=O)C(CO)...</td>\n",
       "      <td>[Br-].CC[N+]1(C)[C@H]2C[C@@H](C[C@@H]1[C@H]1O[...</td>\n",
       "    </tr>\n",
       "  </tbody>\n",
       "</table>\n",
       "</div>"
      ],
      "text/plain": [
       "          CAS found_by          DTXSID  \\\n",
       "0  30238-40-5   CAS-RN  DTXSID40952610   \n",
       "1  30238-41-6   CAS-RN  DTXSID00952611   \n",
       "2   3025-30-7   CAS-RN   DTXSID0041357   \n",
       "3   3027-21-2   CAS-RN   DTXSID4044909   \n",
       "4  30286-75-0   CAS-RN   DTXSID0023402   \n",
       "\n",
       "                                                name average_mass  \\\n",
       "0  Ethyl 1,6-dimethyl-4-oxo-1,6,7,8,9,9a-hexahydr...      252.314   \n",
       "1  Ethyl 1-ethyl-6-methyl-4-oxo-1,6,7,8,9,9a-hexa...      266.341   \n",
       "2                    Ethyl (2E,4Z)-deca-2,4-dienoate       196.29   \n",
       "3                      Dimethoxy(methyl)phenylsilane      182.294   \n",
       "4                                 Oxitropium bromide      412.324   \n",
       "\n",
       "                                   qsar_ready_smiles  \\\n",
       "0                    CCOC(=O)C1=CN(C)C2CCCC(C)N2C1=O   \n",
       "1                   CCOC(=O)C1=CN(CC)C2CCCC(C)N2C1=O   \n",
       "2                                CCCCCC=CC=CC(=O)OCC   \n",
       "3                           CO[Si](C)(OC)C1=CC=CC=C1   \n",
       "4  [H]C12CC(CC([H])(C3OC13)[N+]2(C)CC)OC(=O)C(CO)...   \n",
       "\n",
       "                                              smiles  \n",
       "0                    CCOC(=O)C1=CN(C)C2CCCC(C)N2C1=O  \n",
       "1                   CCOC(=O)C1=CN(CC)C2CCCC(C)N2C1=O  \n",
       "2                             CCCCC\\C=C/C=C/C(=O)OCC  \n",
       "3                           CO[Si](C)(OC)C1=CC=CC=C1  \n",
       "4  [Br-].CC[N+]1(C)[C@H]2C[C@@H](C[C@@H]1[C@H]1O[...  "
      ]
     },
     "execution_count": 212,
     "metadata": {},
     "output_type": "execute_result"
    }
   ],
   "source": [
    "MW_all.head()"
   ]
  },
  {
   "cell_type": "markdown",
   "metadata": {},
   "source": [
    "### Import in ToxPrint chemotypes"
   ]
  },
  {
   "cell_type": "code",
   "execution_count": 213,
   "metadata": {},
   "outputs": [],
   "source": [
    "chemotypes = pd.read_csv(raw_dat_dir+'Acute_SMILES_Toxprints.tsv', sep = '\\t')"
   ]
  },
  {
   "cell_type": "code",
   "execution_count": 214,
   "metadata": {},
   "outputs": [
    {
     "data": {
      "text/plain": [
       "(10886, 730)"
      ]
     },
     "execution_count": 214,
     "metadata": {},
     "output_type": "execute_result"
    }
   ],
   "source": [
    "chemotypes.shape"
   ]
  },
  {
   "cell_type": "markdown",
   "metadata": {},
   "source": [
    "### Loading data used to quantify variability of the acute toxicity studies"
   ]
  },
  {
   "cell_type": "code",
   "execution_count": 216,
   "metadata": {},
   "outputs": [],
   "source": [
    "ld50_var = pd.read_csv(raw_dat_dir+'all_data.csv')"
   ]
  },
  {
   "cell_type": "code",
   "execution_count": 217,
   "metadata": {},
   "outputs": [],
   "source": [
    "ld50_var.drop(['Unnamed: 0'],axis = 1, inplace = True)"
   ]
  },
  {
   "cell_type": "code",
   "execution_count": 218,
   "metadata": {},
   "outputs": [],
   "source": [
    "ld50_var.columns = ['CAS', 'LD50_type', 'LD50_LOGmgkg', 'LD50_mgkg', 'val_code',\n",
    "       'test_type']"
   ]
  },
  {
   "cell_type": "code",
   "execution_count": 219,
   "metadata": {},
   "outputs": [
    {
     "data": {
      "text/html": [
       "<div>\n",
       "<style scoped>\n",
       "    .dataframe tbody tr th:only-of-type {\n",
       "        vertical-align: middle;\n",
       "    }\n",
       "\n",
       "    .dataframe tbody tr th {\n",
       "        vertical-align: top;\n",
       "    }\n",
       "\n",
       "    .dataframe thead th {\n",
       "        text-align: right;\n",
       "    }\n",
       "</style>\n",
       "<table border=\"1\" class=\"dataframe\">\n",
       "  <thead>\n",
       "    <tr style=\"text-align: right;\">\n",
       "      <th></th>\n",
       "      <th>CAS</th>\n",
       "      <th>LD50_type</th>\n",
       "      <th>LD50_LOGmgkg</th>\n",
       "      <th>LD50_mgkg</th>\n",
       "      <th>val_code</th>\n",
       "      <th>test_type</th>\n",
       "    </tr>\n",
       "  </thead>\n",
       "  <tbody>\n",
       "    <tr>\n",
       "      <th>0</th>\n",
       "      <td>75605-85-5</td>\n",
       "      <td>LD50_value</td>\n",
       "      <td>-3.853872</td>\n",
       "      <td>0.00014</td>\n",
       "      <td>pt_est</td>\n",
       "      <td>experimental value</td>\n",
       "    </tr>\n",
       "    <tr>\n",
       "      <th>1</th>\n",
       "      <td>50782-69-9</td>\n",
       "      <td>LD50_value</td>\n",
       "      <td>-1.920819</td>\n",
       "      <td>0.01200</td>\n",
       "      <td>pt_est</td>\n",
       "      <td>experimental value</td>\n",
       "    </tr>\n",
       "    <tr>\n",
       "      <th>2</th>\n",
       "      <td>316-42-7</td>\n",
       "      <td>LD50_value</td>\n",
       "      <td>-1.920819</td>\n",
       "      <td>0.01200</td>\n",
       "      <td>pt_est</td>\n",
       "      <td>experimental value</td>\n",
       "    </tr>\n",
       "    <tr>\n",
       "      <th>3</th>\n",
       "      <td>1746-01-6</td>\n",
       "      <td>LD50_value</td>\n",
       "      <td>-1.698970</td>\n",
       "      <td>0.02000</td>\n",
       "      <td>pt_est</td>\n",
       "      <td>experimental value</td>\n",
       "    </tr>\n",
       "    <tr>\n",
       "      <th>4</th>\n",
       "      <td>1746-01-6</td>\n",
       "      <td>LD50_value</td>\n",
       "      <td>-1.657577</td>\n",
       "      <td>0.02200</td>\n",
       "      <td>pt_est</td>\n",
       "      <td>experimental value</td>\n",
       "    </tr>\n",
       "  </tbody>\n",
       "</table>\n",
       "</div>"
      ],
      "text/plain": [
       "          CAS   LD50_type  LD50_LOGmgkg  LD50_mgkg val_code  \\\n",
       "0  75605-85-5  LD50_value     -3.853872    0.00014   pt_est   \n",
       "1  50782-69-9  LD50_value     -1.920819    0.01200   pt_est   \n",
       "2    316-42-7  LD50_value     -1.920819    0.01200   pt_est   \n",
       "3   1746-01-6  LD50_value     -1.698970    0.02000   pt_est   \n",
       "4   1746-01-6  LD50_value     -1.657577    0.02200   pt_est   \n",
       "\n",
       "            test_type  \n",
       "0  experimental value  \n",
       "1  experimental value  \n",
       "2  experimental value  \n",
       "3  experimental value  \n",
       "4  experimental value  "
      ]
     },
     "execution_count": 219,
     "metadata": {},
     "output_type": "execute_result"
    }
   ],
   "source": [
    "ld50_var.head()"
   ]
  },
  {
   "cell_type": "code",
   "execution_count": 220,
   "metadata": {},
   "outputs": [
    {
     "data": {
      "text/plain": [
       "15688"
      ]
     },
     "execution_count": 220,
     "metadata": {},
     "output_type": "execute_result"
    }
   ],
   "source": [
    "ld50_var.CAS.nunique()"
   ]
  },
  {
   "cell_type": "code",
   "execution_count": 222,
   "metadata": {},
   "outputs": [],
   "source": [
    "#np.std(ld50_var['LD50_LOGmgkg'])"
   ]
  },
  {
   "cell_type": "code",
   "execution_count": 221,
   "metadata": {},
   "outputs": [],
   "source": [
    "#MW_all.to_csv(raw_dat_dir+'mol_weight.csv')"
   ]
  },
  {
   "cell_type": "markdown",
   "metadata": {},
   "source": [
    "### Merge LD50_variability with MW information"
   ]
  },
  {
   "cell_type": "code",
   "execution_count": 223,
   "metadata": {},
   "outputs": [],
   "source": [
    "ld50_var_MW = pd.merge(ld50_var, MW_all, on = 'CAS', how = 'inner')"
   ]
  },
  {
   "cell_type": "code",
   "execution_count": 290,
   "metadata": {},
   "outputs": [
    {
     "data": {
      "text/html": [
       "<div>\n",
       "<style scoped>\n",
       "    .dataframe tbody tr th:only-of-type {\n",
       "        vertical-align: middle;\n",
       "    }\n",
       "\n",
       "    .dataframe tbody tr th {\n",
       "        vertical-align: top;\n",
       "    }\n",
       "\n",
       "    .dataframe thead th {\n",
       "        text-align: right;\n",
       "    }\n",
       "</style>\n",
       "<table border=\"1\" class=\"dataframe\">\n",
       "  <thead>\n",
       "    <tr style=\"text-align: right;\">\n",
       "      <th></th>\n",
       "      <th>CAS</th>\n",
       "      <th>DTXSID</th>\n",
       "      <th>name</th>\n",
       "      <th>pLD50</th>\n",
       "      <th>LD50_type</th>\n",
       "      <th>LD50_LOGmgkg</th>\n",
       "      <th>LD50_mgkg</th>\n",
       "      <th>val_code</th>\n",
       "      <th>test_type</th>\n",
       "      <th>found_by</th>\n",
       "      <th>average_mass</th>\n",
       "      <th>qsar_ready_smiles</th>\n",
       "      <th>smiles</th>\n",
       "    </tr>\n",
       "  </thead>\n",
       "  <tbody>\n",
       "    <tr>\n",
       "      <th>0</th>\n",
       "      <td>50782-69-9</td>\n",
       "      <td>DTXSID80866161</td>\n",
       "      <td>VX</td>\n",
       "      <td>7.347931</td>\n",
       "      <td>LD50_value</td>\n",
       "      <td>-1.920819</td>\n",
       "      <td>0.012</td>\n",
       "      <td>pt_est</td>\n",
       "      <td>experimental value</td>\n",
       "      <td>CAS-RN</td>\n",
       "      <td>267.37</td>\n",
       "      <td>CCOP(C)(=O)SCCN(C(C)C)C(C)C</td>\n",
       "      <td>CCOP(C)(=O)SCCN(C(C)C)C(C)C</td>\n",
       "    </tr>\n",
       "    <tr>\n",
       "      <th>1</th>\n",
       "      <td>316-42-7</td>\n",
       "      <td>DTXSID7020558</td>\n",
       "      <td>Emetine dihydrochloride</td>\n",
       "      <td>7.663991</td>\n",
       "      <td>LD50_value</td>\n",
       "      <td>-1.920819</td>\n",
       "      <td>0.012</td>\n",
       "      <td>pt_est</td>\n",
       "      <td>experimental value</td>\n",
       "      <td>CAS-RN</td>\n",
       "      <td>553.57</td>\n",
       "      <td>CCC1CN2CCC3=C(C=C(OC)C(OC)=C3)C2CC1CC1NCCC2=CC...</td>\n",
       "      <td>Cl.Cl.CC[C@H]1CN2CCC3=C(C=C(OC)C(OC)=C3)[C@@H]...</td>\n",
       "    </tr>\n",
       "    <tr>\n",
       "      <th>2</th>\n",
       "      <td>1746-01-6</td>\n",
       "      <td>DTXSID2021315</td>\n",
       "      <td>2,3,7,8-Tetrachlorodibenzo-p-dioxin</td>\n",
       "      <td>7.206772</td>\n",
       "      <td>LD50_value</td>\n",
       "      <td>-1.698970</td>\n",
       "      <td>0.020</td>\n",
       "      <td>pt_est</td>\n",
       "      <td>experimental value</td>\n",
       "      <td>CAS-RN</td>\n",
       "      <td>321.96</td>\n",
       "      <td>ClC1=CC2=C(OC3=C(O2)C=C(Cl)C(Cl)=C3)C=C1Cl</td>\n",
       "      <td>ClC1=CC2=C(OC3=C(O2)C=C(Cl)C(Cl)=C3)C=C1Cl</td>\n",
       "    </tr>\n",
       "    <tr>\n",
       "      <th>3</th>\n",
       "      <td>1746-01-6</td>\n",
       "      <td>DTXSID2021315</td>\n",
       "      <td>2,3,7,8-Tetrachlorodibenzo-p-dioxin</td>\n",
       "      <td>7.165379</td>\n",
       "      <td>LD50_value</td>\n",
       "      <td>-1.657577</td>\n",
       "      <td>0.022</td>\n",
       "      <td>pt_est</td>\n",
       "      <td>experimental value</td>\n",
       "      <td>CAS-RN</td>\n",
       "      <td>321.96</td>\n",
       "      <td>ClC1=CC2=C(OC3=C(O2)C=C(Cl)C(Cl)=C3)C=C1Cl</td>\n",
       "      <td>ClC1=CC2=C(OC3=C(O2)C=C(Cl)C(Cl)=C3)C=C1Cl</td>\n",
       "    </tr>\n",
       "    <tr>\n",
       "      <th>4</th>\n",
       "      <td>1746-01-6</td>\n",
       "      <td>DTXSID2021315</td>\n",
       "      <td>2,3,7,8-Tetrachlorodibenzo-p-dioxin</td>\n",
       "      <td>6.874333</td>\n",
       "      <td>LD50_value</td>\n",
       "      <td>-1.366532</td>\n",
       "      <td>0.043</td>\n",
       "      <td>pt_est</td>\n",
       "      <td>experimental value</td>\n",
       "      <td>CAS-RN</td>\n",
       "      <td>321.96</td>\n",
       "      <td>ClC1=CC2=C(OC3=C(O2)C=C(Cl)C(Cl)=C3)C=C1Cl</td>\n",
       "      <td>ClC1=CC2=C(OC3=C(O2)C=C(Cl)C(Cl)=C3)C=C1Cl</td>\n",
       "    </tr>\n",
       "  </tbody>\n",
       "</table>\n",
       "</div>"
      ],
      "text/plain": [
       "          CAS          DTXSID                                 name     pLD50  \\\n",
       "0  50782-69-9  DTXSID80866161                                   VX  7.347931   \n",
       "1    316-42-7   DTXSID7020558              Emetine dihydrochloride  7.663991   \n",
       "2   1746-01-6   DTXSID2021315  2,3,7,8-Tetrachlorodibenzo-p-dioxin  7.206772   \n",
       "3   1746-01-6   DTXSID2021315  2,3,7,8-Tetrachlorodibenzo-p-dioxin  7.165379   \n",
       "4   1746-01-6   DTXSID2021315  2,3,7,8-Tetrachlorodibenzo-p-dioxin  6.874333   \n",
       "\n",
       "    LD50_type  LD50_LOGmgkg  LD50_mgkg val_code           test_type found_by  \\\n",
       "0  LD50_value     -1.920819      0.012   pt_est  experimental value   CAS-RN   \n",
       "1  LD50_value     -1.920819      0.012   pt_est  experimental value   CAS-RN   \n",
       "2  LD50_value     -1.698970      0.020   pt_est  experimental value   CAS-RN   \n",
       "3  LD50_value     -1.657577      0.022   pt_est  experimental value   CAS-RN   \n",
       "4  LD50_value     -1.366532      0.043   pt_est  experimental value   CAS-RN   \n",
       "\n",
       "  average_mass                                  qsar_ready_smiles  \\\n",
       "0       267.37                        CCOP(C)(=O)SCCN(C(C)C)C(C)C   \n",
       "1       553.57  CCC1CN2CCC3=C(C=C(OC)C(OC)=C3)C2CC1CC1NCCC2=CC...   \n",
       "2       321.96         ClC1=CC2=C(OC3=C(O2)C=C(Cl)C(Cl)=C3)C=C1Cl   \n",
       "3       321.96         ClC1=CC2=C(OC3=C(O2)C=C(Cl)C(Cl)=C3)C=C1Cl   \n",
       "4       321.96         ClC1=CC2=C(OC3=C(O2)C=C(Cl)C(Cl)=C3)C=C1Cl   \n",
       "\n",
       "                                              smiles  \n",
       "0                        CCOP(C)(=O)SCCN(C(C)C)C(C)C  \n",
       "1  Cl.Cl.CC[C@H]1CN2CCC3=C(C=C(OC)C(OC)=C3)[C@@H]...  \n",
       "2         ClC1=CC2=C(OC3=C(O2)C=C(Cl)C(Cl)=C3)C=C1Cl  \n",
       "3         ClC1=CC2=C(OC3=C(O2)C=C(Cl)C(Cl)=C3)C=C1Cl  \n",
       "4         ClC1=CC2=C(OC3=C(O2)C=C(Cl)C(Cl)=C3)C=C1Cl  "
      ]
     },
     "execution_count": 290,
     "metadata": {},
     "output_type": "execute_result"
    }
   ],
   "source": [
    "ld50_var_MW.head()"
   ]
  },
  {
   "cell_type": "code",
   "execution_count": 291,
   "metadata": {},
   "outputs": [
    {
     "data": {
      "text/plain": [
       "pt_est     10785\n",
       "lmt_tst     4179\n",
       "Name: val_code, dtype: int64"
      ]
     },
     "execution_count": 291,
     "metadata": {},
     "output_type": "execute_result"
    }
   ],
   "source": [
    "ld50_var_MW.val_code.value_counts()"
   ]
  },
  {
   "cell_type": "code",
   "execution_count": 226,
   "metadata": {},
   "outputs": [
    {
     "data": {
      "text/plain": [
       "7.206771923055583"
      ]
     },
     "execution_count": 226,
     "metadata": {},
     "output_type": "execute_result"
    }
   ],
   "source": [
    "-np.log10(0.02/321.96/1000)"
   ]
  },
  {
   "cell_type": "markdown",
   "metadata": {},
   "source": [
    "### Calc LD50 as -log10(mol/kg) and denote it pLD50"
   ]
  },
  {
   "cell_type": "code",
   "execution_count": 292,
   "metadata": {},
   "outputs": [],
   "source": [
    "ld50_var_MW['pLD50'] = -np.log10(ld50_var_MW['LD50_mgkg']/ld50_var_MW['average_mass'].astype(float)/1000)"
   ]
  },
  {
   "cell_type": "code",
   "execution_count": 293,
   "metadata": {},
   "outputs": [],
   "source": [
    "ld50_var_MW = ld50_var_MW[['CAS', 'DTXSID', 'name','pLD50','LD50_type', 'LD50_LOGmgkg', 'LD50_mgkg', 'val_code',\n",
    "       'test_type', 'found_by',  'average_mass',\n",
    "       'qsar_ready_smiles', 'smiles', ]]"
   ]
  },
  {
   "cell_type": "code",
   "execution_count": 294,
   "metadata": {},
   "outputs": [
    {
     "data": {
      "text/html": [
       "<div>\n",
       "<style scoped>\n",
       "    .dataframe tbody tr th:only-of-type {\n",
       "        vertical-align: middle;\n",
       "    }\n",
       "\n",
       "    .dataframe tbody tr th {\n",
       "        vertical-align: top;\n",
       "    }\n",
       "\n",
       "    .dataframe thead th {\n",
       "        text-align: right;\n",
       "    }\n",
       "</style>\n",
       "<table border=\"1\" class=\"dataframe\">\n",
       "  <thead>\n",
       "    <tr style=\"text-align: right;\">\n",
       "      <th></th>\n",
       "      <th>CAS</th>\n",
       "      <th>DTXSID</th>\n",
       "      <th>name</th>\n",
       "      <th>pLD50</th>\n",
       "      <th>LD50_type</th>\n",
       "      <th>LD50_LOGmgkg</th>\n",
       "      <th>LD50_mgkg</th>\n",
       "      <th>val_code</th>\n",
       "      <th>test_type</th>\n",
       "      <th>found_by</th>\n",
       "      <th>average_mass</th>\n",
       "      <th>qsar_ready_smiles</th>\n",
       "      <th>smiles</th>\n",
       "    </tr>\n",
       "  </thead>\n",
       "  <tbody>\n",
       "    <tr>\n",
       "      <th>1862</th>\n",
       "      <td>62751-72-8</td>\n",
       "      <td>DTXSID30211824</td>\n",
       "      <td>1H-Indole-3-acetic acid, 1-(p-chlorobenzoyl)-5...</td>\n",
       "      <td>3.828572</td>\n",
       "      <td>LD50_value</td>\n",
       "      <td>1.863323</td>\n",
       "      <td>73.0</td>\n",
       "      <td>pt_est</td>\n",
       "      <td>experimental value</td>\n",
       "      <td>CAS-RN</td>\n",
       "      <td>491.92</td>\n",
       "      <td>COC1=CC2=C(C=C1)N(C(=O)C1=CC=C(Cl)C=C1)C(C)=C2...</td>\n",
       "      <td>COC1=CC2=C(C=C1)N(C(=O)C1=CC=C(Cl)C=C1)C(C)=C2...</td>\n",
       "    </tr>\n",
       "  </tbody>\n",
       "</table>\n",
       "</div>"
      ],
      "text/plain": [
       "             CAS          DTXSID  \\\n",
       "1862  62751-72-8  DTXSID30211824   \n",
       "\n",
       "                                                   name     pLD50   LD50_type  \\\n",
       "1862  1H-Indole-3-acetic acid, 1-(p-chlorobenzoyl)-5...  3.828572  LD50_value   \n",
       "\n",
       "      LD50_LOGmgkg  LD50_mgkg val_code           test_type found_by  \\\n",
       "1862      1.863323       73.0   pt_est  experimental value   CAS-RN   \n",
       "\n",
       "     average_mass                                  qsar_ready_smiles  \\\n",
       "1862       491.92  COC1=CC2=C(C=C1)N(C(=O)C1=CC=C(Cl)C=C1)C(C)=C2...   \n",
       "\n",
       "                                                 smiles  \n",
       "1862  COC1=CC2=C(C=C1)N(C(=O)C1=CC=C(Cl)C=C1)C(C)=C2...  "
      ]
     },
     "execution_count": 294,
     "metadata": {},
     "output_type": "execute_result"
    }
   ],
   "source": [
    "ld50_var_MW[ld50_var_MW['CAS'] =='62751-72-8']"
   ]
  },
  {
   "cell_type": "code",
   "execution_count": 295,
   "metadata": {},
   "outputs": [
    {
     "data": {
      "text/plain": [
       "(14964, 13)"
      ]
     },
     "execution_count": 295,
     "metadata": {},
     "output_type": "execute_result"
    }
   ],
   "source": [
    "ld50_var_MW.shape"
   ]
  },
  {
   "cell_type": "markdown",
   "metadata": {},
   "source": [
    "### Keep only substances with MW info and calculate std "
   ]
  },
  {
   "cell_type": "code",
   "execution_count": 296,
   "metadata": {},
   "outputs": [],
   "source": [
    "g = ld50_var_MW.groupby(['CAS'])"
   ]
  },
  {
   "cell_type": "code",
   "execution_count": 297,
   "metadata": {},
   "outputs": [],
   "source": [
    "#ld50_var_MW.groupby(['CAS'], as_index = False).agg({'pLD50': ['median', 'std']})"
   ]
  },
  {
   "cell_type": "code",
   "execution_count": 298,
   "metadata": {},
   "outputs": [],
   "source": [
    "g = ld50_var_MW.groupby('CAS').filter(lambda x: len(x['pLD50']) >= 3)\n"
   ]
  },
  {
   "cell_type": "code",
   "execution_count": 303,
   "metadata": {},
   "outputs": [
    {
     "data": {
      "text/plain": [
       "4198"
      ]
     },
     "execution_count": 303,
     "metadata": {},
     "output_type": "execute_result"
    }
   ],
   "source": [
    "len(g)"
   ]
  },
  {
   "cell_type": "code",
   "execution_count": 235,
   "metadata": {},
   "outputs": [],
   "source": [
    "ld50_std = g.groupby(['CAS'], as_index = True).agg({'pLD50': ['median', 'std']})"
   ]
  },
  {
   "cell_type": "code",
   "execution_count": 236,
   "metadata": {},
   "outputs": [],
   "source": [
    "ld50_std_only = ld50_std['pLD50', 'std'].reset_index()"
   ]
  },
  {
   "cell_type": "code",
   "execution_count": 237,
   "metadata": {},
   "outputs": [],
   "source": [
    "ld50_std_only.columns = ld50_std_only.columns.droplevel(0)"
   ]
  },
  {
   "cell_type": "code",
   "execution_count": 238,
   "metadata": {},
   "outputs": [],
   "source": [
    "ld50_std_only.columns = ['CAS','std']"
   ]
  },
  {
   "cell_type": "code",
   "execution_count": 239,
   "metadata": {},
   "outputs": [
    {
     "data": {
      "text/html": [
       "<div>\n",
       "<style scoped>\n",
       "    .dataframe tbody tr th:only-of-type {\n",
       "        vertical-align: middle;\n",
       "    }\n",
       "\n",
       "    .dataframe tbody tr th {\n",
       "        vertical-align: top;\n",
       "    }\n",
       "\n",
       "    .dataframe thead th {\n",
       "        text-align: right;\n",
       "    }\n",
       "</style>\n",
       "<table border=\"1\" class=\"dataframe\">\n",
       "  <thead>\n",
       "    <tr style=\"text-align: right;\">\n",
       "      <th></th>\n",
       "      <th>CAS</th>\n",
       "      <th>std</th>\n",
       "    </tr>\n",
       "  </thead>\n",
       "  <tbody>\n",
       "    <tr>\n",
       "      <th>0</th>\n",
       "      <td>100-00-5</td>\n",
       "      <td>0.127559</td>\n",
       "    </tr>\n",
       "    <tr>\n",
       "      <th>1</th>\n",
       "      <td>100-01-6</td>\n",
       "      <td>0.267840</td>\n",
       "    </tr>\n",
       "    <tr>\n",
       "      <th>2</th>\n",
       "      <td>100-02-7</td>\n",
       "      <td>0.131095</td>\n",
       "    </tr>\n",
       "    <tr>\n",
       "      <th>3</th>\n",
       "      <td>100-21-0</td>\n",
       "      <td>0.396624</td>\n",
       "    </tr>\n",
       "    <tr>\n",
       "      <th>4</th>\n",
       "      <td>100-40-3</td>\n",
       "      <td>0.302413</td>\n",
       "    </tr>\n",
       "  </tbody>\n",
       "</table>\n",
       "</div>"
      ],
      "text/plain": [
       "        CAS       std\n",
       "0  100-00-5  0.127559\n",
       "1  100-01-6  0.267840\n",
       "2  100-02-7  0.131095\n",
       "3  100-21-0  0.396624\n",
       "4  100-40-3  0.302413"
      ]
     },
     "execution_count": 239,
     "metadata": {},
     "output_type": "execute_result"
    }
   ],
   "source": [
    "ld50_std_only.head()"
   ]
  },
  {
   "cell_type": "code",
   "execution_count": 240,
   "metadata": {},
   "outputs": [
    {
     "data": {
      "text/html": [
       "<div>\n",
       "<style scoped>\n",
       "    .dataframe tbody tr th:only-of-type {\n",
       "        vertical-align: middle;\n",
       "    }\n",
       "\n",
       "    .dataframe tbody tr th {\n",
       "        vertical-align: top;\n",
       "    }\n",
       "\n",
       "    .dataframe thead th {\n",
       "        text-align: right;\n",
       "    }\n",
       "</style>\n",
       "<table border=\"1\" class=\"dataframe\">\n",
       "  <thead>\n",
       "    <tr style=\"text-align: right;\">\n",
       "      <th></th>\n",
       "      <th>CAS</th>\n",
       "      <th>std</th>\n",
       "    </tr>\n",
       "  </thead>\n",
       "  <tbody>\n",
       "    <tr>\n",
       "      <th>325</th>\n",
       "      <td>1746-01-6</td>\n",
       "      <td>0.186626</td>\n",
       "    </tr>\n",
       "  </tbody>\n",
       "</table>\n",
       "</div>"
      ],
      "text/plain": [
       "           CAS       std\n",
       "325  1746-01-6  0.186626"
      ]
     },
     "execution_count": 240,
     "metadata": {},
     "output_type": "execute_result"
    }
   ],
   "source": [
    "ld50_std_only[ld50_std_only['CAS'] == '1746-01-6']"
   ]
  },
  {
   "cell_type": "code",
   "execution_count": 241,
   "metadata": {},
   "outputs": [
    {
     "data": {
      "text/html": [
       "<div>\n",
       "<style scoped>\n",
       "    .dataframe tbody tr th:only-of-type {\n",
       "        vertical-align: middle;\n",
       "    }\n",
       "\n",
       "    .dataframe tbody tr th {\n",
       "        vertical-align: top;\n",
       "    }\n",
       "\n",
       "    .dataframe thead th {\n",
       "        text-align: right;\n",
       "    }\n",
       "</style>\n",
       "<table border=\"1\" class=\"dataframe\">\n",
       "  <thead>\n",
       "    <tr style=\"text-align: right;\">\n",
       "      <th></th>\n",
       "      <th>CAS</th>\n",
       "      <th>DTXSID</th>\n",
       "      <th>name</th>\n",
       "      <th>pLD50</th>\n",
       "      <th>LD50_type</th>\n",
       "      <th>LD50_LOGmgkg</th>\n",
       "      <th>LD50_mgkg</th>\n",
       "      <th>val_code</th>\n",
       "      <th>test_type</th>\n",
       "      <th>found_by</th>\n",
       "      <th>average_mass</th>\n",
       "      <th>qsar_ready_smiles</th>\n",
       "      <th>smiles</th>\n",
       "    </tr>\n",
       "  </thead>\n",
       "  <tbody>\n",
       "    <tr>\n",
       "      <th>2</th>\n",
       "      <td>1746-01-6</td>\n",
       "      <td>DTXSID2021315</td>\n",
       "      <td>2,3,7,8-Tetrachlorodibenzo-p-dioxin</td>\n",
       "      <td>7.206772</td>\n",
       "      <td>LD50_value</td>\n",
       "      <td>-1.698970</td>\n",
       "      <td>0.020</td>\n",
       "      <td>pt_est</td>\n",
       "      <td>experimental value</td>\n",
       "      <td>CAS-RN</td>\n",
       "      <td>321.96</td>\n",
       "      <td>ClC1=CC2=C(OC3=C(O2)C=C(Cl)C(Cl)=C3)C=C1Cl</td>\n",
       "      <td>ClC1=CC2=C(OC3=C(O2)C=C(Cl)C(Cl)=C3)C=C1Cl</td>\n",
       "    </tr>\n",
       "    <tr>\n",
       "      <th>3</th>\n",
       "      <td>1746-01-6</td>\n",
       "      <td>DTXSID2021315</td>\n",
       "      <td>2,3,7,8-Tetrachlorodibenzo-p-dioxin</td>\n",
       "      <td>7.165379</td>\n",
       "      <td>LD50_value</td>\n",
       "      <td>-1.657577</td>\n",
       "      <td>0.022</td>\n",
       "      <td>pt_est</td>\n",
       "      <td>experimental value</td>\n",
       "      <td>CAS-RN</td>\n",
       "      <td>321.96</td>\n",
       "      <td>ClC1=CC2=C(OC3=C(O2)C=C(Cl)C(Cl)=C3)C=C1Cl</td>\n",
       "      <td>ClC1=CC2=C(OC3=C(O2)C=C(Cl)C(Cl)=C3)C=C1Cl</td>\n",
       "    </tr>\n",
       "    <tr>\n",
       "      <th>4</th>\n",
       "      <td>1746-01-6</td>\n",
       "      <td>DTXSID2021315</td>\n",
       "      <td>2,3,7,8-Tetrachlorodibenzo-p-dioxin</td>\n",
       "      <td>6.874333</td>\n",
       "      <td>LD50_value</td>\n",
       "      <td>-1.366532</td>\n",
       "      <td>0.043</td>\n",
       "      <td>pt_est</td>\n",
       "      <td>experimental value</td>\n",
       "      <td>CAS-RN</td>\n",
       "      <td>321.96</td>\n",
       "      <td>ClC1=CC2=C(OC3=C(O2)C=C(Cl)C(Cl)=C3)C=C1Cl</td>\n",
       "      <td>ClC1=CC2=C(OC3=C(O2)C=C(Cl)C(Cl)=C3)C=C1Cl</td>\n",
       "    </tr>\n",
       "    <tr>\n",
       "      <th>5</th>\n",
       "      <td>1746-01-6</td>\n",
       "      <td>DTXSID2021315</td>\n",
       "      <td>2,3,7,8-Tetrachlorodibenzo-p-dioxin</td>\n",
       "      <td>6.854589</td>\n",
       "      <td>LD50_value</td>\n",
       "      <td>-1.346787</td>\n",
       "      <td>0.045</td>\n",
       "      <td>pt_est</td>\n",
       "      <td>experimental value</td>\n",
       "      <td>CAS-RN</td>\n",
       "      <td>321.96</td>\n",
       "      <td>ClC1=CC2=C(OC3=C(O2)C=C(Cl)C(Cl)=C3)C=C1Cl</td>\n",
       "      <td>ClC1=CC2=C(OC3=C(O2)C=C(Cl)C(Cl)=C3)C=C1Cl</td>\n",
       "    </tr>\n",
       "  </tbody>\n",
       "</table>\n",
       "</div>"
      ],
      "text/plain": [
       "         CAS         DTXSID                                 name     pLD50  \\\n",
       "2  1746-01-6  DTXSID2021315  2,3,7,8-Tetrachlorodibenzo-p-dioxin  7.206772   \n",
       "3  1746-01-6  DTXSID2021315  2,3,7,8-Tetrachlorodibenzo-p-dioxin  7.165379   \n",
       "4  1746-01-6  DTXSID2021315  2,3,7,8-Tetrachlorodibenzo-p-dioxin  6.874333   \n",
       "5  1746-01-6  DTXSID2021315  2,3,7,8-Tetrachlorodibenzo-p-dioxin  6.854589   \n",
       "\n",
       "    LD50_type  LD50_LOGmgkg  LD50_mgkg val_code           test_type found_by  \\\n",
       "2  LD50_value     -1.698970      0.020   pt_est  experimental value   CAS-RN   \n",
       "3  LD50_value     -1.657577      0.022   pt_est  experimental value   CAS-RN   \n",
       "4  LD50_value     -1.366532      0.043   pt_est  experimental value   CAS-RN   \n",
       "5  LD50_value     -1.346787      0.045   pt_est  experimental value   CAS-RN   \n",
       "\n",
       "  average_mass                           qsar_ready_smiles  \\\n",
       "2       321.96  ClC1=CC2=C(OC3=C(O2)C=C(Cl)C(Cl)=C3)C=C1Cl   \n",
       "3       321.96  ClC1=CC2=C(OC3=C(O2)C=C(Cl)C(Cl)=C3)C=C1Cl   \n",
       "4       321.96  ClC1=CC2=C(OC3=C(O2)C=C(Cl)C(Cl)=C3)C=C1Cl   \n",
       "5       321.96  ClC1=CC2=C(OC3=C(O2)C=C(Cl)C(Cl)=C3)C=C1Cl   \n",
       "\n",
       "                                       smiles  \n",
       "2  ClC1=CC2=C(OC3=C(O2)C=C(Cl)C(Cl)=C3)C=C1Cl  \n",
       "3  ClC1=CC2=C(OC3=C(O2)C=C(Cl)C(Cl)=C3)C=C1Cl  \n",
       "4  ClC1=CC2=C(OC3=C(O2)C=C(Cl)C(Cl)=C3)C=C1Cl  \n",
       "5  ClC1=CC2=C(OC3=C(O2)C=C(Cl)C(Cl)=C3)C=C1Cl  "
      ]
     },
     "execution_count": 241,
     "metadata": {},
     "output_type": "execute_result"
    }
   ],
   "source": [
    "ld50_var_MW[ld50_var_MW['CAS'] == '1746-01-6']"
   ]
  },
  {
   "cell_type": "code",
   "execution_count": 242,
   "metadata": {},
   "outputs": [
    {
     "data": {
      "text/plain": [
       "(14964, 13)"
      ]
     },
     "execution_count": 242,
     "metadata": {},
     "output_type": "execute_result"
    }
   ],
   "source": [
    "ld50_var_MW.shape"
   ]
  },
  {
   "cell_type": "code",
   "execution_count": 280,
   "metadata": {},
   "outputs": [
    {
     "name": "stdout",
     "output_type": "stream",
     "text": [
      "(919, 2)\n",
      "919\n"
     ]
    }
   ],
   "source": [
    "print(ld50_std_only.shape)\n",
    "print(len(ld50_std_only))"
   ]
  },
  {
   "cell_type": "code",
   "execution_count": 244,
   "metadata": {},
   "outputs": [
    {
     "data": {
      "text/plain": [
       "(array([477., 276., 115.,  37.,   5.,   1.,   0.,   4.,   2.,   2.]),\n",
       " array([6.90714258e-04, 2.00180077e-01, 3.99669440e-01, 5.99158803e-01,\n",
       "        7.98648165e-01, 9.98137528e-01, 1.19762689e+00, 1.39711625e+00,\n",
       "        1.59660562e+00, 1.79609498e+00, 1.99558434e+00]),\n",
       " <a list of 10 Patch objects>)"
      ]
     },
     "execution_count": 244,
     "metadata": {},
     "output_type": "execute_result"
    },
    {
     "data": {
      "image/png": "[encoded data removed]",
      "text/plain": [
       "<Figure size 432x288 with 1 Axes>"
      ]
     },
     "metadata": {},
     "output_type": "display_data"
    }
   ],
   "source": [
    "plt.style.use('ggplot')\n",
    "plt.hist(ld50_std_only['std'])"
   ]
  },
  {
   "cell_type": "code",
   "execution_count": 245,
   "metadata": {},
   "outputs": [
    {
     "name": "stdout",
     "output_type": "stream",
     "text": [
      "Bootstrapped mean std = 0.21776970751539387, 95% CI = [0.18903149 0.24918242]\n"
     ]
    }
   ],
   "source": [
    "np.random.seed(42)\n",
    "std_devs, sims = [], 10000\n",
    "for i in range(sims):\n",
    "    temp_sample = np.random.choice(ld50_std_only['std'], replace = True, size = len(ld50_std_only['std']))\n",
    "    sample_std = np.std(temp_sample)\n",
    "    std_devs.append(sample_std)\n",
    "    \n",
    "boot_mean = np.mean(std_devs)\n",
    "boot_95_CI = np.percentile(std_devs, [2.5, 97.5])\n",
    "\n",
    "print('Bootstrapped mean std = {}, 95% CI = {}'.format(boot_mean, boot_95_CI))"
   ]
  },
  {
   "cell_type": "code",
   "execution_count": 305,
   "metadata": {},
   "outputs": [
    {
     "data": {
      "image/png": "[encoded data removed]",
      "text/plain": [
       "<Figure size 432x288 with 1 Axes>"
      ]
     },
     "metadata": {},
     "output_type": "display_data"
    }
   ],
   "source": [
    "\n",
    "sns.distplot(std_devs)\n",
    "plt.xlabel('standard deviation (-log10(mol/kg))')\n",
    "plt.ylabel('count')\n",
    "plt.savefig(figures_dir+'hist_bootstdevs.png', dpi = 300)"
   ]
  },
  {
   "cell_type": "markdown",
   "metadata": {},
   "source": [
    "#### g = ld50_var_MW.groupby('CAS').filter(lambda x: len(x['pLD50']) >= 3)"
   ]
  },
  {
   "cell_type": "code",
   "execution_count": 77,
   "metadata": {},
   "outputs": [
    {
     "data": {
      "text/plain": [
       "0.9004316086438419"
      ]
     },
     "execution_count": 77,
     "metadata": {},
     "output_type": "execute_result"
    }
   ],
   "source": [
    "np.std(g['pLD50'])"
   ]
  },
  {
   "cell_type": "code",
   "execution_count": 249,
   "metadata": {},
   "outputs": [
    {
     "data": {
      "text/html": [
       "<div>\n",
       "<style scoped>\n",
       "    .dataframe tbody tr th:only-of-type {\n",
       "        vertical-align: middle;\n",
       "    }\n",
       "\n",
       "    .dataframe tbody tr th {\n",
       "        vertical-align: top;\n",
       "    }\n",
       "\n",
       "    .dataframe thead th {\n",
       "        text-align: right;\n",
       "    }\n",
       "</style>\n",
       "<table border=\"1\" class=\"dataframe\">\n",
       "  <thead>\n",
       "    <tr style=\"text-align: right;\">\n",
       "      <th></th>\n",
       "      <th>CAS</th>\n",
       "      <th>DTXSID</th>\n",
       "      <th>name</th>\n",
       "      <th>pLD50</th>\n",
       "      <th>LD50_type</th>\n",
       "      <th>LD50_LOGmgkg</th>\n",
       "      <th>LD50_mgkg</th>\n",
       "      <th>val_code</th>\n",
       "      <th>test_type</th>\n",
       "      <th>found_by</th>\n",
       "      <th>average_mass</th>\n",
       "      <th>qsar_ready_smiles</th>\n",
       "      <th>smiles</th>\n",
       "    </tr>\n",
       "  </thead>\n",
       "  <tbody>\n",
       "    <tr>\n",
       "      <th>0</th>\n",
       "      <td>50782-69-9</td>\n",
       "      <td>DTXSID80866161</td>\n",
       "      <td>VX</td>\n",
       "      <td>7.347931</td>\n",
       "      <td>LD50_value</td>\n",
       "      <td>-1.920819</td>\n",
       "      <td>0.012</td>\n",
       "      <td>pt_est</td>\n",
       "      <td>experimental value</td>\n",
       "      <td>CAS-RN</td>\n",
       "      <td>267.37</td>\n",
       "      <td>CCOP(C)(=O)SCCN(C(C)C)C(C)C</td>\n",
       "      <td>CCOP(C)(=O)SCCN(C(C)C)C(C)C</td>\n",
       "    </tr>\n",
       "    <tr>\n",
       "      <th>1</th>\n",
       "      <td>316-42-7</td>\n",
       "      <td>DTXSID7020558</td>\n",
       "      <td>Emetine dihydrochloride</td>\n",
       "      <td>7.663991</td>\n",
       "      <td>LD50_value</td>\n",
       "      <td>-1.920819</td>\n",
       "      <td>0.012</td>\n",
       "      <td>pt_est</td>\n",
       "      <td>experimental value</td>\n",
       "      <td>CAS-RN</td>\n",
       "      <td>553.57</td>\n",
       "      <td>CCC1CN2CCC3=C(C=C(OC)C(OC)=C3)C2CC1CC1NCCC2=CC...</td>\n",
       "      <td>Cl.Cl.CC[C@H]1CN2CCC3=C(C=C(OC)C(OC)=C3)[C@@H]...</td>\n",
       "    </tr>\n",
       "    <tr>\n",
       "      <th>2</th>\n",
       "      <td>1746-01-6</td>\n",
       "      <td>DTXSID2021315</td>\n",
       "      <td>2,3,7,8-Tetrachlorodibenzo-p-dioxin</td>\n",
       "      <td>7.206772</td>\n",
       "      <td>LD50_value</td>\n",
       "      <td>-1.698970</td>\n",
       "      <td>0.020</td>\n",
       "      <td>pt_est</td>\n",
       "      <td>experimental value</td>\n",
       "      <td>CAS-RN</td>\n",
       "      <td>321.96</td>\n",
       "      <td>ClC1=CC2=C(OC3=C(O2)C=C(Cl)C(Cl)=C3)C=C1Cl</td>\n",
       "      <td>ClC1=CC2=C(OC3=C(O2)C=C(Cl)C(Cl)=C3)C=C1Cl</td>\n",
       "    </tr>\n",
       "    <tr>\n",
       "      <th>3</th>\n",
       "      <td>1746-01-6</td>\n",
       "      <td>DTXSID2021315</td>\n",
       "      <td>2,3,7,8-Tetrachlorodibenzo-p-dioxin</td>\n",
       "      <td>7.165379</td>\n",
       "      <td>LD50_value</td>\n",
       "      <td>-1.657577</td>\n",
       "      <td>0.022</td>\n",
       "      <td>pt_est</td>\n",
       "      <td>experimental value</td>\n",
       "      <td>CAS-RN</td>\n",
       "      <td>321.96</td>\n",
       "      <td>ClC1=CC2=C(OC3=C(O2)C=C(Cl)C(Cl)=C3)C=C1Cl</td>\n",
       "      <td>ClC1=CC2=C(OC3=C(O2)C=C(Cl)C(Cl)=C3)C=C1Cl</td>\n",
       "    </tr>\n",
       "    <tr>\n",
       "      <th>4</th>\n",
       "      <td>1746-01-6</td>\n",
       "      <td>DTXSID2021315</td>\n",
       "      <td>2,3,7,8-Tetrachlorodibenzo-p-dioxin</td>\n",
       "      <td>6.874333</td>\n",
       "      <td>LD50_value</td>\n",
       "      <td>-1.366532</td>\n",
       "      <td>0.043</td>\n",
       "      <td>pt_est</td>\n",
       "      <td>experimental value</td>\n",
       "      <td>CAS-RN</td>\n",
       "      <td>321.96</td>\n",
       "      <td>ClC1=CC2=C(OC3=C(O2)C=C(Cl)C(Cl)=C3)C=C1Cl</td>\n",
       "      <td>ClC1=CC2=C(OC3=C(O2)C=C(Cl)C(Cl)=C3)C=C1Cl</td>\n",
       "    </tr>\n",
       "  </tbody>\n",
       "</table>\n",
       "</div>"
      ],
      "text/plain": [
       "          CAS          DTXSID                                 name     pLD50  \\\n",
       "0  50782-69-9  DTXSID80866161                                   VX  7.347931   \n",
       "1    316-42-7   DTXSID7020558              Emetine dihydrochloride  7.663991   \n",
       "2   1746-01-6   DTXSID2021315  2,3,7,8-Tetrachlorodibenzo-p-dioxin  7.206772   \n",
       "3   1746-01-6   DTXSID2021315  2,3,7,8-Tetrachlorodibenzo-p-dioxin  7.165379   \n",
       "4   1746-01-6   DTXSID2021315  2,3,7,8-Tetrachlorodibenzo-p-dioxin  6.874333   \n",
       "\n",
       "    LD50_type  LD50_LOGmgkg  LD50_mgkg val_code           test_type found_by  \\\n",
       "0  LD50_value     -1.920819      0.012   pt_est  experimental value   CAS-RN   \n",
       "1  LD50_value     -1.920819      0.012   pt_est  experimental value   CAS-RN   \n",
       "2  LD50_value     -1.698970      0.020   pt_est  experimental value   CAS-RN   \n",
       "3  LD50_value     -1.657577      0.022   pt_est  experimental value   CAS-RN   \n",
       "4  LD50_value     -1.366532      0.043   pt_est  experimental value   CAS-RN   \n",
       "\n",
       "  average_mass                                  qsar_ready_smiles  \\\n",
       "0       267.37                        CCOP(C)(=O)SCCN(C(C)C)C(C)C   \n",
       "1       553.57  CCC1CN2CCC3=C(C=C(OC)C(OC)=C3)C2CC1CC1NCCC2=CC...   \n",
       "2       321.96         ClC1=CC2=C(OC3=C(O2)C=C(Cl)C(Cl)=C3)C=C1Cl   \n",
       "3       321.96         ClC1=CC2=C(OC3=C(O2)C=C(Cl)C(Cl)=C3)C=C1Cl   \n",
       "4       321.96         ClC1=CC2=C(OC3=C(O2)C=C(Cl)C(Cl)=C3)C=C1Cl   \n",
       "\n",
       "                                              smiles  \n",
       "0                        CCOP(C)(=O)SCCN(C(C)C)C(C)C  \n",
       "1  Cl.Cl.CC[C@H]1CN2CCC3=C(C=C(OC)C(OC)=C3)[C@@H]...  \n",
       "2         ClC1=CC2=C(OC3=C(O2)C=C(Cl)C(Cl)=C3)C=C1Cl  \n",
       "3         ClC1=CC2=C(OC3=C(O2)C=C(Cl)C(Cl)=C3)C=C1Cl  \n",
       "4         ClC1=CC2=C(OC3=C(O2)C=C(Cl)C(Cl)=C3)C=C1Cl  "
      ]
     },
     "execution_count": 249,
     "metadata": {},
     "output_type": "execute_result"
    }
   ],
   "source": [
    "ld50_var_MW.head()"
   ]
  },
  {
   "cell_type": "code",
   "execution_count": 250,
   "metadata": {},
   "outputs": [],
   "source": [
    "g = ld50_var_MW.groupby(['CAS']).filter(lambda x: len(x['pLD50']) >= 3)"
   ]
  },
  {
   "cell_type": "code",
   "execution_count": 251,
   "metadata": {},
   "outputs": [],
   "source": [
    "#g"
   ]
  },
  {
   "cell_type": "code",
   "execution_count": 252,
   "metadata": {},
   "outputs": [],
   "source": [
    "a_calls = {}\n",
    "for i, group in g.groupby(['CAS']):\n",
    "    key = [n for n in group['CAS'] if n !=' '][0]\n",
    "    value = list(group['pLD50'])\n",
    "    a_calls[key] =value"
   ]
  },
  {
   "cell_type": "code",
   "execution_count": 253,
   "metadata": {},
   "outputs": [],
   "source": [
    "#a_calls\n",
    "my_dict = dict(list(a_calls.items())[0:200])"
   ]
  },
  {
   "cell_type": "code",
   "execution_count": 254,
   "metadata": {},
   "outputs": [
    {
     "data": {
      "text/plain": [
       "Text(0, 0.5, 'pLD50')"
      ]
     },
     "execution_count": 254,
     "metadata": {},
     "output_type": "execute_result"
    },
    {
     "data": {
      "image/png": "[encoded data removed]",
      "text/plain": [
       "<Figure size 2160x648 with 1 Axes>"
      ]
     },
     "metadata": {},
     "output_type": "display_data"
    }
   ],
   "source": [
    "fig, ax = plt.subplots(figsize = (30,9))\n",
    "labels, data = [*zip(*my_dict.items())]\n",
    "ax.boxplot(data)\n",
    "plt.xticks(range(1, len(labels) +1), labels, rotation = 'vertical')\n",
    "plt.ylabel('pLD50')"
   ]
  },
  {
   "cell_type": "code",
   "execution_count": 255,
   "metadata": {},
   "outputs": [],
   "source": [
    "def boxplot_sorted(df, by, column, rot=0):\n",
    "    # use dict comprehension to create new dataframe from the iterable groupby object\n",
    "    # each group name becomes a column in the new dataframe\n",
    "    df2 = pd.DataFrame({col:vals[column] for col, vals in df.groupby(by)})\n",
    "    # find and sort the median values in this new dataframe\n",
    "    meds = df2.median().sort_values()\n",
    "    # use the columns in the dataframe, ordered sorted by median value\n",
    "    # return axes so changes can be made outside the function\n",
    "    return df2[meds.index]\n",
    "     "
   ]
  },
  {
   "cell_type": "code",
   "execution_count": 256,
   "metadata": {},
   "outputs": [],
   "source": [
    "df_new = boxplot_sorted(g, 'CAS', 'pLD50', rot = 90)"
   ]
  },
  {
   "cell_type": "code",
   "execution_count": 257,
   "metadata": {},
   "outputs": [],
   "source": [
    "#df_new.iloc[:,:200].tail()\n"
   ]
  },
  {
   "cell_type": "code",
   "execution_count": 113,
   "metadata": {},
   "outputs": [
    {
     "data": {
      "text/plain": [
       "<matplotlib.axes._subplots.AxesSubplot at 0x7f11a6d79ad0>"
      ]
     },
     "execution_count": 113,
     "metadata": {},
     "output_type": "execute_result"
    },
    {
     "data": {
      "image/png": "[encoded data removed]",
      "text/plain": [
       "<Figure size 1368x648 with 1 Axes>"
      ]
     },
     "metadata": {},
     "output_type": "display_data"
    }
   ],
   "source": [
    "plt.figure(figsize = (19,9))\n",
    "df_new.iloc[:,:200].boxplot(rot=90, return_type=\"axes\")\n"
   ]
  },
  {
   "cell_type": "markdown",
   "metadata": {},
   "source": [
    "### Taking the acute processed data and filtering for where there is a known LD50 point estimate"
   ]
  },
  {
   "cell_type": "code",
   "execution_count": 258,
   "metadata": {},
   "outputs": [
    {
     "data": {
      "text/plain": [
       "(8979, 6)"
      ]
     },
     "execution_count": 258,
     "metadata": {},
     "output_type": "execute_result"
    }
   ],
   "source": [
    "relevant_acute = acute_proc[~acute_proc['known_LD50_mgkg'].isnull()]\n",
    "relevant_acute.shape"
   ]
  },
  {
   "cell_type": "markdown",
   "metadata": {},
   "source": [
    "### TEST number of substances for which a consensus prediction is available"
   ]
  },
  {
   "cell_type": "code",
   "execution_count": 259,
   "metadata": {},
   "outputs": [
    {
     "data": {
      "text/plain": [
       "(10022, 5)"
      ]
     },
     "execution_count": 259,
     "metadata": {},
     "output_type": "execute_result"
    }
   ],
   "source": [
    "TEST_all[~TEST_all['pred_LD50_Con'].isnull()].shape"
   ]
  },
  {
   "cell_type": "markdown",
   "metadata": {},
   "source": [
    "### TIMES number of substances for which a prediction is possible"
   ]
  },
  {
   "cell_type": "markdown",
   "metadata": {},
   "source": [
    "### TIMES pred_LD50 'Not predicted has trailing white space"
   ]
  },
  {
   "cell_type": "code",
   "execution_count": 268,
   "metadata": {},
   "outputs": [
    {
     "name": "stderr",
     "output_type": "stream",
     "text": [
      "/home/grace/anaconda3/lib/python3.7/site-packages/ipykernel_launcher.py:1: SettingWithCopyWarning: \n",
      "A value is trying to be set on a copy of a slice from a DataFrame.\n",
      "Try using .loc[row_indexer,col_indexer] = value instead\n",
      "\n",
      "See the caveats in the documentation: https://pandas.pydata.org/pandas-docs/stable/user_guide/indexing.html#returning-a-view-versus-a-copy\n",
      "  \"\"\"Entry point for launching an IPython kernel.\n"
     ]
    }
   ],
   "source": [
    "TIMES_all['pred_LD50'] = [e.strip() for e in TIMES_all['pred_LD50']]"
   ]
  },
  {
   "cell_type": "code",
   "execution_count": 279,
   "metadata": {},
   "outputs": [
    {
     "data": {
      "text/plain": [
       "(10371, 17)"
      ]
     },
     "execution_count": 279,
     "metadata": {},
     "output_type": "execute_result"
    }
   ],
   "source": [
    "TIMES_all.shape"
   ]
  },
  {
   "cell_type": "code",
   "execution_count": 269,
   "metadata": {},
   "outputs": [
    {
     "data": {
      "text/plain": [
       "2458"
      ]
     },
     "execution_count": 269,
     "metadata": {},
     "output_type": "execute_result"
    }
   ],
   "source": [
    "TIMES_all[(TIMES_all['pred_LD50'] != 'Not predicted') & (TIMES_all['pred_LD50'] != 'Inorganic')]['CAS'].nunique()"
   ]
  },
  {
   "cell_type": "markdown",
   "metadata": {},
   "source": [
    "### TEST substance for which a consensus prediction is available and which is not in the training set"
   ]
  },
  {
   "cell_type": "code",
   "execution_count": 307,
   "metadata": {},
   "outputs": [],
   "source": [
    "TEST_temp = TEST_all[~TEST_all['pred_LD50_Con'].isnull()]"
   ]
  },
  {
   "cell_type": "code",
   "execution_count": 308,
   "metadata": {},
   "outputs": [
    {
     "data": {
      "text/plain": [
       "(10022, 5)"
      ]
     },
     "execution_count": 308,
     "metadata": {},
     "output_type": "execute_result"
    }
   ],
   "source": [
    "TEST_temp.shape"
   ]
  },
  {
   "cell_type": "code",
   "execution_count": 309,
   "metadata": {},
   "outputs": [],
   "source": [
    "TEST_temp = TEST_temp[TEST_temp['known_LD50'].isnull()]"
   ]
  },
  {
   "cell_type": "code",
   "execution_count": 310,
   "metadata": {},
   "outputs": [],
   "source": [
    "TEST_temp = TEST_temp[[ 'CAS', 'pred_LD50_Con', 'known_LD50']]"
   ]
  },
  {
   "cell_type": "code",
   "execution_count": 311,
   "metadata": {},
   "outputs": [
    {
     "data": {
      "text/plain": [
       "(3927, 3)"
      ]
     },
     "execution_count": 311,
     "metadata": {},
     "output_type": "execute_result"
    }
   ],
   "source": [
    "TEST_temp.shape"
   ]
  },
  {
   "cell_type": "markdown",
   "metadata": {},
   "source": [
    "### TIMES substance for which a prediction is available and which is not in the training set"
   ]
  },
  {
   "cell_type": "code",
   "execution_count": 312,
   "metadata": {},
   "outputs": [],
   "source": [
    "TIMES_temp = TIMES_all[(TIMES_all['pred_LD50'] != 'Not predicted') & (TIMES_all['pred_LD50'] != 'Inorganic')]"
   ]
  },
  {
   "cell_type": "code",
   "execution_count": 313,
   "metadata": {},
   "outputs": [],
   "source": [
    "TIMES_temp = TIMES_temp[TIMES_temp['known_LD50'] == 'no data']"
   ]
  },
  {
   "cell_type": "code",
   "execution_count": 314,
   "metadata": {},
   "outputs": [
    {
     "data": {
      "text/plain": [
       "(863, 17)"
      ]
     },
     "execution_count": 314,
     "metadata": {},
     "output_type": "execute_result"
    }
   ],
   "source": [
    "TIMES_temp.shape"
   ]
  },
  {
   "cell_type": "markdown",
   "metadata": {},
   "source": [
    "### Merging dataframes to include all acute experimental data along with TIMES and TEST predictions and MW information into one dataframe"
   ]
  },
  {
   "cell_type": "code",
   "execution_count": 315,
   "metadata": {},
   "outputs": [
    {
     "data": {
      "text/plain": [
       "Index(['CAS', 'very_toxic', 'nontoxic', 'known_LD50_mgkg', 'EPA_category',\n",
       "       'GHS_category'],\n",
       "      dtype='object')"
      ]
     },
     "execution_count": 315,
     "metadata": {},
     "output_type": "execute_result"
    }
   ],
   "source": [
    "relevant_acute.columns"
   ]
  },
  {
   "cell_type": "code",
   "execution_count": 316,
   "metadata": {},
   "outputs": [],
   "source": [
    "TEST_temp = TEST_temp[ ['CAS', 'pred_LD50_Con']]"
   ]
  },
  {
   "cell_type": "code",
   "execution_count": 317,
   "metadata": {},
   "outputs": [],
   "source": [
    "temp_ = pd.merge(relevant_acute, TEST_temp, on = 'CAS', how = 'left')"
   ]
  },
  {
   "cell_type": "code",
   "execution_count": 318,
   "metadata": {},
   "outputs": [],
   "source": [
    "temp_ = temp_[['CAS', 'known_LD50_mgkg', 'pred_LD50_Con']]"
   ]
  },
  {
   "cell_type": "code",
   "execution_count": 319,
   "metadata": {},
   "outputs": [],
   "source": [
    "temp_.columns = ['CAS', 'known_LD50_mgkg', 'TEST_LD50_molkg']"
   ]
  },
  {
   "cell_type": "code",
   "execution_count": 332,
   "metadata": {},
   "outputs": [
    {
     "data": {
      "text/plain": [
       "Index(['CAS', 'Chem. Name', 'Predicted toxicological category', 'known_LD50',\n",
       "       'pred_LD50', 'Acute Oral Toxicity_Confidence',\n",
       "       'Total Structural domain', 'Total Domain', 'Alert reliability',\n",
       "       'Parameter ranges', 'Correct fragments Structural domain',\n",
       "       'Incorrect fragments Structural domain',\n",
       "       'Unknown fragments Structural domain', 'Exp_log(Kow)',\n",
       "       'Exp_WaterSolubility', 'log_Kp_exp', 'Remark'],\n",
       "      dtype='object')"
      ]
     },
     "execution_count": 332,
     "metadata": {},
     "output_type": "execute_result"
    }
   ],
   "source": [
    "TIMES_temp.columns"
   ]
  },
  {
   "cell_type": "code",
   "execution_count": 334,
   "metadata": {},
   "outputs": [],
   "source": [
    "TIMES_temp.columns = ['CAS', 'Chem. Name', 'Predicted toxicological category', 'known_LD50_TIMES', 'TIMES_LD50_mgkg', 'Acute Oral Toxicity_Confidence',\n",
    "       'Total Structural domain', 'Total Domain', 'Alert reliability',\n",
    "       'Parameter ranges', 'Correct fragments Structural domain',\n",
    "       'Incorrect fragments Structural domain',\n",
    "       'Unknown fragments Structural domain', 'Exp_log(Kow)',\n",
    "       'Exp_WaterSolubility', 'log_Kp_exp', 'Remark']"
   ]
  },
  {
   "cell_type": "code",
   "execution_count": 335,
   "metadata": {},
   "outputs": [],
   "source": [
    "#TIMES_temp = TIMES_temp[['CAS', 'chem_name', 'predicted_toxicological_category',\n",
    "#       'TIMES_LD50_mgkg', 'acute_oral_toxicity_confidence',\n",
    "#       'molecular_initiating_event_1', 'effect_biological_outcome_1',\n",
    "#       'molecular_initiating_event_2', 'effect_biological outcome_2',\n",
    "#       'molecular_initiating_event_3', 'effect_biological outcome_3',\n",
    "#       'alert_reliability', 'parameter_ranges',\n",
    "#       'correct_fragments_structural_domain',\n",
    "#       'incorrect_fragments_structural_domain',\n",
    "#       'unknown_fragments_structural_domain', 'total_structural_domain',\n",
    "#       'total_domain', 'Remark']]"
   ]
  },
  {
   "cell_type": "code",
   "execution_count": 336,
   "metadata": {},
   "outputs": [],
   "source": [
    "temp_1 = pd.merge(temp_, TIMES_temp, on = 'CAS', how = 'left')"
   ]
  },
  {
   "cell_type": "code",
   "execution_count": 337,
   "metadata": {},
   "outputs": [],
   "source": [
    "relevant_acute_pred = pd.merge(temp_1, MW_all, on = 'CAS', how = 'left')"
   ]
  },
  {
   "cell_type": "code",
   "execution_count": 338,
   "metadata": {},
   "outputs": [
    {
     "data": {
      "text/html": [
       "<div>\n",
       "<style scoped>\n",
       "    .dataframe tbody tr th:only-of-type {\n",
       "        vertical-align: middle;\n",
       "    }\n",
       "\n",
       "    .dataframe tbody tr th {\n",
       "        vertical-align: top;\n",
       "    }\n",
       "\n",
       "    .dataframe thead th {\n",
       "        text-align: right;\n",
       "    }\n",
       "</style>\n",
       "<table border=\"1\" class=\"dataframe\">\n",
       "  <thead>\n",
       "    <tr style=\"text-align: right;\">\n",
       "      <th></th>\n",
       "      <th>CAS</th>\n",
       "      <th>known_LD50_mgkg</th>\n",
       "      <th>TEST_LD50_molkg</th>\n",
       "      <th>Chem. Name</th>\n",
       "      <th>Predicted toxicological category</th>\n",
       "      <th>known_LD50_TIMES</th>\n",
       "      <th>TIMES_LD50_mgkg</th>\n",
       "      <th>Acute Oral Toxicity_Confidence</th>\n",
       "      <th>Total Structural domain</th>\n",
       "      <th>Total Domain</th>\n",
       "      <th>...</th>\n",
       "      <th>Exp_log(Kow)</th>\n",
       "      <th>Exp_WaterSolubility</th>\n",
       "      <th>log_Kp_exp</th>\n",
       "      <th>Remark</th>\n",
       "      <th>found_by</th>\n",
       "      <th>DTXSID</th>\n",
       "      <th>name</th>\n",
       "      <th>average_mass</th>\n",
       "      <th>qsar_ready_smiles</th>\n",
       "      <th>smiles</th>\n",
       "    </tr>\n",
       "  </thead>\n",
       "  <tbody>\n",
       "    <tr>\n",
       "      <th>7</th>\n",
       "      <td>100-21-0</td>\n",
       "      <td>1960.0</td>\n",
       "      <td>1.63</td>\n",
       "      <td>NaN</td>\n",
       "      <td>NaN</td>\n",
       "      <td>NaN</td>\n",
       "      <td>NaN</td>\n",
       "      <td>NaN</td>\n",
       "      <td>NaN</td>\n",
       "      <td>NaN</td>\n",
       "      <td>...</td>\n",
       "      <td>NaN</td>\n",
       "      <td>NaN</td>\n",
       "      <td>NaN</td>\n",
       "      <td>NaN</td>\n",
       "      <td>CAS-RN</td>\n",
       "      <td>DTXSID6026080</td>\n",
       "      <td>Terephthalic acid</td>\n",
       "      <td>166.132</td>\n",
       "      <td>OC(=O)C1=CC=C(C=C1)C(O)=O</td>\n",
       "      <td>OC(=O)C1=CC=C(C=C1)C(O)=O</td>\n",
       "    </tr>\n",
       "    <tr>\n",
       "      <th>19</th>\n",
       "      <td>100-47-0</td>\n",
       "      <td>700.0</td>\n",
       "      <td>1.57</td>\n",
       "      <td>NaN</td>\n",
       "      <td>NaN</td>\n",
       "      <td>NaN</td>\n",
       "      <td>NaN</td>\n",
       "      <td>NaN</td>\n",
       "      <td>NaN</td>\n",
       "      <td>NaN</td>\n",
       "      <td>...</td>\n",
       "      <td>NaN</td>\n",
       "      <td>NaN</td>\n",
       "      <td>NaN</td>\n",
       "      <td>NaN</td>\n",
       "      <td>CAS-RN</td>\n",
       "      <td>DTXSID7021491</td>\n",
       "      <td>Benzonitrile</td>\n",
       "      <td>103.124</td>\n",
       "      <td>N#CC1=CC=CC=C1</td>\n",
       "      <td>N#CC1=CC=CC=C1</td>\n",
       "    </tr>\n",
       "    <tr>\n",
       "      <th>25</th>\n",
       "      <td>100-61-8</td>\n",
       "      <td>716.0</td>\n",
       "      <td>2.27</td>\n",
       "      <td>NaN</td>\n",
       "      <td>NaN</td>\n",
       "      <td>NaN</td>\n",
       "      <td>NaN</td>\n",
       "      <td>NaN</td>\n",
       "      <td>NaN</td>\n",
       "      <td>NaN</td>\n",
       "      <td>...</td>\n",
       "      <td>NaN</td>\n",
       "      <td>NaN</td>\n",
       "      <td>NaN</td>\n",
       "      <td>NaN</td>\n",
       "      <td>CAS-RN</td>\n",
       "      <td>DTXSID9021841</td>\n",
       "      <td>N-Methylaniline</td>\n",
       "      <td>107.156</td>\n",
       "      <td>CNC1=CC=CC=C1</td>\n",
       "      <td>CNC1=CC=CC=C1</td>\n",
       "    </tr>\n",
       "    <tr>\n",
       "      <th>40</th>\n",
       "      <td>100-95-8</td>\n",
       "      <td>100.0</td>\n",
       "      <td>2.84</td>\n",
       "      <td>DTXSID20878647</td>\n",
       "      <td>Aliphatic and arylaliphatic amines</td>\n",
       "      <td>no data</td>\n",
       "      <td>1250</td>\n",
       "      <td>from 322 to 4880</td>\n",
       "      <td>Out of domain</td>\n",
       "      <td>Out of Domain</td>\n",
       "      <td>...</td>\n",
       "      <td></td>\n",
       "      <td></td>\n",
       "      <td></td>\n",
       "      <td></td>\n",
       "      <td>CAS-RN</td>\n",
       "      <td>DTXSID20878647</td>\n",
       "      <td>Dodecarbonium Chloride</td>\n",
       "      <td>397.04</td>\n",
       "      <td>CCCCCCCCCCCCNC(=O)C[N+](C)(C)CC1=CC=CC=C1</td>\n",
       "      <td>[Cl-].CCCCCCCCCCCCNC(=O)C[N+](C)(C)CC1=CC=CC=C1</td>\n",
       "    </tr>\n",
       "    <tr>\n",
       "      <th>41</th>\n",
       "      <td>100-97-0</td>\n",
       "      <td>9200.0</td>\n",
       "      <td>2.12</td>\n",
       "      <td>NaN</td>\n",
       "      <td>NaN</td>\n",
       "      <td>NaN</td>\n",
       "      <td>NaN</td>\n",
       "      <td>NaN</td>\n",
       "      <td>NaN</td>\n",
       "      <td>NaN</td>\n",
       "      <td>...</td>\n",
       "      <td>NaN</td>\n",
       "      <td>NaN</td>\n",
       "      <td>NaN</td>\n",
       "      <td>NaN</td>\n",
       "      <td>CAS-RN</td>\n",
       "      <td>DTXSID6020692</td>\n",
       "      <td>Methenamine</td>\n",
       "      <td>140.19</td>\n",
       "      <td>C1N2CN3CN1CN(C2)C3</td>\n",
       "      <td>C1N2CN3CN1CN(C2)C3</td>\n",
       "    </tr>\n",
       "  </tbody>\n",
       "</table>\n",
       "<p>5 rows × 25 columns</p>\n",
       "</div>"
      ],
      "text/plain": [
       "         CAS  known_LD50_mgkg  TEST_LD50_molkg      Chem. Name  \\\n",
       "7   100-21-0           1960.0             1.63             NaN   \n",
       "19  100-47-0            700.0             1.57             NaN   \n",
       "25  100-61-8            716.0             2.27             NaN   \n",
       "40  100-95-8            100.0             2.84  DTXSID20878647   \n",
       "41  100-97-0           9200.0             2.12             NaN   \n",
       "\n",
       "      Predicted toxicological category known_LD50_TIMES TIMES_LD50_mgkg  \\\n",
       "7                                  NaN              NaN             NaN   \n",
       "19                                 NaN              NaN             NaN   \n",
       "25                                 NaN              NaN             NaN   \n",
       "40  Aliphatic and arylaliphatic amines          no data            1250   \n",
       "41                                 NaN              NaN             NaN   \n",
       "\n",
       "   Acute Oral Toxicity_Confidence Total Structural domain   Total Domain  ...  \\\n",
       "7                             NaN                     NaN            NaN  ...   \n",
       "19                            NaN                     NaN            NaN  ...   \n",
       "25                            NaN                     NaN            NaN  ...   \n",
       "40               from 322 to 4880           Out of domain  Out of Domain  ...   \n",
       "41                            NaN                     NaN            NaN  ...   \n",
       "\n",
       "   Exp_log(Kow) Exp_WaterSolubility log_Kp_exp Remark found_by  \\\n",
       "7           NaN                 NaN        NaN    NaN   CAS-RN   \n",
       "19          NaN                 NaN        NaN    NaN   CAS-RN   \n",
       "25          NaN                 NaN        NaN    NaN   CAS-RN   \n",
       "40                                                      CAS-RN   \n",
       "41          NaN                 NaN        NaN    NaN   CAS-RN   \n",
       "\n",
       "            DTXSID                    name average_mass  \\\n",
       "7    DTXSID6026080       Terephthalic acid      166.132   \n",
       "19   DTXSID7021491            Benzonitrile      103.124   \n",
       "25   DTXSID9021841         N-Methylaniline      107.156   \n",
       "40  DTXSID20878647  Dodecarbonium Chloride       397.04   \n",
       "41   DTXSID6020692             Methenamine       140.19   \n",
       "\n",
       "                            qsar_ready_smiles  \\\n",
       "7                   OC(=O)C1=CC=C(C=C1)C(O)=O   \n",
       "19                             N#CC1=CC=CC=C1   \n",
       "25                              CNC1=CC=CC=C1   \n",
       "40  CCCCCCCCCCCCNC(=O)C[N+](C)(C)CC1=CC=CC=C1   \n",
       "41                         C1N2CN3CN1CN(C2)C3   \n",
       "\n",
       "                                             smiles  \n",
       "7                         OC(=O)C1=CC=C(C=C1)C(O)=O  \n",
       "19                                   N#CC1=CC=CC=C1  \n",
       "25                                    CNC1=CC=CC=C1  \n",
       "40  [Cl-].CCCCCCCCCCCCNC(=O)C[N+](C)(C)CC1=CC=CC=C1  \n",
       "41                               C1N2CN3CN1CN(C2)C3  \n",
       "\n",
       "[5 rows x 25 columns]"
      ]
     },
     "execution_count": 338,
     "metadata": {},
     "output_type": "execute_result"
    }
   ],
   "source": [
    "relevant_acute_pred[~relevant_acute_pred['TEST_LD50_molkg'].isnull()].head()"
   ]
  },
  {
   "cell_type": "markdown",
   "metadata": {},
   "source": [
    "### Create new columns to convert TIMES and expt LD50 into the same units as TEST predictions - so that they are all consistent with each other in molkg"
   ]
  },
  {
   "cell_type": "code",
   "execution_count": 339,
   "metadata": {},
   "outputs": [],
   "source": [
    "relevant_acute_pred['known_pLD50'] = -np.log10(relevant_acute_pred['known_LD50_mgkg']/relevant_acute_pred['average_mass'].astype(float)/1000)"
   ]
  },
  {
   "cell_type": "markdown",
   "metadata": {},
   "source": [
    "### Chasing issues with TIMES dataset - all values are strings!"
   ]
  },
  {
   "cell_type": "code",
   "execution_count": 340,
   "metadata": {},
   "outputs": [],
   "source": [
    "#[e for e in relevant_acute_pred[~relevant_acute_pred['TIMES_LD50_mgkg'].isnull()]['TIMES_LD50_mgkg']]"
   ]
  },
  {
   "cell_type": "code",
   "execution_count": 341,
   "metadata": {},
   "outputs": [],
   "source": [
    "relevant_acute_pred['TIMES_LD50_mgkg'] = relevant_acute_pred['TIMES_LD50_mgkg'].apply(pd.to_numeric, errors = 'coerce')"
   ]
  },
  {
   "cell_type": "markdown",
   "metadata": {},
   "source": [
    "### Add pLD50 and mgkg for both prediction systems TEST and TIMES"
   ]
  },
  {
   "cell_type": "code",
   "execution_count": 342,
   "metadata": {},
   "outputs": [],
   "source": [
    "relevant_acute_pred['TIMES_pLD50'] = -np.log10(relevant_acute_pred['TIMES_LD50_mgkg']/relevant_acute_pred['average_mass'].astype(float)/1000)"
   ]
  },
  {
   "cell_type": "code",
   "execution_count": 343,
   "metadata": {},
   "outputs": [],
   "source": [
    "relevant_acute_pred.rename(columns = {'TEST_LD50_molkg': 'TEST_pLD50'}, inplace = True)"
   ]
  },
  {
   "cell_type": "code",
   "execution_count": 344,
   "metadata": {},
   "outputs": [],
   "source": [
    "relevant_acute_pred['TEST_LD50_mgkg'] = 10**(-relevant_acute_pred['TEST_pLD50'])*relevant_acute_pred['average_mass'].astype(float)*1000"
   ]
  },
  {
   "cell_type": "code",
   "execution_count": 345,
   "metadata": {},
   "outputs": [],
   "source": [
    "relevant_acute_pred['known_pLD50_minus_TEST'] = relevant_acute_pred['known_pLD50'] - relevant_acute_pred['TEST_pLD50']\n",
    "\n",
    "relevant_acute_pred['known_pLD50_minus_TIMES'] = relevant_acute_pred['known_pLD50'] - relevant_acute_pred['TIMES_pLD50']\n"
   ]
  },
  {
   "cell_type": "code",
   "execution_count": 358,
   "metadata": {},
   "outputs": [],
   "source": [
    "TIMES_lst = []\n",
    "for e in relevant_acute_pred['known_pLD50_minus_TIMES']:\n",
    "    if e > boot_95_CI[1]:\n",
    "        TIMES_lst.append('Above_CI')\n",
    "    elif e < -boot_95_CI[1]:\n",
    "        TIMES_lst.append('Below_CI')\n",
    "    elif (e < boot_95_CI[1]) & (e > -boot_95_CI[1]):\n",
    "        TIMES_lst.append('Within_CI')\n",
    "    else:\n",
    "        TIMES_lst.append('NA')\n",
    "\n",
    "relevant_acute_pred['TIMES'] = TIMES_lst"
   ]
  },
  {
   "cell_type": "code",
   "execution_count": 359,
   "metadata": {},
   "outputs": [
    {
     "data": {
      "text/plain": [
       "NA           8476\n",
       "Within_CI     191\n",
       "Above_CI      171\n",
       "Below_CI      141\n",
       "Name: TIMES, dtype: int64"
      ]
     },
     "execution_count": 359,
     "metadata": {},
     "output_type": "execute_result"
    }
   ],
   "source": [
    "relevant_acute_pred['TIMES'].value_counts()"
   ]
  },
  {
   "cell_type": "code",
   "execution_count": 360,
   "metadata": {},
   "outputs": [],
   "source": [
    "TEST_lst = []\n",
    "for e in relevant_acute_pred['known_pLD50_minus_TEST']:\n",
    "    if e > boot_95_CI[1]:\n",
    "        TEST_lst.append('Above_CI')\n",
    "    elif e < -boot_95_CI[1]:\n",
    "        TEST_lst.append('Below_CI')\n",
    "    elif (e < boot_95_CI[1]) & (e > -boot_95_CI[1]):\n",
    "        TEST_lst.append('Within_CI')\n",
    "    else:\n",
    "        TEST_lst.append('NA')\n",
    "\n",
    "relevant_acute_pred['TEST'] = TEST_lst"
   ]
  },
  {
   "cell_type": "code",
   "execution_count": 361,
   "metadata": {},
   "outputs": [
    {
     "data": {
      "text/plain": [
       "NA           7360\n",
       "Within_CI     588\n",
       "Above_CI      555\n",
       "Below_CI      476\n",
       "Name: TEST, dtype: int64"
      ]
     },
     "execution_count": 361,
     "metadata": {},
     "output_type": "execute_result"
    }
   ],
   "source": [
    "relevant_acute_pred['TEST'].value_counts()"
   ]
  },
  {
   "cell_type": "code",
   "execution_count": 362,
   "metadata": {},
   "outputs": [],
   "source": [
    "relevant_acute_pred['TEST'] = relevant_acute_pred['TEST'].replace('NA', np.nan)"
   ]
  },
  {
   "cell_type": "code",
   "execution_count": 363,
   "metadata": {},
   "outputs": [],
   "source": [
    "relevant_acute_pred['TIMES'] = relevant_acute_pred['TIMES'].replace('NA', np.nan)"
   ]
  },
  {
   "cell_type": "code",
   "execution_count": 364,
   "metadata": {},
   "outputs": [
    {
     "data": {
      "text/plain": [
       "Within_CI    0.379722\n",
       "Above_CI     0.339960\n",
       "Below_CI     0.280318\n",
       "Name: TIMES, dtype: float64"
      ]
     },
     "execution_count": 364,
     "metadata": {},
     "output_type": "execute_result"
    }
   ],
   "source": [
    "relevant_acute_pred['TIMES'].value_counts(normalize = True)"
   ]
  },
  {
   "cell_type": "code",
   "execution_count": 365,
   "metadata": {},
   "outputs": [
    {
     "data": {
      "text/plain": [
       "Within_CI    0.363187\n",
       "Above_CI     0.342804\n",
       "Below_CI     0.294009\n",
       "Name: TEST, dtype: float64"
      ]
     },
     "execution_count": 365,
     "metadata": {},
     "output_type": "execute_result"
    }
   ],
   "source": [
    "relevant_acute_pred['TEST'].value_counts(normalize = True)"
   ]
  },
  {
   "cell_type": "code",
   "execution_count": 366,
   "metadata": {},
   "outputs": [
    {
     "data": {
      "text/html": [
       "<div>\n",
       "<style scoped>\n",
       "    .dataframe tbody tr th:only-of-type {\n",
       "        vertical-align: middle;\n",
       "    }\n",
       "\n",
       "    .dataframe tbody tr th {\n",
       "        vertical-align: top;\n",
       "    }\n",
       "\n",
       "    .dataframe thead th {\n",
       "        text-align: right;\n",
       "    }\n",
       "</style>\n",
       "<table border=\"1\" class=\"dataframe\">\n",
       "  <thead>\n",
       "    <tr style=\"text-align: right;\">\n",
       "      <th></th>\n",
       "      <th>CAS</th>\n",
       "      <th>known_LD50_mgkg</th>\n",
       "      <th>TEST_pLD50</th>\n",
       "      <th>Chem. Name</th>\n",
       "      <th>Predicted toxicological category</th>\n",
       "      <th>known_LD50_TIMES</th>\n",
       "      <th>TIMES_LD50_mgkg</th>\n",
       "      <th>Acute Oral Toxicity_Confidence</th>\n",
       "      <th>Total Structural domain</th>\n",
       "      <th>Total Domain</th>\n",
       "      <th>...</th>\n",
       "      <th>average_mass</th>\n",
       "      <th>qsar_ready_smiles</th>\n",
       "      <th>smiles</th>\n",
       "      <th>known_pLD50</th>\n",
       "      <th>TIMES_pLD50</th>\n",
       "      <th>TEST_LD50_mgkg</th>\n",
       "      <th>known_pLD50_minus_TEST</th>\n",
       "      <th>known_pLD50_minus_TIMES</th>\n",
       "      <th>TIMES</th>\n",
       "      <th>TEST</th>\n",
       "    </tr>\n",
       "  </thead>\n",
       "  <tbody>\n",
       "    <tr>\n",
       "      <th>0</th>\n",
       "      <td>100-00-5</td>\n",
       "      <td>460.0</td>\n",
       "      <td>NaN</td>\n",
       "      <td>NaN</td>\n",
       "      <td>NaN</td>\n",
       "      <td>NaN</td>\n",
       "      <td>NaN</td>\n",
       "      <td>NaN</td>\n",
       "      <td>NaN</td>\n",
       "      <td>NaN</td>\n",
       "      <td>...</td>\n",
       "      <td>157.55</td>\n",
       "      <td>[O-][N+](=O)C1=CC=C(Cl)C=C1</td>\n",
       "      <td>[O-][N+](=O)C1=CC=C(Cl)C=C1</td>\n",
       "      <td>2.534661</td>\n",
       "      <td>NaN</td>\n",
       "      <td>NaN</td>\n",
       "      <td>NaN</td>\n",
       "      <td>NaN</td>\n",
       "      <td>NaN</td>\n",
       "      <td>NaN</td>\n",
       "    </tr>\n",
       "    <tr>\n",
       "      <th>1</th>\n",
       "      <td>100-01-6</td>\n",
       "      <td>750.0</td>\n",
       "      <td>NaN</td>\n",
       "      <td>NaN</td>\n",
       "      <td>NaN</td>\n",
       "      <td>NaN</td>\n",
       "      <td>NaN</td>\n",
       "      <td>NaN</td>\n",
       "      <td>NaN</td>\n",
       "      <td>NaN</td>\n",
       "      <td>...</td>\n",
       "      <td>138.126</td>\n",
       "      <td>NC1=CC=C(C=C1)[N+]([O-])=O</td>\n",
       "      <td>NC1=CC=C(C=C1)[N+]([O-])=O</td>\n",
       "      <td>2.265214</td>\n",
       "      <td>NaN</td>\n",
       "      <td>NaN</td>\n",
       "      <td>NaN</td>\n",
       "      <td>NaN</td>\n",
       "      <td>NaN</td>\n",
       "      <td>NaN</td>\n",
       "    </tr>\n",
       "    <tr>\n",
       "      <th>2</th>\n",
       "      <td>100-02-7</td>\n",
       "      <td>170.0</td>\n",
       "      <td>NaN</td>\n",
       "      <td>NaN</td>\n",
       "      <td>NaN</td>\n",
       "      <td>NaN</td>\n",
       "      <td>NaN</td>\n",
       "      <td>NaN</td>\n",
       "      <td>NaN</td>\n",
       "      <td>NaN</td>\n",
       "      <td>...</td>\n",
       "      <td>139.11</td>\n",
       "      <td>OC1=CC=C(C=C1)[N+]([O-])=O</td>\n",
       "      <td>OC1=CC=C(C=C1)[N+]([O-])=O</td>\n",
       "      <td>2.912909</td>\n",
       "      <td>NaN</td>\n",
       "      <td>NaN</td>\n",
       "      <td>NaN</td>\n",
       "      <td>NaN</td>\n",
       "      <td>NaN</td>\n",
       "      <td>NaN</td>\n",
       "    </tr>\n",
       "    <tr>\n",
       "      <th>3</th>\n",
       "      <td>100-06-1</td>\n",
       "      <td>1720.0</td>\n",
       "      <td>NaN</td>\n",
       "      <td>NaN</td>\n",
       "      <td>NaN</td>\n",
       "      <td>NaN</td>\n",
       "      <td>NaN</td>\n",
       "      <td>NaN</td>\n",
       "      <td>NaN</td>\n",
       "      <td>NaN</td>\n",
       "      <td>...</td>\n",
       "      <td>150.177</td>\n",
       "      <td>COC1=CC=C(C=C1)C(C)=O</td>\n",
       "      <td>COC1=CC=C(C=C1)C(C)=O</td>\n",
       "      <td>1.941075</td>\n",
       "      <td>NaN</td>\n",
       "      <td>NaN</td>\n",
       "      <td>NaN</td>\n",
       "      <td>NaN</td>\n",
       "      <td>NaN</td>\n",
       "      <td>NaN</td>\n",
       "    </tr>\n",
       "    <tr>\n",
       "      <th>4</th>\n",
       "      <td>100-14-1</td>\n",
       "      <td>1809.0</td>\n",
       "      <td>NaN</td>\n",
       "      <td>NaN</td>\n",
       "      <td>NaN</td>\n",
       "      <td>NaN</td>\n",
       "      <td>NaN</td>\n",
       "      <td>NaN</td>\n",
       "      <td>NaN</td>\n",
       "      <td>NaN</td>\n",
       "      <td>...</td>\n",
       "      <td>171.58</td>\n",
       "      <td>[O-][N+](=O)C1=CC=C(CCl)C=C1</td>\n",
       "      <td>[O-][N+](=O)C1=CC=C(CCl)C=C1</td>\n",
       "      <td>1.977028</td>\n",
       "      <td>NaN</td>\n",
       "      <td>NaN</td>\n",
       "      <td>NaN</td>\n",
       "      <td>NaN</td>\n",
       "      <td>NaN</td>\n",
       "      <td>NaN</td>\n",
       "    </tr>\n",
       "  </tbody>\n",
       "</table>\n",
       "<p>5 rows × 32 columns</p>\n",
       "</div>"
      ],
      "text/plain": [
       "        CAS  known_LD50_mgkg  TEST_pLD50 Chem. Name  \\\n",
       "0  100-00-5            460.0         NaN        NaN   \n",
       "1  100-01-6            750.0         NaN        NaN   \n",
       "2  100-02-7            170.0         NaN        NaN   \n",
       "3  100-06-1           1720.0         NaN        NaN   \n",
       "4  100-14-1           1809.0         NaN        NaN   \n",
       "\n",
       "  Predicted toxicological category known_LD50_TIMES  TIMES_LD50_mgkg  \\\n",
       "0                              NaN              NaN              NaN   \n",
       "1                              NaN              NaN              NaN   \n",
       "2                              NaN              NaN              NaN   \n",
       "3                              NaN              NaN              NaN   \n",
       "4                              NaN              NaN              NaN   \n",
       "\n",
       "  Acute Oral Toxicity_Confidence Total Structural domain Total Domain  ...  \\\n",
       "0                            NaN                     NaN          NaN  ...   \n",
       "1                            NaN                     NaN          NaN  ...   \n",
       "2                            NaN                     NaN          NaN  ...   \n",
       "3                            NaN                     NaN          NaN  ...   \n",
       "4                            NaN                     NaN          NaN  ...   \n",
       "\n",
       "  average_mass             qsar_ready_smiles                        smiles  \\\n",
       "0       157.55   [O-][N+](=O)C1=CC=C(Cl)C=C1   [O-][N+](=O)C1=CC=C(Cl)C=C1   \n",
       "1      138.126    NC1=CC=C(C=C1)[N+]([O-])=O    NC1=CC=C(C=C1)[N+]([O-])=O   \n",
       "2       139.11    OC1=CC=C(C=C1)[N+]([O-])=O    OC1=CC=C(C=C1)[N+]([O-])=O   \n",
       "3      150.177         COC1=CC=C(C=C1)C(C)=O         COC1=CC=C(C=C1)C(C)=O   \n",
       "4       171.58  [O-][N+](=O)C1=CC=C(CCl)C=C1  [O-][N+](=O)C1=CC=C(CCl)C=C1   \n",
       "\n",
       "  known_pLD50 TIMES_pLD50 TEST_LD50_mgkg known_pLD50_minus_TEST  \\\n",
       "0    2.534661         NaN            NaN                    NaN   \n",
       "1    2.265214         NaN            NaN                    NaN   \n",
       "2    2.912909         NaN            NaN                    NaN   \n",
       "3    1.941075         NaN            NaN                    NaN   \n",
       "4    1.977028         NaN            NaN                    NaN   \n",
       "\n",
       "  known_pLD50_minus_TIMES TIMES TEST  \n",
       "0                     NaN   NaN  NaN  \n",
       "1                     NaN   NaN  NaN  \n",
       "2                     NaN   NaN  NaN  \n",
       "3                     NaN   NaN  NaN  \n",
       "4                     NaN   NaN  NaN  \n",
       "\n",
       "[5 rows x 32 columns]"
      ]
     },
     "execution_count": 366,
     "metadata": {},
     "output_type": "execute_result"
    }
   ],
   "source": [
    "relevant_acute_pred.head()"
   ]
  },
  {
   "cell_type": "code",
   "execution_count": 176,
   "metadata": {},
   "outputs": [],
   "source": [
    "#relevant_acute_pred_final.to_csv('/share/home3/gpatlewi/python/acute_nelms/output/relevant_acute_pred_final_200320.csv')"
   ]
  },
  {
   "cell_type": "code",
   "execution_count": 177,
   "metadata": {},
   "outputs": [
    {
     "data": {
      "text/html": [
       "<div>\n",
       "<style scoped>\n",
       "    .dataframe tbody tr th:only-of-type {\n",
       "        vertical-align: middle;\n",
       "    }\n",
       "\n",
       "    .dataframe tbody tr th {\n",
       "        vertical-align: top;\n",
       "    }\n",
       "\n",
       "    .dataframe thead th {\n",
       "        text-align: right;\n",
       "    }\n",
       "</style>\n",
       "<table border=\"1\" class=\"dataframe\">\n",
       "  <thead>\n",
       "    <tr style=\"text-align: right;\">\n",
       "      <th></th>\n",
       "      <th>DTXSID</th>\n",
       "      <th>CAS</th>\n",
       "      <th>name</th>\n",
       "      <th>known_LD50_mgkg</th>\n",
       "      <th>known_pLD50</th>\n",
       "      <th>TEST_LD50_mgkg</th>\n",
       "      <th>TEST_pLD50</th>\n",
       "      <th>TIMES_LD50_mgkg</th>\n",
       "      <th>TIMES_pLD50</th>\n",
       "      <th>TIMES</th>\n",
       "      <th>...</th>\n",
       "      <th>molecular_initiating_event_3</th>\n",
       "      <th>effect_biological outcome_3</th>\n",
       "      <th>alert_reliability</th>\n",
       "      <th>parameter_ranges</th>\n",
       "      <th>correct_fragments_structural_domain</th>\n",
       "      <th>incorrect_fragments_structural_domain</th>\n",
       "      <th>unknown_fragments_structural_domain</th>\n",
       "      <th>total_structural_domain</th>\n",
       "      <th>total_domain</th>\n",
       "      <th>acute_oral_toxicity_confidence</th>\n",
       "    </tr>\n",
       "  </thead>\n",
       "  <tbody>\n",
       "    <tr>\n",
       "      <th>0</th>\n",
       "      <td>DTXSID5020281</td>\n",
       "      <td>100-00-5</td>\n",
       "      <td>1-Chloro-4-nitrobenzene</td>\n",
       "      <td>460.0</td>\n",
       "      <td>2.534661</td>\n",
       "      <td>NaN</td>\n",
       "      <td>NaN</td>\n",
       "      <td>NaN</td>\n",
       "      <td>NaN</td>\n",
       "      <td>NaN</td>\n",
       "      <td>...</td>\n",
       "      <td>NaN</td>\n",
       "      <td>NaN</td>\n",
       "      <td>NaN</td>\n",
       "      <td>NaN</td>\n",
       "      <td>NaN</td>\n",
       "      <td>NaN</td>\n",
       "      <td>NaN</td>\n",
       "      <td>NaN</td>\n",
       "      <td>NaN</td>\n",
       "      <td>NaN</td>\n",
       "    </tr>\n",
       "    <tr>\n",
       "      <th>1</th>\n",
       "      <td>DTXSID8020961</td>\n",
       "      <td>100-01-6</td>\n",
       "      <td>4-Nitroaniline</td>\n",
       "      <td>750.0</td>\n",
       "      <td>2.265214</td>\n",
       "      <td>NaN</td>\n",
       "      <td>NaN</td>\n",
       "      <td>NaN</td>\n",
       "      <td>NaN</td>\n",
       "      <td>NaN</td>\n",
       "      <td>...</td>\n",
       "      <td>NaN</td>\n",
       "      <td>NaN</td>\n",
       "      <td>NaN</td>\n",
       "      <td>NaN</td>\n",
       "      <td>NaN</td>\n",
       "      <td>NaN</td>\n",
       "      <td>NaN</td>\n",
       "      <td>NaN</td>\n",
       "      <td>NaN</td>\n",
       "      <td>NaN</td>\n",
       "    </tr>\n",
       "    <tr>\n",
       "      <th>2</th>\n",
       "      <td>DTXSID0021834</td>\n",
       "      <td>100-02-7</td>\n",
       "      <td>4-Nitrophenol</td>\n",
       "      <td>170.0</td>\n",
       "      <td>2.912909</td>\n",
       "      <td>NaN</td>\n",
       "      <td>NaN</td>\n",
       "      <td>NaN</td>\n",
       "      <td>NaN</td>\n",
       "      <td>NaN</td>\n",
       "      <td>...</td>\n",
       "      <td>NaN</td>\n",
       "      <td>NaN</td>\n",
       "      <td>NaN</td>\n",
       "      <td>NaN</td>\n",
       "      <td>NaN</td>\n",
       "      <td>NaN</td>\n",
       "      <td>NaN</td>\n",
       "      <td>NaN</td>\n",
       "      <td>NaN</td>\n",
       "      <td>NaN</td>\n",
       "    </tr>\n",
       "    <tr>\n",
       "      <th>3</th>\n",
       "      <td>DTXSID2044347</td>\n",
       "      <td>100-06-1</td>\n",
       "      <td>4'-Methoxyacetophenone</td>\n",
       "      <td>1720.0</td>\n",
       "      <td>1.941075</td>\n",
       "      <td>NaN</td>\n",
       "      <td>NaN</td>\n",
       "      <td>NaN</td>\n",
       "      <td>NaN</td>\n",
       "      <td>NaN</td>\n",
       "      <td>...</td>\n",
       "      <td>NaN</td>\n",
       "      <td>NaN</td>\n",
       "      <td>NaN</td>\n",
       "      <td>NaN</td>\n",
       "      <td>NaN</td>\n",
       "      <td>NaN</td>\n",
       "      <td>NaN</td>\n",
       "      <td>NaN</td>\n",
       "      <td>NaN</td>\n",
       "      <td>NaN</td>\n",
       "    </tr>\n",
       "    <tr>\n",
       "      <th>4</th>\n",
       "      <td>DTXSID4025745</td>\n",
       "      <td>100-14-1</td>\n",
       "      <td>4-Nitrobenzyl chloride</td>\n",
       "      <td>1809.0</td>\n",
       "      <td>1.977028</td>\n",
       "      <td>NaN</td>\n",
       "      <td>NaN</td>\n",
       "      <td>NaN</td>\n",
       "      <td>NaN</td>\n",
       "      <td>NaN</td>\n",
       "      <td>...</td>\n",
       "      <td>NaN</td>\n",
       "      <td>NaN</td>\n",
       "      <td>NaN</td>\n",
       "      <td>NaN</td>\n",
       "      <td>NaN</td>\n",
       "      <td>NaN</td>\n",
       "      <td>NaN</td>\n",
       "      <td>NaN</td>\n",
       "      <td>NaN</td>\n",
       "      <td>NaN</td>\n",
       "    </tr>\n",
       "  </tbody>\n",
       "</table>\n",
       "<p>5 rows × 31 columns</p>\n",
       "</div>"
      ],
      "text/plain": [
       "          DTXSID       CAS                     name  known_LD50_mgkg  \\\n",
       "0  DTXSID5020281  100-00-5  1-Chloro-4-nitrobenzene            460.0   \n",
       "1  DTXSID8020961  100-01-6           4-Nitroaniline            750.0   \n",
       "2  DTXSID0021834  100-02-7            4-Nitrophenol            170.0   \n",
       "3  DTXSID2044347  100-06-1   4'-Methoxyacetophenone           1720.0   \n",
       "4  DTXSID4025745  100-14-1   4-Nitrobenzyl chloride           1809.0   \n",
       "\n",
       "   known_pLD50  TEST_LD50_mgkg  TEST_pLD50  TIMES_LD50_mgkg  TIMES_pLD50  \\\n",
       "0     2.534661             NaN         NaN              NaN          NaN   \n",
       "1     2.265214             NaN         NaN              NaN          NaN   \n",
       "2     2.912909             NaN         NaN              NaN          NaN   \n",
       "3     1.941075             NaN         NaN              NaN          NaN   \n",
       "4     1.977028             NaN         NaN              NaN          NaN   \n",
       "\n",
       "  TIMES              ...               molecular_initiating_event_3  \\\n",
       "0   NaN              ...                                        NaN   \n",
       "1   NaN              ...                                        NaN   \n",
       "2   NaN              ...                                        NaN   \n",
       "3   NaN              ...                                        NaN   \n",
       "4   NaN              ...                                        NaN   \n",
       "\n",
       "   effect_biological outcome_3  alert_reliability parameter_ranges  \\\n",
       "0                          NaN                NaN              NaN   \n",
       "1                          NaN                NaN              NaN   \n",
       "2                          NaN                NaN              NaN   \n",
       "3                          NaN                NaN              NaN   \n",
       "4                          NaN                NaN              NaN   \n",
       "\n",
       "  correct_fragments_structural_domain incorrect_fragments_structural_domain  \\\n",
       "0                                 NaN                                   NaN   \n",
       "1                                 NaN                                   NaN   \n",
       "2                                 NaN                                   NaN   \n",
       "3                                 NaN                                   NaN   \n",
       "4                                 NaN                                   NaN   \n",
       "\n",
       "  unknown_fragments_structural_domain total_structural_domain total_domain  \\\n",
       "0                                 NaN                     NaN          NaN   \n",
       "1                                 NaN                     NaN          NaN   \n",
       "2                                 NaN                     NaN          NaN   \n",
       "3                                 NaN                     NaN          NaN   \n",
       "4                                 NaN                     NaN          NaN   \n",
       "\n",
       "  acute_oral_toxicity_confidence  \n",
       "0                            NaN  \n",
       "1                            NaN  \n",
       "2                            NaN  \n",
       "3                            NaN  \n",
       "4                            NaN  \n",
       "\n",
       "[5 rows x 31 columns]"
      ]
     },
     "execution_count": 177,
     "metadata": {},
     "output_type": "execute_result"
    }
   ],
   "source": [
    "relevant_acute_pred_final.head()"
   ]
  },
  {
   "cell_type": "code",
   "execution_count": 420,
   "metadata": {},
   "outputs": [],
   "source": [
    "writer = pd.ExcelWriter(processed_dat_dir+'relevant_acute_pred_final_200320.xlsx', engine='xlsxwriter')\n",
    "\n",
    "# Convert the dataframe to an XlsxWriter Excel object.\n",
    "relevant_acute_pred_final.to_excel(writer, sheet_name='relevant_pred')\n",
    "\n",
    "\n",
    "writer.save()"
   ]
  },
  {
   "cell_type": "code",
   "execution_count": 178,
   "metadata": {},
   "outputs": [],
   "source": [
    "xls = pd.ExcelFile(processed_dat_dir+'relevant_acute_pred_final_200320.xlsx')"
   ]
  },
  {
   "cell_type": "code",
   "execution_count": 179,
   "metadata": {},
   "outputs": [
    {
     "data": {
      "text/plain": [
       "['relevant_pred']"
      ]
     },
     "execution_count": 179,
     "metadata": {},
     "output_type": "execute_result"
    }
   ],
   "source": [
    "xls.sheet_names"
   ]
  },
  {
   "cell_type": "code",
   "execution_count": 180,
   "metadata": {},
   "outputs": [],
   "source": [
    "relevant_acute_data = xls.parse('relevant_pred')"
   ]
  },
  {
   "cell_type": "code",
   "execution_count": 181,
   "metadata": {},
   "outputs": [
    {
     "data": {
      "text/plain": [
       "(8979, 31)"
      ]
     },
     "execution_count": 181,
     "metadata": {},
     "output_type": "execute_result"
    }
   ],
   "source": [
    "relevant_acute_data.shape"
   ]
  },
  {
   "cell_type": "code",
   "execution_count": 182,
   "metadata": {},
   "outputs": [
    {
     "data": {
      "text/html": [
       "<div>\n",
       "<style scoped>\n",
       "    .dataframe tbody tr th:only-of-type {\n",
       "        vertical-align: middle;\n",
       "    }\n",
       "\n",
       "    .dataframe tbody tr th {\n",
       "        vertical-align: top;\n",
       "    }\n",
       "\n",
       "    .dataframe thead th {\n",
       "        text-align: right;\n",
       "    }\n",
       "</style>\n",
       "<table border=\"1\" class=\"dataframe\">\n",
       "  <thead>\n",
       "    <tr style=\"text-align: right;\">\n",
       "      <th></th>\n",
       "      <th>known_LD50_mgkg</th>\n",
       "      <th>known_pLD50</th>\n",
       "      <th>TEST_LD50_mgkg</th>\n",
       "      <th>TEST_pLD50</th>\n",
       "      <th>TIMES_LD50_mgkg</th>\n",
       "      <th>TIMES_pLD50</th>\n",
       "      <th>known_pLD50_minus_TEST</th>\n",
       "      <th>known_pLD50_minus_TIMES</th>\n",
       "      <th>average_mass</th>\n",
       "    </tr>\n",
       "  </thead>\n",
       "  <tbody>\n",
       "    <tr>\n",
       "      <th>count</th>\n",
       "      <td>8979.000000</td>\n",
       "      <td>8174.000000</td>\n",
       "      <td>1619.000000</td>\n",
       "      <td>1621.000000</td>\n",
       "      <td>503.000000</td>\n",
       "      <td>503.000000</td>\n",
       "      <td>1619.000000</td>\n",
       "      <td>503.000000</td>\n",
       "      <td>8174.000000</td>\n",
       "    </tr>\n",
       "    <tr>\n",
       "      <th>mean</th>\n",
       "      <td>2269.640335</td>\n",
       "      <td>2.549025</td>\n",
       "      <td>1820.165401</td>\n",
       "      <td>2.441579</td>\n",
       "      <td>1925.843956</td>\n",
       "      <td>2.595833</td>\n",
       "      <td>0.071890</td>\n",
       "      <td>0.072379</td>\n",
       "      <td>261.188284</td>\n",
       "    </tr>\n",
       "    <tr>\n",
       "      <th>std</th>\n",
       "      <td>4180.094054</td>\n",
       "      <td>0.888440</td>\n",
       "      <td>2510.520155</td>\n",
       "      <td>0.549733</td>\n",
       "      <td>2300.756523</td>\n",
       "      <td>0.814640</td>\n",
       "      <td>0.638198</td>\n",
       "      <td>0.616242</td>\n",
       "      <td>126.582537</td>\n",
       "    </tr>\n",
       "    <tr>\n",
       "      <th>min</th>\n",
       "      <td>0.012000</td>\n",
       "      <td>0.291207</td>\n",
       "      <td>1.076490</td>\n",
       "      <td>0.860000</td>\n",
       "      <td>2.740000</td>\n",
       "      <td>1.325743</td>\n",
       "      <td>-2.973942</td>\n",
       "      <td>-2.659323</td>\n",
       "      <td>30.026000</td>\n",
       "    </tr>\n",
       "    <tr>\n",
       "      <th>25%</th>\n",
       "      <td>250.000000</td>\n",
       "      <td>1.927926</td>\n",
       "      <td>562.610873</td>\n",
       "      <td>2.090000</td>\n",
       "      <td>358.000000</td>\n",
       "      <td>2.067518</td>\n",
       "      <td>-0.311428</td>\n",
       "      <td>-0.291701</td>\n",
       "      <td>168.705000</td>\n",
       "    </tr>\n",
       "    <tr>\n",
       "      <th>50%</th>\n",
       "      <td>916.000000</td>\n",
       "      <td>2.411907</td>\n",
       "      <td>1086.111220</td>\n",
       "      <td>2.430000</td>\n",
       "      <td>978.000000</td>\n",
       "      <td>2.458520</td>\n",
       "      <td>0.025733</td>\n",
       "      <td>0.033424</td>\n",
       "      <td>244.334500</td>\n",
       "    </tr>\n",
       "    <tr>\n",
       "      <th>75%</th>\n",
       "      <td>2500.000000</td>\n",
       "      <td>3.007805</td>\n",
       "      <td>2115.977196</td>\n",
       "      <td>2.750000</td>\n",
       "      <td>2890.000000</td>\n",
       "      <td>2.777997</td>\n",
       "      <td>0.413016</td>\n",
       "      <td>0.382991</td>\n",
       "      <td>327.810000</td>\n",
       "    </tr>\n",
       "    <tr>\n",
       "      <th>max</th>\n",
       "      <td>70000.000000</td>\n",
       "      <td>7.663991</td>\n",
       "      <td>39977.708638</td>\n",
       "      <td>5.560000</td>\n",
       "      <td>18200.000000</td>\n",
       "      <td>5.050399</td>\n",
       "      <td>5.263991</td>\n",
       "      <td>3.708353</td>\n",
       "      <td>1440.900000</td>\n",
       "    </tr>\n",
       "  </tbody>\n",
       "</table>\n",
       "</div>"
      ],
      "text/plain": [
       "       known_LD50_mgkg  known_pLD50  TEST_LD50_mgkg   TEST_pLD50  \\\n",
       "count      8979.000000  8174.000000     1619.000000  1621.000000   \n",
       "mean       2269.640335     2.549025     1820.165401     2.441579   \n",
       "std        4180.094054     0.888440     2510.520155     0.549733   \n",
       "min           0.012000     0.291207        1.076490     0.860000   \n",
       "25%         250.000000     1.927926      562.610873     2.090000   \n",
       "50%         916.000000     2.411907     1086.111220     2.430000   \n",
       "75%        2500.000000     3.007805     2115.977196     2.750000   \n",
       "max       70000.000000     7.663991    39977.708638     5.560000   \n",
       "\n",
       "       TIMES_LD50_mgkg  TIMES_pLD50  known_pLD50_minus_TEST  \\\n",
       "count       503.000000   503.000000             1619.000000   \n",
       "mean       1925.843956     2.595833                0.071890   \n",
       "std        2300.756523     0.814640                0.638198   \n",
       "min           2.740000     1.325743               -2.973942   \n",
       "25%         358.000000     2.067518               -0.311428   \n",
       "50%         978.000000     2.458520                0.025733   \n",
       "75%        2890.000000     2.777997                0.413016   \n",
       "max       18200.000000     5.050399                5.263991   \n",
       "\n",
       "       known_pLD50_minus_TIMES  average_mass  \n",
       "count               503.000000   8174.000000  \n",
       "mean                  0.072379    261.188284  \n",
       "std                   0.616242    126.582537  \n",
       "min                  -2.659323     30.026000  \n",
       "25%                  -0.291701    168.705000  \n",
       "50%                   0.033424    244.334500  \n",
       "75%                   0.382991    327.810000  \n",
       "max                   3.708353   1440.900000  "
      ]
     },
     "execution_count": 182,
     "metadata": {},
     "output_type": "execute_result"
    }
   ],
   "source": [
    "relevant_acute_data.describe()"
   ]
  },
  {
   "cell_type": "code",
   "execution_count": 183,
   "metadata": {},
   "outputs": [
    {
     "data": {
      "text/plain": [
       "8979"
      ]
     },
     "execution_count": 183,
     "metadata": {},
     "output_type": "execute_result"
    }
   ],
   "source": [
    "relevant_acute_data['CAS'].count()"
   ]
  },
  {
   "cell_type": "markdown",
   "metadata": {},
   "source": [
    "### Dummy data to test out creation of ablines in matplotlib"
   ]
  },
  {
   "cell_type": "code",
   "execution_count": 184,
   "metadata": {},
   "outputs": [],
   "source": [
    "def abline(slope, intercept):\n",
    "    \"\"\"Plot a line from slope and intercept\"\"\"\n",
    "    axes = plt.gca()\n",
    "    x_vals = np.array(axes.get_xlim())\n",
    "    y_vals = intercept + slope * x_vals\n",
    "    plt.plot(x_vals, y_vals, '--')"
   ]
  },
  {
   "cell_type": "code",
   "execution_count": 185,
   "metadata": {},
   "outputs": [
    {
     "data": {
      "text/plain": [
       "Text(0.5,1,'1.2142857142857146')"
      ]
     },
     "execution_count": 185,
     "metadata": {},
     "output_type": "execute_result"
    },
    {
     "data": {
      "image/png": "[encoded data removed]",
      "text/plain": [
       "<Figure size 432x288 with 1 Axes>"
      ]
     },
     "metadata": {},
     "output_type": "display_data"
    }
   ],
   "source": [
    "# Some dummy data\n",
    "x = [1, 2, 3, 4, 5, 6, 7]\n",
    "y = [1, 3, 3, 2, 5, 7, 9]\n",
    "\n",
    "# Find the slope and intercept of the best fit line\n",
    "slope, intercept = np.polyfit(x, y, 1)\n",
    "\n",
    "# Create a list of values in the best fit line\n",
    "abline_values = [slope * i + intercept for i in x]\n",
    "\n",
    "# Plot the best fit line over the actual values\n",
    "plt.plot(x, y, '--')\n",
    "plt.plot(x, abline_values, 'b')\n",
    "plt.title(slope)"
   ]
  },
  {
   "cell_type": "code",
   "execution_count": 186,
   "metadata": {},
   "outputs": [
    {
     "data": {
      "text/html": [
       "<div>\n",
       "<style scoped>\n",
       "    .dataframe tbody tr th:only-of-type {\n",
       "        vertical-align: middle;\n",
       "    }\n",
       "\n",
       "    .dataframe tbody tr th {\n",
       "        vertical-align: top;\n",
       "    }\n",
       "\n",
       "    .dataframe thead th {\n",
       "        text-align: right;\n",
       "    }\n",
       "</style>\n",
       "<table border=\"1\" class=\"dataframe\">\n",
       "  <thead>\n",
       "    <tr style=\"text-align: right;\">\n",
       "      <th></th>\n",
       "      <th>known_LD50_mgkg</th>\n",
       "      <th>known_pLD50</th>\n",
       "      <th>TEST_LD50_mgkg</th>\n",
       "      <th>TEST_pLD50</th>\n",
       "      <th>TIMES_LD50_mgkg</th>\n",
       "      <th>TIMES_pLD50</th>\n",
       "      <th>known_pLD50_minus_TEST</th>\n",
       "      <th>known_pLD50_minus_TIMES</th>\n",
       "      <th>average_mass</th>\n",
       "    </tr>\n",
       "  </thead>\n",
       "  <tbody>\n",
       "    <tr>\n",
       "      <th>count</th>\n",
       "      <td>8979.000000</td>\n",
       "      <td>8174.000000</td>\n",
       "      <td>1619.000000</td>\n",
       "      <td>1621.000000</td>\n",
       "      <td>503.000000</td>\n",
       "      <td>503.000000</td>\n",
       "      <td>1619.000000</td>\n",
       "      <td>503.000000</td>\n",
       "      <td>8174.000000</td>\n",
       "    </tr>\n",
       "    <tr>\n",
       "      <th>mean</th>\n",
       "      <td>2269.640335</td>\n",
       "      <td>2.549025</td>\n",
       "      <td>1820.165401</td>\n",
       "      <td>2.441579</td>\n",
       "      <td>1925.843956</td>\n",
       "      <td>2.595833</td>\n",
       "      <td>0.071890</td>\n",
       "      <td>0.072379</td>\n",
       "      <td>261.188284</td>\n",
       "    </tr>\n",
       "    <tr>\n",
       "      <th>std</th>\n",
       "      <td>4180.094054</td>\n",
       "      <td>0.888440</td>\n",
       "      <td>2510.520155</td>\n",
       "      <td>0.549733</td>\n",
       "      <td>2300.756523</td>\n",
       "      <td>0.814640</td>\n",
       "      <td>0.638198</td>\n",
       "      <td>0.616242</td>\n",
       "      <td>126.582537</td>\n",
       "    </tr>\n",
       "    <tr>\n",
       "      <th>min</th>\n",
       "      <td>0.012000</td>\n",
       "      <td>0.291207</td>\n",
       "      <td>1.076490</td>\n",
       "      <td>0.860000</td>\n",
       "      <td>2.740000</td>\n",
       "      <td>1.325743</td>\n",
       "      <td>-2.973942</td>\n",
       "      <td>-2.659323</td>\n",
       "      <td>30.026000</td>\n",
       "    </tr>\n",
       "    <tr>\n",
       "      <th>25%</th>\n",
       "      <td>250.000000</td>\n",
       "      <td>1.927926</td>\n",
       "      <td>562.610873</td>\n",
       "      <td>2.090000</td>\n",
       "      <td>358.000000</td>\n",
       "      <td>2.067518</td>\n",
       "      <td>-0.311428</td>\n",
       "      <td>-0.291701</td>\n",
       "      <td>168.705000</td>\n",
       "    </tr>\n",
       "    <tr>\n",
       "      <th>50%</th>\n",
       "      <td>916.000000</td>\n",
       "      <td>2.411907</td>\n",
       "      <td>1086.111220</td>\n",
       "      <td>2.430000</td>\n",
       "      <td>978.000000</td>\n",
       "      <td>2.458520</td>\n",
       "      <td>0.025733</td>\n",
       "      <td>0.033424</td>\n",
       "      <td>244.334500</td>\n",
       "    </tr>\n",
       "    <tr>\n",
       "      <th>75%</th>\n",
       "      <td>2500.000000</td>\n",
       "      <td>3.007805</td>\n",
       "      <td>2115.977196</td>\n",
       "      <td>2.750000</td>\n",
       "      <td>2890.000000</td>\n",
       "      <td>2.777997</td>\n",
       "      <td>0.413016</td>\n",
       "      <td>0.382991</td>\n",
       "      <td>327.810000</td>\n",
       "    </tr>\n",
       "    <tr>\n",
       "      <th>max</th>\n",
       "      <td>70000.000000</td>\n",
       "      <td>7.663991</td>\n",
       "      <td>39977.708638</td>\n",
       "      <td>5.560000</td>\n",
       "      <td>18200.000000</td>\n",
       "      <td>5.050399</td>\n",
       "      <td>5.263991</td>\n",
       "      <td>3.708353</td>\n",
       "      <td>1440.900000</td>\n",
       "    </tr>\n",
       "  </tbody>\n",
       "</table>\n",
       "</div>"
      ],
      "text/plain": [
       "       known_LD50_mgkg  known_pLD50  TEST_LD50_mgkg   TEST_pLD50  \\\n",
       "count      8979.000000  8174.000000     1619.000000  1621.000000   \n",
       "mean       2269.640335     2.549025     1820.165401     2.441579   \n",
       "std        4180.094054     0.888440     2510.520155     0.549733   \n",
       "min           0.012000     0.291207        1.076490     0.860000   \n",
       "25%         250.000000     1.927926      562.610873     2.090000   \n",
       "50%         916.000000     2.411907     1086.111220     2.430000   \n",
       "75%        2500.000000     3.007805     2115.977196     2.750000   \n",
       "max       70000.000000     7.663991    39977.708638     5.560000   \n",
       "\n",
       "       TIMES_LD50_mgkg  TIMES_pLD50  known_pLD50_minus_TEST  \\\n",
       "count       503.000000   503.000000             1619.000000   \n",
       "mean       1925.843956     2.595833                0.071890   \n",
       "std        2300.756523     0.814640                0.638198   \n",
       "min           2.740000     1.325743               -2.973942   \n",
       "25%         358.000000     2.067518               -0.311428   \n",
       "50%         978.000000     2.458520                0.025733   \n",
       "75%        2890.000000     2.777997                0.413016   \n",
       "max       18200.000000     5.050399                5.263991   \n",
       "\n",
       "       known_pLD50_minus_TIMES  average_mass  \n",
       "count               503.000000   8174.000000  \n",
       "mean                  0.072379    261.188284  \n",
       "std                   0.616242    126.582537  \n",
       "min                  -2.659323     30.026000  \n",
       "25%                  -0.291701    168.705000  \n",
       "50%                   0.033424    244.334500  \n",
       "75%                   0.382991    327.810000  \n",
       "max                   3.708353   1440.900000  "
      ]
     },
     "execution_count": 186,
     "metadata": {},
     "output_type": "execute_result"
    }
   ],
   "source": [
    "relevant_acute_data.describe()"
   ]
  },
  {
   "cell_type": "code",
   "execution_count": 187,
   "metadata": {},
   "outputs": [
    {
     "data": {
      "text/html": [
       "<div>\n",
       "<style scoped>\n",
       "    .dataframe tbody tr th:only-of-type {\n",
       "        vertical-align: middle;\n",
       "    }\n",
       "\n",
       "    .dataframe tbody tr th {\n",
       "        vertical-align: top;\n",
       "    }\n",
       "\n",
       "    .dataframe thead th {\n",
       "        text-align: right;\n",
       "    }\n",
       "</style>\n",
       "<table border=\"1\" class=\"dataframe\">\n",
       "  <thead>\n",
       "    <tr style=\"text-align: right;\">\n",
       "      <th></th>\n",
       "      <th>DTXSID</th>\n",
       "      <th>CAS</th>\n",
       "      <th>name</th>\n",
       "      <th>known_LD50_mgkg</th>\n",
       "      <th>known_pLD50</th>\n",
       "      <th>TEST_LD50_mgkg</th>\n",
       "      <th>TEST_pLD50</th>\n",
       "      <th>TIMES_LD50_mgkg</th>\n",
       "      <th>TIMES_pLD50</th>\n",
       "      <th>TIMES</th>\n",
       "      <th>...</th>\n",
       "      <th>molecular_initiating_event_3</th>\n",
       "      <th>effect_biological outcome_3</th>\n",
       "      <th>alert_reliability</th>\n",
       "      <th>parameter_ranges</th>\n",
       "      <th>correct_fragments_structural_domain</th>\n",
       "      <th>incorrect_fragments_structural_domain</th>\n",
       "      <th>unknown_fragments_structural_domain</th>\n",
       "      <th>total_structural_domain</th>\n",
       "      <th>total_domain</th>\n",
       "      <th>acute_oral_toxicity_confidence</th>\n",
       "    </tr>\n",
       "  </thead>\n",
       "  <tbody>\n",
       "    <tr>\n",
       "      <th>3667</th>\n",
       "      <td>NaN</td>\n",
       "      <td>29387-86-8</td>\n",
       "      <td>NaN</td>\n",
       "      <td>1900.0</td>\n",
       "      <td>NaN</td>\n",
       "      <td>NaN</td>\n",
       "      <td>1.29</td>\n",
       "      <td>NaN</td>\n",
       "      <td>NaN</td>\n",
       "      <td>NaN</td>\n",
       "      <td>...</td>\n",
       "      <td>NaN</td>\n",
       "      <td>NaN</td>\n",
       "      <td>NaN</td>\n",
       "      <td>NaN</td>\n",
       "      <td>NaN</td>\n",
       "      <td>NaN</td>\n",
       "      <td>NaN</td>\n",
       "      <td>NaN</td>\n",
       "      <td>NaN</td>\n",
       "      <td>NaN</td>\n",
       "    </tr>\n",
       "    <tr>\n",
       "      <th>4639</th>\n",
       "      <td>NaN</td>\n",
       "      <td>39699-08-6</td>\n",
       "      <td>NaN</td>\n",
       "      <td>29000.0</td>\n",
       "      <td>NaN</td>\n",
       "      <td>NaN</td>\n",
       "      <td>1.30</td>\n",
       "      <td>NaN</td>\n",
       "      <td>NaN</td>\n",
       "      <td>NaN</td>\n",
       "      <td>...</td>\n",
       "      <td>NaN</td>\n",
       "      <td>NaN</td>\n",
       "      <td>NaN</td>\n",
       "      <td>NaN</td>\n",
       "      <td>NaN</td>\n",
       "      <td>NaN</td>\n",
       "      <td>NaN</td>\n",
       "      <td>NaN</td>\n",
       "      <td>NaN</td>\n",
       "      <td>NaN</td>\n",
       "    </tr>\n",
       "  </tbody>\n",
       "</table>\n",
       "<p>2 rows × 31 columns</p>\n",
       "</div>"
      ],
      "text/plain": [
       "     DTXSID         CAS name  known_LD50_mgkg  known_pLD50  TEST_LD50_mgkg  \\\n",
       "3667    NaN  29387-86-8  NaN           1900.0          NaN             NaN   \n",
       "4639    NaN  39699-08-6  NaN          29000.0          NaN             NaN   \n",
       "\n",
       "      TEST_pLD50  TIMES_LD50_mgkg  TIMES_pLD50 TIMES  \\\n",
       "3667        1.29              NaN          NaN   NaN   \n",
       "4639        1.30              NaN          NaN   NaN   \n",
       "\n",
       "                  ...               molecular_initiating_event_3  \\\n",
       "3667              ...                                        NaN   \n",
       "4639              ...                                        NaN   \n",
       "\n",
       "      effect_biological outcome_3  alert_reliability  parameter_ranges  \\\n",
       "3667                          NaN                NaN               NaN   \n",
       "4639                          NaN                NaN               NaN   \n",
       "\n",
       "     correct_fragments_structural_domain  \\\n",
       "3667                                 NaN   \n",
       "4639                                 NaN   \n",
       "\n",
       "     incorrect_fragments_structural_domain  \\\n",
       "3667                                   NaN   \n",
       "4639                                   NaN   \n",
       "\n",
       "     unknown_fragments_structural_domain total_structural_domain total_domain  \\\n",
       "3667                                 NaN                     NaN          NaN   \n",
       "4639                                 NaN                     NaN          NaN   \n",
       "\n",
       "     acute_oral_toxicity_confidence  \n",
       "3667                            NaN  \n",
       "4639                            NaN  \n",
       "\n",
       "[2 rows x 31 columns]"
      ]
     },
     "execution_count": 187,
     "metadata": {},
     "output_type": "execute_result"
    }
   ],
   "source": [
    "relevant_acute_data[(relevant_acute_data['TEST_LD50_mgkg'].isnull()) & (~relevant_acute_data['TEST_pLD50'].isnull()) ]"
   ]
  },
  {
   "cell_type": "code",
   "execution_count": 188,
   "metadata": {},
   "outputs": [],
   "source": [
    "relevant_acute_data_filt = relevant_acute_data[['DTXSID', 'CAS', 'name', 'known_LD50_mgkg', 'known_pLD50',\n",
    "       'TEST_LD50_mgkg', 'TEST_pLD50', 'TIMES_LD50_mgkg', 'TIMES_pLD50',\n",
    "       'TIMES', 'TEST', 'known_pLD50_minus_TEST', 'known_pLD50_minus_TIMES',\n",
    "       'average_mass', 'qsar_ready_smiles', 'smiles']]"
   ]
  },
  {
   "cell_type": "code",
   "execution_count": 189,
   "metadata": {},
   "outputs": [],
   "source": [
    "TEST_vs_expt_pLD50 = relevant_acute_data_filt[(~relevant_acute_data_filt['DTXSID'].isnull()) & (~relevant_acute_data_filt['TEST_pLD50'].isnull())]"
   ]
  },
  {
   "cell_type": "code",
   "execution_count": 190,
   "metadata": {},
   "outputs": [
    {
     "data": {
      "image/png": "[encoded data removed]",
      "text/plain": [
       "<Figure size 432x288 with 1 Axes>"
      ]
     },
     "metadata": {},
     "output_type": "display_data"
    }
   ],
   "source": [
    "abline(1,0)"
   ]
  },
  {
   "cell_type": "code",
   "execution_count": 191,
   "metadata": {},
   "outputs": [
    {
     "data": {
      "text/plain": [
       "array(['Above_CI', 'Within_CI', 'Below_CI'], dtype=object)"
      ]
     },
     "execution_count": 191,
     "metadata": {},
     "output_type": "execute_result"
    }
   ],
   "source": [
    "TEST_vs_expt_pLD50['TEST'].unique()"
   ]
  },
  {
   "cell_type": "code",
   "execution_count": 192,
   "metadata": {},
   "outputs": [
    {
     "data": {
      "image/png": "[encoded data removed]",
      "text/plain": [
       "<Figure size 720x648 with 1 Axes>"
      ]
     },
     "metadata": {},
     "output_type": "display_data"
    }
   ],
   "source": [
    "plt.style.use('ggplot')\n",
    "fig, ax = plt.subplots(figsize = (10,9))\n",
    "colours = {'Above_CI': 'red', 'Within_CI':'black', 'Below_CI': 'blue'}\n",
    "\n",
    "grouped = TEST_vs_expt_pLD50.groupby('TEST')\n",
    "for k,group in grouped:\n",
    "    group.plot(ax = ax, kind = 'scatter', x = 'TEST_pLD50', y ='known_pLD50', label =k, color = colours[k] )\n",
    "abline(1,0)\n",
    "abline(1,0.24673953)\n",
    "abline(1,-0.24673953)\n",
    "plt.title('Comparison of TEST and experimental values')\n",
    "plt.xlabel('TEST LD50 (-log10(mol/kg))')\n",
    "plt.ylabel('Expt LD50 (-log10(mol/kg))')\n",
    "plt.savefig(figures_dir+'TEST_vs_actual_all.png', dpi = 300)"
   ]
  },
  {
   "cell_type": "code",
   "execution_count": null,
   "metadata": {},
   "outputs": [],
   "source": [
    "#0.24673953"
   ]
  },
  {
   "cell_type": "code",
   "execution_count": 194,
   "metadata": {},
   "outputs": [],
   "source": [
    "TIMES_vs_expt_pLD50 = relevant_acute_data_filt[(~relevant_acute_data_filt['DTXSID'].isnull()) & (~relevant_acute_data_filt['TIMES_pLD50'].isnull())]"
   ]
  },
  {
   "cell_type": "code",
   "execution_count": 195,
   "metadata": {},
   "outputs": [
    {
     "data": {
      "text/plain": [
       "Text(0,0.5,'Expt LD50 (-log10(mol/kg))')"
      ]
     },
     "execution_count": 195,
     "metadata": {},
     "output_type": "execute_result"
    },
    {
     "data": {
      "image/png": "[encoded data removed]",
      "text/plain": [
       "<Figure size 720x648 with 1 Axes>"
      ]
     },
     "metadata": {},
     "output_type": "display_data"
    }
   ],
   "source": [
    "plt.style.use('ggplot')\n",
    "fig, ax = plt.subplots(figsize = (10,9))\n",
    "colours = {'Above_CI': 'red', 'Within_CI':'black', 'Below_CI': 'blue'}\n",
    "\n",
    "grouped = TIMES_vs_expt_pLD50.groupby('TIMES')\n",
    "for k,group in grouped:\n",
    "    group.plot(ax = ax, kind = 'scatter', x = 'TIMES_pLD50', y ='known_pLD50', label =k, color = colours[k] )\n",
    "abline(1,0)\n",
    "abline(1,0.24673953)\n",
    "abline(1,-0.24673953)\n",
    "plt.title('Comparison of TIMES and experimental values')\n",
    "plt.xlabel('TIMES LD50 (-log10(mol/kg))')\n",
    "plt.ylabel('Expt LD50 (-log10(mol/kg))')\n",
    "plt.savefig(figures_dir+'TIMES_vs_actual_all.png', dpi = 300)"
   ]
  },
  {
   "cell_type": "code",
   "execution_count": 196,
   "metadata": {},
   "outputs": [
    {
     "data": {
      "text/plain": [
       "Index(['DTXSID', 'CAS', 'name', 'known_LD50_mgkg', 'known_pLD50',\n",
       "       'TEST_LD50_mgkg', 'TEST_pLD50', 'TIMES_LD50_mgkg', 'TIMES_pLD50',\n",
       "       'TIMES', 'TEST', 'known_pLD50_minus_TEST', 'known_pLD50_minus_TIMES',\n",
       "       'average_mass', 'qsar_ready_smiles', 'smiles'],\n",
       "      dtype='object')"
      ]
     },
     "execution_count": 196,
     "metadata": {},
     "output_type": "execute_result"
    }
   ],
   "source": [
    "TEST_vs_expt_pLD50.columns"
   ]
  },
  {
   "cell_type": "code",
   "execution_count": 206,
   "metadata": {},
   "outputs": [
    {
     "data": {
      "image/png": "[encoded data removed]",
      "text/plain": [
       "<Figure size 720x648 with 1 Axes>"
      ]
     },
     "metadata": {},
     "output_type": "display_data"
    }
   ],
   "source": [
    "plt.style.use('ggplot')\n",
    "fig, ax = plt.subplots(figsize = (10,9))\n",
    "TEST_vs_expt_pLD50.plot(ax = ax, kind = 'scatter', x = 'TEST_pLD50', y ='known_pLD50_minus_TEST')\n",
    "abline(0,0)\n",
    "abline(0,0.24673953)\n",
    "abline(0,-0.24673953)\n",
    "plt.title('Residuals plot of TEST predictions')\n",
    "plt.xlabel('TEST LD50 (-log10(mol/kg))')\n",
    "plt.ylabel('Residuals')\n",
    "plt.savefig(figures_dir+'residuals_TEST.png', dpi = 300)"
   ]
  },
  {
   "cell_type": "code",
   "execution_count": 205,
   "metadata": {},
   "outputs": [
    {
     "data": {
      "text/html": [
       "<div>\n",
       "<style scoped>\n",
       "    .dataframe tbody tr th:only-of-type {\n",
       "        vertical-align: middle;\n",
       "    }\n",
       "\n",
       "    .dataframe tbody tr th {\n",
       "        vertical-align: top;\n",
       "    }\n",
       "\n",
       "    .dataframe thead th {\n",
       "        text-align: right;\n",
       "    }\n",
       "</style>\n",
       "<table border=\"1\" class=\"dataframe\">\n",
       "  <thead>\n",
       "    <tr style=\"text-align: right;\">\n",
       "      <th></th>\n",
       "      <th>DTXSID</th>\n",
       "      <th>CAS</th>\n",
       "      <th>name</th>\n",
       "      <th>known_LD50_mgkg</th>\n",
       "      <th>known_pLD50</th>\n",
       "      <th>TEST_LD50_mgkg</th>\n",
       "      <th>TEST_pLD50</th>\n",
       "      <th>TIMES_LD50_mgkg</th>\n",
       "      <th>TIMES_pLD50</th>\n",
       "      <th>TIMES</th>\n",
       "      <th>TEST</th>\n",
       "      <th>known_pLD50_minus_TEST</th>\n",
       "      <th>known_pLD50_minus_TIMES</th>\n",
       "      <th>average_mass</th>\n",
       "      <th>qsar_ready_smiles</th>\n",
       "      <th>smiles</th>\n",
       "    </tr>\n",
       "  </thead>\n",
       "  <tbody>\n",
       "    <tr>\n",
       "      <th>2680</th>\n",
       "      <td>DTXSID4044870</td>\n",
       "      <td>2082-81-7</td>\n",
       "      <td>Butane-1,4-diyl bis(2-methylprop-2-enoate)</td>\n",
       "      <td>10.066</td>\n",
       "      <td>4.351774</td>\n",
       "      <td>4837.609579</td>\n",
       "      <td>1.67</td>\n",
       "      <td>8410.0</td>\n",
       "      <td>1.429835</td>\n",
       "      <td>Above_CI</td>\n",
       "      <td>Above_CI</td>\n",
       "      <td>2.681774</td>\n",
       "      <td>2.921939</td>\n",
       "      <td>226.272</td>\n",
       "      <td>CC(=C)C(=O)OCCCCOC(=O)C(C)=C</td>\n",
       "      <td>CC(=C)C(=O)OCCCCOC(=O)C(C)=C</td>\n",
       "    </tr>\n",
       "    <tr>\n",
       "      <th>5261</th>\n",
       "      <td>DTXSID1022976</td>\n",
       "      <td>513-10-0</td>\n",
       "      <td>Echothiophate</td>\n",
       "      <td>0.174</td>\n",
       "      <td>6.342910</td>\n",
       "      <td>171.182553</td>\n",
       "      <td>3.35</td>\n",
       "      <td>889.0</td>\n",
       "      <td>2.634558</td>\n",
       "      <td>Above_CI</td>\n",
       "      <td>Above_CI</td>\n",
       "      <td>2.992910</td>\n",
       "      <td>3.708353</td>\n",
       "      <td>383.230</td>\n",
       "      <td>CCOP(=O)(OCC)SCC[N+](C)(C)C</td>\n",
       "      <td>[I-].CCOP(=O)(OCC)SCC[N+](C)(C)C</td>\n",
       "    </tr>\n",
       "  </tbody>\n",
       "</table>\n",
       "</div>"
      ],
      "text/plain": [
       "             DTXSID        CAS                                        name  \\\n",
       "2680  DTXSID4044870  2082-81-7  Butane-1,4-diyl bis(2-methylprop-2-enoate)   \n",
       "5261  DTXSID1022976   513-10-0                               Echothiophate   \n",
       "\n",
       "      known_LD50_mgkg  known_pLD50  TEST_LD50_mgkg  TEST_pLD50  \\\n",
       "2680           10.066     4.351774     4837.609579        1.67   \n",
       "5261            0.174     6.342910      171.182553        3.35   \n",
       "\n",
       "      TIMES_LD50_mgkg  TIMES_pLD50     TIMES      TEST  \\\n",
       "2680           8410.0     1.429835  Above_CI  Above_CI   \n",
       "5261            889.0     2.634558  Above_CI  Above_CI   \n",
       "\n",
       "      known_pLD50_minus_TEST  known_pLD50_minus_TIMES  average_mass  \\\n",
       "2680                2.681774                 2.921939       226.272   \n",
       "5261                2.992910                 3.708353       383.230   \n",
       "\n",
       "                 qsar_ready_smiles                            smiles  \n",
       "2680  CC(=C)C(=O)OCCCCOC(=O)C(C)=C      CC(=C)C(=O)OCCCCOC(=O)C(C)=C  \n",
       "5261   CCOP(=O)(OCC)SCC[N+](C)(C)C  [I-].CCOP(=O)(OCC)SCC[N+](C)(C)C  "
      ]
     },
     "execution_count": 205,
     "metadata": {},
     "output_type": "execute_result"
    }
   ],
   "source": [
    "TIMES_vs_expt_pLD50[TIMES_vs_expt_pLD50['known_pLD50_minus_TIMES'] >2.5]"
   ]
  },
  {
   "cell_type": "code",
   "execution_count": 228,
   "metadata": {},
   "outputs": [
    {
     "data": {
      "text/plain": [
       "Below_CI     0.500000\n",
       "Within_CI    0.275862\n",
       "Above_CI     0.224138\n",
       "Name: TIMES, dtype: float64"
      ]
     },
     "execution_count": 228,
     "metadata": {},
     "output_type": "execute_result"
    }
   ],
   "source": [
    "TIMES_vs_expt_pLD50[TIMES_vs_expt_pLD50['TIMES_pLD50'] >4]['TIMES'].value_counts(normalize =  True)"
   ]
  },
  {
   "cell_type": "code",
   "execution_count": 226,
   "metadata": {},
   "outputs": [
    {
     "data": {
      "text/html": [
       "<div>\n",
       "<style scoped>\n",
       "    .dataframe tbody tr th:only-of-type {\n",
       "        vertical-align: middle;\n",
       "    }\n",
       "\n",
       "    .dataframe tbody tr th {\n",
       "        vertical-align: top;\n",
       "    }\n",
       "\n",
       "    .dataframe thead th {\n",
       "        text-align: right;\n",
       "    }\n",
       "</style>\n",
       "<table border=\"1\" class=\"dataframe\">\n",
       "  <thead>\n",
       "    <tr style=\"text-align: right;\">\n",
       "      <th></th>\n",
       "      <th>DTXSID</th>\n",
       "      <th>CAS</th>\n",
       "      <th>name</th>\n",
       "      <th>known_LD50_mgkg</th>\n",
       "      <th>known_pLD50</th>\n",
       "      <th>TEST_LD50_mgkg</th>\n",
       "      <th>TEST_pLD50</th>\n",
       "      <th>TIMES_LD50_mgkg</th>\n",
       "      <th>TIMES_pLD50</th>\n",
       "      <th>TIMES</th>\n",
       "      <th>TEST</th>\n",
       "      <th>known_pLD50_minus_TEST</th>\n",
       "      <th>known_pLD50_minus_TIMES</th>\n",
       "      <th>average_mass</th>\n",
       "      <th>qsar_ready_smiles</th>\n",
       "      <th>smiles</th>\n",
       "    </tr>\n",
       "  </thead>\n",
       "  <tbody>\n",
       "    <tr>\n",
       "      <th>174</th>\n",
       "      <td>DTXSID80144173</td>\n",
       "      <td>10176-39-3</td>\n",
       "      <td>Gitoformate</td>\n",
       "      <td>39.010</td>\n",
       "      <td>4.379648</td>\n",
       "      <td>22.429711</td>\n",
       "      <td>4.62</td>\n",
       "      <td>14.80</td>\n",
       "      <td>4.800562</td>\n",
       "      <td>Below_CI</td>\n",
       "      <td>Within_CI</td>\n",
       "      <td>-0.240352</td>\n",
       "      <td>-0.420914</td>\n",
       "      <td>935.026</td>\n",
       "      <td>CC1OC(CC(OC(C)=O)C1OC=O)OC1C(C)OC(CC1OC=O)OC1C...</td>\n",
       "      <td>C[C@H]1O[C@H](C[C@H](OC(C)=O)[C@@H]1OC=O)O[C@@...</td>\n",
       "    </tr>\n",
       "    <tr>\n",
       "      <th>1087</th>\n",
       "      <td>DTXSID3041875</td>\n",
       "      <td>122-10-1</td>\n",
       "      <td>Dimethyl 3-hydroxyglutaconate dimethyl phosphate</td>\n",
       "      <td>31.000</td>\n",
       "      <td>3.959172</td>\n",
       "      <td>NaN</td>\n",
       "      <td>NaN</td>\n",
       "      <td>8.92</td>\n",
       "      <td>4.500169</td>\n",
       "      <td>Below_CI</td>\n",
       "      <td>NaN</td>\n",
       "      <td>NaN</td>\n",
       "      <td>-0.540997</td>\n",
       "      <td>282.185</td>\n",
       "      <td>COC(=O)CC(OP(=O)(OC)OC)=CC(=O)OC</td>\n",
       "      <td>COC(=O)CC(OP(=O)(OC)OC)=CC(=O)OC</td>\n",
       "    </tr>\n",
       "    <tr>\n",
       "      <th>1317</th>\n",
       "      <td>DTXSID70926647</td>\n",
       "      <td>13025-69-9</td>\n",
       "      <td>1-(2-Chloroethyl)-1,1-dimethylhydrazin-1-ium c...</td>\n",
       "      <td>3400.000</td>\n",
       "      <td>1.670055</td>\n",
       "      <td>NaN</td>\n",
       "      <td>NaN</td>\n",
       "      <td>7.45</td>\n",
       "      <td>4.329377</td>\n",
       "      <td>Below_CI</td>\n",
       "      <td>NaN</td>\n",
       "      <td>NaN</td>\n",
       "      <td>-2.659323</td>\n",
       "      <td>159.050</td>\n",
       "      <td>C[N+](C)(N)CCCl</td>\n",
       "      <td>[Cl-].C[N+](C)(N)CCCl</td>\n",
       "    </tr>\n",
       "    <tr>\n",
       "      <th>1359</th>\n",
       "      <td>DTXSID7021156</td>\n",
       "      <td>13171-21-6</td>\n",
       "      <td>Phosphamidon</td>\n",
       "      <td>8.000</td>\n",
       "      <td>4.573582</td>\n",
       "      <td>NaN</td>\n",
       "      <td>NaN</td>\n",
       "      <td>5.84</td>\n",
       "      <td>4.710259</td>\n",
       "      <td>Within_CI</td>\n",
       "      <td>NaN</td>\n",
       "      <td>NaN</td>\n",
       "      <td>-0.136677</td>\n",
       "      <td>299.690</td>\n",
       "      <td>CCN(CC)C(=O)C(Cl)=C(C)OP(=O)(OC)OC</td>\n",
       "      <td>CCN(CC)C(=O)C(Cl)=C(C)OP(=O)(OC)OC</td>\n",
       "    </tr>\n",
       "    <tr>\n",
       "      <th>1657</th>\n",
       "      <td>DTXSID40161482</td>\n",
       "      <td>14086-35-2</td>\n",
       "      <td>Fenthion oxon sulfone</td>\n",
       "      <td>30.000</td>\n",
       "      <td>3.991610</td>\n",
       "      <td>NaN</td>\n",
       "      <td>NaN</td>\n",
       "      <td>5.74</td>\n",
       "      <td>4.709819</td>\n",
       "      <td>Below_CI</td>\n",
       "      <td>NaN</td>\n",
       "      <td>NaN</td>\n",
       "      <td>-0.718209</td>\n",
       "      <td>294.260</td>\n",
       "      <td>COP(=O)(OC)OC1=CC(C)=C(C=C1)S(C)(=O)=O</td>\n",
       "      <td>COP(=O)(OC)OC1=CC(C)=C(C=C1)S(C)(=O)=O</td>\n",
       "    </tr>\n",
       "    <tr>\n",
       "      <th>1670</th>\n",
       "      <td>DTXSID9023914</td>\n",
       "      <td>141-66-2</td>\n",
       "      <td>Dicrotophos</td>\n",
       "      <td>9.000</td>\n",
       "      <td>4.420858</td>\n",
       "      <td>NaN</td>\n",
       "      <td>NaN</td>\n",
       "      <td>4.62</td>\n",
       "      <td>4.710458</td>\n",
       "      <td>Below_CI</td>\n",
       "      <td>NaN</td>\n",
       "      <td>NaN</td>\n",
       "      <td>-0.289601</td>\n",
       "      <td>237.192</td>\n",
       "      <td>COP(=O)(OC)OC(C)=CC(=O)N(C)C</td>\n",
       "      <td>COP(=O)(OC)O\\C(C)=C\\C(=O)N(C)C</td>\n",
       "    </tr>\n",
       "    <tr>\n",
       "      <th>1678</th>\n",
       "      <td>DTXSID80161729</td>\n",
       "      <td>14143-09-0</td>\n",
       "      <td>Phosphoric acid, diethyl 3-methyl-4-(methylsul...</td>\n",
       "      <td>8.128</td>\n",
       "      <td>4.598290</td>\n",
       "      <td>NaN</td>\n",
       "      <td>NaN</td>\n",
       "      <td>6.28</td>\n",
       "      <td>4.710314</td>\n",
       "      <td>Within_CI</td>\n",
       "      <td>NaN</td>\n",
       "      <td>NaN</td>\n",
       "      <td>-0.112024</td>\n",
       "      <td>322.310</td>\n",
       "      <td>CCOP(=O)(OCC)OC1=CC(C)=C(C=C1)S(C)(=O)=O</td>\n",
       "      <td>CCOP(=O)(OCC)OC1=CC(C)=C(C=C1)S(C)(=O)=O</td>\n",
       "    </tr>\n",
       "    <tr>\n",
       "      <th>1798</th>\n",
       "      <td>DTXSID00932872</td>\n",
       "      <td>14663-72-0</td>\n",
       "      <td>Bis(2-chloropropyl) 4-nitrophenyl phosphate</td>\n",
       "      <td>173.000</td>\n",
       "      <td>3.332649</td>\n",
       "      <td>NaN</td>\n",
       "      <td>NaN</td>\n",
       "      <td>7.26</td>\n",
       "      <td>4.709758</td>\n",
       "      <td>Below_CI</td>\n",
       "      <td>NaN</td>\n",
       "      <td>NaN</td>\n",
       "      <td>-1.377109</td>\n",
       "      <td>372.130</td>\n",
       "      <td>CC(Cl)COP(=O)(OCC(C)Cl)OC1=CC=C(C=C1)N(=O)=O</td>\n",
       "      <td>CC(Cl)COP(=O)(OCC(C)Cl)OC1=CC=C(C=C1)N(=O)=O</td>\n",
       "    </tr>\n",
       "    <tr>\n",
       "      <th>1806</th>\n",
       "      <td>DTXSID50163533</td>\n",
       "      <td>14689-56-6</td>\n",
       "      <td>Benzimidazole, 5,7-dibromo-4,6-dichloro-2-(tri...</td>\n",
       "      <td>3.434</td>\n",
       "      <td>5.079950</td>\n",
       "      <td>NaN</td>\n",
       "      <td>NaN</td>\n",
       "      <td>3.68</td>\n",
       "      <td>5.049902</td>\n",
       "      <td>Within_CI</td>\n",
       "      <td>NaN</td>\n",
       "      <td>NaN</td>\n",
       "      <td>0.030048</td>\n",
       "      <td>412.810</td>\n",
       "      <td>FC(F)(F)C1=NC2=C(N1)C(Br)=C(Cl)C(Br)=C2Cl</td>\n",
       "      <td>FC(F)(F)C1=NC2=C(N1)C(Br)=C(Cl)C(Br)=C2Cl</td>\n",
       "    </tr>\n",
       "    <tr>\n",
       "      <th>2389</th>\n",
       "      <td>DTXSID30171272</td>\n",
       "      <td>18225-94-0</td>\n",
       "      <td>Benzimidazole, 5-fluoro-4,6,7-trichloro-2-(tri...</td>\n",
       "      <td>2.386</td>\n",
       "      <td>5.110104</td>\n",
       "      <td>NaN</td>\n",
       "      <td>NaN</td>\n",
       "      <td>2.74</td>\n",
       "      <td>5.050024</td>\n",
       "      <td>Within_CI</td>\n",
       "      <td>NaN</td>\n",
       "      <td>NaN</td>\n",
       "      <td>0.060080</td>\n",
       "      <td>307.450</td>\n",
       "      <td>FC1=C(Cl)C2=C(N=C(N2)C(F)(F)F)C(Cl)=C1Cl</td>\n",
       "      <td>FC1=C(Cl)C2=C(N=C(N2)C(F)(F)F)C(Cl)=C1Cl</td>\n",
       "    </tr>\n",
       "    <tr>\n",
       "      <th>2483</th>\n",
       "      <td>DTXSID00172493</td>\n",
       "      <td>19016-29-6</td>\n",
       "      <td>Benzimidazole, 5-(methylsulfonyl)-2-(trifluoro...</td>\n",
       "      <td>69.000</td>\n",
       "      <td>3.583117</td>\n",
       "      <td>NaN</td>\n",
       "      <td>NaN</td>\n",
       "      <td>16.30</td>\n",
       "      <td>4.209778</td>\n",
       "      <td>Below_CI</td>\n",
       "      <td>NaN</td>\n",
       "      <td>NaN</td>\n",
       "      <td>-0.626661</td>\n",
       "      <td>264.220</td>\n",
       "      <td>CS(=O)(=O)C1=CC2=C(C=C1)N=C(N2)C(F)(F)F</td>\n",
       "      <td>CS(=O)(=O)C1=CC2=C(C=C1)N=C(N2)C(F)(F)F</td>\n",
       "    </tr>\n",
       "    <tr>\n",
       "      <th>3204</th>\n",
       "      <td>DTXSID80179703</td>\n",
       "      <td>24994-52-3</td>\n",
       "      <td>Benzimidazol-6-ol, 5-chloro-2-(trifluoromethyl)-</td>\n",
       "      <td>55.456</td>\n",
       "      <td>3.630029</td>\n",
       "      <td>NaN</td>\n",
       "      <td>NaN</td>\n",
       "      <td>14.60</td>\n",
       "      <td>4.209625</td>\n",
       "      <td>Below_CI</td>\n",
       "      <td>NaN</td>\n",
       "      <td>NaN</td>\n",
       "      <td>-0.579596</td>\n",
       "      <td>236.580</td>\n",
       "      <td>OC1=C(Cl)C=C2NC(=NC2=C1)C(F)(F)F</td>\n",
       "      <td>OC1=C(Cl)C=C2NC(=NC2=C1)C(F)(F)F</td>\n",
       "    </tr>\n",
       "    <tr>\n",
       "      <th>3281</th>\n",
       "      <td>DTXSID8058037</td>\n",
       "      <td>25601-84-7</td>\n",
       "      <td>Methocrotophos</td>\n",
       "      <td>2.000</td>\n",
       "      <td>5.102418</td>\n",
       "      <td>NaN</td>\n",
       "      <td>NaN</td>\n",
       "      <td>4.94</td>\n",
       "      <td>4.709721</td>\n",
       "      <td>Above_CI</td>\n",
       "      <td>NaN</td>\n",
       "      <td>NaN</td>\n",
       "      <td>0.392697</td>\n",
       "      <td>253.191</td>\n",
       "      <td>CON(C)C(=O)C=C(C)OP(=O)(OC)OC</td>\n",
       "      <td>CON(C)C(=O)\\C=C(/C)OP(=O)(OC)OC</td>\n",
       "    </tr>\n",
       "    <tr>\n",
       "      <th>3699</th>\n",
       "      <td>DTXSID0058358</td>\n",
       "      <td>298-01-1</td>\n",
       "      <td>(E)-Mevinphos</td>\n",
       "      <td>3.000</td>\n",
       "      <td>4.873416</td>\n",
       "      <td>NaN</td>\n",
       "      <td>NaN</td>\n",
       "      <td>6.61</td>\n",
       "      <td>4.530335</td>\n",
       "      <td>Above_CI</td>\n",
       "      <td>NaN</td>\n",
       "      <td>NaN</td>\n",
       "      <td>0.343080</td>\n",
       "      <td>224.149</td>\n",
       "      <td>COC(=O)C=C(C)OP(=O)(OC)OC</td>\n",
       "      <td>COC(=O)\\C=C(/C)OP(=O)(OC)OC</td>\n",
       "    </tr>\n",
       "    <tr>\n",
       "      <th>4146</th>\n",
       "      <td>DTXSID50187552</td>\n",
       "      <td>3393-59-7</td>\n",
       "      <td>Benzimidazole, 4,5,7-trichloro-2-(trifluoromet...</td>\n",
       "      <td>6.332</td>\n",
       "      <td>4.660048</td>\n",
       "      <td>NaN</td>\n",
       "      <td>NaN</td>\n",
       "      <td>17.80</td>\n",
       "      <td>4.211169</td>\n",
       "      <td>Above_CI</td>\n",
       "      <td>NaN</td>\n",
       "      <td>NaN</td>\n",
       "      <td>0.448879</td>\n",
       "      <td>289.460</td>\n",
       "      <td>FC(F)(F)C1=NC2=C(N1)C(Cl)=C(Cl)C=C2Cl</td>\n",
       "      <td>FC(F)(F)C1=NC2=C(N1)C(Cl)=C(Cl)C=C2Cl</td>\n",
       "    </tr>\n",
       "    <tr>\n",
       "      <th>4147</th>\n",
       "      <td>DTXSID10187553</td>\n",
       "      <td>3393-60-0</td>\n",
       "      <td>Benzimidazole, 4,5,7-tribromo-2-(trifluorometh...</td>\n",
       "      <td>12.769</td>\n",
       "      <td>4.520004</td>\n",
       "      <td>NaN</td>\n",
       "      <td>NaN</td>\n",
       "      <td>26.10</td>\n",
       "      <td>4.209520</td>\n",
       "      <td>Above_CI</td>\n",
       "      <td>NaN</td>\n",
       "      <td>NaN</td>\n",
       "      <td>0.310484</td>\n",
       "      <td>422.825</td>\n",
       "      <td>FC(F)(F)C1=NC2=C(N1)C(Br)=C(Br)C=C2Br</td>\n",
       "      <td>FC(F)(F)C1=NC2=C(N1)C(Br)=C(Br)C=C2Br</td>\n",
       "    </tr>\n",
       "    <tr>\n",
       "      <th>4398</th>\n",
       "      <td>DTXSID70190169</td>\n",
       "      <td>3671-47-4</td>\n",
       "      <td>Benzimidazole, 5-fluoro-2-(trifluoromethyl)-</td>\n",
       "      <td>16.591</td>\n",
       "      <td>4.090030</td>\n",
       "      <td>NaN</td>\n",
       "      <td>NaN</td>\n",
       "      <td>12.60</td>\n",
       "      <td>4.209532</td>\n",
       "      <td>Within_CI</td>\n",
       "      <td>NaN</td>\n",
       "      <td>NaN</td>\n",
       "      <td>-0.119502</td>\n",
       "      <td>204.128</td>\n",
       "      <td>FC1=CC2=C(C=C1)N=C(N2)C(F)(F)F</td>\n",
       "      <td>FC1=CC2=C(C=C1)N=C(N2)C(F)(F)F</td>\n",
       "    </tr>\n",
       "    <tr>\n",
       "      <th>4399</th>\n",
       "      <td>DTXSID80190170</td>\n",
       "      <td>3671-60-1</td>\n",
       "      <td>Benzimidazole, 5-bromo-2-(trifluoromethyl)-</td>\n",
       "      <td>49.000</td>\n",
       "      <td>3.733104</td>\n",
       "      <td>NaN</td>\n",
       "      <td>NaN</td>\n",
       "      <td>16.30</td>\n",
       "      <td>4.211112</td>\n",
       "      <td>Below_CI</td>\n",
       "      <td>NaN</td>\n",
       "      <td>NaN</td>\n",
       "      <td>-0.478008</td>\n",
       "      <td>265.033</td>\n",
       "      <td>FC(F)(F)C1=NC2=C(N1)C=C(Br)C=C2</td>\n",
       "      <td>FC(F)(F)C1=NC2=C(N1)C=C(Br)C=C2</td>\n",
       "    </tr>\n",
       "    <tr>\n",
       "      <th>4401</th>\n",
       "      <td>DTXSID00190172</td>\n",
       "      <td>3671-66-7</td>\n",
       "      <td>Benzimidazole, 5-amino-2-(trifluoromethyl)-</td>\n",
       "      <td>67.000</td>\n",
       "      <td>3.477450</td>\n",
       "      <td>NaN</td>\n",
       "      <td>NaN</td>\n",
       "      <td>12.40</td>\n",
       "      <td>4.210103</td>\n",
       "      <td>Below_CI</td>\n",
       "      <td>NaN</td>\n",
       "      <td>NaN</td>\n",
       "      <td>-0.732653</td>\n",
       "      <td>201.152</td>\n",
       "      <td>NC1=CC2=C(C=C1)N=C(N2)C(F)(F)F</td>\n",
       "      <td>NC1=CC2=C(C=C1)N=C(N2)C(F)(F)F</td>\n",
       "    </tr>\n",
       "    <tr>\n",
       "      <th>4402</th>\n",
       "      <td>DTXSID60190173</td>\n",
       "      <td>3671-67-8</td>\n",
       "      <td>Benzimidazole, 5-tert-butyl-2-(trifluoromethyl)-</td>\n",
       "      <td>35.000</td>\n",
       "      <td>3.840187</td>\n",
       "      <td>NaN</td>\n",
       "      <td>NaN</td>\n",
       "      <td>14.90</td>\n",
       "      <td>4.211069</td>\n",
       "      <td>Below_CI</td>\n",
       "      <td>NaN</td>\n",
       "      <td>NaN</td>\n",
       "      <td>-0.370882</td>\n",
       "      <td>242.245</td>\n",
       "      <td>CC(C)(C)C1=CC2=C(C=C1)N=C(N2)C(F)(F)F</td>\n",
       "      <td>CC(C)(C)C1=CC2=C(C=C1)N=C(N2)C(F)(F)F</td>\n",
       "    </tr>\n",
       "    <tr>\n",
       "      <th>4496</th>\n",
       "      <td>DTXSID90191077</td>\n",
       "      <td>3765-86-4</td>\n",
       "      <td>Benzimidazole, 5-iodo-2-(trifluoromethyl)-</td>\n",
       "      <td>96.000</td>\n",
       "      <td>3.511931</td>\n",
       "      <td>NaN</td>\n",
       "      <td>NaN</td>\n",
       "      <td>19.20</td>\n",
       "      <td>4.210901</td>\n",
       "      <td>Below_CI</td>\n",
       "      <td>NaN</td>\n",
       "      <td>NaN</td>\n",
       "      <td>-0.698970</td>\n",
       "      <td>312.034</td>\n",
       "      <td>FC(F)(F)C1=NC2=C(N1)C=C(I)C=C2</td>\n",
       "      <td>FC(F)(F)C1=NC2=C(N1)C=C(I)C=C2</td>\n",
       "    </tr>\n",
       "    <tr>\n",
       "      <th>4652</th>\n",
       "      <td>DTXSID50192944</td>\n",
       "      <td>399-69-9</td>\n",
       "      <td>Benzimidazole, 2,5-bis(trifluoromethyl)-</td>\n",
       "      <td>9.016</td>\n",
       "      <td>4.450051</td>\n",
       "      <td>NaN</td>\n",
       "      <td>NaN</td>\n",
       "      <td>15.70</td>\n",
       "      <td>4.209165</td>\n",
       "      <td>Within_CI</td>\n",
       "      <td>NaN</td>\n",
       "      <td>NaN</td>\n",
       "      <td>0.240886</td>\n",
       "      <td>254.135</td>\n",
       "      <td>FC(F)(F)C1=NC2=C(N1)C=C(C=C2)C(F)(F)F</td>\n",
       "      <td>FC(F)(F)C1=NC2=C(N1)C=C(C=C2)C(F)(F)F</td>\n",
       "    </tr>\n",
       "    <tr>\n",
       "      <th>4653</th>\n",
       "      <td>DTXSID70192946</td>\n",
       "      <td>399-77-9</td>\n",
       "      <td>Benzimidazole, 5-methyl-2-(trifluoromethyl)-</td>\n",
       "      <td>63.000</td>\n",
       "      <td>3.502045</td>\n",
       "      <td>NaN</td>\n",
       "      <td>NaN</td>\n",
       "      <td>12.30</td>\n",
       "      <td>4.211481</td>\n",
       "      <td>Below_CI</td>\n",
       "      <td>NaN</td>\n",
       "      <td>NaN</td>\n",
       "      <td>-0.709435</td>\n",
       "      <td>200.164</td>\n",
       "      <td>CC1=CC2=C(C=C1)N=C(N2)C(F)(F)F</td>\n",
       "      <td>CC1=CC2=C(C=C1)N=C(N2)C(F)(F)F</td>\n",
       "    </tr>\n",
       "    <tr>\n",
       "      <th>4797</th>\n",
       "      <td>DTXSID20195109</td>\n",
       "      <td>4228-93-7</td>\n",
       "      <td>Benzimidazole, 4-bromo-5,6,7-trichloro-2-(trif...</td>\n",
       "      <td>4.122</td>\n",
       "      <td>4.951164</td>\n",
       "      <td>NaN</td>\n",
       "      <td>NaN</td>\n",
       "      <td>3.28</td>\n",
       "      <td>5.050399</td>\n",
       "      <td>Within_CI</td>\n",
       "      <td>NaN</td>\n",
       "      <td>NaN</td>\n",
       "      <td>-0.099234</td>\n",
       "      <td>368.360</td>\n",
       "      <td>FC(F)(F)C1=NC2=C(N1)C(Br)=C(Cl)C(Cl)=C2Cl</td>\n",
       "      <td>FC(F)(F)C1=NC2=C(N1)C(Br)=C(Cl)C(Cl)=C2Cl</td>\n",
       "    </tr>\n",
       "    <tr>\n",
       "      <th>4799</th>\n",
       "      <td>DTXSID90195111</td>\n",
       "      <td>4228-99-3</td>\n",
       "      <td>Benzimidazole, 5-methyl-4,6,7-trichloro-2-(tri...</td>\n",
       "      <td>18.286</td>\n",
       "      <td>4.220026</td>\n",
       "      <td>NaN</td>\n",
       "      <td>NaN</td>\n",
       "      <td>18.70</td>\n",
       "      <td>4.210303</td>\n",
       "      <td>Within_CI</td>\n",
       "      <td>NaN</td>\n",
       "      <td>NaN</td>\n",
       "      <td>0.009723</td>\n",
       "      <td>303.490</td>\n",
       "      <td>CC1=C(Cl)C2=C(N=C(N2)C(F)(F)F)C(Cl)=C1Cl</td>\n",
       "      <td>CC1=C(Cl)C2=C(N=C(N2)C(F)(F)F)C(Cl)=C1Cl</td>\n",
       "    </tr>\n",
       "    <tr>\n",
       "      <th>4935</th>\n",
       "      <td>DTXSID7052109</td>\n",
       "      <td>4584-46-7</td>\n",
       "      <td>(2-Chloroethyl)dimethylamine hydrochloride</td>\n",
       "      <td>238.000</td>\n",
       "      <td>2.781906</td>\n",
       "      <td>628.757405</td>\n",
       "      <td>2.36</td>\n",
       "      <td>6.48</td>\n",
       "      <td>4.346908</td>\n",
       "      <td>Below_CI</td>\n",
       "      <td>Above_CI</td>\n",
       "      <td>0.421906</td>\n",
       "      <td>-1.565002</td>\n",
       "      <td>144.040</td>\n",
       "      <td>CN(C)CCCl</td>\n",
       "      <td>Cl.CN(C)CCCl</td>\n",
       "    </tr>\n",
       "    <tr>\n",
       "      <th>5757</th>\n",
       "      <td>DTXSID80204185</td>\n",
       "      <td>55661-38-6</td>\n",
       "      <td>Nimustine hydrochloride</td>\n",
       "      <td>113.000</td>\n",
       "      <td>3.437091</td>\n",
       "      <td>354.951692</td>\n",
       "      <td>2.94</td>\n",
       "      <td>15.30</td>\n",
       "      <td>4.305478</td>\n",
       "      <td>Below_CI</td>\n",
       "      <td>Above_CI</td>\n",
       "      <td>0.497091</td>\n",
       "      <td>-0.868387</td>\n",
       "      <td>309.150</td>\n",
       "      <td>CC1=NC=C(CNC(=O)N(CCCl)N=O)C(N)=N1</td>\n",
       "      <td>Cl.CC1=NC=C(CNC(=O)N(CCCl)N=O)C(N)=N1</td>\n",
       "    </tr>\n",
       "    <tr>\n",
       "      <th>6276</th>\n",
       "      <td>DTXSID90208992</td>\n",
       "      <td>60244-69-1</td>\n",
       "      <td>Phosphoric acid, bis(2-methylpropyl) 1,6-dihyd...</td>\n",
       "      <td>36.000</td>\n",
       "      <td>3.967846</td>\n",
       "      <td>16.373747</td>\n",
       "      <td>4.31</td>\n",
       "      <td>6.52</td>\n",
       "      <td>4.709900</td>\n",
       "      <td>Below_CI</td>\n",
       "      <td>Below_CI</td>\n",
       "      <td>-0.342154</td>\n",
       "      <td>-0.742055</td>\n",
       "      <td>334.309</td>\n",
       "      <td>COC1=C(CN=NC1=O)OP(=O)(OCC(C)C)OCC(C)C</td>\n",
       "      <td>COC1=C(OP(=O)(OCC(C)C)OCC(C)C)C=NNC1=O</td>\n",
       "    </tr>\n",
       "    <tr>\n",
       "      <th>6386</th>\n",
       "      <td>DTXSID00210223</td>\n",
       "      <td>6132-17-8</td>\n",
       "      <td>Phosphoric acid, diethyl p-(methylsulfonyl)phe...</td>\n",
       "      <td>5.012</td>\n",
       "      <td>4.788934</td>\n",
       "      <td>NaN</td>\n",
       "      <td>NaN</td>\n",
       "      <td>6.01</td>\n",
       "      <td>4.710071</td>\n",
       "      <td>Within_CI</td>\n",
       "      <td>NaN</td>\n",
       "      <td>NaN</td>\n",
       "      <td>0.078863</td>\n",
       "      <td>308.280</td>\n",
       "      <td>CCOP(=O)(OCC)OC1=CC=C(C=C1)S(C)(=O)=O</td>\n",
       "      <td>CCOP(=O)(OCC)OC1=CC=C(C=C1)S(C)(=O)=O</td>\n",
       "    </tr>\n",
       "    <tr>\n",
       "      <th>6698</th>\n",
       "      <td>DTXSID40213536</td>\n",
       "      <td>63905-05-5</td>\n",
       "      <td>Methylamine, N-(2-chloroethyl)-N-(2-hydroxyeth...</td>\n",
       "      <td>80.000</td>\n",
       "      <td>3.337634</td>\n",
       "      <td>2141.528849</td>\n",
       "      <td>1.91</td>\n",
       "      <td>5.23</td>\n",
       "      <td>4.522222</td>\n",
       "      <td>Below_CI</td>\n",
       "      <td>Above_CI</td>\n",
       "      <td>1.427634</td>\n",
       "      <td>-1.184588</td>\n",
       "      <td>174.070</td>\n",
       "      <td>CN(CCO)CCCl</td>\n",
       "      <td>Cl.CN(CCO)CCCl</td>\n",
       "    </tr>\n",
       "    <tr>\n",
       "      <th>6933</th>\n",
       "      <td>DTXSID80215857</td>\n",
       "      <td>656-49-5</td>\n",
       "      <td>Benzimidazole, 5-chloro-2-(trifluoromethyl)-</td>\n",
       "      <td>6.817</td>\n",
       "      <td>4.509973</td>\n",
       "      <td>NaN</td>\n",
       "      <td>NaN</td>\n",
       "      <td>13.60</td>\n",
       "      <td>4.210027</td>\n",
       "      <td>Above_CI</td>\n",
       "      <td>NaN</td>\n",
       "      <td>NaN</td>\n",
       "      <td>0.299946</td>\n",
       "      <td>220.580</td>\n",
       "      <td>FC(F)(F)C1=NC2=C(N1)C=C(Cl)C=C2</td>\n",
       "      <td>FC(F)(F)C1=NC2=C(N1)C=C(Cl)C=C2</td>\n",
       "    </tr>\n",
       "    <tr>\n",
       "      <th>7209</th>\n",
       "      <td>DTXSID9034816</td>\n",
       "      <td>6923-22-4</td>\n",
       "      <td>Monocrotophos</td>\n",
       "      <td>18.000</td>\n",
       "      <td>4.093354</td>\n",
       "      <td>NaN</td>\n",
       "      <td>NaN</td>\n",
       "      <td>4.35</td>\n",
       "      <td>4.710137</td>\n",
       "      <td>Below_CI</td>\n",
       "      <td>NaN</td>\n",
       "      <td>NaN</td>\n",
       "      <td>-0.616783</td>\n",
       "      <td>223.165</td>\n",
       "      <td>[H]C(C(=O)NC)=C(C)OP(=O)(OC)OC</td>\n",
       "      <td>CNC(=O)\\C=C(/C)OP(=O)(OC)OC</td>\n",
       "    </tr>\n",
       "    <tr>\n",
       "      <th>7635</th>\n",
       "      <td>DTXSID60996591</td>\n",
       "      <td>75096-86-5</td>\n",
       "      <td>2-[{[(2,2-Dimethyl-2,3-dihydro-1-benzofuran-7-...</td>\n",
       "      <td>33.590</td>\n",
       "      <td>4.026276</td>\n",
       "      <td>98.284651</td>\n",
       "      <td>3.56</td>\n",
       "      <td>35.20</td>\n",
       "      <td>4.005943</td>\n",
       "      <td>Within_CI</td>\n",
       "      <td>Above_CI</td>\n",
       "      <td>0.466276</td>\n",
       "      <td>0.020333</td>\n",
       "      <td>356.850</td>\n",
       "      <td>CN(C(=O)C[N+](C)(C)C)C(=O)OC1=CC=CC2=C1OC(C)(C)C2</td>\n",
       "      <td>[Cl-].CN(C(=O)C[N+](C)(C)C)C(=O)OC1=CC=CC2=C1O...</td>\n",
       "    </tr>\n",
       "    <tr>\n",
       "      <th>7814</th>\n",
       "      <td>DTXSID2032683</td>\n",
       "      <td>7786-34-7</td>\n",
       "      <td>Mevinphos</td>\n",
       "      <td>3.000</td>\n",
       "      <td>4.873416</td>\n",
       "      <td>NaN</td>\n",
       "      <td>NaN</td>\n",
       "      <td>6.61</td>\n",
       "      <td>4.530335</td>\n",
       "      <td>Above_CI</td>\n",
       "      <td>NaN</td>\n",
       "      <td>NaN</td>\n",
       "      <td>0.343080</td>\n",
       "      <td>224.149</td>\n",
       "      <td>COC(=O)C=C(C)OP(=O)(OC)OC</td>\n",
       "      <td>COC(=O)C=C(C)OP(=O)(OC)OC</td>\n",
       "    </tr>\n",
       "    <tr>\n",
       "      <th>8124</th>\n",
       "      <td>DTXSID40232121</td>\n",
       "      <td>83003-97-8</td>\n",
       "      <td>Acetamide, N-(2-(trifluoromethyl)-5-benzimidaz...</td>\n",
       "      <td>23.764</td>\n",
       "      <td>4.010024</td>\n",
       "      <td>NaN</td>\n",
       "      <td>NaN</td>\n",
       "      <td>15.00</td>\n",
       "      <td>4.209853</td>\n",
       "      <td>Within_CI</td>\n",
       "      <td>NaN</td>\n",
       "      <td>NaN</td>\n",
       "      <td>-0.199828</td>\n",
       "      <td>243.189</td>\n",
       "      <td>CC(=O)NC1=CC2=C(C=C1)N=C(N2)C(F)(F)F</td>\n",
       "      <td>CC(=O)NC1=CC2=C(C=C1)N=C(N2)C(F)(F)F</td>\n",
       "    </tr>\n",
       "    <tr>\n",
       "      <th>8382</th>\n",
       "      <td>DTXSID70237649</td>\n",
       "      <td>89426-87-9</td>\n",
       "      <td>Benzimidazole, 5-ethyl-2-(trifluoromethyl)-</td>\n",
       "      <td>28.000</td>\n",
       "      <td>3.883643</td>\n",
       "      <td>NaN</td>\n",
       "      <td>NaN</td>\n",
       "      <td>13.20</td>\n",
       "      <td>4.210227</td>\n",
       "      <td>Below_CI</td>\n",
       "      <td>NaN</td>\n",
       "      <td>NaN</td>\n",
       "      <td>-0.326584</td>\n",
       "      <td>214.191</td>\n",
       "      <td>CCC1=CC2=C(C=C1)N=C(N2)C(F)(F)F</td>\n",
       "      <td>CCC1=CC2=C(C=C1)N=C(N2)C(F)(F)F</td>\n",
       "    </tr>\n",
       "    <tr>\n",
       "      <th>8383</th>\n",
       "      <td>DTXSID80237650</td>\n",
       "      <td>89426-88-0</td>\n",
       "      <td>Benzimidazole-5-carboxylic acid, 2-(trifluorom...</td>\n",
       "      <td>22.318</td>\n",
       "      <td>4.039042</td>\n",
       "      <td>NaN</td>\n",
       "      <td>NaN</td>\n",
       "      <td>15.10</td>\n",
       "      <td>4.208721</td>\n",
       "      <td>Within_CI</td>\n",
       "      <td>NaN</td>\n",
       "      <td>NaN</td>\n",
       "      <td>-0.169678</td>\n",
       "      <td>244.173</td>\n",
       "      <td>COC(=O)C1=CC2=C(C=C1)N=C(N2)C(F)(F)F</td>\n",
       "      <td>COC(=O)C1=CC2=C(C=C1)N=C(N2)C(F)(F)F</td>\n",
       "    </tr>\n",
       "    <tr>\n",
       "      <th>8384</th>\n",
       "      <td>DTXSID40237651</td>\n",
       "      <td>89426-89-1</td>\n",
       "      <td>Benzimidazole-5-carboxamide, 2-(trifluoromethyl)-</td>\n",
       "      <td>31.632</td>\n",
       "      <td>3.860016</td>\n",
       "      <td>NaN</td>\n",
       "      <td>NaN</td>\n",
       "      <td>14.10</td>\n",
       "      <td>4.210923</td>\n",
       "      <td>Below_CI</td>\n",
       "      <td>NaN</td>\n",
       "      <td>NaN</td>\n",
       "      <td>-0.350908</td>\n",
       "      <td>229.162</td>\n",
       "      <td>NC(=O)C1=CC2=C(C=C1)N=C(N2)C(F)(F)F</td>\n",
       "      <td>NC(=O)C1=CC2=C(C=C1)N=C(N2)C(F)(F)F</td>\n",
       "    </tr>\n",
       "    <tr>\n",
       "      <th>8385</th>\n",
       "      <td>DTXSID00237652</td>\n",
       "      <td>89426-90-4</td>\n",
       "      <td>Benzimidazol-5-ol, 2-(trifluoromethyl)-</td>\n",
       "      <td>41.000</td>\n",
       "      <td>3.692860</td>\n",
       "      <td>NaN</td>\n",
       "      <td>NaN</td>\n",
       "      <td>12.50</td>\n",
       "      <td>4.208734</td>\n",
       "      <td>Below_CI</td>\n",
       "      <td>NaN</td>\n",
       "      <td>NaN</td>\n",
       "      <td>-0.515874</td>\n",
       "      <td>202.136</td>\n",
       "      <td>OC1=CC2=C(C=C1)N=C(N2)C(F)(F)F</td>\n",
       "      <td>OC1=CC2=C(C=C1)N=C(N2)C(F)(F)F</td>\n",
       "    </tr>\n",
       "    <tr>\n",
       "      <th>8386</th>\n",
       "      <td>DTXSID60237653</td>\n",
       "      <td>89426-91-5</td>\n",
       "      <td>5-Benzimidazolesulfonamide, 2-(trifluoromethyl)-</td>\n",
       "      <td>21.000</td>\n",
       "      <td>4.101371</td>\n",
       "      <td>NaN</td>\n",
       "      <td>NaN</td>\n",
       "      <td>16.40</td>\n",
       "      <td>4.208746</td>\n",
       "      <td>Within_CI</td>\n",
       "      <td>NaN</td>\n",
       "      <td>NaN</td>\n",
       "      <td>-0.107375</td>\n",
       "      <td>265.210</td>\n",
       "      <td>NS(=O)(=O)C1=CC2=C(C=C1)N=C(N2)C(F)(F)F</td>\n",
       "      <td>NS(=O)(=O)C1=CC2=C(C=C1)N=C(N2)C(F)(F)F</td>\n",
       "    </tr>\n",
       "    <tr>\n",
       "      <th>8387</th>\n",
       "      <td>DTXSID20237654</td>\n",
       "      <td>89426-92-6</td>\n",
       "      <td>Benzimidazole, 5-phenyl-2-(trifluoromethyl)-</td>\n",
       "      <td>69.000</td>\n",
       "      <td>3.579842</td>\n",
       "      <td>NaN</td>\n",
       "      <td>NaN</td>\n",
       "      <td>16.20</td>\n",
       "      <td>4.209176</td>\n",
       "      <td>Below_CI</td>\n",
       "      <td>NaN</td>\n",
       "      <td>NaN</td>\n",
       "      <td>-0.629334</td>\n",
       "      <td>262.235</td>\n",
       "      <td>FC(F)(F)C1=NC2=C(N1)C=C(C=C2)C1=CC=CC=C1</td>\n",
       "      <td>FC(F)(F)C1=NC2=C(N1)C=C(C=C2)C1=CC=CC=C1</td>\n",
       "    </tr>\n",
       "    <tr>\n",
       "      <th>8388</th>\n",
       "      <td>DTXSID80237655</td>\n",
       "      <td>89426-93-7</td>\n",
       "      <td>Benzimidazole, 4,6-difluoro-2-(trifluoromethyl)-</td>\n",
       "      <td>2.492</td>\n",
       "      <td>4.950036</td>\n",
       "      <td>NaN</td>\n",
       "      <td>NaN</td>\n",
       "      <td>13.70</td>\n",
       "      <td>4.209863</td>\n",
       "      <td>Above_CI</td>\n",
       "      <td>NaN</td>\n",
       "      <td>NaN</td>\n",
       "      <td>0.740173</td>\n",
       "      <td>222.118</td>\n",
       "      <td>FC1=CC2=C(N=C(N2)C(F)(F)F)C(F)=C1</td>\n",
       "      <td>FC1=CC2=C(N=C(N2)C(F)(F)F)C(F)=C1</td>\n",
       "    </tr>\n",
       "    <tr>\n",
       "      <th>8392</th>\n",
       "      <td>DTXSID20237659</td>\n",
       "      <td>89426-97-1</td>\n",
       "      <td>Benzimidazole, 4-chloro-6-fluoro-2-(trifluorom...</td>\n",
       "      <td>1.984</td>\n",
       "      <td>5.080074</td>\n",
       "      <td>NaN</td>\n",
       "      <td>NaN</td>\n",
       "      <td>14.70</td>\n",
       "      <td>4.210298</td>\n",
       "      <td>Above_CI</td>\n",
       "      <td>NaN</td>\n",
       "      <td>NaN</td>\n",
       "      <td>0.869776</td>\n",
       "      <td>238.570</td>\n",
       "      <td>FC1=CC2=C(N=C(N2)C(F)(F)F)C(Cl)=C1</td>\n",
       "      <td>FC1=CC2=C(N=C(N2)C(F)(F)F)C(Cl)=C1</td>\n",
       "    </tr>\n",
       "    <tr>\n",
       "      <th>8393</th>\n",
       "      <td>DTXSID30237660</td>\n",
       "      <td>89426-98-2</td>\n",
       "      <td>Benzimidazole, 4-bromo-6-fluoro-2-(trifluorome...</td>\n",
       "      <td>5.647</td>\n",
       "      <td>4.700005</td>\n",
       "      <td>NaN</td>\n",
       "      <td>NaN</td>\n",
       "      <td>17.50</td>\n",
       "      <td>4.208785</td>\n",
       "      <td>Above_CI</td>\n",
       "      <td>NaN</td>\n",
       "      <td>NaN</td>\n",
       "      <td>0.491220</td>\n",
       "      <td>283.024</td>\n",
       "      <td>FC1=CC2=C(N=C(N2)C(F)(F)F)C(Br)=C1</td>\n",
       "      <td>FC1=CC2=C(N=C(N2)C(F)(F)F)C(Br)=C1</td>\n",
       "    </tr>\n",
       "    <tr>\n",
       "      <th>8401</th>\n",
       "      <td>DTXSID10237668</td>\n",
       "      <td>89427-06-5</td>\n",
       "      <td>Benzimidazole, 4-bromo-6-tert-butyl-2-(trifluo...</td>\n",
       "      <td>161.000</td>\n",
       "      <td>3.299870</td>\n",
       "      <td>NaN</td>\n",
       "      <td>NaN</td>\n",
       "      <td>19.80</td>\n",
       "      <td>4.210031</td>\n",
       "      <td>Below_CI</td>\n",
       "      <td>NaN</td>\n",
       "      <td>NaN</td>\n",
       "      <td>-0.910161</td>\n",
       "      <td>321.141</td>\n",
       "      <td>CC(C)(C)C1=CC2=C(N=C(N2)C(F)(F)F)C(Br)=C1</td>\n",
       "      <td>CC(C)(C)C1=CC2=C(N=C(N2)C(F)(F)F)C(Br)=C1</td>\n",
       "    </tr>\n",
       "    <tr>\n",
       "      <th>8410</th>\n",
       "      <td>DTXSID00237677</td>\n",
       "      <td>89427-15-6</td>\n",
       "      <td>Benzimidazole, 4,5,7-trifluoro-2-(trifluoromet...</td>\n",
       "      <td>2.293</td>\n",
       "      <td>5.020003</td>\n",
       "      <td>NaN</td>\n",
       "      <td>NaN</td>\n",
       "      <td>14.80</td>\n",
       "      <td>4.210145</td>\n",
       "      <td>Above_CI</td>\n",
       "      <td>NaN</td>\n",
       "      <td>NaN</td>\n",
       "      <td>0.809858</td>\n",
       "      <td>240.108</td>\n",
       "      <td>FC1=CC(F)=C(F)C2=C1N=C(N2)C(F)(F)F</td>\n",
       "      <td>FC1=CC(F)=C(F)C2=C1N=C(N2)C(F)(F)F</td>\n",
       "    </tr>\n",
       "    <tr>\n",
       "      <th>8418</th>\n",
       "      <td>DTXSID201008807</td>\n",
       "      <td>89427-23-6</td>\n",
       "      <td>5-Chloro-6-methyl-7-nitro-2-(trifluoromethyl)-...</td>\n",
       "      <td>31.371</td>\n",
       "      <td>3.950009</td>\n",
       "      <td>NaN</td>\n",
       "      <td>NaN</td>\n",
       "      <td>17.20</td>\n",
       "      <td>4.211009</td>\n",
       "      <td>Below_CI</td>\n",
       "      <td>NaN</td>\n",
       "      <td>NaN</td>\n",
       "      <td>-0.261000</td>\n",
       "      <td>279.600</td>\n",
       "      <td>CC1=C(C2=C(C=C1Cl)N=C(N2)C(F)(F)F)N(=O)=O</td>\n",
       "      <td>CC1=C(C2=C(C=C1Cl)N=C(N2)C(F)(F)F)N(=O)=O</td>\n",
       "    </tr>\n",
       "    <tr>\n",
       "      <th>8419</th>\n",
       "      <td>DTXSID901008808</td>\n",
       "      <td>89427-24-7</td>\n",
       "      <td>5-Bromo-6-methyl-7-nitro-2-(trifluoromethyl)-1...</td>\n",
       "      <td>83.000</td>\n",
       "      <td>3.591543</td>\n",
       "      <td>NaN</td>\n",
       "      <td>NaN</td>\n",
       "      <td>20.00</td>\n",
       "      <td>4.209591</td>\n",
       "      <td>Below_CI</td>\n",
       "      <td>NaN</td>\n",
       "      <td>NaN</td>\n",
       "      <td>-0.618048</td>\n",
       "      <td>324.057</td>\n",
       "      <td>CC1=C(C2=C(C=C1Br)N=C(N2)C(F)(F)F)N(=O)=O</td>\n",
       "      <td>CC1=C(C2=C(C=C1Br)N=C(N2)C(F)(F)F)N(=O)=O</td>\n",
       "    </tr>\n",
       "    <tr>\n",
       "      <th>8421</th>\n",
       "      <td>DTXSID601008809</td>\n",
       "      <td>89427-26-9</td>\n",
       "      <td>4,5,6-Trichloro-7-fluoro-2-(trifluoromethyl)-1...</td>\n",
       "      <td>0.847</td>\n",
       "      <td>5.559891</td>\n",
       "      <td>NaN</td>\n",
       "      <td>NaN</td>\n",
       "      <td>2.74</td>\n",
       "      <td>5.050024</td>\n",
       "      <td>Above_CI</td>\n",
       "      <td>NaN</td>\n",
       "      <td>NaN</td>\n",
       "      <td>0.509867</td>\n",
       "      <td>307.450</td>\n",
       "      <td>FC1=C2NC(=NC2=C(Cl)C(Cl)=C1Cl)C(F)(F)F</td>\n",
       "      <td>FC1=C2NC(=NC2=C(Cl)C(Cl)=C1Cl)C(F)(F)F</td>\n",
       "    </tr>\n",
       "    <tr>\n",
       "      <th>8423</th>\n",
       "      <td>DTXSID90237686</td>\n",
       "      <td>89427-28-1</td>\n",
       "      <td>Benzimidazole, 5,7-dibromo-4,6-difluoro-2-(tri...</td>\n",
       "      <td>7.234</td>\n",
       "      <td>4.720302</td>\n",
       "      <td>NaN</td>\n",
       "      <td>NaN</td>\n",
       "      <td>3.39</td>\n",
       "      <td>5.049481</td>\n",
       "      <td>Below_CI</td>\n",
       "      <td>NaN</td>\n",
       "      <td>NaN</td>\n",
       "      <td>-0.329179</td>\n",
       "      <td>379.910</td>\n",
       "      <td>FC1=C(Br)C(F)=C(Br)C2=C1N=C(N2)C(F)(F)F</td>\n",
       "      <td>FC1=C(Br)C(F)=C(Br)C2=C1N=C(N2)C(F)(F)F</td>\n",
       "    </tr>\n",
       "    <tr>\n",
       "      <th>8424</th>\n",
       "      <td>DTXSID50237687</td>\n",
       "      <td>89427-29-2</td>\n",
       "      <td>Benzimidazole, 6-fluoro-4,5,7-tribromo-2-(trif...</td>\n",
       "      <td>9.644</td>\n",
       "      <td>4.660000</td>\n",
       "      <td>NaN</td>\n",
       "      <td>NaN</td>\n",
       "      <td>3.93</td>\n",
       "      <td>5.049865</td>\n",
       "      <td>Below_CI</td>\n",
       "      <td>NaN</td>\n",
       "      <td>NaN</td>\n",
       "      <td>-0.389865</td>\n",
       "      <td>440.816</td>\n",
       "      <td>FC1=C(Br)C2=C(N=C(N2)C(F)(F)F)C(Br)=C1Br</td>\n",
       "      <td>FC1=C(Br)C2=C(N=C(N2)C(F)(F)F)C(Br)=C1Br</td>\n",
       "    </tr>\n",
       "    <tr>\n",
       "      <th>8426</th>\n",
       "      <td>DTXSID70237689</td>\n",
       "      <td>89427-31-6</td>\n",
       "      <td>Benzimidazole, 5-methyl-4,6,7-trifluoro-2-(tri...</td>\n",
       "      <td>3.936</td>\n",
       "      <td>4.810009</td>\n",
       "      <td>NaN</td>\n",
       "      <td>NaN</td>\n",
       "      <td>15.70</td>\n",
       "      <td>4.209165</td>\n",
       "      <td>Above_CI</td>\n",
       "      <td>NaN</td>\n",
       "      <td>NaN</td>\n",
       "      <td>0.600845</td>\n",
       "      <td>254.135</td>\n",
       "      <td>CC1=C(F)C2=C(N=C(N2)C(F)(F)F)C(F)=C1F</td>\n",
       "      <td>CC1=C(F)C2=C(N=C(N2)C(F)(F)F)C(F)=C1F</td>\n",
       "    </tr>\n",
       "    <tr>\n",
       "      <th>8428</th>\n",
       "      <td>DTXSID40237691</td>\n",
       "      <td>89427-33-8</td>\n",
       "      <td>Benzimidazole, 4-chloro-5,7-dibromo-6-fluoro-2...</td>\n",
       "      <td>6.282</td>\n",
       "      <td>4.799992</td>\n",
       "      <td>NaN</td>\n",
       "      <td>NaN</td>\n",
       "      <td>3.53</td>\n",
       "      <td>5.050315</td>\n",
       "      <td>Below_CI</td>\n",
       "      <td>NaN</td>\n",
       "      <td>NaN</td>\n",
       "      <td>-0.250323</td>\n",
       "      <td>396.360</td>\n",
       "      <td>FC1=C(Br)C2=C(N=C(N2)C(F)(F)F)C(Cl)=C1Br</td>\n",
       "      <td>FC1=C(Br)C2=C(N=C(N2)C(F)(F)F)C(Cl)=C1Br</td>\n",
       "    </tr>\n",
       "    <tr>\n",
       "      <th>8429</th>\n",
       "      <td>DTXSID00237692</td>\n",
       "      <td>89427-34-9</td>\n",
       "      <td>Benzimidazole, 6,7-dibromo-4,5-dichloro-2-(tri...</td>\n",
       "      <td>3.434</td>\n",
       "      <td>5.079950</td>\n",
       "      <td>NaN</td>\n",
       "      <td>NaN</td>\n",
       "      <td>3.68</td>\n",
       "      <td>5.049902</td>\n",
       "      <td>Within_CI</td>\n",
       "      <td>NaN</td>\n",
       "      <td>NaN</td>\n",
       "      <td>0.030048</td>\n",
       "      <td>412.810</td>\n",
       "      <td>FC(F)(F)C1=NC2=C(N1)C(Br)=C(Br)C(Cl)=C2Cl</td>\n",
       "      <td>FC(F)(F)C1=NC2=C(N1)C(Br)=C(Br)C(Cl)=C2Cl</td>\n",
       "    </tr>\n",
       "    <tr>\n",
       "      <th>8430</th>\n",
       "      <td>DTXSID60237693</td>\n",
       "      <td>89427-35-0</td>\n",
       "      <td>Benzimidazole, 4-chloro-5,6,7-tribromo-2-(trif...</td>\n",
       "      <td>5.250</td>\n",
       "      <td>4.940013</td>\n",
       "      <td>NaN</td>\n",
       "      <td>NaN</td>\n",
       "      <td>4.08</td>\n",
       "      <td>5.049513</td>\n",
       "      <td>Within_CI</td>\n",
       "      <td>NaN</td>\n",
       "      <td>NaN</td>\n",
       "      <td>-0.109499</td>\n",
       "      <td>457.270</td>\n",
       "      <td>FC(F)(F)C1=NC2=C(N1)C(Br)=C(Br)C(Br)=C2Cl</td>\n",
       "      <td>FC(F)(F)C1=NC2=C(N1)C(Br)=C(Br)C(Br)=C2Cl</td>\n",
       "    </tr>\n",
       "    <tr>\n",
       "      <th>8438</th>\n",
       "      <td>DTXSID30237701</td>\n",
       "      <td>89427-43-0</td>\n",
       "      <td>Benzimidazole, 4-(dimethylamino)-5,6,7-trichlo...</td>\n",
       "      <td>22.000</td>\n",
       "      <td>4.179408</td>\n",
       "      <td>NaN</td>\n",
       "      <td>NaN</td>\n",
       "      <td>20.50</td>\n",
       "      <td>4.210077</td>\n",
       "      <td>Within_CI</td>\n",
       "      <td>NaN</td>\n",
       "      <td>NaN</td>\n",
       "      <td>-0.030669</td>\n",
       "      <td>332.530</td>\n",
       "      <td>CN(C)C1=C(Cl)C(Cl)=C(Cl)C2=C1NC(=N2)C(F)(F)F</td>\n",
       "      <td>CN(C)C1=C(Cl)C(Cl)=C(Cl)C2=C1NC(=N2)C(F)(F)F</td>\n",
       "    </tr>\n",
       "    <tr>\n",
       "      <th>8443</th>\n",
       "      <td>DTXSID30237706</td>\n",
       "      <td>89427-48-5</td>\n",
       "      <td>Propionamide, N-(2-(trifluoromethyl)-5-benzimi...</td>\n",
       "      <td>8.919</td>\n",
       "      <td>4.459982</td>\n",
       "      <td>NaN</td>\n",
       "      <td>NaN</td>\n",
       "      <td>15.90</td>\n",
       "      <td>4.208901</td>\n",
       "      <td>Above_CI</td>\n",
       "      <td>NaN</td>\n",
       "      <td>NaN</td>\n",
       "      <td>0.251081</td>\n",
       "      <td>257.216</td>\n",
       "      <td>CCC(=O)NC1=CC2=C(C=C1)N=C(N2)C(F)(F)F</td>\n",
       "      <td>CCC(=O)NC1=CC2=C(C=C1)N=C(N2)C(F)(F)F</td>\n",
       "    </tr>\n",
       "    <tr>\n",
       "      <th>8444</th>\n",
       "      <td>DTXSID10237724</td>\n",
       "      <td>89457-09-0</td>\n",
       "      <td>Benzimidazole-5-carboxylic acid, 2-(trifluorom...</td>\n",
       "      <td>40.000</td>\n",
       "      <td>3.809896</td>\n",
       "      <td>NaN</td>\n",
       "      <td>NaN</td>\n",
       "      <td>15.90</td>\n",
       "      <td>4.210559</td>\n",
       "      <td>Below_CI</td>\n",
       "      <td>NaN</td>\n",
       "      <td>NaN</td>\n",
       "      <td>-0.400663</td>\n",
       "      <td>258.200</td>\n",
       "      <td>CCOC(=O)C1=CC2=C(C=C1)N=C(N2)C(F)(F)F</td>\n",
       "      <td>CCOC(=O)C1=CC2=C(C=C1)N=C(N2)C(F)(F)F</td>\n",
       "    </tr>\n",
       "  </tbody>\n",
       "</table>\n",
       "</div>"
      ],
      "text/plain": [
       "               DTXSID         CAS  \\\n",
       "174    DTXSID80144173  10176-39-3   \n",
       "1087    DTXSID3041875    122-10-1   \n",
       "1317   DTXSID70926647  13025-69-9   \n",
       "1359    DTXSID7021156  13171-21-6   \n",
       "1657   DTXSID40161482  14086-35-2   \n",
       "1670    DTXSID9023914    141-66-2   \n",
       "1678   DTXSID80161729  14143-09-0   \n",
       "1798   DTXSID00932872  14663-72-0   \n",
       "1806   DTXSID50163533  14689-56-6   \n",
       "2389   DTXSID30171272  18225-94-0   \n",
       "2483   DTXSID00172493  19016-29-6   \n",
       "3204   DTXSID80179703  24994-52-3   \n",
       "3281    DTXSID8058037  25601-84-7   \n",
       "3699    DTXSID0058358    298-01-1   \n",
       "4146   DTXSID50187552   3393-59-7   \n",
       "4147   DTXSID10187553   3393-60-0   \n",
       "4398   DTXSID70190169   3671-47-4   \n",
       "4399   DTXSID80190170   3671-60-1   \n",
       "4401   DTXSID00190172   3671-66-7   \n",
       "4402   DTXSID60190173   3671-67-8   \n",
       "4496   DTXSID90191077   3765-86-4   \n",
       "4652   DTXSID50192944    399-69-9   \n",
       "4653   DTXSID70192946    399-77-9   \n",
       "4797   DTXSID20195109   4228-93-7   \n",
       "4799   DTXSID90195111   4228-99-3   \n",
       "4935    DTXSID7052109   4584-46-7   \n",
       "5757   DTXSID80204185  55661-38-6   \n",
       "6276   DTXSID90208992  60244-69-1   \n",
       "6386   DTXSID00210223   6132-17-8   \n",
       "6698   DTXSID40213536  63905-05-5   \n",
       "6933   DTXSID80215857    656-49-5   \n",
       "7209    DTXSID9034816   6923-22-4   \n",
       "7635   DTXSID60996591  75096-86-5   \n",
       "7814    DTXSID2032683   7786-34-7   \n",
       "8124   DTXSID40232121  83003-97-8   \n",
       "8382   DTXSID70237649  89426-87-9   \n",
       "8383   DTXSID80237650  89426-88-0   \n",
       "8384   DTXSID40237651  89426-89-1   \n",
       "8385   DTXSID00237652  89426-90-4   \n",
       "8386   DTXSID60237653  89426-91-5   \n",
       "8387   DTXSID20237654  89426-92-6   \n",
       "8388   DTXSID80237655  89426-93-7   \n",
       "8392   DTXSID20237659  89426-97-1   \n",
       "8393   DTXSID30237660  89426-98-2   \n",
       "8401   DTXSID10237668  89427-06-5   \n",
       "8410   DTXSID00237677  89427-15-6   \n",
       "8418  DTXSID201008807  89427-23-6   \n",
       "8419  DTXSID901008808  89427-24-7   \n",
       "8421  DTXSID601008809  89427-26-9   \n",
       "8423   DTXSID90237686  89427-28-1   \n",
       "8424   DTXSID50237687  89427-29-2   \n",
       "8426   DTXSID70237689  89427-31-6   \n",
       "8428   DTXSID40237691  89427-33-8   \n",
       "8429   DTXSID00237692  89427-34-9   \n",
       "8430   DTXSID60237693  89427-35-0   \n",
       "8438   DTXSID30237701  89427-43-0   \n",
       "8443   DTXSID30237706  89427-48-5   \n",
       "8444   DTXSID10237724  89457-09-0   \n",
       "\n",
       "                                                   name  known_LD50_mgkg  \\\n",
       "174                                         Gitoformate           39.010   \n",
       "1087   Dimethyl 3-hydroxyglutaconate dimethyl phosphate           31.000   \n",
       "1317  1-(2-Chloroethyl)-1,1-dimethylhydrazin-1-ium c...         3400.000   \n",
       "1359                                       Phosphamidon            8.000   \n",
       "1657                              Fenthion oxon sulfone           30.000   \n",
       "1670                                        Dicrotophos            9.000   \n",
       "1678  Phosphoric acid, diethyl 3-methyl-4-(methylsul...            8.128   \n",
       "1798        Bis(2-chloropropyl) 4-nitrophenyl phosphate          173.000   \n",
       "1806  Benzimidazole, 5,7-dibromo-4,6-dichloro-2-(tri...            3.434   \n",
       "2389  Benzimidazole, 5-fluoro-4,6,7-trichloro-2-(tri...            2.386   \n",
       "2483  Benzimidazole, 5-(methylsulfonyl)-2-(trifluoro...           69.000   \n",
       "3204   Benzimidazol-6-ol, 5-chloro-2-(trifluoromethyl)-           55.456   \n",
       "3281                                     Methocrotophos            2.000   \n",
       "3699                                      (E)-Mevinphos            3.000   \n",
       "4146  Benzimidazole, 4,5,7-trichloro-2-(trifluoromet...            6.332   \n",
       "4147  Benzimidazole, 4,5,7-tribromo-2-(trifluorometh...           12.769   \n",
       "4398       Benzimidazole, 5-fluoro-2-(trifluoromethyl)-           16.591   \n",
       "4399        Benzimidazole, 5-bromo-2-(trifluoromethyl)-           49.000   \n",
       "4401        Benzimidazole, 5-amino-2-(trifluoromethyl)-           67.000   \n",
       "4402   Benzimidazole, 5-tert-butyl-2-(trifluoromethyl)-           35.000   \n",
       "4496         Benzimidazole, 5-iodo-2-(trifluoromethyl)-           96.000   \n",
       "4652           Benzimidazole, 2,5-bis(trifluoromethyl)-            9.016   \n",
       "4653       Benzimidazole, 5-methyl-2-(trifluoromethyl)-           63.000   \n",
       "4797  Benzimidazole, 4-bromo-5,6,7-trichloro-2-(trif...            4.122   \n",
       "4799  Benzimidazole, 5-methyl-4,6,7-trichloro-2-(tri...           18.286   \n",
       "4935         (2-Chloroethyl)dimethylamine hydrochloride          238.000   \n",
       "5757                            Nimustine hydrochloride          113.000   \n",
       "6276  Phosphoric acid, bis(2-methylpropyl) 1,6-dihyd...           36.000   \n",
       "6386  Phosphoric acid, diethyl p-(methylsulfonyl)phe...            5.012   \n",
       "6698  Methylamine, N-(2-chloroethyl)-N-(2-hydroxyeth...           80.000   \n",
       "6933       Benzimidazole, 5-chloro-2-(trifluoromethyl)-            6.817   \n",
       "7209                                      Monocrotophos           18.000   \n",
       "7635  2-[{[(2,2-Dimethyl-2,3-dihydro-1-benzofuran-7-...           33.590   \n",
       "7814                                          Mevinphos            3.000   \n",
       "8124  Acetamide, N-(2-(trifluoromethyl)-5-benzimidaz...           23.764   \n",
       "8382        Benzimidazole, 5-ethyl-2-(trifluoromethyl)-           28.000   \n",
       "8383  Benzimidazole-5-carboxylic acid, 2-(trifluorom...           22.318   \n",
       "8384  Benzimidazole-5-carboxamide, 2-(trifluoromethyl)-           31.632   \n",
       "8385            Benzimidazol-5-ol, 2-(trifluoromethyl)-           41.000   \n",
       "8386   5-Benzimidazolesulfonamide, 2-(trifluoromethyl)-           21.000   \n",
       "8387       Benzimidazole, 5-phenyl-2-(trifluoromethyl)-           69.000   \n",
       "8388   Benzimidazole, 4,6-difluoro-2-(trifluoromethyl)-            2.492   \n",
       "8392  Benzimidazole, 4-chloro-6-fluoro-2-(trifluorom...            1.984   \n",
       "8393  Benzimidazole, 4-bromo-6-fluoro-2-(trifluorome...            5.647   \n",
       "8401  Benzimidazole, 4-bromo-6-tert-butyl-2-(trifluo...          161.000   \n",
       "8410  Benzimidazole, 4,5,7-trifluoro-2-(trifluoromet...            2.293   \n",
       "8418  5-Chloro-6-methyl-7-nitro-2-(trifluoromethyl)-...           31.371   \n",
       "8419  5-Bromo-6-methyl-7-nitro-2-(trifluoromethyl)-1...           83.000   \n",
       "8421  4,5,6-Trichloro-7-fluoro-2-(trifluoromethyl)-1...            0.847   \n",
       "8423  Benzimidazole, 5,7-dibromo-4,6-difluoro-2-(tri...            7.234   \n",
       "8424  Benzimidazole, 6-fluoro-4,5,7-tribromo-2-(trif...            9.644   \n",
       "8426  Benzimidazole, 5-methyl-4,6,7-trifluoro-2-(tri...            3.936   \n",
       "8428  Benzimidazole, 4-chloro-5,7-dibromo-6-fluoro-2...            6.282   \n",
       "8429  Benzimidazole, 6,7-dibromo-4,5-dichloro-2-(tri...            3.434   \n",
       "8430  Benzimidazole, 4-chloro-5,6,7-tribromo-2-(trif...            5.250   \n",
       "8438  Benzimidazole, 4-(dimethylamino)-5,6,7-trichlo...           22.000   \n",
       "8443  Propionamide, N-(2-(trifluoromethyl)-5-benzimi...            8.919   \n",
       "8444  Benzimidazole-5-carboxylic acid, 2-(trifluorom...           40.000   \n",
       "\n",
       "      known_pLD50  TEST_LD50_mgkg  TEST_pLD50  TIMES_LD50_mgkg  TIMES_pLD50  \\\n",
       "174      4.379648       22.429711        4.62            14.80     4.800562   \n",
       "1087     3.959172             NaN         NaN             8.92     4.500169   \n",
       "1317     1.670055             NaN         NaN             7.45     4.329377   \n",
       "1359     4.573582             NaN         NaN             5.84     4.710259   \n",
       "1657     3.991610             NaN         NaN             5.74     4.709819   \n",
       "1670     4.420858             NaN         NaN             4.62     4.710458   \n",
       "1678     4.598290             NaN         NaN             6.28     4.710314   \n",
       "1798     3.332649             NaN         NaN             7.26     4.709758   \n",
       "1806     5.079950             NaN         NaN             3.68     5.049902   \n",
       "2389     5.110104             NaN         NaN             2.74     5.050024   \n",
       "2483     3.583117             NaN         NaN            16.30     4.209778   \n",
       "3204     3.630029             NaN         NaN            14.60     4.209625   \n",
       "3281     5.102418             NaN         NaN             4.94     4.709721   \n",
       "3699     4.873416             NaN         NaN             6.61     4.530335   \n",
       "4146     4.660048             NaN         NaN            17.80     4.211169   \n",
       "4147     4.520004             NaN         NaN            26.10     4.209520   \n",
       "4398     4.090030             NaN         NaN            12.60     4.209532   \n",
       "4399     3.733104             NaN         NaN            16.30     4.211112   \n",
       "4401     3.477450             NaN         NaN            12.40     4.210103   \n",
       "4402     3.840187             NaN         NaN            14.90     4.211069   \n",
       "4496     3.511931             NaN         NaN            19.20     4.210901   \n",
       "4652     4.450051             NaN         NaN            15.70     4.209165   \n",
       "4653     3.502045             NaN         NaN            12.30     4.211481   \n",
       "4797     4.951164             NaN         NaN             3.28     5.050399   \n",
       "4799     4.220026             NaN         NaN            18.70     4.210303   \n",
       "4935     2.781906      628.757405        2.36             6.48     4.346908   \n",
       "5757     3.437091      354.951692        2.94            15.30     4.305478   \n",
       "6276     3.967846       16.373747        4.31             6.52     4.709900   \n",
       "6386     4.788934             NaN         NaN             6.01     4.710071   \n",
       "6698     3.337634     2141.528849        1.91             5.23     4.522222   \n",
       "6933     4.509973             NaN         NaN            13.60     4.210027   \n",
       "7209     4.093354             NaN         NaN             4.35     4.710137   \n",
       "7635     4.026276       98.284651        3.56            35.20     4.005943   \n",
       "7814     4.873416             NaN         NaN             6.61     4.530335   \n",
       "8124     4.010024             NaN         NaN            15.00     4.209853   \n",
       "8382     3.883643             NaN         NaN            13.20     4.210227   \n",
       "8383     4.039042             NaN         NaN            15.10     4.208721   \n",
       "8384     3.860016             NaN         NaN            14.10     4.210923   \n",
       "8385     3.692860             NaN         NaN            12.50     4.208734   \n",
       "8386     4.101371             NaN         NaN            16.40     4.208746   \n",
       "8387     3.579842             NaN         NaN            16.20     4.209176   \n",
       "8388     4.950036             NaN         NaN            13.70     4.209863   \n",
       "8392     5.080074             NaN         NaN            14.70     4.210298   \n",
       "8393     4.700005             NaN         NaN            17.50     4.208785   \n",
       "8401     3.299870             NaN         NaN            19.80     4.210031   \n",
       "8410     5.020003             NaN         NaN            14.80     4.210145   \n",
       "8418     3.950009             NaN         NaN            17.20     4.211009   \n",
       "8419     3.591543             NaN         NaN            20.00     4.209591   \n",
       "8421     5.559891             NaN         NaN             2.74     5.050024   \n",
       "8423     4.720302             NaN         NaN             3.39     5.049481   \n",
       "8424     4.660000             NaN         NaN             3.93     5.049865   \n",
       "8426     4.810009             NaN         NaN            15.70     4.209165   \n",
       "8428     4.799992             NaN         NaN             3.53     5.050315   \n",
       "8429     5.079950             NaN         NaN             3.68     5.049902   \n",
       "8430     4.940013             NaN         NaN             4.08     5.049513   \n",
       "8438     4.179408             NaN         NaN            20.50     4.210077   \n",
       "8443     4.459982             NaN         NaN            15.90     4.208901   \n",
       "8444     3.809896             NaN         NaN            15.90     4.210559   \n",
       "\n",
       "          TIMES       TEST  known_pLD50_minus_TEST  known_pLD50_minus_TIMES  \\\n",
       "174    Below_CI  Within_CI               -0.240352                -0.420914   \n",
       "1087   Below_CI        NaN                     NaN                -0.540997   \n",
       "1317   Below_CI        NaN                     NaN                -2.659323   \n",
       "1359  Within_CI        NaN                     NaN                -0.136677   \n",
       "1657   Below_CI        NaN                     NaN                -0.718209   \n",
       "1670   Below_CI        NaN                     NaN                -0.289601   \n",
       "1678  Within_CI        NaN                     NaN                -0.112024   \n",
       "1798   Below_CI        NaN                     NaN                -1.377109   \n",
       "1806  Within_CI        NaN                     NaN                 0.030048   \n",
       "2389  Within_CI        NaN                     NaN                 0.060080   \n",
       "2483   Below_CI        NaN                     NaN                -0.626661   \n",
       "3204   Below_CI        NaN                     NaN                -0.579596   \n",
       "3281   Above_CI        NaN                     NaN                 0.392697   \n",
       "3699   Above_CI        NaN                     NaN                 0.343080   \n",
       "4146   Above_CI        NaN                     NaN                 0.448879   \n",
       "4147   Above_CI        NaN                     NaN                 0.310484   \n",
       "4398  Within_CI        NaN                     NaN                -0.119502   \n",
       "4399   Below_CI        NaN                     NaN                -0.478008   \n",
       "4401   Below_CI        NaN                     NaN                -0.732653   \n",
       "4402   Below_CI        NaN                     NaN                -0.370882   \n",
       "4496   Below_CI        NaN                     NaN                -0.698970   \n",
       "4652  Within_CI        NaN                     NaN                 0.240886   \n",
       "4653   Below_CI        NaN                     NaN                -0.709435   \n",
       "4797  Within_CI        NaN                     NaN                -0.099234   \n",
       "4799  Within_CI        NaN                     NaN                 0.009723   \n",
       "4935   Below_CI   Above_CI                0.421906                -1.565002   \n",
       "5757   Below_CI   Above_CI                0.497091                -0.868387   \n",
       "6276   Below_CI   Below_CI               -0.342154                -0.742055   \n",
       "6386  Within_CI        NaN                     NaN                 0.078863   \n",
       "6698   Below_CI   Above_CI                1.427634                -1.184588   \n",
       "6933   Above_CI        NaN                     NaN                 0.299946   \n",
       "7209   Below_CI        NaN                     NaN                -0.616783   \n",
       "7635  Within_CI   Above_CI                0.466276                 0.020333   \n",
       "7814   Above_CI        NaN                     NaN                 0.343080   \n",
       "8124  Within_CI        NaN                     NaN                -0.199828   \n",
       "8382   Below_CI        NaN                     NaN                -0.326584   \n",
       "8383  Within_CI        NaN                     NaN                -0.169678   \n",
       "8384   Below_CI        NaN                     NaN                -0.350908   \n",
       "8385   Below_CI        NaN                     NaN                -0.515874   \n",
       "8386  Within_CI        NaN                     NaN                -0.107375   \n",
       "8387   Below_CI        NaN                     NaN                -0.629334   \n",
       "8388   Above_CI        NaN                     NaN                 0.740173   \n",
       "8392   Above_CI        NaN                     NaN                 0.869776   \n",
       "8393   Above_CI        NaN                     NaN                 0.491220   \n",
       "8401   Below_CI        NaN                     NaN                -0.910161   \n",
       "8410   Above_CI        NaN                     NaN                 0.809858   \n",
       "8418   Below_CI        NaN                     NaN                -0.261000   \n",
       "8419   Below_CI        NaN                     NaN                -0.618048   \n",
       "8421   Above_CI        NaN                     NaN                 0.509867   \n",
       "8423   Below_CI        NaN                     NaN                -0.329179   \n",
       "8424   Below_CI        NaN                     NaN                -0.389865   \n",
       "8426   Above_CI        NaN                     NaN                 0.600845   \n",
       "8428   Below_CI        NaN                     NaN                -0.250323   \n",
       "8429  Within_CI        NaN                     NaN                 0.030048   \n",
       "8430  Within_CI        NaN                     NaN                -0.109499   \n",
       "8438  Within_CI        NaN                     NaN                -0.030669   \n",
       "8443   Above_CI        NaN                     NaN                 0.251081   \n",
       "8444   Below_CI        NaN                     NaN                -0.400663   \n",
       "\n",
       "      average_mass                                  qsar_ready_smiles  \\\n",
       "174        935.026  CC1OC(CC(OC(C)=O)C1OC=O)OC1C(C)OC(CC1OC=O)OC1C...   \n",
       "1087       282.185                   COC(=O)CC(OP(=O)(OC)OC)=CC(=O)OC   \n",
       "1317       159.050                                    C[N+](C)(N)CCCl   \n",
       "1359       299.690                 CCN(CC)C(=O)C(Cl)=C(C)OP(=O)(OC)OC   \n",
       "1657       294.260             COP(=O)(OC)OC1=CC(C)=C(C=C1)S(C)(=O)=O   \n",
       "1670       237.192                       COP(=O)(OC)OC(C)=CC(=O)N(C)C   \n",
       "1678       322.310           CCOP(=O)(OCC)OC1=CC(C)=C(C=C1)S(C)(=O)=O   \n",
       "1798       372.130       CC(Cl)COP(=O)(OCC(C)Cl)OC1=CC=C(C=C1)N(=O)=O   \n",
       "1806       412.810          FC(F)(F)C1=NC2=C(N1)C(Br)=C(Cl)C(Br)=C2Cl   \n",
       "2389       307.450           FC1=C(Cl)C2=C(N=C(N2)C(F)(F)F)C(Cl)=C1Cl   \n",
       "2483       264.220            CS(=O)(=O)C1=CC2=C(C=C1)N=C(N2)C(F)(F)F   \n",
       "3204       236.580                   OC1=C(Cl)C=C2NC(=NC2=C1)C(F)(F)F   \n",
       "3281       253.191                      CON(C)C(=O)C=C(C)OP(=O)(OC)OC   \n",
       "3699       224.149                          COC(=O)C=C(C)OP(=O)(OC)OC   \n",
       "4146       289.460              FC(F)(F)C1=NC2=C(N1)C(Cl)=C(Cl)C=C2Cl   \n",
       "4147       422.825              FC(F)(F)C1=NC2=C(N1)C(Br)=C(Br)C=C2Br   \n",
       "4398       204.128                     FC1=CC2=C(C=C1)N=C(N2)C(F)(F)F   \n",
       "4399       265.033                    FC(F)(F)C1=NC2=C(N1)C=C(Br)C=C2   \n",
       "4401       201.152                     NC1=CC2=C(C=C1)N=C(N2)C(F)(F)F   \n",
       "4402       242.245              CC(C)(C)C1=CC2=C(C=C1)N=C(N2)C(F)(F)F   \n",
       "4496       312.034                     FC(F)(F)C1=NC2=C(N1)C=C(I)C=C2   \n",
       "4652       254.135              FC(F)(F)C1=NC2=C(N1)C=C(C=C2)C(F)(F)F   \n",
       "4653       200.164                     CC1=CC2=C(C=C1)N=C(N2)C(F)(F)F   \n",
       "4797       368.360          FC(F)(F)C1=NC2=C(N1)C(Br)=C(Cl)C(Cl)=C2Cl   \n",
       "4799       303.490           CC1=C(Cl)C2=C(N=C(N2)C(F)(F)F)C(Cl)=C1Cl   \n",
       "4935       144.040                                          CN(C)CCCl   \n",
       "5757       309.150                 CC1=NC=C(CNC(=O)N(CCCl)N=O)C(N)=N1   \n",
       "6276       334.309             COC1=C(CN=NC1=O)OP(=O)(OCC(C)C)OCC(C)C   \n",
       "6386       308.280              CCOP(=O)(OCC)OC1=CC=C(C=C1)S(C)(=O)=O   \n",
       "6698       174.070                                        CN(CCO)CCCl   \n",
       "6933       220.580                    FC(F)(F)C1=NC2=C(N1)C=C(Cl)C=C2   \n",
       "7209       223.165                     [H]C(C(=O)NC)=C(C)OP(=O)(OC)OC   \n",
       "7635       356.850  CN(C(=O)C[N+](C)(C)C)C(=O)OC1=CC=CC2=C1OC(C)(C)C2   \n",
       "7814       224.149                          COC(=O)C=C(C)OP(=O)(OC)OC   \n",
       "8124       243.189               CC(=O)NC1=CC2=C(C=C1)N=C(N2)C(F)(F)F   \n",
       "8382       214.191                    CCC1=CC2=C(C=C1)N=C(N2)C(F)(F)F   \n",
       "8383       244.173               COC(=O)C1=CC2=C(C=C1)N=C(N2)C(F)(F)F   \n",
       "8384       229.162                NC(=O)C1=CC2=C(C=C1)N=C(N2)C(F)(F)F   \n",
       "8385       202.136                     OC1=CC2=C(C=C1)N=C(N2)C(F)(F)F   \n",
       "8386       265.210            NS(=O)(=O)C1=CC2=C(C=C1)N=C(N2)C(F)(F)F   \n",
       "8387       262.235           FC(F)(F)C1=NC2=C(N1)C=C(C=C2)C1=CC=CC=C1   \n",
       "8388       222.118                  FC1=CC2=C(N=C(N2)C(F)(F)F)C(F)=C1   \n",
       "8392       238.570                 FC1=CC2=C(N=C(N2)C(F)(F)F)C(Cl)=C1   \n",
       "8393       283.024                 FC1=CC2=C(N=C(N2)C(F)(F)F)C(Br)=C1   \n",
       "8401       321.141          CC(C)(C)C1=CC2=C(N=C(N2)C(F)(F)F)C(Br)=C1   \n",
       "8410       240.108                 FC1=CC(F)=C(F)C2=C1N=C(N2)C(F)(F)F   \n",
       "8418       279.600          CC1=C(C2=C(C=C1Cl)N=C(N2)C(F)(F)F)N(=O)=O   \n",
       "8419       324.057          CC1=C(C2=C(C=C1Br)N=C(N2)C(F)(F)F)N(=O)=O   \n",
       "8421       307.450             FC1=C2NC(=NC2=C(Cl)C(Cl)=C1Cl)C(F)(F)F   \n",
       "8423       379.910            FC1=C(Br)C(F)=C(Br)C2=C1N=C(N2)C(F)(F)F   \n",
       "8424       440.816           FC1=C(Br)C2=C(N=C(N2)C(F)(F)F)C(Br)=C1Br   \n",
       "8426       254.135              CC1=C(F)C2=C(N=C(N2)C(F)(F)F)C(F)=C1F   \n",
       "8428       396.360           FC1=C(Br)C2=C(N=C(N2)C(F)(F)F)C(Cl)=C1Br   \n",
       "8429       412.810          FC(F)(F)C1=NC2=C(N1)C(Br)=C(Br)C(Cl)=C2Cl   \n",
       "8430       457.270          FC(F)(F)C1=NC2=C(N1)C(Br)=C(Br)C(Br)=C2Cl   \n",
       "8438       332.530       CN(C)C1=C(Cl)C(Cl)=C(Cl)C2=C1NC(=N2)C(F)(F)F   \n",
       "8443       257.216              CCC(=O)NC1=CC2=C(C=C1)N=C(N2)C(F)(F)F   \n",
       "8444       258.200              CCOC(=O)C1=CC2=C(C=C1)N=C(N2)C(F)(F)F   \n",
       "\n",
       "                                                 smiles  \n",
       "174   C[C@H]1O[C@H](C[C@H](OC(C)=O)[C@@H]1OC=O)O[C@@...  \n",
       "1087                   COC(=O)CC(OP(=O)(OC)OC)=CC(=O)OC  \n",
       "1317                              [Cl-].C[N+](C)(N)CCCl  \n",
       "1359                 CCN(CC)C(=O)C(Cl)=C(C)OP(=O)(OC)OC  \n",
       "1657             COP(=O)(OC)OC1=CC(C)=C(C=C1)S(C)(=O)=O  \n",
       "1670                     COP(=O)(OC)O\\C(C)=C\\C(=O)N(C)C  \n",
       "1678           CCOP(=O)(OCC)OC1=CC(C)=C(C=C1)S(C)(=O)=O  \n",
       "1798       CC(Cl)COP(=O)(OCC(C)Cl)OC1=CC=C(C=C1)N(=O)=O  \n",
       "1806          FC(F)(F)C1=NC2=C(N1)C(Br)=C(Cl)C(Br)=C2Cl  \n",
       "2389           FC1=C(Cl)C2=C(N=C(N2)C(F)(F)F)C(Cl)=C1Cl  \n",
       "2483            CS(=O)(=O)C1=CC2=C(C=C1)N=C(N2)C(F)(F)F  \n",
       "3204                   OC1=C(Cl)C=C2NC(=NC2=C1)C(F)(F)F  \n",
       "3281                    CON(C)C(=O)\\C=C(/C)OP(=O)(OC)OC  \n",
       "3699                        COC(=O)\\C=C(/C)OP(=O)(OC)OC  \n",
       "4146              FC(F)(F)C1=NC2=C(N1)C(Cl)=C(Cl)C=C2Cl  \n",
       "4147              FC(F)(F)C1=NC2=C(N1)C(Br)=C(Br)C=C2Br  \n",
       "4398                     FC1=CC2=C(C=C1)N=C(N2)C(F)(F)F  \n",
       "4399                    FC(F)(F)C1=NC2=C(N1)C=C(Br)C=C2  \n",
       "4401                     NC1=CC2=C(C=C1)N=C(N2)C(F)(F)F  \n",
       "4402              CC(C)(C)C1=CC2=C(C=C1)N=C(N2)C(F)(F)F  \n",
       "4496                     FC(F)(F)C1=NC2=C(N1)C=C(I)C=C2  \n",
       "4652              FC(F)(F)C1=NC2=C(N1)C=C(C=C2)C(F)(F)F  \n",
       "4653                     CC1=CC2=C(C=C1)N=C(N2)C(F)(F)F  \n",
       "4797          FC(F)(F)C1=NC2=C(N1)C(Br)=C(Cl)C(Cl)=C2Cl  \n",
       "4799           CC1=C(Cl)C2=C(N=C(N2)C(F)(F)F)C(Cl)=C1Cl  \n",
       "4935                                       Cl.CN(C)CCCl  \n",
       "5757              Cl.CC1=NC=C(CNC(=O)N(CCCl)N=O)C(N)=N1  \n",
       "6276             COC1=C(OP(=O)(OCC(C)C)OCC(C)C)C=NNC1=O  \n",
       "6386              CCOP(=O)(OCC)OC1=CC=C(C=C1)S(C)(=O)=O  \n",
       "6698                                     Cl.CN(CCO)CCCl  \n",
       "6933                    FC(F)(F)C1=NC2=C(N1)C=C(Cl)C=C2  \n",
       "7209                        CNC(=O)\\C=C(/C)OP(=O)(OC)OC  \n",
       "7635  [Cl-].CN(C(=O)C[N+](C)(C)C)C(=O)OC1=CC=CC2=C1O...  \n",
       "7814                          COC(=O)C=C(C)OP(=O)(OC)OC  \n",
       "8124               CC(=O)NC1=CC2=C(C=C1)N=C(N2)C(F)(F)F  \n",
       "8382                    CCC1=CC2=C(C=C1)N=C(N2)C(F)(F)F  \n",
       "8383               COC(=O)C1=CC2=C(C=C1)N=C(N2)C(F)(F)F  \n",
       "8384                NC(=O)C1=CC2=C(C=C1)N=C(N2)C(F)(F)F  \n",
       "8385                     OC1=CC2=C(C=C1)N=C(N2)C(F)(F)F  \n",
       "8386            NS(=O)(=O)C1=CC2=C(C=C1)N=C(N2)C(F)(F)F  \n",
       "8387           FC(F)(F)C1=NC2=C(N1)C=C(C=C2)C1=CC=CC=C1  \n",
       "8388                  FC1=CC2=C(N=C(N2)C(F)(F)F)C(F)=C1  \n",
       "8392                 FC1=CC2=C(N=C(N2)C(F)(F)F)C(Cl)=C1  \n",
       "8393                 FC1=CC2=C(N=C(N2)C(F)(F)F)C(Br)=C1  \n",
       "8401          CC(C)(C)C1=CC2=C(N=C(N2)C(F)(F)F)C(Br)=C1  \n",
       "8410                 FC1=CC(F)=C(F)C2=C1N=C(N2)C(F)(F)F  \n",
       "8418          CC1=C(C2=C(C=C1Cl)N=C(N2)C(F)(F)F)N(=O)=O  \n",
       "8419          CC1=C(C2=C(C=C1Br)N=C(N2)C(F)(F)F)N(=O)=O  \n",
       "8421             FC1=C2NC(=NC2=C(Cl)C(Cl)=C1Cl)C(F)(F)F  \n",
       "8423            FC1=C(Br)C(F)=C(Br)C2=C1N=C(N2)C(F)(F)F  \n",
       "8424           FC1=C(Br)C2=C(N=C(N2)C(F)(F)F)C(Br)=C1Br  \n",
       "8426              CC1=C(F)C2=C(N=C(N2)C(F)(F)F)C(F)=C1F  \n",
       "8428           FC1=C(Br)C2=C(N=C(N2)C(F)(F)F)C(Cl)=C1Br  \n",
       "8429          FC(F)(F)C1=NC2=C(N1)C(Br)=C(Br)C(Cl)=C2Cl  \n",
       "8430          FC(F)(F)C1=NC2=C(N1)C(Br)=C(Br)C(Br)=C2Cl  \n",
       "8438       CN(C)C1=C(Cl)C(Cl)=C(Cl)C2=C1NC(=N2)C(F)(F)F  \n",
       "8443              CCC(=O)NC1=CC2=C(C=C1)N=C(N2)C(F)(F)F  \n",
       "8444              CCOC(=O)C1=CC2=C(C=C1)N=C(N2)C(F)(F)F  "
      ]
     },
     "execution_count": 226,
     "metadata": {},
     "output_type": "execute_result"
    }
   ],
   "source": [
    "TIMES_vs_expt_pLD50[TIMES_vs_expt_pLD50['TIMES_pLD50'] >4]"
   ]
  },
  {
   "cell_type": "code",
   "execution_count": 230,
   "metadata": {},
   "outputs": [
    {
     "data": {
      "text/plain": [
       "Below_CI     0.50\n",
       "Above_CI     0.35\n",
       "Within_CI    0.15\n",
       "Name: TEST, dtype: float64"
      ]
     },
     "execution_count": 230,
     "metadata": {},
     "output_type": "execute_result"
    }
   ],
   "source": [
    "TEST_vs_expt_pLD50[TEST_vs_expt_pLD50['TEST_pLD50'] >4]['TEST'].value_counts(normalize = True)"
   ]
  },
  {
   "cell_type": "code",
   "execution_count": 208,
   "metadata": {},
   "outputs": [
    {
     "data": {
      "text/html": [
       "<div>\n",
       "<style scoped>\n",
       "    .dataframe tbody tr th:only-of-type {\n",
       "        vertical-align: middle;\n",
       "    }\n",
       "\n",
       "    .dataframe tbody tr th {\n",
       "        vertical-align: top;\n",
       "    }\n",
       "\n",
       "    .dataframe thead th {\n",
       "        text-align: right;\n",
       "    }\n",
       "</style>\n",
       "<table border=\"1\" class=\"dataframe\">\n",
       "  <thead>\n",
       "    <tr style=\"text-align: right;\">\n",
       "      <th></th>\n",
       "      <th>DTXSID</th>\n",
       "      <th>CAS</th>\n",
       "      <th>name</th>\n",
       "      <th>known_LD50_mgkg</th>\n",
       "      <th>known_pLD50</th>\n",
       "      <th>TEST_LD50_mgkg</th>\n",
       "      <th>TEST_pLD50</th>\n",
       "      <th>TIMES_LD50_mgkg</th>\n",
       "      <th>TIMES_pLD50</th>\n",
       "      <th>TIMES</th>\n",
       "      <th>TEST</th>\n",
       "      <th>known_pLD50_minus_TEST</th>\n",
       "      <th>known_pLD50_minus_TIMES</th>\n",
       "      <th>average_mass</th>\n",
       "      <th>qsar_ready_smiles</th>\n",
       "      <th>smiles</th>\n",
       "    </tr>\n",
       "  </thead>\n",
       "  <tbody>\n",
       "    <tr>\n",
       "      <th>2604</th>\n",
       "      <td>DTXSID30941896</td>\n",
       "      <td>19974-69-7</td>\n",
       "      <td>3-[(1-Methylpiperidin-2-yl)(phenyl)methyl]phen...</td>\n",
       "      <td>1.000</td>\n",
       "      <td>5.502236</td>\n",
       "      <td>1668.152993</td>\n",
       "      <td>2.28</td>\n",
       "      <td>NaN</td>\n",
       "      <td>NaN</td>\n",
       "      <td>NaN</td>\n",
       "      <td>Above_CI</td>\n",
       "      <td>3.222236</td>\n",
       "      <td>NaN</td>\n",
       "      <td>317.86</td>\n",
       "      <td>CN1CCCCC1C(C1=CC=CC=C1)C1=CC(O)=CC=C1</td>\n",
       "      <td>Cl.CN1CCCCC1C(C1=CC=CC=C1)C1=CC(O)=CC=C1</td>\n",
       "    </tr>\n",
       "    <tr>\n",
       "      <th>3891</th>\n",
       "      <td>DTXSID7020558</td>\n",
       "      <td>316-42-7</td>\n",
       "      <td>Emetine dihydrochloride</td>\n",
       "      <td>0.012</td>\n",
       "      <td>7.663991</td>\n",
       "      <td>2203.801864</td>\n",
       "      <td>2.40</td>\n",
       "      <td>NaN</td>\n",
       "      <td>NaN</td>\n",
       "      <td>NaN</td>\n",
       "      <td>Above_CI</td>\n",
       "      <td>5.263991</td>\n",
       "      <td>NaN</td>\n",
       "      <td>553.57</td>\n",
       "      <td>CCC1CN2CCC3=C(C=C(OC)C(OC)=C3)C2CC1CC1NCCC2=CC...</td>\n",
       "      <td>Cl.Cl.CC[C@H]1CN2CCC3=C(C=C(OC)C(OC)=C3)[C@@H]...</td>\n",
       "    </tr>\n",
       "  </tbody>\n",
       "</table>\n",
       "</div>"
      ],
      "text/plain": [
       "              DTXSID         CAS  \\\n",
       "2604  DTXSID30941896  19974-69-7   \n",
       "3891   DTXSID7020558    316-42-7   \n",
       "\n",
       "                                                   name  known_LD50_mgkg  \\\n",
       "2604  3-[(1-Methylpiperidin-2-yl)(phenyl)methyl]phen...            1.000   \n",
       "3891                            Emetine dihydrochloride            0.012   \n",
       "\n",
       "      known_pLD50  TEST_LD50_mgkg  TEST_pLD50  TIMES_LD50_mgkg  TIMES_pLD50  \\\n",
       "2604     5.502236     1668.152993        2.28              NaN          NaN   \n",
       "3891     7.663991     2203.801864        2.40              NaN          NaN   \n",
       "\n",
       "     TIMES      TEST  known_pLD50_minus_TEST  known_pLD50_minus_TIMES  \\\n",
       "2604   NaN  Above_CI                3.222236                      NaN   \n",
       "3891   NaN  Above_CI                5.263991                      NaN   \n",
       "\n",
       "      average_mass                                  qsar_ready_smiles  \\\n",
       "2604        317.86              CN1CCCCC1C(C1=CC=CC=C1)C1=CC(O)=CC=C1   \n",
       "3891        553.57  CCC1CN2CCC3=C(C=C(OC)C(OC)=C3)C2CC1CC1NCCC2=CC...   \n",
       "\n",
       "                                                 smiles  \n",
       "2604           Cl.CN1CCCCC1C(C1=CC=CC=C1)C1=CC(O)=CC=C1  \n",
       "3891  Cl.Cl.CC[C@H]1CN2CCC3=C(C=C(OC)C(OC)=C3)[C@@H]...  "
      ]
     },
     "execution_count": 208,
     "metadata": {},
     "output_type": "execute_result"
    }
   ],
   "source": [
    "TEST_vs_expt_pLD50[TEST_vs_expt_pLD50['known_pLD50_minus_TEST'] >3]"
   ]
  },
  {
   "cell_type": "code",
   "execution_count": 198,
   "metadata": {},
   "outputs": [
    {
     "data": {
      "text/plain": [
       "Text(0,0.5,'Residuals')"
      ]
     },
     "execution_count": 198,
     "metadata": {},
     "output_type": "execute_result"
    },
    {
     "data": {
      "image/png": "[encoded data removed]",
      "text/plain": [
       "<Figure size 720x648 with 1 Axes>"
      ]
     },
     "metadata": {},
     "output_type": "display_data"
    }
   ],
   "source": [
    "plt.style.use('ggplot')\n",
    "fig, ax = plt.subplots(figsize = (10,9))\n",
    "TIMES_vs_expt_pLD50.plot(ax = ax, kind = 'scatter', x = 'TIMES_pLD50', y ='known_pLD50_minus_TIMES')\n",
    "abline(0,0)\n",
    "abline(0,0.24673953)\n",
    "abline(0,-0.24673953)\n",
    "plt.title('Residuals plot of TIMES predictions')\n",
    "plt.xlabel('TIMES LD50 (-log10(mol/kg))')\n",
    "plt.ylabel('Residuals')\n",
    "plt.savefig(figures_dir+'residuals_TIMES.png', dpi = 300)"
   ]
  },
  {
   "cell_type": "code",
   "execution_count": 60,
   "metadata": {},
   "outputs": [],
   "source": [
    "from sklearn.metrics import mean_squared_error as MSE\n",
    "from sklearn.metrics import r2_score\n",
    "from sklearn.metrics import mean_absolute_error"
   ]
  },
  {
   "cell_type": "code",
   "execution_count": 64,
   "metadata": {},
   "outputs": [],
   "source": [
    "rms_TIMES = MSE(TIMES_vs_expt_pLD50.known_pLD50, TIMES_vs_expt_pLD50.TIMES_pLD50)**0.5\n",
    "r_2_TIMES = r2_score(TIMES_vs_expt_pLD50.known_pLD50, TIMES_vs_expt_pLD50.TIMES_pLD50)\n",
    "mae_TIMES = mean_absolute_error(TIMES_vs_expt_pLD50.known_pLD50, TIMES_vs_expt_pLD50.TIMES_pLD50)"
   ]
  },
  {
   "cell_type": "code",
   "execution_count": 65,
   "metadata": {},
   "outputs": [],
   "source": [
    "rms_TEST = MSE(TEST_vs_expt_pLD50.known_pLD50, TEST_vs_expt_pLD50.TEST_pLD50)**0.5\n",
    "r_2_TEST = r2_score(TEST_vs_expt_pLD50.known_pLD50, TEST_vs_expt_pLD50.TEST_pLD50)\n",
    "mae_TEST = mean_absolute_error(TEST_vs_expt_pLD50.known_pLD50, TEST_vs_expt_pLD50.TEST_pLD50)"
   ]
  },
  {
   "cell_type": "code",
   "execution_count": 66,
   "metadata": {},
   "outputs": [
    {
     "name": "stdout",
     "output_type": "stream",
     "text": [
      "0.6198692001578542 0.5400955567692405 0.44740077120227323\n",
      "0.64203800813979 0.2959552087036845 0.46892488610406463\n"
     ]
    }
   ],
   "source": [
    "print(rms_TIMES, r_2_TIMES, mae_TIMES)\n",
    "print(rms_TEST, r_2_TEST, mae_TEST)"
   ]
  },
  {
   "cell_type": "code",
   "execution_count": 68,
   "metadata": {},
   "outputs": [
    {
     "data": {
      "text/plain": [
       "Index(['DTXSID', 'CAS', 'name', 'known_LD50_mgkg', 'known_pLD50',\n",
       "       'TEST_LD50_mgkg', 'TEST_pLD50', 'TIMES_LD50_mgkg', 'TIMES_pLD50',\n",
       "       'TIMES', 'TEST', 'known_pLD50_minus_TEST', 'known_pLD50_minus_TIMES',\n",
       "       'average_mass', 'qsar_ready_smiles', 'smiles',\n",
       "       'predicted_toxicological_category', 'molecular_initiating_event_1',\n",
       "       'effect_biological_outcome_1', 'molecular_initiating_event_2',\n",
       "       'effect_biological outcome_2', 'molecular_initiating_event_3',\n",
       "       'effect_biological outcome_3', 'alert_reliability', 'parameter_ranges',\n",
       "       'correct_fragments_structural_domain',\n",
       "       'incorrect_fragments_structural_domain',\n",
       "       'unknown_fragments_structural_domain', 'total_structural_domain',\n",
       "       'total_domain', 'acute_oral_toxicity_confidence'],\n",
       "      dtype='object')"
      ]
     },
     "execution_count": 68,
     "metadata": {},
     "output_type": "execute_result"
    }
   ],
   "source": [
    "relevant_acute_data.columns"
   ]
  },
  {
   "cell_type": "code",
   "execution_count": 73,
   "metadata": {},
   "outputs": [],
   "source": [
    "mask = (~relevant_acute_data['known_pLD50_minus_TEST'].isnull()) | (~relevant_acute_data['known_pLD50_minus_TIMES'].isnull())"
   ]
  },
  {
   "cell_type": "code",
   "execution_count": 97,
   "metadata": {},
   "outputs": [
    {
     "data": {
      "image/png": "[encoded data removed]",
      "text/plain": [
       "<Figure size 432x288 with 2 Axes>"
      ]
     },
     "metadata": {},
     "output_type": "display_data"
    }
   ],
   "source": [
    "sns.heatmap(relevant_acute_data[mask][['known_pLD50',\n",
    "       'TEST_pLD50', 'TIMES_pLD50']].corr(), annot = True)\n",
    "plt.yticks(rotation=0)\n",
    "#plt.title('Correlation of pairwise complete observations of TIMES/TEST predictions and experimental values')\n",
    "plt.tight_layout()\n",
    "plt.savefig(figures_dir+'corr_hm_all.png', dpi = 300)"
   ]
  },
  {
   "cell_type": "code",
   "execution_count": 83,
   "metadata": {},
   "outputs": [],
   "source": [
    "mask2 = (~relevant_acute_data['known_pLD50_minus_TEST'].isnull()) & (~relevant_acute_data['known_pLD50_minus_TIMES'].isnull())\n",
    "tt_overlap = relevant_acute_data[mask2]"
   ]
  },
  {
   "cell_type": "code",
   "execution_count": 84,
   "metadata": {},
   "outputs": [
    {
     "data": {
      "text/plain": [
       "(274, 31)"
      ]
     },
     "execution_count": 84,
     "metadata": {},
     "output_type": "execute_result"
    }
   ],
   "source": [
    "tt_overlap.shape"
   ]
  },
  {
   "cell_type": "code",
   "execution_count": 98,
   "metadata": {},
   "outputs": [
    {
     "data": {
      "image/png": "[encoded data removed]",
      "text/plain": [
       "<Figure size 720x648 with 1 Axes>"
      ]
     },
     "metadata": {},
     "output_type": "display_data"
    }
   ],
   "source": [
    "plt.style.use('ggplot')\n",
    "fig, ax = plt.subplots(figsize = (10,9))\n",
    "colours = {'Above_CI': 'red', 'Within_CI':'black', 'Below_CI': 'blue'}\n",
    "\n",
    "grouped = tt_overlap.groupby('TEST')\n",
    "for k,group in grouped:\n",
    "    group.plot(ax = ax, kind = 'scatter', x = 'TEST_pLD50', y ='known_pLD50', label =k, color = colours[k] )\n",
    "abline(1,0)\n",
    "abline(1,0.24673953)\n",
    "abline(1,-0.24673953)\n",
    "plt.title('Comparison of TEST and experimental values')\n",
    "plt.xlabel('TEST LD50 (-log10(mol/kg))')\n",
    "plt.ylabel('Expt LD50 (-log10(mol/kg))')\n",
    "plt.savefig(figures_dir+'TEST_actual_overlap.png', dpi = 300)"
   ]
  },
  {
   "cell_type": "code",
   "execution_count": 99,
   "metadata": {},
   "outputs": [
    {
     "data": {
      "image/png": "[encoded data removed]",
      "text/plain": [
       "<Figure size 720x648 with 1 Axes>"
      ]
     },
     "metadata": {},
     "output_type": "display_data"
    }
   ],
   "source": [
    "plt.style.use('ggplot')\n",
    "fig, ax = plt.subplots(figsize = (10,9))\n",
    "colours = {'Above_CI': 'red', 'Within_CI':'black', 'Below_CI': 'blue'}\n",
    "\n",
    "grouped = tt_overlap.groupby('TIMES')\n",
    "for k,group in grouped:\n",
    "    group.plot(ax = ax, kind = 'scatter', x = 'TIMES_pLD50', y ='known_pLD50', label =k, color = colours[k] )\n",
    "abline(1,0)\n",
    "abline(1,0.24673953)\n",
    "abline(1,-0.24673953)\n",
    "plt.title('Comparison of TIMES and experimental values')\n",
    "plt.xlabel('TIMES LD50 (-log10(mol/kg))')\n",
    "plt.ylabel('Expt LD50 (-log10(mol/kg))')\n",
    "plt.savefig(figures_dir+'TIMES_actual_overlap.png', dpi = 300)"
   ]
  },
  {
   "cell_type": "code",
   "execution_count": 103,
   "metadata": {},
   "outputs": [
    {
     "data": {
      "text/plain": [
       "Within_CI    0.383212\n",
       "Above_CI     0.361314\n",
       "Below_CI     0.255474\n",
       "Name: TIMES, dtype: float64"
      ]
     },
     "execution_count": 103,
     "metadata": {},
     "output_type": "execute_result"
    }
   ],
   "source": [
    "tt_overlap['TIMES'].value_counts(normalize = True)"
   ]
  },
  {
   "cell_type": "code",
   "execution_count": 102,
   "metadata": {},
   "outputs": [
    {
     "data": {
      "text/plain": [
       "Within_CI    0.405109\n",
       "Above_CI     0.317518\n",
       "Below_CI     0.277372\n",
       "Name: TEST, dtype: float64"
      ]
     },
     "execution_count": 102,
     "metadata": {},
     "output_type": "execute_result"
    }
   ],
   "source": [
    "tt_overlap['TEST'].value_counts(normalize = True)"
   ]
  },
  {
   "cell_type": "code",
   "execution_count": 104,
   "metadata": {},
   "outputs": [
    {
     "name": "stdout",
     "output_type": "stream",
     "text": [
      "0.6496871799190282\n",
      "0.2548359415077329\n",
      "0.459442016266052\n"
     ]
    }
   ],
   "source": [
    "print(MSE(tt_overlap.known_pLD50, tt_overlap.TIMES_pLD50)**0.5)\n",
    "print(r2_score(tt_overlap.known_pLD50, tt_overlap.TIMES_pLD50))\n",
    "print(mean_absolute_error(tt_overlap.known_pLD50, tt_overlap.TIMES_pLD50))"
   ]
  },
  {
   "cell_type": "code",
   "execution_count": 105,
   "metadata": {},
   "outputs": [
    {
     "name": "stdout",
     "output_type": "stream",
     "text": [
      "0.642975819040657\n",
      "0.2701517248827663\n",
      "0.4573047044629268\n"
     ]
    }
   ],
   "source": [
    "print(MSE(tt_overlap.known_pLD50, tt_overlap.TEST_pLD50)**0.5)\n",
    "print(r2_score(tt_overlap.known_pLD50, tt_overlap.TEST_pLD50))\n",
    "print(mean_absolute_error(tt_overlap.known_pLD50, tt_overlap.TEST_pLD50))"
   ]
  },
  {
   "cell_type": "code",
   "execution_count": 107,
   "metadata": {},
   "outputs": [
    {
     "data": {
      "image/png": "[encoded data removed]",
      "text/plain": [
       "<Figure size 432x288 with 2 Axes>"
      ]
     },
     "metadata": {},
     "output_type": "display_data"
    }
   ],
   "source": [
    "sns.heatmap(tt_overlap[['known_pLD50',\n",
    "       'TEST_pLD50', 'TIMES_pLD50']].corr(), annot = True)\n",
    "plt.yticks(rotation=0)\n",
    "#plt.title('Correlation of pairwise complete observations of TIMES/TEST predictions and experimental values')\n",
    "plt.tight_layout()\n",
    "plt.savefig(figures_dir+'corr_hm_overlap.png', dpi = 300)"
   ]
  },
  {
   "cell_type": "code",
   "execution_count": 113,
   "metadata": {},
   "outputs": [],
   "source": [
    "chemotypes = pd.read_csv(raw_dat_dir+'Acute_SMILES_Toxprints.tsv', sep = '\\t')"
   ]
  },
  {
   "cell_type": "code",
   "execution_count": 117,
   "metadata": {},
   "outputs": [],
   "source": [
    "chemotypes.rename(columns = {'M_NAME': 'CAS'}, inplace = True)"
   ]
  },
  {
   "cell_type": "code",
   "execution_count": 119,
   "metadata": {},
   "outputs": [],
   "source": [
    "for_enrich = relevant_acute_data[['DTXSID', 'CAS', 'name', 'known_LD50_mgkg', 'known_pLD50',\n",
    "       'TEST_LD50_mgkg', 'TEST_pLD50', 'TIMES_LD50_mgkg', 'TIMES_pLD50',\n",
    "       'TIMES', 'TEST', 'known_pLD50_minus_TEST', 'known_pLD50_minus_TIMES',\n",
    "       'average_mass', 'qsar_ready_smiles', 'smiles']]"
   ]
  },
  {
   "cell_type": "code",
   "execution_count": 120,
   "metadata": {},
   "outputs": [
    {
     "data": {
      "text/plain": [
       "(8979, 16)"
      ]
     },
     "execution_count": 120,
     "metadata": {},
     "output_type": "execute_result"
    }
   ],
   "source": [
    "for_enrich.shape"
   ]
  },
  {
   "cell_type": "code",
   "execution_count": 122,
   "metadata": {},
   "outputs": [],
   "source": [
    "for_enrich_txps = pd.merge(for_enrich, chemotypes, on = 'CAS', how = 'left')"
   ]
  },
  {
   "cell_type": "code",
   "execution_count": 133,
   "metadata": {},
   "outputs": [],
   "source": [
    "TEST_for_enrich = for_enrich_txps[(~for_enrich_txps['TEST'].isnull())]"
   ]
  },
  {
   "cell_type": "code",
   "execution_count": 134,
   "metadata": {},
   "outputs": [],
   "source": [
    "TIMES_for_enrich = for_enrich_txps[(~for_enrich_txps['TIMES'].isnull())]"
   ]
  },
  {
   "cell_type": "code",
   "execution_count": 138,
   "metadata": {},
   "outputs": [
    {
     "name": "stderr",
     "output_type": "stream",
     "text": [
      "/home/grace/anaconda3/lib/python3.6/site-packages/ipykernel_launcher.py:1: SettingWithCopyWarning: \n",
      "A value is trying to be set on a copy of a slice from a DataFrame.\n",
      "Try using .loc[row_indexer,col_indexer] = value instead\n",
      "\n",
      "See the caveats in the documentation: http://pandas.pydata.org/pandas-docs/stable/indexing.html#indexing-view-versus-copy\n",
      "  \"\"\"Entry point for launching an IPython kernel.\n"
     ]
    }
   ],
   "source": [
    "TEST_for_enrich['TEST_out_CI'] = TEST_for_enrich['TEST'].apply(lambda x: 0 if x == 'Within_CI' else 1)"
   ]
  },
  {
   "cell_type": "code",
   "execution_count": 140,
   "metadata": {},
   "outputs": [
    {
     "name": "stderr",
     "output_type": "stream",
     "text": [
      "/home/grace/anaconda3/lib/python3.6/site-packages/ipykernel_launcher.py:1: SettingWithCopyWarning: \n",
      "A value is trying to be set on a copy of a slice from a DataFrame.\n",
      "Try using .loc[row_indexer,col_indexer] = value instead\n",
      "\n",
      "See the caveats in the documentation: http://pandas.pydata.org/pandas-docs/stable/indexing.html#indexing-view-versus-copy\n",
      "  \"\"\"Entry point for launching an IPython kernel.\n"
     ]
    }
   ],
   "source": [
    "TIMES_for_enrich['TIMES_out_CI'] = TIMES_for_enrich['TIMES'].apply(lambda x: 0 if x == 'Within_CI' else 1)"
   ]
  },
  {
   "cell_type": "code",
   "execution_count": 142,
   "metadata": {},
   "outputs": [],
   "source": [
    "TIMES_for_enrich = TIMES_for_enrich.set_index('DTXSID')\n",
    "TEST_for_enrich = TEST_for_enrich.set_index('DTXSID')"
   ]
  },
  {
   "cell_type": "code",
   "execution_count": 146,
   "metadata": {},
   "outputs": [
    {
     "data": {
      "text/plain": [
       "15"
      ]
     },
     "execution_count": 146,
     "metadata": {},
     "output_type": "execute_result"
    }
   ],
   "source": [
    "TIMES_for_enrich.columns.get_loc('atom:element_main_group')\n",
    "TEST_for_enrich.columns.get_loc('atom:element_main_group')"
   ]
  },
  {
   "cell_type": "code",
   "execution_count": 149,
   "metadata": {},
   "outputs": [],
   "source": [
    "#TEST_for_enrich.iloc[:,15:-1]"
   ]
  },
  {
   "cell_type": "code",
   "execution_count": 157,
   "metadata": {},
   "outputs": [],
   "source": [
    "#TIMES_for_enrich.iloc[:,744]"
   ]
  },
  {
   "cell_type": "code",
   "execution_count": 155,
   "metadata": {},
   "outputs": [],
   "source": [
    "import scipy.stats as stats"
   ]
  },
  {
   "cell_type": "code",
   "execution_count": 159,
   "metadata": {},
   "outputs": [],
   "source": [
    "res_TEST = []\n",
    "for i, column in TEST_for_enrich.iloc[:,15:-1].iteritems():\n",
    "    if pd.crosstab(TEST_for_enrich.iloc[:,744],column).shape == (2,2):\n",
    "        a = pd.crosstab(TEST_for_enrich.iloc[:,744],column)\n",
    "        tn, fn, fp, tp = a.iloc[0,0], a.iloc[0,1], a.iloc[1,0], a.iloc[1,1]\n",
    "        tested_active = (tp + fp)\n",
    "        oddsratio, pvalue = stats.fisher_exact(a)\n",
    "        res_TEST.append([oddsratio, pvalue, i, tp, tested_active])"
   ]
  },
  {
   "cell_type": "code",
   "execution_count": 160,
   "metadata": {},
   "outputs": [],
   "source": [
    "res_TIMES = []\n",
    "for i, column in TIMES_for_enrich.iloc[:,15:-1].iteritems():\n",
    "    if pd.crosstab(TIMES_for_enrich.iloc[:,744],column).shape == (2,2):\n",
    "        a = pd.crosstab(TIMES_for_enrich.iloc[:,744],column)\n",
    "        tn, fn, fp, tp = a.iloc[0,0], a.iloc[0,1], a.iloc[1,0], a.iloc[1,1]\n",
    "        tested_active = (tp + fp)\n",
    "        oddsratio, pvalue = stats.fisher_exact(a)\n",
    "        res_TIMES.append([oddsratio, pvalue, i, tp, tested_active])"
   ]
  },
  {
   "cell_type": "code",
   "execution_count": 164,
   "metadata": {},
   "outputs": [],
   "source": [
    "def convert(lst):\n",
    "    df = pd.DataFrame(lst)\n",
    "    df.rename(columns = {0: 'OR', 1: 'p', 2 : 'TxP', 3: 'TP', 4: 'TP+FP'}, inplace = True)\n",
    "    df = df.sort_values(by=['OR','p'], ascending = [True, False])\n",
    "    return df"
   ]
  },
  {
   "cell_type": "code",
   "execution_count": 165,
   "metadata": {},
   "outputs": [],
   "source": [
    "TEST_enrichments = convert(res_TEST)\n",
    "TIMES_enrichments = convert(res_TIMES)"
   ]
  },
  {
   "cell_type": "code",
   "execution_count": 171,
   "metadata": {},
   "outputs": [],
   "source": [
    "TEST_enrichments[(TEST_enrichments['OR'] >= 2.5) & (TEST_enrichments['p'] < 0.05 ) & (TEST_enrichments['TP'] >=3)].to_csv(processed_dat_dir+'TEST_enriched.csv')"
   ]
  },
  {
   "cell_type": "code",
   "execution_count": 173,
   "metadata": {},
   "outputs": [],
   "source": [
    "TIMES_enrichments[(TIMES_enrichments['OR'] >= 2.5) & (TIMES_enrichments['p'] < 0.05 ) & (TIMES_enrichments['TP'] >=3)].to_csv(processed_dat_dir+'TIMES_enriched.csv')"
   ]
  },
  {
   "cell_type": "code",
   "execution_count": null,
   "metadata": {},
   "outputs": [],
   "source": []
  },
  {
   "cell_type": "code",
   "execution_count": null,
   "metadata": {},
   "outputs": [],
   "source": []
  },
  {
   "cell_type": "code",
   "execution_count": null,
   "metadata": {},
   "outputs": [],
   "source": []
  },
  {
   "cell_type": "code",
   "execution_count": null,
   "metadata": {},
   "outputs": [],
   "source": []
  },
  {
   "cell_type": "code",
   "execution_count": null,
   "metadata": {},
   "outputs": [],
   "source": []
  },
  {
   "cell_type": "code",
   "execution_count": null,
   "metadata": {},
   "outputs": [],
   "source": []
  },
  {
   "cell_type": "code",
   "execution_count": null,
   "metadata": {},
   "outputs": [],
   "source": []
  },
  {
   "cell_type": "code",
   "execution_count": null,
   "metadata": {},
   "outputs": [],
   "source": []
  },
  {
   "cell_type": "code",
   "execution_count": null,
   "metadata": {},
   "outputs": [],
   "source": []
  }
 ],
 "metadata": {
  "kernelspec": {
   "display_name": "Python 3",
   "language": "python",
   "name": "python3"
  },
  "language_info": {
   "codemirror_mode": {
    "name": "ipython",
    "version": 3
   },
   "file_extension": ".py",
   "mimetype": "text/x-python",
   "name": "python",
   "nbconvert_exporter": "python",
   "pygments_lexer": "ipython3",
   "version": "3.7.6"
  }
 },
 "nbformat": 4,
 "nbformat_minor": 4
}
