{
 "cells": [
  {
   "cell_type": "code",
   "execution_count": 1,
   "metadata": {},
   "outputs": [],
   "source": [
    "import numpy as np\n",
    "import pandas as pd\n",
    "import matplotlib.pyplot as plt\n",
    "import seaborn as sns\n",
    "%matplotlib inline\n",
    "import os\n",
    "import glob"
   ]
  },
  {
   "cell_type": "code",
   "execution_count": 2,
   "metadata": {},
   "outputs": [],
   "source": [
    "raw_dat_dir = '/home/grace/Documents/python/acute_oral/data/raw/'\n",
    "processed_dat_dir = '/home/grace/Documents/python/acute_oral/data/processed/'\n",
    "interim_dat_dir = '/home/grace/Documents/python/acute_oral/data/interim/'\n",
    "figures_dir = '/home/grace/Documents/python/acute_oral/reports/figures/'\n",
    "test_dir = '/home/grace/Documents/python/acute_oral/data/external/TEST/'\n",
    "times_dir = '/home/grace/Documents/python/acute_oral/data/external/TIMES/'"
   ]
  },
  {
   "cell_type": "code",
   "execution_count": 3,
   "metadata": {},
   "outputs": [],
   "source": [
    "xls = pd.ExcelFile(processed_dat_dir+'relevant_acute_pred_final_200320.xlsx')"
   ]
  },
  {
   "cell_type": "code",
   "execution_count": 4,
   "metadata": {},
   "outputs": [
    {
     "data": {
      "text/plain": [
       "['relevant_pred']"
      ]
     },
     "execution_count": 4,
     "metadata": {},
     "output_type": "execute_result"
    }
   ],
   "source": [
    "xls.sheet_names"
   ]
  },
  {
   "cell_type": "code",
   "execution_count": 5,
   "metadata": {},
   "outputs": [],
   "source": [
    "relevant_acute_data = xls.parse('relevant_pred')"
   ]
  },
  {
   "cell_type": "code",
   "execution_count": 6,
   "metadata": {},
   "outputs": [
    {
     "data": {
      "text/plain": [
       "(8979, 32)"
      ]
     },
     "execution_count": 6,
     "metadata": {},
     "output_type": "execute_result"
    }
   ],
   "source": [
    "relevant_acute_data.shape"
   ]
  },
  {
   "cell_type": "code",
   "execution_count": 8,
   "metadata": {},
   "outputs": [
    {
     "data": {
      "text/html": [
       "<div>\n",
       "<style scoped>\n",
       "    .dataframe tbody tr th:only-of-type {\n",
       "        vertical-align: middle;\n",
       "    }\n",
       "\n",
       "    .dataframe tbody tr th {\n",
       "        vertical-align: top;\n",
       "    }\n",
       "\n",
       "    .dataframe thead th {\n",
       "        text-align: right;\n",
       "    }\n",
       "</style>\n",
       "<table border=\"1\" class=\"dataframe\">\n",
       "  <thead>\n",
       "    <tr style=\"text-align: right;\">\n",
       "      <th></th>\n",
       "      <th>Unnamed: 0</th>\n",
       "      <th>DTXSID</th>\n",
       "      <th>CAS</th>\n",
       "      <th>name</th>\n",
       "      <th>known_LD50_mgkg</th>\n",
       "      <th>known_pLD50</th>\n",
       "      <th>TEST_LD50_mgkg</th>\n",
       "      <th>TEST_pLD50</th>\n",
       "      <th>TIMES_LD50_mgkg</th>\n",
       "      <th>TIMES_pLD50</th>\n",
       "      <th>...</th>\n",
       "      <th>molecular_initiating_event_3</th>\n",
       "      <th>effect_biological outcome_3</th>\n",
       "      <th>alert_reliability</th>\n",
       "      <th>parameter_ranges</th>\n",
       "      <th>correct_fragments_structural_domain</th>\n",
       "      <th>incorrect_fragments_structural_domain</th>\n",
       "      <th>unknown_fragments_structural_domain</th>\n",
       "      <th>total_structural_domain</th>\n",
       "      <th>total_domain</th>\n",
       "      <th>acute_oral_toxicity_confidence</th>\n",
       "    </tr>\n",
       "  </thead>\n",
       "  <tbody>\n",
       "    <tr>\n",
       "      <th>3667</th>\n",
       "      <td>3667</td>\n",
       "      <td>NaN</td>\n",
       "      <td>29387-86-8</td>\n",
       "      <td>NaN</td>\n",
       "      <td>1900.0</td>\n",
       "      <td>NaN</td>\n",
       "      <td>NaN</td>\n",
       "      <td>1.29</td>\n",
       "      <td>NaN</td>\n",
       "      <td>NaN</td>\n",
       "      <td>...</td>\n",
       "      <td>NaN</td>\n",
       "      <td>NaN</td>\n",
       "      <td>NaN</td>\n",
       "      <td>NaN</td>\n",
       "      <td>NaN</td>\n",
       "      <td>NaN</td>\n",
       "      <td>NaN</td>\n",
       "      <td>NaN</td>\n",
       "      <td>NaN</td>\n",
       "      <td>NaN</td>\n",
       "    </tr>\n",
       "    <tr>\n",
       "      <th>4639</th>\n",
       "      <td>4639</td>\n",
       "      <td>NaN</td>\n",
       "      <td>39699-08-6</td>\n",
       "      <td>NaN</td>\n",
       "      <td>29000.0</td>\n",
       "      <td>NaN</td>\n",
       "      <td>NaN</td>\n",
       "      <td>1.30</td>\n",
       "      <td>NaN</td>\n",
       "      <td>NaN</td>\n",
       "      <td>...</td>\n",
       "      <td>NaN</td>\n",
       "      <td>NaN</td>\n",
       "      <td>NaN</td>\n",
       "      <td>NaN</td>\n",
       "      <td>NaN</td>\n",
       "      <td>NaN</td>\n",
       "      <td>NaN</td>\n",
       "      <td>NaN</td>\n",
       "      <td>NaN</td>\n",
       "      <td>NaN</td>\n",
       "    </tr>\n",
       "  </tbody>\n",
       "</table>\n",
       "<p>2 rows × 32 columns</p>\n",
       "</div>"
      ],
      "text/plain": [
       "      Unnamed: 0 DTXSID         CAS name  known_LD50_mgkg  known_pLD50  \\\n",
       "3667        3667    NaN  29387-86-8  NaN           1900.0          NaN   \n",
       "4639        4639    NaN  39699-08-6  NaN          29000.0          NaN   \n",
       "\n",
       "      TEST_LD50_mgkg  TEST_pLD50  TIMES_LD50_mgkg  TIMES_pLD50  ...  \\\n",
       "3667             NaN        1.29              NaN          NaN  ...   \n",
       "4639             NaN        1.30              NaN          NaN  ...   \n",
       "\n",
       "     molecular_initiating_event_3 effect_biological outcome_3  \\\n",
       "3667                          NaN                         NaN   \n",
       "4639                          NaN                         NaN   \n",
       "\n",
       "      alert_reliability  parameter_ranges  \\\n",
       "3667                NaN               NaN   \n",
       "4639                NaN               NaN   \n",
       "\n",
       "      correct_fragments_structural_domain  \\\n",
       "3667                                  NaN   \n",
       "4639                                  NaN   \n",
       "\n",
       "     incorrect_fragments_structural_domain  \\\n",
       "3667                                   NaN   \n",
       "4639                                   NaN   \n",
       "\n",
       "     unknown_fragments_structural_domain total_structural_domain total_domain  \\\n",
       "3667                                 NaN                     NaN          NaN   \n",
       "4639                                 NaN                     NaN          NaN   \n",
       "\n",
       "     acute_oral_toxicity_confidence  \n",
       "3667                            NaN  \n",
       "4639                            NaN  \n",
       "\n",
       "[2 rows x 32 columns]"
      ]
     },
     "execution_count": 8,
     "metadata": {},
     "output_type": "execute_result"
    }
   ],
   "source": [
    "relevant_acute_data[(relevant_acute_data['TEST_LD50_mgkg'].isnull()) & (~relevant_acute_data['TEST_pLD50'].isnull()) ]"
   ]
  },
  {
   "cell_type": "code",
   "execution_count": 9,
   "metadata": {},
   "outputs": [],
   "source": [
    "chemotypes = pd.read_csv(raw_dat_dir+'Acute_SMILES_Toxprints.tsv', sep = '\\t')"
   ]
  },
  {
   "cell_type": "code",
   "execution_count": 10,
   "metadata": {},
   "outputs": [],
   "source": [
    "chemotypes.rename(columns = {'M_NAME': 'CAS'}, inplace = True)"
   ]
  },
  {
   "cell_type": "code",
   "execution_count": 11,
   "metadata": {},
   "outputs": [],
   "source": [
    "for_enrich = relevant_acute_data[['DTXSID', 'CAS', 'name', 'known_LD50_mgkg', 'known_pLD50',\n",
    "       'TEST_LD50_mgkg', 'TEST_pLD50', 'TIMES_LD50_mgkg', 'TIMES_pLD50',\n",
    "       'TIMES', 'TEST', 'known_pLD50_minus_TEST', 'known_pLD50_minus_TIMES',\n",
    "       'average_mass', 'qsar_ready_smiles', 'smiles']]"
   ]
  },
  {
   "cell_type": "code",
   "execution_count": 12,
   "metadata": {},
   "outputs": [
    {
     "data": {
      "text/plain": [
       "(8979, 16)"
      ]
     },
     "execution_count": 12,
     "metadata": {},
     "output_type": "execute_result"
    }
   ],
   "source": [
    "for_enrich.shape"
   ]
  },
  {
   "cell_type": "code",
   "execution_count": 13,
   "metadata": {},
   "outputs": [],
   "source": [
    "for_enrich_txps = pd.merge(for_enrich, chemotypes, on = 'CAS', how = 'left')"
   ]
  },
  {
   "cell_type": "code",
   "execution_count": 14,
   "metadata": {},
   "outputs": [],
   "source": [
    "TEST_for_enrich = for_enrich_txps[(~for_enrich_txps['TEST'].isnull())]"
   ]
  },
  {
   "cell_type": "code",
   "execution_count": 15,
   "metadata": {},
   "outputs": [],
   "source": [
    "TIMES_for_enrich = for_enrich_txps[(~for_enrich_txps['TIMES'].isnull())]"
   ]
  },
  {
   "cell_type": "code",
   "execution_count": 16,
   "metadata": {},
   "outputs": [
    {
     "name": "stderr",
     "output_type": "stream",
     "text": [
      "/home/grace/anaconda3/lib/python3.7/site-packages/ipykernel_launcher.py:1: SettingWithCopyWarning: \n",
      "A value is trying to be set on a copy of a slice from a DataFrame.\n",
      "Try using .loc[row_indexer,col_indexer] = value instead\n",
      "\n",
      "See the caveats in the documentation: https://pandas.pydata.org/pandas-docs/stable/user_guide/indexing.html#returning-a-view-versus-a-copy\n",
      "  \"\"\"Entry point for launching an IPython kernel.\n"
     ]
    }
   ],
   "source": [
    "TEST_for_enrich['TEST_out_CI'] = TEST_for_enrich['TEST'].apply(lambda x: 0 if x == 'Within_CI' else 1)"
   ]
  },
  {
   "cell_type": "code",
   "execution_count": 17,
   "metadata": {},
   "outputs": [
    {
     "name": "stderr",
     "output_type": "stream",
     "text": [
      "/home/grace/anaconda3/lib/python3.7/site-packages/ipykernel_launcher.py:1: SettingWithCopyWarning: \n",
      "A value is trying to be set on a copy of a slice from a DataFrame.\n",
      "Try using .loc[row_indexer,col_indexer] = value instead\n",
      "\n",
      "See the caveats in the documentation: https://pandas.pydata.org/pandas-docs/stable/user_guide/indexing.html#returning-a-view-versus-a-copy\n",
      "  \"\"\"Entry point for launching an IPython kernel.\n"
     ]
    }
   ],
   "source": [
    "TIMES_for_enrich['TIMES_out_CI'] = TIMES_for_enrich['TIMES'].apply(lambda x: 0 if x == 'Within_CI' else 1)"
   ]
  },
  {
   "cell_type": "code",
   "execution_count": 18,
   "metadata": {},
   "outputs": [],
   "source": [
    "TIMES_for_enrich = TIMES_for_enrich.set_index('DTXSID')\n",
    "TEST_for_enrich = TEST_for_enrich.set_index('DTXSID')"
   ]
  },
  {
   "cell_type": "code",
   "execution_count": 19,
   "metadata": {},
   "outputs": [
    {
     "data": {
      "text/plain": [
       "15"
      ]
     },
     "execution_count": 19,
     "metadata": {},
     "output_type": "execute_result"
    }
   ],
   "source": [
    "TIMES_for_enrich.columns.get_loc('atom:element_main_group')\n",
    "TEST_for_enrich.columns.get_loc('atom:element_main_group')"
   ]
  },
  {
   "cell_type": "code",
   "execution_count": 20,
   "metadata": {},
   "outputs": [],
   "source": [
    "import scipy.stats as stats"
   ]
  },
  {
   "cell_type": "code",
   "execution_count": 144,
   "metadata": {},
   "outputs": [],
   "source": [
    "res_TEST = []\n",
    "for i, column in TEST_for_enrich.iloc[:,15:-1].iteritems():\n",
    "    if pd.crosstab(TEST_for_enrich.iloc[:,744],column).shape == (2,2):\n",
    "        a = pd.crosstab(TEST_for_enrich.iloc[:,744],column)\n",
    "        tn, fn, fp, tp = a.iloc[0,0], a.iloc[0,1], a.iloc[1,0], a.iloc[1,1]\n",
    "        #tested_active = (tp + fn)\n",
    "        oddsratio, pvalue = stats.fisher_exact(a)\n",
    "        res_TEST.append([oddsratio, pvalue, i, tp, fn, fp, tn])\n"
   ]
  },
  {
   "cell_type": "code",
   "execution_count": 145,
   "metadata": {},
   "outputs": [],
   "source": [
    "res_TIMES = []\n",
    "for i, column in TIMES_for_enrich.iloc[:,15:-1].iteritems():\n",
    "    if pd.crosstab(TIMES_for_enrich.iloc[:,744],column).shape == (2,2):\n",
    "        a = pd.crosstab(TIMES_for_enrich.iloc[:,744],column)\n",
    "        tn, fn, fp, tp = a.iloc[0,0], a.iloc[0,1], a.iloc[1,0], a.iloc[1,1]\n",
    "        #tested_active = (tp + fn)\n",
    "        oddsratio, pvalue = stats.fisher_exact(a)\n",
    "        res_TIMES.append([oddsratio, pvalue, i, tp, fn, fp, tn])"
   ]
  },
  {
   "cell_type": "code",
   "execution_count": 146,
   "metadata": {},
   "outputs": [],
   "source": [
    "def convert(lst):\n",
    "    df = pd.DataFrame(lst)\n",
    "    df.rename(columns = {0: 'OR', 1: 'p', 2 : 'TxP', 3: 'TP', 4: 'FN', 5: 'FP', 6: 'TN'}, inplace = True)\n",
    "    df = df.sort_values(by=['OR','p'], ascending = [True, False])\n",
    "    return df"
   ]
  },
  {
   "cell_type": "code",
   "execution_count": 147,
   "metadata": {},
   "outputs": [],
   "source": [
    "TEST_enrichments = convert(res_TEST)\n",
    "TIMES_enrichments = convert(res_TIMES)"
   ]
  },
  {
   "cell_type": "code",
   "execution_count": 148,
   "metadata": {},
   "outputs": [
    {
     "data": {
      "text/html": [
       "<div>\n",
       "<style scoped>\n",
       "    .dataframe tbody tr th:only-of-type {\n",
       "        vertical-align: middle;\n",
       "    }\n",
       "\n",
       "    .dataframe tbody tr th {\n",
       "        vertical-align: top;\n",
       "    }\n",
       "\n",
       "    .dataframe thead th {\n",
       "        text-align: right;\n",
       "    }\n",
       "</style>\n",
       "<table border=\"1\" class=\"dataframe\">\n",
       "  <thead>\n",
       "    <tr style=\"text-align: right;\">\n",
       "      <th>bond:C(=O)O_carboxylicEster_thio</th>\n",
       "      <th>0.0</th>\n",
       "      <th>1.0</th>\n",
       "    </tr>\n",
       "    <tr>\n",
       "      <th>TEST_out_CI</th>\n",
       "      <th></th>\n",
       "      <th></th>\n",
       "    </tr>\n",
       "  </thead>\n",
       "  <tbody>\n",
       "    <tr>\n",
       "      <th>0</th>\n",
       "      <td>585</td>\n",
       "      <td>3</td>\n",
       "    </tr>\n",
       "    <tr>\n",
       "      <th>1</th>\n",
       "      <td>1031</td>\n",
       "      <td>0</td>\n",
       "    </tr>\n",
       "  </tbody>\n",
       "</table>\n",
       "</div>"
      ],
      "text/plain": [
       "bond:C(=O)O_carboxylicEster_thio   0.0  1.0\n",
       "TEST_out_CI                                \n",
       "0                                  585    3\n",
       "1                                 1031    0"
      ]
     },
     "execution_count": 148,
     "metadata": {},
     "output_type": "execute_result"
    }
   ],
   "source": [
    "pd.crosstab(TEST_for_enrich.iloc[:,744],TEST_for_enrich.loc[:,'bond:C(=O)O_carboxylicEster_thio'])"
   ]
  },
  {
   "cell_type": "code",
   "execution_count": 149,
   "metadata": {},
   "outputs": [
    {
     "data": {
      "text/html": [
       "<div>\n",
       "<style scoped>\n",
       "    .dataframe tbody tr th:only-of-type {\n",
       "        vertical-align: middle;\n",
       "    }\n",
       "\n",
       "    .dataframe tbody tr th {\n",
       "        vertical-align: top;\n",
       "    }\n",
       "\n",
       "    .dataframe thead th {\n",
       "        text-align: right;\n",
       "    }\n",
       "</style>\n",
       "<table border=\"1\" class=\"dataframe\">\n",
       "  <thead>\n",
       "    <tr style=\"text-align: right;\">\n",
       "      <th>bond:CC(=O)C_ketone_alkene_cyclic_2-en-1-one</th>\n",
       "      <th>0.0</th>\n",
       "      <th>1.0</th>\n",
       "    </tr>\n",
       "    <tr>\n",
       "      <th>TEST_out_CI</th>\n",
       "      <th></th>\n",
       "      <th></th>\n",
       "    </tr>\n",
       "  </thead>\n",
       "  <tbody>\n",
       "    <tr>\n",
       "      <th>0</th>\n",
       "      <td>581</td>\n",
       "      <td>7</td>\n",
       "    </tr>\n",
       "    <tr>\n",
       "      <th>1</th>\n",
       "      <td>1000</td>\n",
       "      <td>31</td>\n",
       "    </tr>\n",
       "  </tbody>\n",
       "</table>\n",
       "</div>"
      ],
      "text/plain": [
       "bond:CC(=O)C_ketone_alkene_cyclic_2-en-1-one   0.0  1.0\n",
       "TEST_out_CI                                            \n",
       "0                                              581    7\n",
       "1                                             1000   31"
      ]
     },
     "execution_count": 149,
     "metadata": {},
     "output_type": "execute_result"
    }
   ],
   "source": [
    "pd.crosstab(TEST_for_enrich.iloc[:,744],TEST_for_enrich.loc[:,'bond:CC(=O)C_ketone_alkene_cyclic_2-en-1-one'])"
   ]
  },
  {
   "cell_type": "code",
   "execution_count": 150,
   "metadata": {},
   "outputs": [],
   "source": [
    "TEST_enriched = TEST_enrichments[(TEST_enrichments['OR'] >= 2.5) & (TEST_enrichments['p'] < 0.05 ) & (TEST_enrichments['TP'] >=3)]"
   ]
  },
  {
   "cell_type": "code",
   "execution_count": 151,
   "metadata": {},
   "outputs": [
    {
     "data": {
      "text/html": [
       "<div>\n",
       "<style scoped>\n",
       "    .dataframe tbody tr th:only-of-type {\n",
       "        vertical-align: middle;\n",
       "    }\n",
       "\n",
       "    .dataframe tbody tr th {\n",
       "        vertical-align: top;\n",
       "    }\n",
       "\n",
       "    .dataframe thead th {\n",
       "        text-align: right;\n",
       "    }\n",
       "</style>\n",
       "<table border=\"1\" class=\"dataframe\">\n",
       "  <thead>\n",
       "    <tr style=\"text-align: right;\">\n",
       "      <th></th>\n",
       "      <th>OR</th>\n",
       "      <th>p</th>\n",
       "      <th>TxP</th>\n",
       "      <th>TP</th>\n",
       "      <th>FN</th>\n",
       "      <th>FP</th>\n",
       "      <th>TN</th>\n",
       "    </tr>\n",
       "  </thead>\n",
       "  <tbody>\n",
       "    <tr>\n",
       "      <th>54</th>\n",
       "      <td>2.573000</td>\n",
       "      <td>0.025145</td>\n",
       "      <td>bond:CC(=O)C_ketone_alkene_cyclic_2-en-1-one</td>\n",
       "      <td>31</td>\n",
       "      <td>7</td>\n",
       "      <td>1000</td>\n",
       "      <td>581</td>\n",
       "    </tr>\n",
       "    <tr>\n",
       "      <th>207</th>\n",
       "      <td>4.251734</td>\n",
       "      <td>0.010707</td>\n",
       "      <td>bond:S(=O)N_sulfonamide</td>\n",
       "      <td>22</td>\n",
       "      <td>3</td>\n",
       "      <td>1009</td>\n",
       "      <td>585</td>\n",
       "    </tr>\n",
       "    <tr>\n",
       "      <th>226</th>\n",
       "      <td>4.375624</td>\n",
       "      <td>0.001863</td>\n",
       "      <td>bond:S~N_generic</td>\n",
       "      <td>30</td>\n",
       "      <td>4</td>\n",
       "      <td>1001</td>\n",
       "      <td>584</td>\n",
       "    </tr>\n",
       "    <tr>\n",
       "      <th>208</th>\n",
       "      <td>5.044776</td>\n",
       "      <td>0.002795</td>\n",
       "      <td>bond:S(=O)N_sulfonylamide</td>\n",
       "      <td>26</td>\n",
       "      <td>3</td>\n",
       "      <td>1005</td>\n",
       "      <td>585</td>\n",
       "    </tr>\n",
       "    <tr>\n",
       "      <th>434</th>\n",
       "      <td>12.204950</td>\n",
       "      <td>0.001140</td>\n",
       "      <td>ring:hetero_[6_6]_O_benzopyrone_(1_4-)</td>\n",
       "      <td>21</td>\n",
       "      <td>1</td>\n",
       "      <td>1010</td>\n",
       "      <td>587</td>\n",
       "    </tr>\n",
       "  </tbody>\n",
       "</table>\n",
       "</div>"
      ],
      "text/plain": [
       "            OR         p                                           TxP  TP  \\\n",
       "54    2.573000  0.025145  bond:CC(=O)C_ketone_alkene_cyclic_2-en-1-one  31   \n",
       "207   4.251734  0.010707                       bond:S(=O)N_sulfonamide  22   \n",
       "226   4.375624  0.001863                              bond:S~N_generic  30   \n",
       "208   5.044776  0.002795                     bond:S(=O)N_sulfonylamide  26   \n",
       "434  12.204950  0.001140        ring:hetero_[6_6]_O_benzopyrone_(1_4-)  21   \n",
       "\n",
       "     FN    FP   TN  \n",
       "54    7  1000  581  \n",
       "207   3  1009  585  \n",
       "226   4  1001  584  \n",
       "208   3  1005  585  \n",
       "434   1  1010  587  "
      ]
     },
     "execution_count": 151,
     "metadata": {},
     "output_type": "execute_result"
    }
   ],
   "source": [
    "TEST_enriched"
   ]
  },
  {
   "cell_type": "code",
   "execution_count": 152,
   "metadata": {},
   "outputs": [],
   "source": [
    "def ci_devel(df):\n",
    "    ci_upper = []\n",
    "    ci_lower = []\n",
    "\n",
    "    for i, row in df.iterrows():\n",
    "        ln_OR = np.log(row['OR'])\n",
    "        #print(ln_OR)\n",
    "        SE_ln_OR = sqrt((1/row['TP']) + (1/row['FN'])+(1/row['FP'])+(1/row['TN']))\n",
    "        #print(SE_ln_OR)\n",
    "        ln_CI_upper = ln_OR+(1.96*SE_ln_OR)\n",
    "        ln_CI_lower = ln_OR-(1.96*SE_ln_OR)\n",
    "        CI_upper = np.exp(ln_CI_upper)\n",
    "        CI_lower = np.exp(ln_CI_lower)\n",
    "        ci_upper.append(CI_upper)\n",
    "        ci_lower.append(CI_lower)   \n",
    "    return ci_lower, ci_upper"
   ]
  },
  {
   "cell_type": "code",
   "execution_count": 153,
   "metadata": {},
   "outputs": [
    {
     "data": {
      "text/plain": [
       "([1.1258381497027883,\n",
       "  1.2671091020380474,\n",
       "  1.5338480033349087,\n",
       "  1.520295705841139,\n",
       "  1.6374501348957966],\n",
       " [5.880355894626337,\n",
       "  14.26652629845555,\n",
       "  12.482389803246848,\n",
       "  16.74001051053286,\n",
       "  90.97120786282055])"
      ]
     },
     "execution_count": 153,
     "metadata": {},
     "output_type": "execute_result"
    }
   ],
   "source": [
    "ci_devel(TEST_enriched)"
   ]
  },
  {
   "cell_type": "code",
   "execution_count": 154,
   "metadata": {},
   "outputs": [
    {
     "data": {
      "text/plain": [
       "0.42170650667157256"
      ]
     },
     "execution_count": 154,
     "metadata": {},
     "output_type": "execute_result"
    }
   ],
   "source": [
    "((1/31) + (1/1000)+(1/7)+(1/581))**0.5"
   ]
  },
  {
   "cell_type": "code",
   "execution_count": 155,
   "metadata": {},
   "outputs": [],
   "source": [
    "from math import sqrt"
   ]
  },
  {
   "cell_type": "code",
   "execution_count": 156,
   "metadata": {},
   "outputs": [
    {
     "data": {
      "text/plain": [
       "0.42170650667157256"
      ]
     },
     "execution_count": 156,
     "metadata": {},
     "output_type": "execute_result"
    }
   ],
   "source": [
    "sqrt((1/31) + (1/7)+(1/1000)+(1/581))"
   ]
  },
  {
   "cell_type": "code",
   "execution_count": 157,
   "metadata": {},
   "outputs": [],
   "source": [
    "TIMES_enriched = TIMES_enrichments[(TIMES_enrichments['OR'] >= 2.5) & (TIMES_enrichments['p'] < 0.05 ) & (TIMES_enrichments['TP'] >=3)]"
   ]
  },
  {
   "cell_type": "code",
   "execution_count": 158,
   "metadata": {},
   "outputs": [
    {
     "data": {
      "text/html": [
       "<div>\n",
       "<style scoped>\n",
       "    .dataframe tbody tr th:only-of-type {\n",
       "        vertical-align: middle;\n",
       "    }\n",
       "\n",
       "    .dataframe tbody tr th {\n",
       "        vertical-align: top;\n",
       "    }\n",
       "\n",
       "    .dataframe thead th {\n",
       "        text-align: right;\n",
       "    }\n",
       "</style>\n",
       "<table border=\"1\" class=\"dataframe\">\n",
       "  <thead>\n",
       "    <tr style=\"text-align: right;\">\n",
       "      <th></th>\n",
       "      <th>OR</th>\n",
       "      <th>p</th>\n",
       "      <th>TxP</th>\n",
       "      <th>TP</th>\n",
       "      <th>FN</th>\n",
       "      <th>FP</th>\n",
       "      <th>TN</th>\n",
       "    </tr>\n",
       "  </thead>\n",
       "  <tbody>\n",
       "    <tr>\n",
       "      <th>144</th>\n",
       "      <td>3.280142</td>\n",
       "      <td>0.006806</td>\n",
       "      <td>bond:quatN_alkyl_acyclic</td>\n",
       "      <td>30</td>\n",
       "      <td>6</td>\n",
       "      <td>282</td>\n",
       "      <td>185</td>\n",
       "    </tr>\n",
       "    <tr>\n",
       "      <th>146</th>\n",
       "      <td>3.523810</td>\n",
       "      <td>0.002877</td>\n",
       "      <td>bond:quatN_generic</td>\n",
       "      <td>32</td>\n",
       "      <td>6</td>\n",
       "      <td>280</td>\n",
       "      <td>185</td>\n",
       "    </tr>\n",
       "    <tr>\n",
       "      <th>147</th>\n",
       "      <td>4.063709</td>\n",
       "      <td>0.022398</td>\n",
       "      <td>bond:quatN_trimethyl_alkyl_acyclic</td>\n",
       "      <td>19</td>\n",
       "      <td>3</td>\n",
       "      <td>293</td>\n",
       "      <td>188</td>\n",
       "    </tr>\n",
       "    <tr>\n",
       "      <th>240</th>\n",
       "      <td>6.943522</td>\n",
       "      <td>0.035363</td>\n",
       "      <td>group:ligand_path_5-7_bidentate</td>\n",
       "      <td>11</td>\n",
       "      <td>1</td>\n",
       "      <td>301</td>\n",
       "      <td>190</td>\n",
       "    </tr>\n",
       "    <tr>\n",
       "      <th>68</th>\n",
       "      <td>inf</td>\n",
       "      <td>0.026908</td>\n",
       "      <td>bond:COH_alcohol_allyl</td>\n",
       "      <td>8</td>\n",
       "      <td>0</td>\n",
       "      <td>304</td>\n",
       "      <td>191</td>\n",
       "    </tr>\n",
       "    <tr>\n",
       "      <th>65</th>\n",
       "      <td>inf</td>\n",
       "      <td>0.015381</td>\n",
       "      <td>bond:COC_ether_alkenyl</td>\n",
       "      <td>9</td>\n",
       "      <td>0</td>\n",
       "      <td>303</td>\n",
       "      <td>191</td>\n",
       "    </tr>\n",
       "  </tbody>\n",
       "</table>\n",
       "</div>"
      ],
      "text/plain": [
       "           OR         p                                 TxP  TP  FN   FP   TN\n",
       "144  3.280142  0.006806            bond:quatN_alkyl_acyclic  30   6  282  185\n",
       "146  3.523810  0.002877                  bond:quatN_generic  32   6  280  185\n",
       "147  4.063709  0.022398  bond:quatN_trimethyl_alkyl_acyclic  19   3  293  188\n",
       "240  6.943522  0.035363     group:ligand_path_5-7_bidentate  11   1  301  190\n",
       "68        inf  0.026908              bond:COH_alcohol_allyl   8   0  304  191\n",
       "65        inf  0.015381              bond:COC_ether_alkenyl   9   0  303  191"
      ]
     },
     "execution_count": 158,
     "metadata": {},
     "output_type": "execute_result"
    }
   ],
   "source": [
    "TIMES_enriched "
   ]
  },
  {
   "cell_type": "code",
   "execution_count": 159,
   "metadata": {},
   "outputs": [],
   "source": [
    "def ci_devel(df):\n",
    "    ci_upper = []\n",
    "    ci_lower = []\n",
    "\n",
    "    for i, row in df.iterrows():\n",
    "        if row['OR'] != np.inf:\n",
    "            ln_OR = np.log(row['OR'])\n",
    "        #except ZeroDivisionError as error:\n",
    "        #   print(error)\n",
    "        #else:\n",
    "            SE_ln_OR = sqrt((1/row['TP']) + (1/row['FN'])+(1/row['FP'])+(1/row['TN']))\n",
    "            #print(SE_ln_OR)\n",
    "            ln_CI_upper = ln_OR+(1.96*SE_ln_OR)\n",
    "            ln_CI_lower = ln_OR-(1.96*SE_ln_OR)\n",
    "            CI_upper = np.exp(ln_CI_upper)\n",
    "            CI_lower = np.exp(ln_CI_lower)\n",
    "            ci_upper.append(CI_upper)\n",
    "            ci_lower.append(CI_lower)   \n",
    "    return ci_lower, ci_upper"
   ]
  },
  {
   "cell_type": "code",
   "execution_count": 160,
   "metadata": {},
   "outputs": [
    {
     "data": {
      "text/plain": [
       "([1.3390318869187512,\n",
       "  1.444879504002865,\n",
       "  1.1861676571494222,\n",
       "  0.8892437651688527],\n",
       " [8.035156310826867, 8.593957853018368, 13.921918024148797, 54.21740812171299])"
      ]
     },
     "execution_count": 160,
     "metadata": {},
     "output_type": "execute_result"
    }
   ],
   "source": [
    "ci_devel(TIMES_enriched)\n"
   ]
  },
  {
   "cell_type": "code",
   "execution_count": 161,
   "metadata": {},
   "outputs": [],
   "source": [
    "TIMES_enrichments['Model'] = 'TIMES'"
   ]
  },
  {
   "cell_type": "code",
   "execution_count": 190,
   "metadata": {},
   "outputs": [
    {
     "data": {
      "text/html": [
       "<div>\n",
       "<style scoped>\n",
       "    .dataframe tbody tr th:only-of-type {\n",
       "        vertical-align: middle;\n",
       "    }\n",
       "\n",
       "    .dataframe tbody tr th {\n",
       "        vertical-align: top;\n",
       "    }\n",
       "\n",
       "    .dataframe thead th {\n",
       "        text-align: right;\n",
       "    }\n",
       "</style>\n",
       "<table border=\"1\" class=\"dataframe\">\n",
       "  <thead>\n",
       "    <tr style=\"text-align: right;\">\n",
       "      <th></th>\n",
       "      <th>OR</th>\n",
       "      <th>p</th>\n",
       "      <th>TxP</th>\n",
       "      <th>TP</th>\n",
       "      <th>FN</th>\n",
       "      <th>FP</th>\n",
       "      <th>TN</th>\n",
       "      <th>Model</th>\n",
       "    </tr>\n",
       "  </thead>\n",
       "  <tbody>\n",
       "    <tr>\n",
       "      <th>11</th>\n",
       "      <td>0.0</td>\n",
       "      <td>0.363187</td>\n",
       "      <td>bond:C(~Z)~C~Q_haloether_dibenzodioxin_1-halo</td>\n",
       "      <td>0</td>\n",
       "      <td>1</td>\n",
       "      <td>1031</td>\n",
       "      <td>587</td>\n",
       "      <td>TEST</td>\n",
       "    </tr>\n",
       "    <tr>\n",
       "      <th>12</th>\n",
       "      <td>0.0</td>\n",
       "      <td>0.363187</td>\n",
       "      <td>bond:C(~Z)~C~Q_haloether_dibenzodioxin_2-halo</td>\n",
       "      <td>0</td>\n",
       "      <td>1</td>\n",
       "      <td>1031</td>\n",
       "      <td>587</td>\n",
       "      <td>TEST</td>\n",
       "    </tr>\n",
       "    <tr>\n",
       "      <th>13</th>\n",
       "      <td>0.0</td>\n",
       "      <td>0.363187</td>\n",
       "      <td>bond:C(~Z)~C~Q_haloether_dibenzodioxin_dichlor...</td>\n",
       "      <td>0</td>\n",
       "      <td>1</td>\n",
       "      <td>1031</td>\n",
       "      <td>587</td>\n",
       "      <td>TEST</td>\n",
       "    </tr>\n",
       "    <tr>\n",
       "      <th>14</th>\n",
       "      <td>0.0</td>\n",
       "      <td>0.363187</td>\n",
       "      <td>bond:C(~Z)~C~Q_haloether_dibenzodioxin_tetrach...</td>\n",
       "      <td>0</td>\n",
       "      <td>1</td>\n",
       "      <td>1031</td>\n",
       "      <td>587</td>\n",
       "      <td>TEST</td>\n",
       "    </tr>\n",
       "    <tr>\n",
       "      <th>66</th>\n",
       "      <td>0.0</td>\n",
       "      <td>0.363187</td>\n",
       "      <td>bond:CN_amine_alkyl_methanolamine</td>\n",
       "      <td>0</td>\n",
       "      <td>1</td>\n",
       "      <td>1031</td>\n",
       "      <td>587</td>\n",
       "      <td>TEST</td>\n",
       "    </tr>\n",
       "    <tr>\n",
       "      <th>...</th>\n",
       "      <td>...</td>\n",
       "      <td>...</td>\n",
       "      <td>...</td>\n",
       "      <td>...</td>\n",
       "      <td>...</td>\n",
       "      <td>...</td>\n",
       "      <td>...</td>\n",
       "      <td>...</td>\n",
       "    </tr>\n",
       "    <tr>\n",
       "      <th>132</th>\n",
       "      <td>inf</td>\n",
       "      <td>0.165784</td>\n",
       "      <td>bond:CX_halide_alkyl-X_tertiary</td>\n",
       "      <td>5</td>\n",
       "      <td>0</td>\n",
       "      <td>1026</td>\n",
       "      <td>588</td>\n",
       "      <td>TEST</td>\n",
       "    </tr>\n",
       "    <tr>\n",
       "      <th>216</th>\n",
       "      <td>inf</td>\n",
       "      <td>0.165784</td>\n",
       "      <td>bond:S(=O)O_sulfonicEster_alkyl_O-C_(H=0)</td>\n",
       "      <td>5</td>\n",
       "      <td>0</td>\n",
       "      <td>1026</td>\n",
       "      <td>588</td>\n",
       "      <td>TEST</td>\n",
       "    </tr>\n",
       "    <tr>\n",
       "      <th>154</th>\n",
       "      <td>inf</td>\n",
       "      <td>0.092554</td>\n",
       "      <td>bond:CX_halide_aromatic-X_trihalo_benzene_(1_3...</td>\n",
       "      <td>6</td>\n",
       "      <td>0</td>\n",
       "      <td>1025</td>\n",
       "      <td>588</td>\n",
       "      <td>TEST</td>\n",
       "    </tr>\n",
       "    <tr>\n",
       "      <th>214</th>\n",
       "      <td>inf</td>\n",
       "      <td>0.092554</td>\n",
       "      <td>bond:S(=O)O_sulfonicEster_acyclic_S-C_(chain)</td>\n",
       "      <td>6</td>\n",
       "      <td>0</td>\n",
       "      <td>1025</td>\n",
       "      <td>588</td>\n",
       "      <td>TEST</td>\n",
       "    </tr>\n",
       "    <tr>\n",
       "      <th>217</th>\n",
       "      <td>inf</td>\n",
       "      <td>0.092554</td>\n",
       "      <td>bond:S(=O)O_sulfonicEster_alkyl_S-C</td>\n",
       "      <td>6</td>\n",
       "      <td>0</td>\n",
       "      <td>1025</td>\n",
       "      <td>588</td>\n",
       "      <td>TEST</td>\n",
       "    </tr>\n",
       "  </tbody>\n",
       "</table>\n",
       "<p>454 rows × 8 columns</p>\n",
       "</div>"
      ],
      "text/plain": [
       "      OR         p                                                TxP  TP  FN  \\\n",
       "11   0.0  0.363187      bond:C(~Z)~C~Q_haloether_dibenzodioxin_1-halo   0   1   \n",
       "12   0.0  0.363187      bond:C(~Z)~C~Q_haloether_dibenzodioxin_2-halo   0   1   \n",
       "13   0.0  0.363187  bond:C(~Z)~C~Q_haloether_dibenzodioxin_dichlor...   0   1   \n",
       "14   0.0  0.363187  bond:C(~Z)~C~Q_haloether_dibenzodioxin_tetrach...   0   1   \n",
       "66   0.0  0.363187                  bond:CN_amine_alkyl_methanolamine   0   1   \n",
       "..   ...       ...                                                ...  ..  ..   \n",
       "132  inf  0.165784                    bond:CX_halide_alkyl-X_tertiary   5   0   \n",
       "216  inf  0.165784          bond:S(=O)O_sulfonicEster_alkyl_O-C_(H=0)   5   0   \n",
       "154  inf  0.092554  bond:CX_halide_aromatic-X_trihalo_benzene_(1_3...   6   0   \n",
       "214  inf  0.092554      bond:S(=O)O_sulfonicEster_acyclic_S-C_(chain)   6   0   \n",
       "217  inf  0.092554                bond:S(=O)O_sulfonicEster_alkyl_S-C   6   0   \n",
       "\n",
       "       FP   TN Model  \n",
       "11   1031  587  TEST  \n",
       "12   1031  587  TEST  \n",
       "13   1031  587  TEST  \n",
       "14   1031  587  TEST  \n",
       "66   1031  587  TEST  \n",
       "..    ...  ...   ...  \n",
       "132  1026  588  TEST  \n",
       "216  1026  588  TEST  \n",
       "154  1025  588  TEST  \n",
       "214  1025  588  TEST  \n",
       "217  1025  588  TEST  \n",
       "\n",
       "[454 rows x 8 columns]"
      ]
     },
     "execution_count": 190,
     "metadata": {},
     "output_type": "execute_result"
    }
   ],
   "source": [
    "TEST_enrichments"
   ]
  },
  {
   "cell_type": "code",
   "execution_count": 178,
   "metadata": {},
   "outputs": [],
   "source": [
    "#for i, row in TIMES_enrichments.iterrows():\n",
    "#    print(row['FN']/(row['TN'] + row['TN']))"
   ]
  },
  {
   "cell_type": "code",
   "execution_count": 191,
   "metadata": {},
   "outputs": [],
   "source": [
    "def prob_deriv(df):\n",
    "    ppv_all = []\n",
    "    false_or_all = []\n",
    "    txps = []\n",
    "    \n",
    "    for i, row in df.iterrows():\n",
    "        ppv = row['TP']/(row['TP'] + row['FP'])\n",
    "        false_or = row['FN']/(row['FN'] + row['TN'])\n",
    "        ppv_all.append(ppv)\n",
    "        false_or_all.append(false_or)\n",
    "        txps.append(row['TxP'])\n",
    "    return txps, ppv_all, false_or_all"
   ]
  },
  {
   "cell_type": "code",
   "execution_count": 192,
   "metadata": {},
   "outputs": [],
   "source": [
    "prob_TIMES = prob_deriv(TIMES_enrichments)"
   ]
  },
  {
   "cell_type": "code",
   "execution_count": 193,
   "metadata": {},
   "outputs": [],
   "source": [
    "prob_TEST = prob_deriv(TEST_enrichments)"
   ]
  },
  {
   "cell_type": "code",
   "execution_count": 200,
   "metadata": {},
   "outputs": [],
   "source": [
    "prob_TEST_df = pd.DataFrame(prob_TEST).T"
   ]
  },
  {
   "cell_type": "code",
   "execution_count": 201,
   "metadata": {},
   "outputs": [],
   "source": [
    "prob_TEST_df.columns = ['TxP', 'PPV', 'FOR']"
   ]
  },
  {
   "cell_type": "code",
   "execution_count": 204,
   "metadata": {},
   "outputs": [],
   "source": [
    "prob_TEST_df['Model'] = 'TEST'"
   ]
  },
  {
   "cell_type": "code",
   "execution_count": 205,
   "metadata": {},
   "outputs": [],
   "source": [
    "prob_TIMES_df = pd.DataFrame(prob_TIMES).T\n",
    "prob_TIMES_df.columns = ['TxP', 'PPV', 'FOR']\n",
    "prob_TIMES_df['Model'] = 'TIMES'"
   ]
  },
  {
   "cell_type": "code",
   "execution_count": 208,
   "metadata": {},
   "outputs": [
    {
     "data": {
      "text/html": [
       "<div>\n",
       "<style scoped>\n",
       "    .dataframe tbody tr th:only-of-type {\n",
       "        vertical-align: middle;\n",
       "    }\n",
       "\n",
       "    .dataframe tbody tr th {\n",
       "        vertical-align: top;\n",
       "    }\n",
       "\n",
       "    .dataframe thead th {\n",
       "        text-align: right;\n",
       "    }\n",
       "</style>\n",
       "<table border=\"1\" class=\"dataframe\">\n",
       "  <thead>\n",
       "    <tr style=\"text-align: right;\">\n",
       "      <th></th>\n",
       "      <th>TxP</th>\n",
       "      <th>PPV</th>\n",
       "      <th>FOR</th>\n",
       "      <th>Model</th>\n",
       "    </tr>\n",
       "  </thead>\n",
       "  <tbody>\n",
       "    <tr>\n",
       "      <th>0</th>\n",
       "      <td>bond:C(~Z)~C~Q_haloether_dibenzodioxin_1-halo</td>\n",
       "      <td>0</td>\n",
       "      <td>0.00170068</td>\n",
       "      <td>TEST</td>\n",
       "    </tr>\n",
       "    <tr>\n",
       "      <th>1</th>\n",
       "      <td>bond:C(~Z)~C~Q_haloether_dibenzodioxin_2-halo</td>\n",
       "      <td>0</td>\n",
       "      <td>0.00170068</td>\n",
       "      <td>TEST</td>\n",
       "    </tr>\n",
       "    <tr>\n",
       "      <th>2</th>\n",
       "      <td>bond:C(~Z)~C~Q_haloether_dibenzodioxin_dichlor...</td>\n",
       "      <td>0</td>\n",
       "      <td>0.00170068</td>\n",
       "      <td>TEST</td>\n",
       "    </tr>\n",
       "    <tr>\n",
       "      <th>3</th>\n",
       "      <td>bond:C(~Z)~C~Q_haloether_dibenzodioxin_tetrach...</td>\n",
       "      <td>0</td>\n",
       "      <td>0.00170068</td>\n",
       "      <td>TEST</td>\n",
       "    </tr>\n",
       "    <tr>\n",
       "      <th>4</th>\n",
       "      <td>bond:CN_amine_alkyl_methanolamine</td>\n",
       "      <td>0</td>\n",
       "      <td>0.00170068</td>\n",
       "      <td>TEST</td>\n",
       "    </tr>\n",
       "    <tr>\n",
       "      <th>...</th>\n",
       "      <td>...</td>\n",
       "      <td>...</td>\n",
       "      <td>...</td>\n",
       "      <td>...</td>\n",
       "    </tr>\n",
       "    <tr>\n",
       "      <th>449</th>\n",
       "      <td>bond:CX_halide_alkyl-X_tertiary</td>\n",
       "      <td>0.00484966</td>\n",
       "      <td>0</td>\n",
       "      <td>TEST</td>\n",
       "    </tr>\n",
       "    <tr>\n",
       "      <th>450</th>\n",
       "      <td>bond:S(=O)O_sulfonicEster_alkyl_O-C_(H=0)</td>\n",
       "      <td>0.00484966</td>\n",
       "      <td>0</td>\n",
       "      <td>TEST</td>\n",
       "    </tr>\n",
       "    <tr>\n",
       "      <th>451</th>\n",
       "      <td>bond:CX_halide_aromatic-X_trihalo_benzene_(1_3...</td>\n",
       "      <td>0.00581959</td>\n",
       "      <td>0</td>\n",
       "      <td>TEST</td>\n",
       "    </tr>\n",
       "    <tr>\n",
       "      <th>452</th>\n",
       "      <td>bond:S(=O)O_sulfonicEster_acyclic_S-C_(chain)</td>\n",
       "      <td>0.00581959</td>\n",
       "      <td>0</td>\n",
       "      <td>TEST</td>\n",
       "    </tr>\n",
       "    <tr>\n",
       "      <th>453</th>\n",
       "      <td>bond:S(=O)O_sulfonicEster_alkyl_S-C</td>\n",
       "      <td>0.00581959</td>\n",
       "      <td>0</td>\n",
       "      <td>TEST</td>\n",
       "    </tr>\n",
       "  </tbody>\n",
       "</table>\n",
       "<p>454 rows × 4 columns</p>\n",
       "</div>"
      ],
      "text/plain": [
       "                                                   TxP         PPV  \\\n",
       "0        bond:C(~Z)~C~Q_haloether_dibenzodioxin_1-halo           0   \n",
       "1        bond:C(~Z)~C~Q_haloether_dibenzodioxin_2-halo           0   \n",
       "2    bond:C(~Z)~C~Q_haloether_dibenzodioxin_dichlor...           0   \n",
       "3    bond:C(~Z)~C~Q_haloether_dibenzodioxin_tetrach...           0   \n",
       "4                    bond:CN_amine_alkyl_methanolamine           0   \n",
       "..                                                 ...         ...   \n",
       "449                    bond:CX_halide_alkyl-X_tertiary  0.00484966   \n",
       "450          bond:S(=O)O_sulfonicEster_alkyl_O-C_(H=0)  0.00484966   \n",
       "451  bond:CX_halide_aromatic-X_trihalo_benzene_(1_3...  0.00581959   \n",
       "452      bond:S(=O)O_sulfonicEster_acyclic_S-C_(chain)  0.00581959   \n",
       "453                bond:S(=O)O_sulfonicEster_alkyl_S-C  0.00581959   \n",
       "\n",
       "            FOR Model  \n",
       "0    0.00170068  TEST  \n",
       "1    0.00170068  TEST  \n",
       "2    0.00170068  TEST  \n",
       "3    0.00170068  TEST  \n",
       "4    0.00170068  TEST  \n",
       "..          ...   ...  \n",
       "449           0  TEST  \n",
       "450           0  TEST  \n",
       "451           0  TEST  \n",
       "452           0  TEST  \n",
       "453           0  TEST  \n",
       "\n",
       "[454 rows x 4 columns]"
      ]
     },
     "execution_count": 208,
     "metadata": {},
     "output_type": "execute_result"
    }
   ],
   "source": [
    "prob_TEST_df"
   ]
  },
  {
   "cell_type": "code",
   "execution_count": 209,
   "metadata": {},
   "outputs": [],
   "source": [
    "all_probs = pd.concat([prob_TEST_df,prob_TIMES_df])"
   ]
  },
  {
   "cell_type": "code",
   "execution_count": 236,
   "metadata": {},
   "outputs": [],
   "source": [
    "all_probs.to_csv(interim_dat_dir+'all_probs.csv')"
   ]
  },
  {
   "cell_type": "code",
   "execution_count": 234,
   "metadata": {},
   "outputs": [
    {
     "data": {
      "text/plain": [
       "array(['TEST', 'TIMES'], dtype=object)"
      ]
     },
     "execution_count": 234,
     "metadata": {},
     "output_type": "execute_result"
    }
   ],
   "source": [
    "all_probs.Model.unique()"
   ]
  },
  {
   "cell_type": "code",
   "execution_count": 220,
   "metadata": {},
   "outputs": [
    {
     "data": {
      "text/plain": [
       "(array([649.,  66.,  20.,  21.,   4.,   6.,   2.,   2.,   0.,   2.]),\n",
       " array([0.0, 0.06282051282051282, 0.12564102564102564, 0.18846153846153846,\n",
       "        0.2512820512820513, 0.3141025641025641, 0.3769230769230769,\n",
       "        0.43974358974358974, 0.5025641025641026, 0.5653846153846154,\n",
       "        0.6282051282051282], dtype=object),\n",
       " <a list of 10 Patch objects>)"
      ]
     },
     "execution_count": 220,
     "metadata": {},
     "output_type": "execute_result"
    },
    {
     "data": {
      "image/png": "[encoded data removed]",
      "text/plain": [
       "<Figure size 432x288 with 1 Axes>"
      ]
     },
     "metadata": {
      "needs_background": "light"
     },
     "output_type": "display_data"
    }
   ],
   "source": [
    "plt.hist(all_probs['PPV'])"
   ]
  },
  {
   "cell_type": "code",
   "execution_count": 239,
   "metadata": {},
   "outputs": [],
   "source": [
    "pivot_probs = pd.pivot(all_probs, index = 'TxP', columns = 'Model' , values = 'PPV')"
   ]
  },
  {
   "cell_type": "code",
   "execution_count": 241,
   "metadata": {},
   "outputs": [],
   "source": [
    "pivot_probs.to_csv(interim_dat_dir+'all_pivot_probs.csv')"
   ]
  },
  {
   "cell_type": "code",
   "execution_count": null,
   "metadata": {},
   "outputs": [],
   "source": []
  },
  {
   "cell_type": "code",
   "execution_count": null,
   "metadata": {},
   "outputs": [],
   "source": []
  },
  {
   "cell_type": "code",
   "execution_count": 162,
   "metadata": {},
   "outputs": [],
   "source": [
    "TEST_enrichments['Model'] = 'TEST'"
   ]
  },
  {
   "cell_type": "code",
   "execution_count": 163,
   "metadata": {},
   "outputs": [],
   "source": [
    "all_enrichments = pd.concat([TIMES_enrichments,TEST_enrichments])"
   ]
  },
  {
   "cell_type": "code",
   "execution_count": 164,
   "metadata": {},
   "outputs": [],
   "source": [
    "all_enrichments.to_csv(interim_dat_dir+'all_enrichments.csv')"
   ]
  },
  {
   "cell_type": "code",
   "execution_count": 216,
   "metadata": {},
   "outputs": [
    {
     "data": {
      "text/html": [
       "<div>\n",
       "<style scoped>\n",
       "    .dataframe tbody tr th:only-of-type {\n",
       "        vertical-align: middle;\n",
       "    }\n",
       "\n",
       "    .dataframe tbody tr th {\n",
       "        vertical-align: top;\n",
       "    }\n",
       "\n",
       "    .dataframe thead th {\n",
       "        text-align: right;\n",
       "    }\n",
       "</style>\n",
       "<table border=\"1\" class=\"dataframe\">\n",
       "  <thead>\n",
       "    <tr style=\"text-align: right;\">\n",
       "      <th></th>\n",
       "      <th>OR</th>\n",
       "      <th>p</th>\n",
       "      <th>TxP</th>\n",
       "      <th>TP</th>\n",
       "      <th>FN</th>\n",
       "      <th>FP</th>\n",
       "      <th>TN</th>\n",
       "      <th>Model</th>\n",
       "    </tr>\n",
       "  </thead>\n",
       "  <tbody>\n",
       "    <tr>\n",
       "      <th>36</th>\n",
       "      <td>0.0</td>\n",
       "      <td>0.379722</td>\n",
       "      <td>bond:CC(=O)C_ketone_alkane_cyclic_(C5)</td>\n",
       "      <td>0</td>\n",
       "      <td>1</td>\n",
       "      <td>312</td>\n",
       "      <td>190</td>\n",
       "      <td>TIMES</td>\n",
       "    </tr>\n",
       "    <tr>\n",
       "      <th>115</th>\n",
       "      <td>0.0</td>\n",
       "      <td>0.379722</td>\n",
       "      <td>bond:CX_halide_aromatic-X_ether_aromatic_(Ph-O...</td>\n",
       "      <td>0</td>\n",
       "      <td>1</td>\n",
       "      <td>312</td>\n",
       "      <td>190</td>\n",
       "      <td>TIMES</td>\n",
       "    </tr>\n",
       "    <tr>\n",
       "      <th>139</th>\n",
       "      <td>0.0</td>\n",
       "      <td>0.379722</td>\n",
       "      <td>bond:P=O_phosphate_thioate</td>\n",
       "      <td>0</td>\n",
       "      <td>1</td>\n",
       "      <td>312</td>\n",
       "      <td>190</td>\n",
       "      <td>TIMES</td>\n",
       "    </tr>\n",
       "    <tr>\n",
       "      <th>143</th>\n",
       "      <td>0.0</td>\n",
       "      <td>0.379722</td>\n",
       "      <td>bond:QQ(Q~O_S)_sulfur_oxide</td>\n",
       "      <td>0</td>\n",
       "      <td>1</td>\n",
       "      <td>312</td>\n",
       "      <td>190</td>\n",
       "      <td>TIMES</td>\n",
       "    </tr>\n",
       "    <tr>\n",
       "      <th>153</th>\n",
       "      <td>0.0</td>\n",
       "      <td>0.379722</td>\n",
       "      <td>bond:S(=O)O_sulfonicEster_acyclic_(S-C(ring))</td>\n",
       "      <td>0</td>\n",
       "      <td>1</td>\n",
       "      <td>312</td>\n",
       "      <td>190</td>\n",
       "      <td>TIMES</td>\n",
       "    </tr>\n",
       "    <tr>\n",
       "      <th>...</th>\n",
       "      <td>...</td>\n",
       "      <td>...</td>\n",
       "      <td>...</td>\n",
       "      <td>...</td>\n",
       "      <td>...</td>\n",
       "      <td>...</td>\n",
       "      <td>...</td>\n",
       "      <td>...</td>\n",
       "    </tr>\n",
       "    <tr>\n",
       "      <th>132</th>\n",
       "      <td>inf</td>\n",
       "      <td>0.165784</td>\n",
       "      <td>bond:CX_halide_alkyl-X_tertiary</td>\n",
       "      <td>5</td>\n",
       "      <td>0</td>\n",
       "      <td>1026</td>\n",
       "      <td>588</td>\n",
       "      <td>TEST</td>\n",
       "    </tr>\n",
       "    <tr>\n",
       "      <th>216</th>\n",
       "      <td>inf</td>\n",
       "      <td>0.165784</td>\n",
       "      <td>bond:S(=O)O_sulfonicEster_alkyl_O-C_(H=0)</td>\n",
       "      <td>5</td>\n",
       "      <td>0</td>\n",
       "      <td>1026</td>\n",
       "      <td>588</td>\n",
       "      <td>TEST</td>\n",
       "    </tr>\n",
       "    <tr>\n",
       "      <th>154</th>\n",
       "      <td>inf</td>\n",
       "      <td>0.092554</td>\n",
       "      <td>bond:CX_halide_aromatic-X_trihalo_benzene_(1_3...</td>\n",
       "      <td>6</td>\n",
       "      <td>0</td>\n",
       "      <td>1025</td>\n",
       "      <td>588</td>\n",
       "      <td>TEST</td>\n",
       "    </tr>\n",
       "    <tr>\n",
       "      <th>214</th>\n",
       "      <td>inf</td>\n",
       "      <td>0.092554</td>\n",
       "      <td>bond:S(=O)O_sulfonicEster_acyclic_S-C_(chain)</td>\n",
       "      <td>6</td>\n",
       "      <td>0</td>\n",
       "      <td>1025</td>\n",
       "      <td>588</td>\n",
       "      <td>TEST</td>\n",
       "    </tr>\n",
       "    <tr>\n",
       "      <th>217</th>\n",
       "      <td>inf</td>\n",
       "      <td>0.092554</td>\n",
       "      <td>bond:S(=O)O_sulfonicEster_alkyl_S-C</td>\n",
       "      <td>6</td>\n",
       "      <td>0</td>\n",
       "      <td>1025</td>\n",
       "      <td>588</td>\n",
       "      <td>TEST</td>\n",
       "    </tr>\n",
       "  </tbody>\n",
       "</table>\n",
       "<p>772 rows × 8 columns</p>\n",
       "</div>"
      ],
      "text/plain": [
       "      OR         p                                                TxP  TP  FN  \\\n",
       "36   0.0  0.379722             bond:CC(=O)C_ketone_alkane_cyclic_(C5)   0   1   \n",
       "115  0.0  0.379722  bond:CX_halide_aromatic-X_ether_aromatic_(Ph-O...   0   1   \n",
       "139  0.0  0.379722                         bond:P=O_phosphate_thioate   0   1   \n",
       "143  0.0  0.379722                        bond:QQ(Q~O_S)_sulfur_oxide   0   1   \n",
       "153  0.0  0.379722      bond:S(=O)O_sulfonicEster_acyclic_(S-C(ring))   0   1   \n",
       "..   ...       ...                                                ...  ..  ..   \n",
       "132  inf  0.165784                    bond:CX_halide_alkyl-X_tertiary   5   0   \n",
       "216  inf  0.165784          bond:S(=O)O_sulfonicEster_alkyl_O-C_(H=0)   5   0   \n",
       "154  inf  0.092554  bond:CX_halide_aromatic-X_trihalo_benzene_(1_3...   6   0   \n",
       "214  inf  0.092554      bond:S(=O)O_sulfonicEster_acyclic_S-C_(chain)   6   0   \n",
       "217  inf  0.092554                bond:S(=O)O_sulfonicEster_alkyl_S-C   6   0   \n",
       "\n",
       "       FP   TN  Model  \n",
       "36    312  190  TIMES  \n",
       "115   312  190  TIMES  \n",
       "139   312  190  TIMES  \n",
       "143   312  190  TIMES  \n",
       "153   312  190  TIMES  \n",
       "..    ...  ...    ...  \n",
       "132  1026  588   TEST  \n",
       "216  1026  588   TEST  \n",
       "154  1025  588   TEST  \n",
       "214  1025  588   TEST  \n",
       "217  1025  588   TEST  \n",
       "\n",
       "[772 rows x 8 columns]"
      ]
     },
     "execution_count": 216,
     "metadata": {},
     "output_type": "execute_result"
    }
   ],
   "source": [
    "all_enrichments"
   ]
  },
  {
   "cell_type": "code",
   "execution_count": 165,
   "metadata": {},
   "outputs": [],
   "source": [
    "enrich_pivot = pd.pivot_table(index = 'TxP', columns = 'Model', values = ['OR', 'p'], data = all_enrichments)"
   ]
  },
  {
   "cell_type": "code",
   "execution_count": 166,
   "metadata": {},
   "outputs": [
    {
     "data": {
      "text/html": [
       "<div>\n",
       "<style scoped>\n",
       "    .dataframe tbody tr th:only-of-type {\n",
       "        vertical-align: middle;\n",
       "    }\n",
       "\n",
       "    .dataframe tbody tr th {\n",
       "        vertical-align: top;\n",
       "    }\n",
       "\n",
       "    .dataframe thead tr th {\n",
       "        text-align: left;\n",
       "    }\n",
       "\n",
       "    .dataframe thead tr:last-of-type th {\n",
       "        text-align: right;\n",
       "    }\n",
       "</style>\n",
       "<table border=\"1\" class=\"dataframe\">\n",
       "  <thead>\n",
       "    <tr>\n",
       "      <th></th>\n",
       "      <th colspan=\"2\" halign=\"left\">OR</th>\n",
       "      <th colspan=\"2\" halign=\"left\">p</th>\n",
       "    </tr>\n",
       "    <tr>\n",
       "      <th>Model</th>\n",
       "      <th>TEST</th>\n",
       "      <th>TIMES</th>\n",
       "      <th>TEST</th>\n",
       "      <th>TIMES</th>\n",
       "    </tr>\n",
       "    <tr>\n",
       "      <th>TxP</th>\n",
       "      <th></th>\n",
       "      <th></th>\n",
       "      <th></th>\n",
       "      <th></th>\n",
       "    </tr>\n",
       "  </thead>\n",
       "  <tbody>\n",
       "    <tr>\n",
       "      <th>atom:element_metal_metalloid</th>\n",
       "      <td>1.026810</td>\n",
       "      <td>2.467532</td>\n",
       "      <td>1.0</td>\n",
       "      <td>0.654153</td>\n",
       "    </tr>\n",
       "    <tr>\n",
       "      <th>bond:C#N_cyano_acylcyanide</th>\n",
       "      <td>inf</td>\n",
       "      <td>inf</td>\n",
       "      <td>1.0</td>\n",
       "      <td>1.000000</td>\n",
       "    </tr>\n",
       "    <tr>\n",
       "      <th>bond:C#N_cyano_cyanamide</th>\n",
       "      <td>0.569903</td>\n",
       "      <td>NaN</td>\n",
       "      <td>1.0</td>\n",
       "      <td>NaN</td>\n",
       "    </tr>\n",
       "    <tr>\n",
       "      <th>bond:C#N_nitrile</th>\n",
       "      <td>0.969034</td>\n",
       "      <td>inf</td>\n",
       "      <td>1.0</td>\n",
       "      <td>0.087484</td>\n",
       "    </tr>\n",
       "    <tr>\n",
       "      <th>bond:C#N_nitrile_ab-unsaturated</th>\n",
       "      <td>1.713035</td>\n",
       "      <td>NaN</td>\n",
       "      <td>1.0</td>\n",
       "      <td>NaN</td>\n",
       "    </tr>\n",
       "    <tr>\n",
       "      <th>...</th>\n",
       "      <td>...</td>\n",
       "      <td>...</td>\n",
       "      <td>...</td>\n",
       "      <td>...</td>\n",
       "    </tr>\n",
       "    <tr>\n",
       "      <th>ring:polycycle_bicyclo_[3.2.1]octane</th>\n",
       "      <td>inf</td>\n",
       "      <td>NaN</td>\n",
       "      <td>1.0</td>\n",
       "      <td>NaN</td>\n",
       "    </tr>\n",
       "    <tr>\n",
       "      <th>ring:polycycle_bicyclo_[3.3.1]nonane</th>\n",
       "      <td>0.569903</td>\n",
       "      <td>0.000000</td>\n",
       "      <td>1.0</td>\n",
       "      <td>0.379722</td>\n",
       "    </tr>\n",
       "    <tr>\n",
       "      <th>ring:polycycle_bicyclo_[4.3.1]decane</th>\n",
       "      <td>inf</td>\n",
       "      <td>NaN</td>\n",
       "      <td>1.0</td>\n",
       "      <td>NaN</td>\n",
       "    </tr>\n",
       "    <tr>\n",
       "      <th>ring:polycycle_bicyclo_[4.4.1]undecane</th>\n",
       "      <td>inf</td>\n",
       "      <td>NaN</td>\n",
       "      <td>1.0</td>\n",
       "      <td>NaN</td>\n",
       "    </tr>\n",
       "    <tr>\n",
       "      <th>ring:polycycle_tricyclo_adamantane</th>\n",
       "      <td>0.569903</td>\n",
       "      <td>0.000000</td>\n",
       "      <td>1.0</td>\n",
       "      <td>0.379722</td>\n",
       "    </tr>\n",
       "  </tbody>\n",
       "</table>\n",
       "<p>459 rows × 4 columns</p>\n",
       "</div>"
      ],
      "text/plain": [
       "                                              OR              p          \n",
       "Model                                       TEST     TIMES TEST     TIMES\n",
       "TxP                                                                      \n",
       "atom:element_metal_metalloid            1.026810  2.467532  1.0  0.654153\n",
       "bond:C#N_cyano_acylcyanide                   inf       inf  1.0  1.000000\n",
       "bond:C#N_cyano_cyanamide                0.569903       NaN  1.0       NaN\n",
       "bond:C#N_nitrile                        0.969034       inf  1.0  0.087484\n",
       "bond:C#N_nitrile_ab-unsaturated         1.713035       NaN  1.0       NaN\n",
       "...                                          ...       ...  ...       ...\n",
       "ring:polycycle_bicyclo_[3.2.1]octane         inf       NaN  1.0       NaN\n",
       "ring:polycycle_bicyclo_[3.3.1]nonane    0.569903  0.000000  1.0  0.379722\n",
       "ring:polycycle_bicyclo_[4.3.1]decane         inf       NaN  1.0       NaN\n",
       "ring:polycycle_bicyclo_[4.4.1]undecane       inf       NaN  1.0       NaN\n",
       "ring:polycycle_tricyclo_adamantane      0.569903  0.000000  1.0  0.379722\n",
       "\n",
       "[459 rows x 4 columns]"
      ]
     },
     "execution_count": 166,
     "metadata": {},
     "output_type": "execute_result"
    }
   ],
   "source": [
    "enrich_pivot"
   ]
  },
  {
   "cell_type": "code",
   "execution_count": 141,
   "metadata": {},
   "outputs": [],
   "source": [
    "enrich_pivot[(~enrich_pivot['OR','TEST'].isnull()) & (~enrich_pivot['OR','TIMES'].isnull()) ].to_csv(interim_dat_dir+'enrich_pivot.csv')"
   ]
  },
  {
   "cell_type": "code",
   "execution_count": 38,
   "metadata": {},
   "outputs": [],
   "source": [
    "#TIMES_for_enrich\n",
    "mask = (TEST_for_enrich['bond:S(=O)N_sulfonamide'] == 1) | (TEST_for_enrich['bond:S(=O)N_sulfonamide'] == 1)"
   ]
  },
  {
   "cell_type": "code",
   "execution_count": 39,
   "metadata": {},
   "outputs": [],
   "source": [
    "specific_txps = TEST_for_enrich[mask]"
   ]
  },
  {
   "cell_type": "code",
   "execution_count": 40,
   "metadata": {},
   "outputs": [],
   "source": [
    "specific_txps.columns \n",
    "\n",
    "test_cols = ['CAS', 'name', 'known_LD50_mgkg', 'known_pLD50', 'TEST_LD50_mgkg',\n",
    "       'TEST_pLD50', 'TEST']"
   ]
  },
  {
   "cell_type": "code",
   "execution_count": 41,
   "metadata": {},
   "outputs": [],
   "source": [
    "specific_txps[specific_txps['TEST_out_CI'] ==1][test_cols].to_csv(processed_dat_dir+'examples_TESTenrichedTxPs.csv')"
   ]
  },
  {
   "cell_type": "code",
   "execution_count": 42,
   "metadata": {},
   "outputs": [],
   "source": [
    "mask2 = (TIMES_for_enrich['bond:COH_alcohol_allyl']==1)| (TIMES_for_enrich['bond:COC_ether_alkenyl']==1)"
   ]
  },
  {
   "cell_type": "code",
   "execution_count": 43,
   "metadata": {},
   "outputs": [],
   "source": [
    "inf_txps = TIMES_for_enrich[mask2]"
   ]
  },
  {
   "cell_type": "code",
   "execution_count": 44,
   "metadata": {},
   "outputs": [],
   "source": [
    "inf_txps[['CAS', 'name', 'known_LD50_mgkg', 'TIMES_LD50_mgkg',\n",
    "       'TIMES']].to_csv(processed_dat_dir+'examples_TIMESenrichedTxPs.csv')"
   ]
  },
  {
   "cell_type": "code",
   "execution_count": null,
   "metadata": {},
   "outputs": [],
   "source": []
  }
 ],
 "metadata": {
  "kernelspec": {
   "display_name": "Python 3",
   "language": "python",
   "name": "python3"
  },
  "language_info": {
   "codemirror_mode": {
    "name": "ipython",
    "version": 3
   },
   "file_extension": ".py",
   "mimetype": "text/x-python",
   "name": "python",
   "nbconvert_exporter": "python",
   "pygments_lexer": "ipython3",
   "version": "3.7.6"
  }
 },
 "nbformat": 4,
 "nbformat_minor": 4
}
