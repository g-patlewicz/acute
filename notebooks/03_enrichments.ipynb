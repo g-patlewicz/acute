{
 "cells": [
  {
   "cell_type": "code",
   "execution_count": 1,
   "metadata": {},
   "outputs": [],
   "source": [
    "import numpy as np\n",
    "import pandas as pd\n",
    "import matplotlib.pyplot as plt\n",
    "import seaborn as sns\n",
    "%matplotlib inline\n",
    "import os\n",
    "import glob"
   ]
  },
  {
   "cell_type": "code",
   "execution_count": 2,
   "metadata": {},
   "outputs": [],
   "source": [
    "raw_dat_dir = '/home/grace/Documents/python/acute_oral/data/raw/'\n",
    "processed_dat_dir = '/home/grace/Documents/python/acute_oral/data/processed/'\n",
    "interim_dat_dir = '/home/grace/Documents/python/acute_oral/data/interim/'\n",
    "figures_dir = '/home/grace/Documents/python/acute_oral/reports/figures/'\n",
    "test_dir = '/home/grace/Documents/python/acute_oral/data/external/TEST/'\n",
    "times_dir = '/home/grace/Documents/python/acute_oral/data/external/TIMES/'"
   ]
  },
  {
   "cell_type": "code",
   "execution_count": 3,
   "metadata": {},
   "outputs": [],
   "source": [
    "xls = pd.ExcelFile(processed_dat_dir+'relevant_acute_pred_final_200320.xlsx')"
   ]
  },
  {
   "cell_type": "code",
   "execution_count": 4,
   "metadata": {},
   "outputs": [
    {
     "data": {
      "text/plain": [
       "['relevant_pred']"
      ]
     },
     "execution_count": 4,
     "metadata": {},
     "output_type": "execute_result"
    }
   ],
   "source": [
    "xls.sheet_names"
   ]
  },
  {
   "cell_type": "code",
   "execution_count": 5,
   "metadata": {},
   "outputs": [],
   "source": [
    "relevant_acute_data = xls.parse('relevant_pred')"
   ]
  },
  {
   "cell_type": "code",
   "execution_count": 6,
   "metadata": {},
   "outputs": [
    {
     "data": {
      "text/plain": [
       "(8979, 32)"
      ]
     },
     "execution_count": 6,
     "metadata": {},
     "output_type": "execute_result"
    }
   ],
   "source": [
    "relevant_acute_data.shape"
   ]
  },
  {
   "cell_type": "code",
   "execution_count": 7,
   "metadata": {},
   "outputs": [
    {
     "data": {
      "text/html": [
       "<div>\n",
       "<style scoped>\n",
       "    .dataframe tbody tr th:only-of-type {\n",
       "        vertical-align: middle;\n",
       "    }\n",
       "\n",
       "    .dataframe tbody tr th {\n",
       "        vertical-align: top;\n",
       "    }\n",
       "\n",
       "    .dataframe thead th {\n",
       "        text-align: right;\n",
       "    }\n",
       "</style>\n",
       "<table border=\"1\" class=\"dataframe\">\n",
       "  <thead>\n",
       "    <tr style=\"text-align: right;\">\n",
       "      <th></th>\n",
       "      <th>Unnamed: 0</th>\n",
       "      <th>DTXSID</th>\n",
       "      <th>CAS</th>\n",
       "      <th>name</th>\n",
       "      <th>known_LD50_mgkg</th>\n",
       "      <th>known_pLD50</th>\n",
       "      <th>TEST_LD50_mgkg</th>\n",
       "      <th>TEST_pLD50</th>\n",
       "      <th>TIMES_LD50_mgkg</th>\n",
       "      <th>TIMES_pLD50</th>\n",
       "      <th>...</th>\n",
       "      <th>molecular_initiating_event_3</th>\n",
       "      <th>effect_biological outcome_3</th>\n",
       "      <th>alert_reliability</th>\n",
       "      <th>parameter_ranges</th>\n",
       "      <th>correct_fragments_structural_domain</th>\n",
       "      <th>incorrect_fragments_structural_domain</th>\n",
       "      <th>unknown_fragments_structural_domain</th>\n",
       "      <th>total_structural_domain</th>\n",
       "      <th>total_domain</th>\n",
       "      <th>acute_oral_toxicity_confidence</th>\n",
       "    </tr>\n",
       "  </thead>\n",
       "  <tbody>\n",
       "    <tr>\n",
       "      <th>3667</th>\n",
       "      <td>3667</td>\n",
       "      <td>NaN</td>\n",
       "      <td>29387-86-8</td>\n",
       "      <td>NaN</td>\n",
       "      <td>1900.0</td>\n",
       "      <td>NaN</td>\n",
       "      <td>NaN</td>\n",
       "      <td>1.29</td>\n",
       "      <td>NaN</td>\n",
       "      <td>NaN</td>\n",
       "      <td>...</td>\n",
       "      <td>NaN</td>\n",
       "      <td>NaN</td>\n",
       "      <td>NaN</td>\n",
       "      <td>NaN</td>\n",
       "      <td>NaN</td>\n",
       "      <td>NaN</td>\n",
       "      <td>NaN</td>\n",
       "      <td>NaN</td>\n",
       "      <td>NaN</td>\n",
       "      <td>NaN</td>\n",
       "    </tr>\n",
       "    <tr>\n",
       "      <th>4639</th>\n",
       "      <td>4639</td>\n",
       "      <td>NaN</td>\n",
       "      <td>39699-08-6</td>\n",
       "      <td>NaN</td>\n",
       "      <td>29000.0</td>\n",
       "      <td>NaN</td>\n",
       "      <td>NaN</td>\n",
       "      <td>1.30</td>\n",
       "      <td>NaN</td>\n",
       "      <td>NaN</td>\n",
       "      <td>...</td>\n",
       "      <td>NaN</td>\n",
       "      <td>NaN</td>\n",
       "      <td>NaN</td>\n",
       "      <td>NaN</td>\n",
       "      <td>NaN</td>\n",
       "      <td>NaN</td>\n",
       "      <td>NaN</td>\n",
       "      <td>NaN</td>\n",
       "      <td>NaN</td>\n",
       "      <td>NaN</td>\n",
       "    </tr>\n",
       "  </tbody>\n",
       "</table>\n",
       "<p>2 rows × 32 columns</p>\n",
       "</div>"
      ],
      "text/plain": [
       "      Unnamed: 0 DTXSID         CAS name  known_LD50_mgkg  known_pLD50  \\\n",
       "3667        3667    NaN  29387-86-8  NaN           1900.0          NaN   \n",
       "4639        4639    NaN  39699-08-6  NaN          29000.0          NaN   \n",
       "\n",
       "      TEST_LD50_mgkg  TEST_pLD50  TIMES_LD50_mgkg  TIMES_pLD50  ...  \\\n",
       "3667             NaN        1.29              NaN          NaN  ...   \n",
       "4639             NaN        1.30              NaN          NaN  ...   \n",
       "\n",
       "     molecular_initiating_event_3 effect_biological outcome_3  \\\n",
       "3667                          NaN                         NaN   \n",
       "4639                          NaN                         NaN   \n",
       "\n",
       "      alert_reliability  parameter_ranges  \\\n",
       "3667                NaN               NaN   \n",
       "4639                NaN               NaN   \n",
       "\n",
       "      correct_fragments_structural_domain  \\\n",
       "3667                                  NaN   \n",
       "4639                                  NaN   \n",
       "\n",
       "     incorrect_fragments_structural_domain  \\\n",
       "3667                                   NaN   \n",
       "4639                                   NaN   \n",
       "\n",
       "     unknown_fragments_structural_domain total_structural_domain total_domain  \\\n",
       "3667                                 NaN                     NaN          NaN   \n",
       "4639                                 NaN                     NaN          NaN   \n",
       "\n",
       "     acute_oral_toxicity_confidence  \n",
       "3667                            NaN  \n",
       "4639                            NaN  \n",
       "\n",
       "[2 rows x 32 columns]"
      ]
     },
     "execution_count": 7,
     "metadata": {},
     "output_type": "execute_result"
    }
   ],
   "source": [
    "relevant_acute_data[(relevant_acute_data['TEST_LD50_mgkg'].isnull()) & (~relevant_acute_data['TEST_pLD50'].isnull()) ]"
   ]
  },
  {
   "cell_type": "code",
   "execution_count": 8,
   "metadata": {},
   "outputs": [],
   "source": [
    "chemotypes = pd.read_csv(raw_dat_dir+'Acute_SMILES_Toxprints.tsv', sep = '\\t')"
   ]
  },
  {
   "cell_type": "code",
   "execution_count": 9,
   "metadata": {},
   "outputs": [],
   "source": [
    "chemotypes.rename(columns = {'M_NAME': 'CAS'}, inplace = True)"
   ]
  },
  {
   "cell_type": "code",
   "execution_count": 10,
   "metadata": {},
   "outputs": [],
   "source": [
    "for_enrich = relevant_acute_data[['DTXSID', 'CAS', 'name', 'known_LD50_mgkg', 'known_pLD50',\n",
    "       'TEST_LD50_mgkg', 'TEST_pLD50', 'TIMES_LD50_mgkg', 'TIMES_pLD50',\n",
    "       'TIMES', 'TEST', 'known_pLD50_minus_TEST', 'known_pLD50_minus_TIMES',\n",
    "       'average_mass', 'qsar_ready_smiles', 'smiles']]"
   ]
  },
  {
   "cell_type": "code",
   "execution_count": 11,
   "metadata": {},
   "outputs": [
    {
     "data": {
      "text/plain": [
       "(8979, 16)"
      ]
     },
     "execution_count": 11,
     "metadata": {},
     "output_type": "execute_result"
    }
   ],
   "source": [
    "for_enrich.shape"
   ]
  },
  {
   "cell_type": "code",
   "execution_count": 12,
   "metadata": {},
   "outputs": [],
   "source": [
    "for_enrich_txps = pd.merge(for_enrich, chemotypes, on = 'CAS', how = 'left')"
   ]
  },
  {
   "cell_type": "code",
   "execution_count": 13,
   "metadata": {},
   "outputs": [],
   "source": [
    "TEST_for_enrich = for_enrich_txps[(~for_enrich_txps['TEST'].isnull())]"
   ]
  },
  {
   "cell_type": "code",
   "execution_count": 14,
   "metadata": {},
   "outputs": [],
   "source": [
    "TIMES_for_enrich = for_enrich_txps[(~for_enrich_txps['TIMES'].isnull())]"
   ]
  },
  {
   "cell_type": "code",
   "execution_count": 15,
   "metadata": {},
   "outputs": [
    {
     "name": "stderr",
     "output_type": "stream",
     "text": [
      "/home/grace/anaconda3/lib/python3.7/site-packages/ipykernel_launcher.py:1: SettingWithCopyWarning: \n",
      "A value is trying to be set on a copy of a slice from a DataFrame.\n",
      "Try using .loc[row_indexer,col_indexer] = value instead\n",
      "\n",
      "See the caveats in the documentation: https://pandas.pydata.org/pandas-docs/stable/user_guide/indexing.html#returning-a-view-versus-a-copy\n",
      "  \"\"\"Entry point for launching an IPython kernel.\n"
     ]
    }
   ],
   "source": [
    "TEST_for_enrich['TEST_out_CI'] = TEST_for_enrich['TEST'].apply(lambda x: 0 if x == 'Within_CI' else 1)"
   ]
  },
  {
   "cell_type": "code",
   "execution_count": 16,
   "metadata": {},
   "outputs": [
    {
     "name": "stderr",
     "output_type": "stream",
     "text": [
      "/home/grace/anaconda3/lib/python3.7/site-packages/ipykernel_launcher.py:1: SettingWithCopyWarning: \n",
      "A value is trying to be set on a copy of a slice from a DataFrame.\n",
      "Try using .loc[row_indexer,col_indexer] = value instead\n",
      "\n",
      "See the caveats in the documentation: https://pandas.pydata.org/pandas-docs/stable/user_guide/indexing.html#returning-a-view-versus-a-copy\n",
      "  \"\"\"Entry point for launching an IPython kernel.\n"
     ]
    }
   ],
   "source": [
    "TIMES_for_enrich['TIMES_out_CI'] = TIMES_for_enrich['TIMES'].apply(lambda x: 0 if x == 'Within_CI' else 1)"
   ]
  },
  {
   "cell_type": "code",
   "execution_count": 17,
   "metadata": {},
   "outputs": [],
   "source": [
    "TIMES_for_enrich = TIMES_for_enrich.set_index('DTXSID')\n",
    "TEST_for_enrich = TEST_for_enrich.set_index('DTXSID')"
   ]
  },
  {
   "cell_type": "code",
   "execution_count": 18,
   "metadata": {},
   "outputs": [
    {
     "data": {
      "text/plain": [
       "15"
      ]
     },
     "execution_count": 18,
     "metadata": {},
     "output_type": "execute_result"
    }
   ],
   "source": [
    "TIMES_for_enrich.columns.get_loc('atom:element_main_group')\n",
    "TEST_for_enrich.columns.get_loc('atom:element_main_group')"
   ]
  },
  {
   "cell_type": "code",
   "execution_count": 19,
   "metadata": {},
   "outputs": [],
   "source": [
    "import scipy.stats as stats"
   ]
  },
  {
   "cell_type": "code",
   "execution_count": 31,
   "metadata": {},
   "outputs": [],
   "source": [
    "res_TEST = []\n",
    "for i, column in TEST_for_enrich.iloc[:,15:-1].iteritems():\n",
    "    if pd.crosstab(TEST_for_enrich.iloc[:,744],column).shape == (2,2):\n",
    "        a = pd.crosstab(TEST_for_enrich.iloc[:,744],column)\n",
    "        tn, fp, fn, tp = a.iloc[0,0], a.iloc[0,1], a.iloc[1,0], a.iloc[1,1]\n",
    "        tested_active = (tp + fn)\n",
    "        oddsratio, pvalue = stats.fisher_exact(a)\n",
    "        res_TEST.append([oddsratio, pvalue, i, tp, fn, fp, tn])\n"
   ]
  },
  {
   "cell_type": "code",
   "execution_count": 32,
   "metadata": {},
   "outputs": [],
   "source": [
    "res_TIMES = []\n",
    "for i, column in TIMES_for_enrich.iloc[:,15:-1].iteritems():\n",
    "    if pd.crosstab(TIMES_for_enrich.iloc[:,744],column).shape == (2,2):\n",
    "        a = pd.crosstab(TIMES_for_enrich.iloc[:,744],column)\n",
    "        tn, fp, fn, tp = a.iloc[0,0], a.iloc[0,1], a.iloc[1,0], a.iloc[1,1]\n",
    "        tested_active = (tp + fn)\n",
    "        oddsratio, pvalue = stats.fisher_exact(a)\n",
    "        res_TIMES.append([oddsratio, pvalue, i, tp, fn, fp, tn])"
   ]
  },
  {
   "cell_type": "code",
   "execution_count": 33,
   "metadata": {},
   "outputs": [],
   "source": [
    "def convert(lst):\n",
    "    df = pd.DataFrame(lst)\n",
    "    df.rename(columns = {0: 'OR', 1: 'p', 2 : 'TxP', 3: 'TP', 4: 'FN', 5: 'FP', 6: 'TN'}, inplace = True)\n",
    "    df = df.sort_values(by=['OR','p'], ascending = [True, False])\n",
    "    return df"
   ]
  },
  {
   "cell_type": "code",
   "execution_count": 34,
   "metadata": {},
   "outputs": [],
   "source": [
    "TEST_enrichments = convert(res_TEST)\n",
    "TIMES_enrichments = convert(res_TIMES)"
   ]
  },
  {
   "cell_type": "code",
   "execution_count": 35,
   "metadata": {},
   "outputs": [
    {
     "data": {
      "text/html": [
       "<div>\n",
       "<style scoped>\n",
       "    .dataframe tbody tr th:only-of-type {\n",
       "        vertical-align: middle;\n",
       "    }\n",
       "\n",
       "    .dataframe tbody tr th {\n",
       "        vertical-align: top;\n",
       "    }\n",
       "\n",
       "    .dataframe thead th {\n",
       "        text-align: right;\n",
       "    }\n",
       "</style>\n",
       "<table border=\"1\" class=\"dataframe\">\n",
       "  <thead>\n",
       "    <tr style=\"text-align: right;\">\n",
       "      <th>bond:CC(=O)C_ketone_alkene_cyclic_2-en-1-one</th>\n",
       "      <th>0.0</th>\n",
       "      <th>1.0</th>\n",
       "    </tr>\n",
       "    <tr>\n",
       "      <th>TEST_out_CI</th>\n",
       "      <th></th>\n",
       "      <th></th>\n",
       "    </tr>\n",
       "  </thead>\n",
       "  <tbody>\n",
       "    <tr>\n",
       "      <th>0</th>\n",
       "      <td>581</td>\n",
       "      <td>7</td>\n",
       "    </tr>\n",
       "    <tr>\n",
       "      <th>1</th>\n",
       "      <td>1000</td>\n",
       "      <td>31</td>\n",
       "    </tr>\n",
       "  </tbody>\n",
       "</table>\n",
       "</div>"
      ],
      "text/plain": [
       "bond:CC(=O)C_ketone_alkene_cyclic_2-en-1-one   0.0  1.0\n",
       "TEST_out_CI                                            \n",
       "0                                              581    7\n",
       "1                                             1000   31"
      ]
     },
     "execution_count": 35,
     "metadata": {},
     "output_type": "execute_result"
    }
   ],
   "source": [
    "pd.crosstab(TEST_for_enrich.iloc[:,744],TEST_for_enrich.loc[:,'bond:CC(=O)C_ketone_alkene_cyclic_2-en-1-one'])"
   ]
  },
  {
   "cell_type": "code",
   "execution_count": 36,
   "metadata": {},
   "outputs": [
    {
     "data": {
      "text/html": [
       "<div>\n",
       "<style scoped>\n",
       "    .dataframe tbody tr th:only-of-type {\n",
       "        vertical-align: middle;\n",
       "    }\n",
       "\n",
       "    .dataframe tbody tr th {\n",
       "        vertical-align: top;\n",
       "    }\n",
       "\n",
       "    .dataframe thead th {\n",
       "        text-align: right;\n",
       "    }\n",
       "</style>\n",
       "<table border=\"1\" class=\"dataframe\">\n",
       "  <thead>\n",
       "    <tr style=\"text-align: right;\">\n",
       "      <th></th>\n",
       "      <th>OR</th>\n",
       "      <th>p</th>\n",
       "      <th>TxP</th>\n",
       "      <th>TP</th>\n",
       "      <th>FN</th>\n",
       "      <th>FP</th>\n",
       "      <th>TN</th>\n",
       "    </tr>\n",
       "  </thead>\n",
       "  <tbody>\n",
       "    <tr>\n",
       "      <th>54</th>\n",
       "      <td>2.573000</td>\n",
       "      <td>0.025145</td>\n",
       "      <td>bond:CC(=O)C_ketone_alkene_cyclic_2-en-1-one</td>\n",
       "      <td>31</td>\n",
       "      <td>1000</td>\n",
       "      <td>7</td>\n",
       "      <td>581</td>\n",
       "    </tr>\n",
       "    <tr>\n",
       "      <th>207</th>\n",
       "      <td>4.251734</td>\n",
       "      <td>0.010707</td>\n",
       "      <td>bond:S(=O)N_sulfonamide</td>\n",
       "      <td>22</td>\n",
       "      <td>1009</td>\n",
       "      <td>3</td>\n",
       "      <td>585</td>\n",
       "    </tr>\n",
       "    <tr>\n",
       "      <th>226</th>\n",
       "      <td>4.375624</td>\n",
       "      <td>0.001863</td>\n",
       "      <td>bond:S~N_generic</td>\n",
       "      <td>30</td>\n",
       "      <td>1001</td>\n",
       "      <td>4</td>\n",
       "      <td>584</td>\n",
       "    </tr>\n",
       "    <tr>\n",
       "      <th>208</th>\n",
       "      <td>5.044776</td>\n",
       "      <td>0.002795</td>\n",
       "      <td>bond:S(=O)N_sulfonylamide</td>\n",
       "      <td>26</td>\n",
       "      <td>1005</td>\n",
       "      <td>3</td>\n",
       "      <td>585</td>\n",
       "    </tr>\n",
       "    <tr>\n",
       "      <th>434</th>\n",
       "      <td>12.204950</td>\n",
       "      <td>0.001140</td>\n",
       "      <td>ring:hetero_[6_6]_O_benzopyrone_(1_4-)</td>\n",
       "      <td>21</td>\n",
       "      <td>1010</td>\n",
       "      <td>1</td>\n",
       "      <td>587</td>\n",
       "    </tr>\n",
       "  </tbody>\n",
       "</table>\n",
       "</div>"
      ],
      "text/plain": [
       "            OR         p                                           TxP  TP  \\\n",
       "54    2.573000  0.025145  bond:CC(=O)C_ketone_alkene_cyclic_2-en-1-one  31   \n",
       "207   4.251734  0.010707                       bond:S(=O)N_sulfonamide  22   \n",
       "226   4.375624  0.001863                              bond:S~N_generic  30   \n",
       "208   5.044776  0.002795                     bond:S(=O)N_sulfonylamide  26   \n",
       "434  12.204950  0.001140        ring:hetero_[6_6]_O_benzopyrone_(1_4-)  21   \n",
       "\n",
       "       FN  FP   TN  \n",
       "54   1000   7  581  \n",
       "207  1009   3  585  \n",
       "226  1001   4  584  \n",
       "208  1005   3  585  \n",
       "434  1010   1  587  "
      ]
     },
     "execution_count": 36,
     "metadata": {},
     "output_type": "execute_result"
    }
   ],
   "source": [
    "TEST_enrichments[(TEST_enrichments['OR'] >= 2.5) & (TEST_enrichments['p'] < 0.05 ) & (TEST_enrichments['TP'] >=3)]"
   ]
  },
  {
   "cell_type": "code",
   "execution_count": 37,
   "metadata": {},
   "outputs": [
    {
     "data": {
      "text/html": [
       "<div>\n",
       "<style scoped>\n",
       "    .dataframe tbody tr th:only-of-type {\n",
       "        vertical-align: middle;\n",
       "    }\n",
       "\n",
       "    .dataframe tbody tr th {\n",
       "        vertical-align: top;\n",
       "    }\n",
       "\n",
       "    .dataframe thead th {\n",
       "        text-align: right;\n",
       "    }\n",
       "</style>\n",
       "<table border=\"1\" class=\"dataframe\">\n",
       "  <thead>\n",
       "    <tr style=\"text-align: right;\">\n",
       "      <th></th>\n",
       "      <th>OR</th>\n",
       "      <th>p</th>\n",
       "      <th>TxP</th>\n",
       "      <th>TP</th>\n",
       "      <th>FN</th>\n",
       "      <th>FP</th>\n",
       "      <th>TN</th>\n",
       "    </tr>\n",
       "  </thead>\n",
       "  <tbody>\n",
       "    <tr>\n",
       "      <th>144</th>\n",
       "      <td>3.280142</td>\n",
       "      <td>0.006806</td>\n",
       "      <td>bond:quatN_alkyl_acyclic</td>\n",
       "      <td>30</td>\n",
       "      <td>282</td>\n",
       "      <td>6</td>\n",
       "      <td>185</td>\n",
       "    </tr>\n",
       "    <tr>\n",
       "      <th>146</th>\n",
       "      <td>3.523810</td>\n",
       "      <td>0.002877</td>\n",
       "      <td>bond:quatN_generic</td>\n",
       "      <td>32</td>\n",
       "      <td>280</td>\n",
       "      <td>6</td>\n",
       "      <td>185</td>\n",
       "    </tr>\n",
       "    <tr>\n",
       "      <th>147</th>\n",
       "      <td>4.063709</td>\n",
       "      <td>0.022398</td>\n",
       "      <td>bond:quatN_trimethyl_alkyl_acyclic</td>\n",
       "      <td>19</td>\n",
       "      <td>293</td>\n",
       "      <td>3</td>\n",
       "      <td>188</td>\n",
       "    </tr>\n",
       "    <tr>\n",
       "      <th>240</th>\n",
       "      <td>6.943522</td>\n",
       "      <td>0.035363</td>\n",
       "      <td>group:ligand_path_5-7_bidentate</td>\n",
       "      <td>11</td>\n",
       "      <td>301</td>\n",
       "      <td>1</td>\n",
       "      <td>190</td>\n",
       "    </tr>\n",
       "    <tr>\n",
       "      <th>68</th>\n",
       "      <td>inf</td>\n",
       "      <td>0.026908</td>\n",
       "      <td>bond:COH_alcohol_allyl</td>\n",
       "      <td>8</td>\n",
       "      <td>304</td>\n",
       "      <td>0</td>\n",
       "      <td>191</td>\n",
       "    </tr>\n",
       "    <tr>\n",
       "      <th>65</th>\n",
       "      <td>inf</td>\n",
       "      <td>0.015381</td>\n",
       "      <td>bond:COC_ether_alkenyl</td>\n",
       "      <td>9</td>\n",
       "      <td>303</td>\n",
       "      <td>0</td>\n",
       "      <td>191</td>\n",
       "    </tr>\n",
       "  </tbody>\n",
       "</table>\n",
       "</div>"
      ],
      "text/plain": [
       "           OR         p                                 TxP  TP   FN  FP   TN\n",
       "144  3.280142  0.006806            bond:quatN_alkyl_acyclic  30  282   6  185\n",
       "146  3.523810  0.002877                  bond:quatN_generic  32  280   6  185\n",
       "147  4.063709  0.022398  bond:quatN_trimethyl_alkyl_acyclic  19  293   3  188\n",
       "240  6.943522  0.035363     group:ligand_path_5-7_bidentate  11  301   1  190\n",
       "68        inf  0.026908              bond:COH_alcohol_allyl   8  304   0  191\n",
       "65        inf  0.015381              bond:COC_ether_alkenyl   9  303   0  191"
      ]
     },
     "execution_count": 37,
     "metadata": {},
     "output_type": "execute_result"
    }
   ],
   "source": [
    "TIMES_enrichments[(TIMES_enrichments['OR'] >= 2.5) & (TIMES_enrichments['p'] < 0.05 ) & (TIMES_enrichments['TP'] >=3)]"
   ]
  },
  {
   "cell_type": "code",
   "execution_count": 38,
   "metadata": {},
   "outputs": [],
   "source": [
    "#TIMES_for_enrich\n",
    "mask = (TEST_for_enrich['bond:S(=O)N_sulfonamide'] == 1) | (TEST_for_enrich['bond:S(=O)N_sulfonamide'] == 1)"
   ]
  },
  {
   "cell_type": "code",
   "execution_count": 39,
   "metadata": {},
   "outputs": [],
   "source": [
    "specific_txps = TEST_for_enrich[mask]"
   ]
  },
  {
   "cell_type": "code",
   "execution_count": 40,
   "metadata": {},
   "outputs": [],
   "source": [
    "specific_txps.columns \n",
    "\n",
    "test_cols = ['CAS', 'name', 'known_LD50_mgkg', 'known_pLD50', 'TEST_LD50_mgkg',\n",
    "       'TEST_pLD50', 'TEST']"
   ]
  },
  {
   "cell_type": "code",
   "execution_count": 41,
   "metadata": {},
   "outputs": [],
   "source": [
    "specific_txps[specific_txps['TEST_out_CI'] ==1][test_cols].to_csv(processed_dat_dir+'examples_TESTenrichedTxPs.csv')"
   ]
  },
  {
   "cell_type": "code",
   "execution_count": 42,
   "metadata": {},
   "outputs": [],
   "source": [
    "mask2 = (TIMES_for_enrich['bond:COH_alcohol_allyl']==1)| (TIMES_for_enrich['bond:COC_ether_alkenyl']==1)"
   ]
  },
  {
   "cell_type": "code",
   "execution_count": 43,
   "metadata": {},
   "outputs": [],
   "source": [
    "inf_txps = TIMES_for_enrich[mask2]"
   ]
  },
  {
   "cell_type": "code",
   "execution_count": 44,
   "metadata": {},
   "outputs": [],
   "source": [
    "inf_txps[['CAS', 'name', 'known_LD50_mgkg', 'TIMES_LD50_mgkg',\n",
    "       'TIMES']].to_csv(processed_dat_dir+'examples_TIMESenrichedTxPs.csv')"
   ]
  },
  {
   "cell_type": "code",
   "execution_count": null,
   "metadata": {},
   "outputs": [],
   "source": []
  }
 ],
 "metadata": {
  "kernelspec": {
   "display_name": "Python 3",
   "language": "python",
   "name": "python3"
  },
  "language_info": {
   "codemirror_mode": {
    "name": "ipython",
    "version": 3
   },
   "file_extension": ".py",
   "mimetype": "text/x-python",
   "name": "python",
   "nbconvert_exporter": "python",
   "pygments_lexer": "ipython3",
   "version": "3.7.6"
  }
 },
 "nbformat": 4,
 "nbformat_minor": 4
}
