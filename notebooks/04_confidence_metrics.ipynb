{
 "cells": [
  {
   "cell_type": "code",
   "execution_count": 1,
   "metadata": {},
   "outputs": [],
   "source": [
    "import numpy as np\n",
    "import pandas as pd\n",
    "import matplotlib.pyplot as plt\n",
    "import seaborn as sns\n",
    "%matplotlib inline\n",
    "import os\n",
    "import glob"
   ]
  },
  {
   "cell_type": "code",
   "execution_count": 2,
   "metadata": {},
   "outputs": [],
   "source": [
    "raw_dat_dir = '/home/grace/Documents/python/acute_oral/data/raw/'\n",
    "processed_dat_dir = '/home/grace/Documents/python/acute_oral/data/processed/'\n",
    "interim_dat_dir = '/home/grace/Documents/python/acute_oral/data/interim/'\n",
    "figures_dir = '/home/grace/Documents/python/acute_oral/reports/figures/'\n",
    "test_dir = '/home/grace/Documents/python/acute_oral/data/external/TEST/'\n",
    "times_dir = '/home/grace/Documents/python/acute_oral/data/external/TIMES/'\n",
    "interim_dir = '/home/grace/Documents/python/acute_oral/data/interim/'"
   ]
  },
  {
   "cell_type": "markdown",
   "metadata": {},
   "source": [
    "all overlap data "
   ]
  },
  {
   "cell_type": "code",
   "execution_count": 3,
   "metadata": {},
   "outputs": [],
   "source": [
    "relevant_acute_pred =pd.read_csv(interim_dir+'relevant_acute_pred.csv')"
   ]
  },
  {
   "cell_type": "code",
   "execution_count": 5,
   "metadata": {},
   "outputs": [],
   "source": [
    "mask2 = (~relevant_acute_pred['known_pLD50_minus_TEST'].isnull()) & (~relevant_acute_pred['known_pLD50_minus_TIMES'].isnull())\n",
    "tt_overlap = relevant_acute_pred[mask2]\n"
   ]
  },
  {
   "cell_type": "code",
   "execution_count": 7,
   "metadata": {},
   "outputs": [
    {
     "data": {
      "text/plain": [
       "(274, 21)"
      ]
     },
     "execution_count": 7,
     "metadata": {},
     "output_type": "execute_result"
    }
   ],
   "source": [
    "tt_overlap.shape"
   ]
  },
  {
   "cell_type": "code",
   "execution_count": 40,
   "metadata": {},
   "outputs": [
    {
     "data": {
      "text/html": [
       "<div>\n",
       "<style scoped>\n",
       "    .dataframe tbody tr th:only-of-type {\n",
       "        vertical-align: middle;\n",
       "    }\n",
       "\n",
       "    .dataframe tbody tr th {\n",
       "        vertical-align: top;\n",
       "    }\n",
       "\n",
       "    .dataframe thead th {\n",
       "        text-align: right;\n",
       "    }\n",
       "</style>\n",
       "<table border=\"1\" class=\"dataframe\">\n",
       "  <thead>\n",
       "    <tr style=\"text-align: right;\">\n",
       "      <th></th>\n",
       "      <th>Unnamed: 0</th>\n",
       "      <th>CAS</th>\n",
       "      <th>known_LD50_mgkg</th>\n",
       "      <th>TEST_pLD50</th>\n",
       "      <th>chem_name</th>\n",
       "      <th>predicted_toxicological_category</th>\n",
       "      <th>known_LD50_TIMES</th>\n",
       "      <th>TIMES_LD50_mgkg</th>\n",
       "      <th>found_by</th>\n",
       "      <th>DTXSID</th>\n",
       "      <th>...</th>\n",
       "      <th>average_mass</th>\n",
       "      <th>qsar_ready_smiles</th>\n",
       "      <th>smiles</th>\n",
       "      <th>known_pLD50</th>\n",
       "      <th>TIMES_pLD50</th>\n",
       "      <th>TEST_LD50_mgkg</th>\n",
       "      <th>known_pLD50_minus_TEST</th>\n",
       "      <th>known_pLD50_minus_TIMES</th>\n",
       "      <th>TIMES</th>\n",
       "      <th>TEST</th>\n",
       "    </tr>\n",
       "  </thead>\n",
       "  <tbody>\n",
       "    <tr>\n",
       "      <th>8840</th>\n",
       "      <td>8840</td>\n",
       "      <td>97-86-9</td>\n",
       "      <td>9590.0</td>\n",
       "      <td>1.61</td>\n",
       "      <td>DTXSID3025461</td>\n",
       "      <td>Methacrylic acid esters</td>\n",
       "      <td>no data</td>\n",
       "      <td>5280.0</td>\n",
       "      <td>CAS-RN</td>\n",
       "      <td>DTXSID3025461</td>\n",
       "      <td>...</td>\n",
       "      <td>142.198</td>\n",
       "      <td>CC(C)COC(=O)C(C)=C</td>\n",
       "      <td>CC(C)COC(=O)C(C)=C</td>\n",
       "      <td>1.171075</td>\n",
       "      <td>1.43026</td>\n",
       "      <td>3490.546984</td>\n",
       "      <td>-0.438925</td>\n",
       "      <td>-0.259185</td>\n",
       "      <td>Below_CI</td>\n",
       "      <td>Below_CI</td>\n",
       "    </tr>\n",
       "  </tbody>\n",
       "</table>\n",
       "<p>1 rows × 21 columns</p>\n",
       "</div>"
      ],
      "text/plain": [
       "      Unnamed: 0      CAS  known_LD50_mgkg  TEST_pLD50      chem_name  \\\n",
       "8840        8840  97-86-9           9590.0        1.61  DTXSID3025461   \n",
       "\n",
       "     predicted_toxicological_category known_LD50_TIMES  TIMES_LD50_mgkg  \\\n",
       "8840          Methacrylic acid esters          no data           5280.0   \n",
       "\n",
       "     found_by         DTXSID  ... average_mass   qsar_ready_smiles  \\\n",
       "8840   CAS-RN  DTXSID3025461  ...      142.198  CC(C)COC(=O)C(C)=C   \n",
       "\n",
       "                  smiles known_pLD50  TIMES_pLD50  TEST_LD50_mgkg  \\\n",
       "8840  CC(C)COC(=O)C(C)=C    1.171075      1.43026     3490.546984   \n",
       "\n",
       "      known_pLD50_minus_TEST  known_pLD50_minus_TIMES     TIMES      TEST  \n",
       "8840               -0.438925                -0.259185  Below_CI  Below_CI  \n",
       "\n",
       "[1 rows x 21 columns]"
      ]
     },
     "execution_count": 40,
     "metadata": {},
     "output_type": "execute_result"
    }
   ],
   "source": [
    "tt_overlap[tt_overlap['CAS'] == '97-86-9']"
   ]
  },
  {
   "cell_type": "code",
   "execution_count": 9,
   "metadata": {},
   "outputs": [
    {
     "data": {
      "text/plain": [
       "Index(['Unnamed: 0', 'CAS', 'known_LD50_mgkg', 'TEST_pLD50', 'chem_name',\n",
       "       'predicted_toxicological_category', 'known_LD50_TIMES',\n",
       "       'TIMES_LD50_mgkg', 'found_by', 'DTXSID', 'name', 'average_mass',\n",
       "       'qsar_ready_smiles', 'smiles', 'known_pLD50', 'TIMES_pLD50',\n",
       "       'TEST_LD50_mgkg', 'known_pLD50_minus_TEST', 'known_pLD50_minus_TIMES',\n",
       "       'TIMES', 'TEST'],\n",
       "      dtype='object')"
      ]
     },
     "execution_count": 9,
     "metadata": {},
     "output_type": "execute_result"
    }
   ],
   "source": [
    "tt_overlap.columns"
   ]
  },
  {
   "cell_type": "code",
   "execution_count": 15,
   "metadata": {},
   "outputs": [],
   "source": [
    "ids = tt_overlap.CAS.unique().tolist()"
   ]
  },
  {
   "cell_type": "markdown",
   "metadata": {},
   "source": [
    "TxP fingerprints"
   ]
  },
  {
   "cell_type": "code",
   "execution_count": 10,
   "metadata": {},
   "outputs": [],
   "source": [
    "txps = pd.read_csv(raw_dat_dir+'Acute_SMILES_Toxprints.tsv', sep = '\\t')"
   ]
  },
  {
   "cell_type": "code",
   "execution_count": 17,
   "metadata": {},
   "outputs": [],
   "source": [
    "tt_txps = txps[txps['M_NAME'].isin(ids)]"
   ]
  },
  {
   "cell_type": "code",
   "execution_count": 21,
   "metadata": {},
   "outputs": [],
   "source": [
    "txps_df = pd.melt(tt_txps, id_vars = ['M_NAME'], value_vars = tt_txps.columns.tolist()[1:])"
   ]
  },
  {
   "cell_type": "code",
   "execution_count": 25,
   "metadata": {},
   "outputs": [],
   "source": [
    "txps_df = txps_df.replace(0,np.nan)\n",
    "    "
   ]
  },
  {
   "cell_type": "code",
   "execution_count": 31,
   "metadata": {},
   "outputs": [],
   "source": [
    "txps_df = txps_df.dropna(how = 'any')"
   ]
  },
  {
   "cell_type": "code",
   "execution_count": 35,
   "metadata": {},
   "outputs": [],
   "source": [
    "txps_df = txps_df.sort_values(by = 'M_NAME', ascending = True)"
   ]
  },
  {
   "cell_type": "markdown",
   "metadata": {},
   "source": [
    "Txps for specific chemical 97-86-9"
   ]
  },
  {
   "cell_type": "code",
   "execution_count": 45,
   "metadata": {},
   "outputs": [],
   "source": [
    "txp_chem = txps_df[txps_df['M_NAME'] == '97-86-9']['variable'].tolist()"
   ]
  },
  {
   "cell_type": "code",
   "execution_count": 47,
   "metadata": {},
   "outputs": [
    {
     "data": {
      "text/plain": [
       "['bond:C(=O)O_carboxylicEster_alkenyl',\n",
       " 'bond:C=O_carbonyl_generic',\n",
       " 'chain:alkeneLinear_mono-ene_ethylene_generic',\n",
       " 'chain:alkeneBranch_mono-ene_2-butene',\n",
       " 'bond:C(=O)O_carboxylicEster_acyclic',\n",
       " 'chain:alkaneLinear_ethyl_C2_(connect_noZ_CN=4)',\n",
       " 'chain:alkaneBranch_isopropyl_C3']"
      ]
     },
     "execution_count": 47,
     "metadata": {},
     "output_type": "execute_result"
    }
   ],
   "source": [
    "txp_chem"
   ]
  },
  {
   "cell_type": "markdown",
   "metadata": {},
   "source": [
    "Load probabilities based on TxPs"
   ]
  },
  {
   "cell_type": "code",
   "execution_count": 43,
   "metadata": {},
   "outputs": [],
   "source": [
    "pivot_probs= pd.read_csv(interim_dat_dir+'all_pivot_probs.csv')"
   ]
  },
  {
   "cell_type": "code",
   "execution_count": 48,
   "metadata": {},
   "outputs": [],
   "source": [
    "example_prob = pivot_probs[pivot_probs['TxP'].isin(txp_chem)]\n"
   ]
  },
  {
   "cell_type": "code",
   "execution_count": 60,
   "metadata": {},
   "outputs": [
    {
     "data": {
      "text/plain": [
       "18     0.049467\n",
       "20     0.029098\n",
       "46     0.477207\n",
       "245    0.138700\n",
       "257    0.286130\n",
       "265    0.011639\n",
       "279    0.064985\n",
       "Name: TEST, dtype: float64"
      ]
     },
     "execution_count": 60,
     "metadata": {},
     "output_type": "execute_result"
    }
   ],
   "source": [
    "example_prob['TEST']"
   ]
  },
  {
   "cell_type": "code",
   "execution_count": 61,
   "metadata": {},
   "outputs": [
    {
     "data": {
      "text/plain": [
       "18     0.048077\n",
       "20     0.057692\n",
       "46     0.387821\n",
       "245    0.083333\n",
       "257    0.221154\n",
       "265    0.025641\n",
       "279    0.131410\n",
       "Name: TIMES, dtype: float64"
      ]
     },
     "execution_count": 61,
     "metadata": {},
     "output_type": "execute_result"
    }
   ],
   "source": [
    "example_prob['TIMES']"
   ]
  },
  {
   "cell_type": "markdown",
   "metadata": {},
   "source": [
    "Probability of all TxPs in TEST being outside of domain"
   ]
  },
  {
   "cell_type": "code",
   "execution_count": 58,
   "metadata": {},
   "outputs": [
    {
     "data": {
      "text/plain": [
       "2.0618362232774318e-08"
      ]
     },
     "execution_count": 58,
     "metadata": {},
     "output_type": "execute_result"
    }
   ],
   "source": [
    "0.049467*0.029098*0.477207*0.138700*0.286130*0.011639*0.064985"
   ]
  },
  {
   "cell_type": "code",
   "execution_count": 69,
   "metadata": {},
   "outputs": [
    {
     "data": {
      "text/plain": [
       "2.0618638236171015e-08"
      ]
     },
     "execution_count": 69,
     "metadata": {},
     "output_type": "execute_result"
    }
   ],
   "source": [
    "np.prod(example_prob['TEST'])"
   ]
  },
  {
   "cell_type": "markdown",
   "metadata": {},
   "source": [
    "Probability of all TxPs in TIMES being outside of domain"
   ]
  },
  {
   "cell_type": "code",
   "execution_count": 62,
   "metadata": {},
   "outputs": [
    {
     "data": {
      "text/plain": [
       "6.679738580684652e-08"
      ]
     },
     "execution_count": 62,
     "metadata": {},
     "output_type": "execute_result"
    }
   ],
   "source": [
    "0.048077*0.057692*0.387821*0.083333*0.221154*0.025641*0.131410"
   ]
  },
  {
   "cell_type": "code",
   "execution_count": 70,
   "metadata": {},
   "outputs": [
    {
     "data": {
      "text/plain": [
       "6.679796913287913e-08"
      ]
     },
     "execution_count": 70,
     "metadata": {},
     "output_type": "execute_result"
    }
   ],
   "source": [
    "np.prod(example_prob['TIMES'])"
   ]
  },
  {
   "cell_type": "markdown",
   "metadata": {},
   "source": [
    "Is the fact that prob for TIMES > TEST related to the fact that the prediction from TIMES should be treated with higher confidence even though both are out of the domain???"
   ]
  },
  {
   "cell_type": "code",
   "execution_count": 63,
   "metadata": {},
   "outputs": [],
   "source": [
    "txp_chem2 = txps_df[txps_df['M_NAME'] == '3734-33-6']['variable'].tolist()"
   ]
  },
  {
   "cell_type": "code",
   "execution_count": 64,
   "metadata": {},
   "outputs": [
    {
     "data": {
      "text/plain": [
       "['bond:C=O_carbonyl_generic',\n",
       " 'bond:quatN_generic',\n",
       " 'chain:aromaticAlkane_Ph-C1_acyclic_connect_noDblBd',\n",
       " 'chain:aromaticAlkane_Ph-C1_acyclic_connect_H_gt_1',\n",
       " 'group:ligand_path_4_bidentate_aminoacetaldehyde',\n",
       " 'bond:quatN_alkyl_acyclic',\n",
       " 'bond:quatN_b-carbonyl',\n",
       " 'chain:aromaticAlkane_Ar-C_meta',\n",
       " 'group:aminoAcid_aminoAcid_generic',\n",
       " 'ring:aromatic_benzene',\n",
       " 'chain:aromaticAlkane_Ph-C1_acyclic_generic',\n",
       " 'bond:C(=O)N_carboxamide_generic',\n",
       " 'bond:NC=O_aminocarbonyl_generic',\n",
       " 'bond:C(=O)N_carboxamide_(NHR)',\n",
       " 'chain:alkaneLinear_ethyl_C2(H_gt_1)',\n",
       " 'ring:aromatic_phenyl']"
      ]
     },
     "execution_count": 64,
     "metadata": {},
     "output_type": "execute_result"
    }
   ],
   "source": [
    "txp_chem2 "
   ]
  },
  {
   "cell_type": "code",
   "execution_count": 65,
   "metadata": {},
   "outputs": [],
   "source": [
    "example_prob2 = pivot_probs[pivot_probs['TxP'].isin(txp_chem2)]"
   ]
  },
  {
   "cell_type": "code",
   "execution_count": 71,
   "metadata": {},
   "outputs": [
    {
     "name": "stdout",
     "output_type": "stream",
     "text": [
      "4.1483195799035443e-16\n",
      "7.929966413210253e-16\n"
     ]
    }
   ],
   "source": [
    "print(np.prod(example_prob2['TEST']))\n",
    "print(np.prod(example_prob2['TIMES']))"
   ]
  },
  {
   "cell_type": "code",
   "execution_count": 103,
   "metadata": {},
   "outputs": [],
   "source": [
    "enrich_pivot = pd.read_csv(interim_dat_dir+'enrich_pivot.csv', header = [0,1])"
   ]
  },
  {
   "cell_type": "code",
   "execution_count": 105,
   "metadata": {},
   "outputs": [
    {
     "data": {
      "text/plain": [
       "Index(['Unnamed: 0_level_0', 'OR', 'OR', 'p', 'p'], dtype='object')"
      ]
     },
     "execution_count": 105,
     "metadata": {},
     "output_type": "execute_result"
    }
   ],
   "source": [
    "enrich_pivot.columns.droplevel(1)"
   ]
  },
  {
   "cell_type": "code",
   "execution_count": 106,
   "metadata": {},
   "outputs": [],
   "source": [
    "enrich_pivot.columns = enrich_pivot.columns.droplevel(1)"
   ]
  },
  {
   "cell_type": "code",
   "execution_count": 107,
   "metadata": {},
   "outputs": [],
   "source": [
    "enrich_pivot = enrich_pivot.iloc[1:,:]"
   ]
  },
  {
   "cell_type": "code",
   "execution_count": 109,
   "metadata": {},
   "outputs": [],
   "source": [
    "cols=pd.Series(enrich_pivot.columns)\n",
    "\n",
    "for dup in cols[cols.duplicated()].unique(): \n",
    "    cols[cols[cols == dup].index.values.tolist()] = [dup + '.' + str(i) if i != 0 else dup for i in range(sum(cols == dup))]\n",
    "enrich_pivot.columns=cols"
   ]
  },
  {
   "cell_type": "code",
   "execution_count": 110,
   "metadata": {},
   "outputs": [
    {
     "data": {
      "text/html": [
       "<div>\n",
       "<style scoped>\n",
       "    .dataframe tbody tr th:only-of-type {\n",
       "        vertical-align: middle;\n",
       "    }\n",
       "\n",
       "    .dataframe tbody tr th {\n",
       "        vertical-align: top;\n",
       "    }\n",
       "\n",
       "    .dataframe thead th {\n",
       "        text-align: right;\n",
       "    }\n",
       "</style>\n",
       "<table border=\"1\" class=\"dataframe\">\n",
       "  <thead>\n",
       "    <tr style=\"text-align: right;\">\n",
       "      <th></th>\n",
       "      <th>Unnamed: 0_level_0</th>\n",
       "      <th>OR</th>\n",
       "      <th>OR.1</th>\n",
       "      <th>p</th>\n",
       "      <th>p.1</th>\n",
       "    </tr>\n",
       "  </thead>\n",
       "  <tbody>\n",
       "    <tr>\n",
       "      <th>1</th>\n",
       "      <td>atom:element_metal_metalloid</td>\n",
       "      <td>1.026810</td>\n",
       "      <td>2.467532</td>\n",
       "      <td>1.000000</td>\n",
       "      <td>0.654153</td>\n",
       "    </tr>\n",
       "    <tr>\n",
       "      <th>2</th>\n",
       "      <td>bond:C#N_cyano_acylcyanide</td>\n",
       "      <td>inf</td>\n",
       "      <td>inf</td>\n",
       "      <td>1.000000</td>\n",
       "      <td>1.000000</td>\n",
       "    </tr>\n",
       "    <tr>\n",
       "      <th>3</th>\n",
       "      <td>bond:C#N_nitrile</td>\n",
       "      <td>0.969034</td>\n",
       "      <td>inf</td>\n",
       "      <td>1.000000</td>\n",
       "      <td>0.087484</td>\n",
       "    </tr>\n",
       "    <tr>\n",
       "      <th>4</th>\n",
       "      <td>bond:C#N_nitrile_generic</td>\n",
       "      <td>0.785937</td>\n",
       "      <td>inf</td>\n",
       "      <td>0.572558</td>\n",
       "      <td>0.087484</td>\n",
       "    </tr>\n",
       "    <tr>\n",
       "      <th>5</th>\n",
       "      <td>bond:C(=O)N_carbamate</td>\n",
       "      <td>1.402709</td>\n",
       "      <td>0.242942</td>\n",
       "      <td>0.454799</td>\n",
       "      <td>0.008783</td>\n",
       "    </tr>\n",
       "    <tr>\n",
       "      <th>...</th>\n",
       "      <td>...</td>\n",
       "      <td>...</td>\n",
       "      <td>...</td>\n",
       "      <td>...</td>\n",
       "      <td>...</td>\n",
       "    </tr>\n",
       "    <tr>\n",
       "      <th>309</th>\n",
       "      <td>ring:hetero_[7]_generic_1-Z</td>\n",
       "      <td>1.474827</td>\n",
       "      <td>0.000000</td>\n",
       "      <td>0.530059</td>\n",
       "      <td>0.379722</td>\n",
       "    </tr>\n",
       "    <tr>\n",
       "      <th>310</th>\n",
       "      <td>ring:hetero_[7]_generic_1_4-Z</td>\n",
       "      <td>0.853346</td>\n",
       "      <td>0.292484</td>\n",
       "      <td>0.681030</td>\n",
       "      <td>0.013476</td>\n",
       "    </tr>\n",
       "    <tr>\n",
       "      <th>311</th>\n",
       "      <td>ring:polycycle_bicyclo_[2.1.1]heptane</td>\n",
       "      <td>1.427875</td>\n",
       "      <td>0.000000</td>\n",
       "      <td>1.000000</td>\n",
       "      <td>0.379722</td>\n",
       "    </tr>\n",
       "    <tr>\n",
       "      <th>312</th>\n",
       "      <td>ring:polycycle_bicyclo_[3.3.1]nonane</td>\n",
       "      <td>0.569903</td>\n",
       "      <td>0.000000</td>\n",
       "      <td>1.000000</td>\n",
       "      <td>0.379722</td>\n",
       "    </tr>\n",
       "    <tr>\n",
       "      <th>313</th>\n",
       "      <td>ring:polycycle_tricyclo_adamantane</td>\n",
       "      <td>0.569903</td>\n",
       "      <td>0.000000</td>\n",
       "      <td>1.000000</td>\n",
       "      <td>0.379722</td>\n",
       "    </tr>\n",
       "  </tbody>\n",
       "</table>\n",
       "<p>313 rows × 5 columns</p>\n",
       "</div>"
      ],
      "text/plain": [
       "                        Unnamed: 0_level_0        OR      OR.1         p  \\\n",
       "1             atom:element_metal_metalloid  1.026810  2.467532  1.000000   \n",
       "2               bond:C#N_cyano_acylcyanide       inf       inf  1.000000   \n",
       "3                         bond:C#N_nitrile  0.969034       inf  1.000000   \n",
       "4                 bond:C#N_nitrile_generic  0.785937       inf  0.572558   \n",
       "5                    bond:C(=O)N_carbamate  1.402709  0.242942  0.454799   \n",
       "..                                     ...       ...       ...       ...   \n",
       "309            ring:hetero_[7]_generic_1-Z  1.474827  0.000000  0.530059   \n",
       "310          ring:hetero_[7]_generic_1_4-Z  0.853346  0.292484  0.681030   \n",
       "311  ring:polycycle_bicyclo_[2.1.1]heptane  1.427875  0.000000  1.000000   \n",
       "312   ring:polycycle_bicyclo_[3.3.1]nonane  0.569903  0.000000  1.000000   \n",
       "313     ring:polycycle_tricyclo_adamantane  0.569903  0.000000  1.000000   \n",
       "\n",
       "          p.1  \n",
       "1    0.654153  \n",
       "2    1.000000  \n",
       "3    0.087484  \n",
       "4    0.087484  \n",
       "5    0.008783  \n",
       "..        ...  \n",
       "309  0.379722  \n",
       "310  0.013476  \n",
       "311  0.379722  \n",
       "312  0.379722  \n",
       "313  0.379722  \n",
       "\n",
       "[313 rows x 5 columns]"
      ]
     },
     "execution_count": 110,
     "metadata": {},
     "output_type": "execute_result"
    }
   ],
   "source": [
    "enrich_pivot"
   ]
  },
  {
   "cell_type": "code",
   "execution_count": 113,
   "metadata": {},
   "outputs": [],
   "source": [
    "chem_2 = enrich_pivot[enrich_pivot['Unnamed: 0_level_0'].isin(txp_chem2)]"
   ]
  },
  {
   "cell_type": "markdown",
   "metadata": {},
   "source": [
    "TEST OR prod"
   ]
  },
  {
   "cell_type": "code",
   "execution_count": 115,
   "metadata": {},
   "outputs": [
    {
     "data": {
      "text/plain": [
       "0.9206251159436315"
      ]
     },
     "execution_count": 115,
     "metadata": {},
     "output_type": "execute_result"
    }
   ],
   "source": [
    "np.prod(chem_2['OR'])"
   ]
  },
  {
   "cell_type": "markdown",
   "metadata": {},
   "source": [
    "TIMES OR prod"
   ]
  },
  {
   "cell_type": "code",
   "execution_count": 116,
   "metadata": {},
   "outputs": [
    {
     "data": {
      "text/plain": [
       "9.069585219411078"
      ]
     },
     "execution_count": 116,
     "metadata": {},
     "output_type": "execute_result"
    }
   ],
   "source": [
    "np.prod(chem_2['OR.1'])"
   ]
  },
  {
   "cell_type": "code",
   "execution_count": null,
   "metadata": {},
   "outputs": [],
   "source": []
  },
  {
   "cell_type": "code",
   "execution_count": null,
   "metadata": {},
   "outputs": [],
   "source": []
  },
  {
   "cell_type": "code",
   "execution_count": null,
   "metadata": {},
   "outputs": [],
   "source": []
  },
  {
   "cell_type": "code",
   "execution_count": null,
   "metadata": {},
   "outputs": [],
   "source": []
  }
 ],
 "metadata": {
  "kernelspec": {
   "display_name": "Python 3",
   "language": "python",
   "name": "python3"
  },
  "language_info": {
   "codemirror_mode": {
    "name": "ipython",
    "version": 3
   },
   "file_extension": ".py",
   "mimetype": "text/x-python",
   "name": "python",
   "nbconvert_exporter": "python",
   "pygments_lexer": "ipython3",
   "version": "3.7.6"
  }
 },
 "nbformat": 4,
 "nbformat_minor": 4
}
