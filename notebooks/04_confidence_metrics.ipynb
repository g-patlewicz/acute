{
 "cells": [
  {
   "cell_type": "code",
   "execution_count": 1,
   "metadata": {},
   "outputs": [],
   "source": [
    "import numpy as np\n",
    "import pandas as pd\n",
    "import matplotlib.pyplot as plt\n",
    "import seaborn as sns\n",
    "%matplotlib inline\n",
    "import os\n",
    "import glob"
   ]
  },
  {
   "cell_type": "code",
   "execution_count": 2,
   "metadata": {},
   "outputs": [],
   "source": [
    "raw_dat_dir = '/home/grace/Documents/python/acute_oral/data/raw/'\n",
    "processed_dat_dir = '/home/grace/Documents/python/acute_oral/data/processed/'\n",
    "interim_dat_dir = '/home/grace/Documents/python/acute_oral/data/interim/'\n",
    "figures_dir = '/home/grace/Documents/python/acute_oral/reports/figures/'\n",
    "test_dir = '/home/grace/Documents/python/acute_oral/data/external/TEST/'\n",
    "times_dir = '/home/grace/Documents/python/acute_oral/data/external/TIMES/'\n",
    "interim_dir = '/home/grace/Documents/python/acute_oral/data/interim/'"
   ]
  },
  {
   "cell_type": "markdown",
   "metadata": {},
   "source": [
    "### Extract examples from overlap set of chemicals for the 2 models"
   ]
  },
  {
   "cell_type": "markdown",
   "metadata": {},
   "source": [
    "#### Import relevant dataset of predictions from the 2 models"
   ]
  },
  {
   "cell_type": "code",
   "execution_count": 3,
   "metadata": {},
   "outputs": [],
   "source": [
    "relevant_acute_pred =pd.read_csv(interim_dir+'relevant_acute_pred.csv')"
   ]
  },
  {
   "cell_type": "code",
   "execution_count": 4,
   "metadata": {},
   "outputs": [],
   "source": [
    "mask2 = (~relevant_acute_pred['known_pLD50_minus_TEST'].isnull()) & (~relevant_acute_pred['known_pLD50_minus_TIMES'].isnull())\n",
    "tt_overlap = relevant_acute_pred[mask2]\n"
   ]
  },
  {
   "cell_type": "code",
   "execution_count": 5,
   "metadata": {},
   "outputs": [
    {
     "data": {
      "text/plain": [
       "(274, 21)"
      ]
     },
     "execution_count": 5,
     "metadata": {},
     "output_type": "execute_result"
    }
   ],
   "source": [
    "tt_overlap.shape"
   ]
  },
  {
   "cell_type": "code",
   "execution_count": 6,
   "metadata": {},
   "outputs": [
    {
     "data": {
      "text/html": [
       "<div>\n",
       "<style scoped>\n",
       "    .dataframe tbody tr th:only-of-type {\n",
       "        vertical-align: middle;\n",
       "    }\n",
       "\n",
       "    .dataframe tbody tr th {\n",
       "        vertical-align: top;\n",
       "    }\n",
       "\n",
       "    .dataframe thead th {\n",
       "        text-align: right;\n",
       "    }\n",
       "</style>\n",
       "<table border=\"1\" class=\"dataframe\">\n",
       "  <thead>\n",
       "    <tr style=\"text-align: right;\">\n",
       "      <th></th>\n",
       "      <th>Unnamed: 0</th>\n",
       "      <th>CAS</th>\n",
       "      <th>known_LD50_mgkg</th>\n",
       "      <th>TEST_pLD50</th>\n",
       "      <th>chem_name</th>\n",
       "      <th>predicted_toxicological_category</th>\n",
       "      <th>known_LD50_TIMES</th>\n",
       "      <th>TIMES_LD50_mgkg</th>\n",
       "      <th>found_by</th>\n",
       "      <th>DTXSID</th>\n",
       "      <th>...</th>\n",
       "      <th>average_mass</th>\n",
       "      <th>qsar_ready_smiles</th>\n",
       "      <th>smiles</th>\n",
       "      <th>known_pLD50</th>\n",
       "      <th>TIMES_pLD50</th>\n",
       "      <th>TEST_LD50_mgkg</th>\n",
       "      <th>known_pLD50_minus_TEST</th>\n",
       "      <th>known_pLD50_minus_TIMES</th>\n",
       "      <th>TIMES</th>\n",
       "      <th>TEST</th>\n",
       "    </tr>\n",
       "  </thead>\n",
       "  <tbody>\n",
       "    <tr>\n",
       "      <th>8840</th>\n",
       "      <td>8840</td>\n",
       "      <td>97-86-9</td>\n",
       "      <td>9590.0</td>\n",
       "      <td>1.61</td>\n",
       "      <td>DTXSID3025461</td>\n",
       "      <td>Methacrylic acid esters</td>\n",
       "      <td>no data</td>\n",
       "      <td>5280.0</td>\n",
       "      <td>CAS-RN</td>\n",
       "      <td>DTXSID3025461</td>\n",
       "      <td>...</td>\n",
       "      <td>142.198</td>\n",
       "      <td>CC(C)COC(=O)C(C)=C</td>\n",
       "      <td>CC(C)COC(=O)C(C)=C</td>\n",
       "      <td>1.171075</td>\n",
       "      <td>1.43026</td>\n",
       "      <td>3490.546984</td>\n",
       "      <td>-0.438925</td>\n",
       "      <td>-0.259185</td>\n",
       "      <td>Below_CI</td>\n",
       "      <td>Below_CI</td>\n",
       "    </tr>\n",
       "  </tbody>\n",
       "</table>\n",
       "<p>1 rows × 21 columns</p>\n",
       "</div>"
      ],
      "text/plain": [
       "      Unnamed: 0      CAS  known_LD50_mgkg  TEST_pLD50      chem_name  \\\n",
       "8840        8840  97-86-9           9590.0        1.61  DTXSID3025461   \n",
       "\n",
       "     predicted_toxicological_category known_LD50_TIMES  TIMES_LD50_mgkg  \\\n",
       "8840          Methacrylic acid esters          no data           5280.0   \n",
       "\n",
       "     found_by         DTXSID  ... average_mass   qsar_ready_smiles  \\\n",
       "8840   CAS-RN  DTXSID3025461  ...      142.198  CC(C)COC(=O)C(C)=C   \n",
       "\n",
       "                  smiles known_pLD50  TIMES_pLD50  TEST_LD50_mgkg  \\\n",
       "8840  CC(C)COC(=O)C(C)=C    1.171075      1.43026     3490.546984   \n",
       "\n",
       "      known_pLD50_minus_TEST  known_pLD50_minus_TIMES     TIMES      TEST  \n",
       "8840               -0.438925                -0.259185  Below_CI  Below_CI  \n",
       "\n",
       "[1 rows x 21 columns]"
      ]
     },
     "execution_count": 6,
     "metadata": {},
     "output_type": "execute_result"
    }
   ],
   "source": [
    "tt_overlap[tt_overlap['CAS'] == '97-86-9']"
   ]
  },
  {
   "cell_type": "code",
   "execution_count": 7,
   "metadata": {},
   "outputs": [
    {
     "data": {
      "text/plain": [
       "Index(['Unnamed: 0', 'CAS', 'known_LD50_mgkg', 'TEST_pLD50', 'chem_name',\n",
       "       'predicted_toxicological_category', 'known_LD50_TIMES',\n",
       "       'TIMES_LD50_mgkg', 'found_by', 'DTXSID', 'name', 'average_mass',\n",
       "       'qsar_ready_smiles', 'smiles', 'known_pLD50', 'TIMES_pLD50',\n",
       "       'TEST_LD50_mgkg', 'known_pLD50_minus_TEST', 'known_pLD50_minus_TIMES',\n",
       "       'TIMES', 'TEST'],\n",
       "      dtype='object')"
      ]
     },
     "execution_count": 7,
     "metadata": {},
     "output_type": "execute_result"
    }
   ],
   "source": [
    "tt_overlap.columns"
   ]
  },
  {
   "cell_type": "markdown",
   "metadata": {},
   "source": [
    "#### Pull out the identifiers"
   ]
  },
  {
   "cell_type": "code",
   "execution_count": 8,
   "metadata": {},
   "outputs": [],
   "source": [
    "ids = tt_overlap.CAS.unique().tolist()"
   ]
  },
  {
   "cell_type": "markdown",
   "metadata": {},
   "source": [
    "### Read in the TxP fingerprints for all the chemicals and subset for the ids identifiers from the overlap set"
   ]
  },
  {
   "cell_type": "code",
   "execution_count": 9,
   "metadata": {},
   "outputs": [],
   "source": [
    "txps = pd.read_csv(raw_dat_dir+'Acute_SMILES_Toxprints.tsv', sep = '\\t')"
   ]
  },
  {
   "cell_type": "code",
   "execution_count": 10,
   "metadata": {},
   "outputs": [],
   "source": [
    "tt_txps = txps[txps['M_NAME'].isin(ids)]"
   ]
  },
  {
   "cell_type": "code",
   "execution_count": 11,
   "metadata": {},
   "outputs": [],
   "source": [
    "txps_df = pd.melt(tt_txps, id_vars = ['M_NAME'], value_vars = tt_txps.columns.tolist()[1:])"
   ]
  },
  {
   "cell_type": "code",
   "execution_count": 12,
   "metadata": {},
   "outputs": [],
   "source": [
    "txps_df = txps_df.replace(0,np.nan)\n",
    "    "
   ]
  },
  {
   "cell_type": "code",
   "execution_count": 13,
   "metadata": {},
   "outputs": [],
   "source": [
    "txps_df = txps_df.dropna(how = 'any')"
   ]
  },
  {
   "cell_type": "code",
   "execution_count": 14,
   "metadata": {},
   "outputs": [],
   "source": [
    "txps_df = txps_df.sort_values(by = 'M_NAME', ascending = True)"
   ]
  },
  {
   "cell_type": "markdown",
   "metadata": {},
   "source": [
    "#### Extract out the Txps for specific example chemical to explore derivation of the confidence metric"
   ]
  },
  {
   "cell_type": "code",
   "execution_count": 15,
   "metadata": {},
   "outputs": [],
   "source": [
    "txp_chem = txps_df[txps_df['M_NAME'] == '132-32-1']['variable'].tolist()"
   ]
  },
  {
   "cell_type": "code",
   "execution_count": 16,
   "metadata": {},
   "outputs": [
    {
     "data": {
      "text/plain": [
       "['bond:CN_amine_pri-NH2_aromatic',\n",
       " 'chain:alkaneLinear_ethyl_C2(H_gt_1)',\n",
       " 'bond:CN_amine_aromatic_generic',\n",
       " 'bond:CN_amine_pri-NH2_generic',\n",
       " 'ring:hetero_[5]_N_pyrrole_generic',\n",
       " 'ring:hetero_[5_6]_N_indole',\n",
       " 'ring:hetero_[6_5_6]_N_carbazole',\n",
       " 'ring:hetero_[5]_Z_1-Z',\n",
       " 'bond:CN_amine_aliphatic_generic',\n",
       " 'ring:hetero_[5_6]_Z_generic',\n",
       " 'ring:aromatic_benzene',\n",
       " 'ring:hetero_[5]_N_pyrrole']"
      ]
     },
     "execution_count": 16,
     "metadata": {},
     "output_type": "execute_result"
    }
   ],
   "source": [
    "txp_chem"
   ]
  },
  {
   "cell_type": "markdown",
   "metadata": {},
   "source": [
    "#### Read in probabilities of TxPs as computed in notebook 03"
   ]
  },
  {
   "cell_type": "code",
   "execution_count": 17,
   "metadata": {},
   "outputs": [],
   "source": [
    "pivot_probs= pd.read_csv(interim_dat_dir+'all_pivot_probs.csv')"
   ]
  },
  {
   "cell_type": "markdown",
   "metadata": {},
   "source": [
    "#### For the TxPs for the specific example chemical - identify the relevant probabilities using the pivot_probs df"
   ]
  },
  {
   "cell_type": "code",
   "execution_count": 18,
   "metadata": {},
   "outputs": [],
   "source": [
    "example_prob = pivot_probs[pivot_probs['TxP'].isin(txp_chem)]\n"
   ]
  },
  {
   "cell_type": "markdown",
   "metadata": {},
   "source": [
    "#### Show the set of probabilities for the ToxPrints from both models, TEST and TIMES"
   ]
  },
  {
   "cell_type": "code",
   "execution_count": 19,
   "metadata": {},
   "outputs": [
    {
     "data": {
      "text/plain": [
       "68     0.344326\n",
       "72     0.155189\n",
       "74     0.060136\n",
       "75     0.116392\n",
       "256    0.454898\n",
       "350    0.624636\n",
       "373    0.024248\n",
       "374    0.068865\n",
       "385    0.124151\n",
       "396    0.019399\n",
       "402    0.099903\n",
       "430    0.002910\n",
       "Name: TEST, dtype: float64"
      ]
     },
     "execution_count": 19,
     "metadata": {},
     "output_type": "execute_result"
    }
   ],
   "source": [
    "example_prob['TEST']"
   ]
  },
  {
   "cell_type": "code",
   "execution_count": 20,
   "metadata": {},
   "outputs": [
    {
     "data": {
      "text/plain": [
       "68     0.323718\n",
       "72     0.195513\n",
       "74     0.115385\n",
       "75     0.166667\n",
       "256    0.375000\n",
       "350    0.628205\n",
       "373    0.025641\n",
       "374    0.032051\n",
       "385    0.073718\n",
       "396    0.025641\n",
       "402    0.214744\n",
       "430    0.016026\n",
       "Name: TIMES, dtype: float64"
      ]
     },
     "execution_count": 20,
     "metadata": {},
     "output_type": "execute_result"
    }
   ],
   "source": [
    "example_prob['TIMES']"
   ]
  },
  {
   "cell_type": "markdown",
   "metadata": {},
   "source": [
    "#### Compute the probabilties of all those TxPs for both models. Probabilities are treated as independent so product of the individual probabilities is computed. Metric is just the ratio of the product of the probabiities for the respective model. This is reflected in Table 9 of the manuscript as an example."
   ]
  },
  {
   "cell_type": "code",
   "execution_count": 21,
   "metadata": {},
   "outputs": [
    {
     "data": {
      "text/plain": [
       "0.08105434954259275"
      ]
     },
     "execution_count": 21,
     "metadata": {},
     "output_type": "execute_result"
    }
   ],
   "source": [
    "np.prod(example_prob['TEST'])/np.prod(example_prob['TIMES'])"
   ]
  },
  {
   "cell_type": "markdown",
   "metadata": {},
   "source": [
    "#### Providing another worked example as shown in Table 9 of the manuscript"
   ]
  },
  {
   "cell_type": "code",
   "execution_count": 22,
   "metadata": {},
   "outputs": [],
   "source": [
    "txp_chem2 = txps_df[txps_df['M_NAME'] == '28782-19-6']['variable'].tolist()"
   ]
  },
  {
   "cell_type": "code",
   "execution_count": 23,
   "metadata": {},
   "outputs": [
    {
     "data": {
      "text/plain": [
       "['ring:hetero_[6_6]_O_benzopyrone_(1_4-)',\n",
       " 'group:ligand_path_4_bidentate_aminoethanol',\n",
       " 'bond:C=O_carbonyl_ab-unsaturated_generic',\n",
       " 'bond:CN_amine_aliphatic_generic',\n",
       " 'chain:alkeneCyclic_ethene_generic',\n",
       " 'chain:aromaticAlkane_Ph-C1_acyclic_generic',\n",
       " 'bond:CC(=O)C_ketone_alkene_generic',\n",
       " 'bond:C(=O)O_carboxylicEster_aromatic',\n",
       " 'bond:CN_amine_ter-N_generic',\n",
       " 'ring:aromatic_benzene',\n",
       " 'ring:hetero_[6]_N_pyridine_generic',\n",
       " 'bond:C=O_carbonyl_generic',\n",
       " 'bond:CC(=O)C_ketone_alkene_cyclic_2-en-1-one_generic',\n",
       " 'chain:alkaneLinear_ethyl_C2(H_gt_1)',\n",
       " 'bond:CN_amine_alicyclic_generic',\n",
       " 'ring:hetero_[6]_O_pyran_generic',\n",
       " 'bond:COC_ether_aliphatic__aromatic',\n",
       " 'ring:aromatic_phenyl',\n",
       " 'ring:hetero_[6_6]_Z_generic',\n",
       " 'ring:hetero_[6]_Z_generic',\n",
       " 'bond:CC(=O)C_ketone_generic',\n",
       " 'bond:CN_amine_ter-N_aliphatic',\n",
       " 'chain:alkaneCyclic_ethyl_C2_(connect_noZ)',\n",
       " 'bond:CC(=O)C_ketone_alkane_cyclic',\n",
       " 'bond:CC(=O)C_ketone_alkene_cyclic_2-en-1-one',\n",
       " 'ring:hetero_[6_6]_O_benzopyran',\n",
       " 'chain:aromaticAlkene_Ph-C2_cyclic',\n",
       " 'chain:aromaticAlkane_Ph-C1_cyclic',\n",
       " 'bond:CC(=O)C_ketone_aromatic_aliphatic',\n",
       " 'ring:hetero_[6]_Z_1-',\n",
       " 'bond:COC_ether_alkenyl',\n",
       " 'ring:hetero_[6]_N_piperidine']"
      ]
     },
     "execution_count": 23,
     "metadata": {},
     "output_type": "execute_result"
    }
   ],
   "source": [
    "txp_chem2 "
   ]
  },
  {
   "cell_type": "code",
   "execution_count": 24,
   "metadata": {},
   "outputs": [],
   "source": [
    "example_prob2 = pivot_probs[pivot_probs['TxP'].isin(txp_chem2)]"
   ]
  },
  {
   "cell_type": "code",
   "execution_count": 25,
   "metadata": {},
   "outputs": [
    {
     "name": "stdout",
     "output_type": "stream",
     "text": [
      "1.7210941764174107e-32\n",
      "1.2193327876404212e-34\n"
     ]
    }
   ],
   "source": [
    "print(np.prod(example_prob2['TEST']))\n",
    "print(np.prod(example_prob2['TIMES']))"
   ]
  },
  {
   "cell_type": "code",
   "execution_count": 26,
   "metadata": {},
   "outputs": [
    {
     "data": {
      "text/plain": [
       "141.15048769810969"
      ]
     },
     "execution_count": 26,
     "metadata": {},
     "output_type": "execute_result"
    }
   ],
   "source": [
    "np.prod(example_prob2['TEST'])/np.prod(example_prob2['TIMES'])"
   ]
  },
  {
   "cell_type": "code",
   "execution_count": null,
   "metadata": {},
   "outputs": [],
   "source": []
  },
  {
   "cell_type": "code",
   "execution_count": null,
   "metadata": {},
   "outputs": [],
   "source": []
  },
  {
   "cell_type": "code",
   "execution_count": null,
   "metadata": {},
   "outputs": [],
   "source": []
  },
  {
   "cell_type": "code",
   "execution_count": null,
   "metadata": {},
   "outputs": [],
   "source": []
  },
  {
   "cell_type": "code",
   "execution_count": null,
   "metadata": {},
   "outputs": [],
   "source": []
  },
  {
   "cell_type": "code",
   "execution_count": null,
   "metadata": {},
   "outputs": [],
   "source": []
  }
 ],
 "metadata": {
  "kernelspec": {
   "display_name": "Python 3",
   "language": "python",
   "name": "python3"
  },
  "language_info": {
   "codemirror_mode": {
    "name": "ipython",
    "version": 3
   },
   "file_extension": ".py",
   "mimetype": "text/x-python",
   "name": "python",
   "nbconvert_exporter": "python",
   "pygments_lexer": "ipython3",
   "version": "3.7.6"
  }
 },
 "nbformat": 4,
 "nbformat_minor": 4
}
